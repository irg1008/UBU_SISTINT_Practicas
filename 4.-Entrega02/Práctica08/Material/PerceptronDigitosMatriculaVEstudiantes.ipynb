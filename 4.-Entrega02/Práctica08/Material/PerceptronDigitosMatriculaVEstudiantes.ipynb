{
 "cells": [
  {
   "cell_type": "markdown",
   "metadata": {},
   "source": [
    "## Clasificación de *dígitos de matrículas* de coches\n",
    "\n",
    "En este *Notebook* vamos a aprender a aplicar una metodología de clasificación de instancias, al caso de la clasificación de elementos que aparecen en las matrículas de los coches."
   ]
  },
  {
   "cell_type": "markdown",
   "metadata": {},
   "source": [
    "---\n",
    "\n",
    "Vamos a utilizar la librería *Pandas*, la cual nos va a permitir leer estructuras de datos escritas en ficheros de *Excel* (\".xlsx\").\n",
    "\n",
    "El fichero Excel contiene un conjunto de instancias, donde cada una de ellas es un *vector de características* y la etiqueta asociada a la clase correspondiente.\n",
    "\n",
    "---"
   ]
  },
  {
   "cell_type": "markdown",
   "metadata": {},
   "source": [
    "### Lectura de fichero de Excel\n",
    "\n",
    "Lo primero que hacemos es leer el fichero de Excel, y, en concreto, el contenido de una de sus pestañas."
   ]
  },
  {
   "cell_type": "code",
   "execution_count": 1,
   "metadata": {},
   "outputs": [],
   "source": [
    "# Hemos de usar la opción de \"DataFrame\" de \"Pandas\" \n",
    "import pandas as pd"
   ]
  },
  {
   "cell_type": "code",
   "execution_count": 2,
   "metadata": {},
   "outputs": [],
   "source": [
    "# Busca cómo se podría leer un fichero de Excel (y qué opciones hay respecto de \"pestañas\", etc.) y crea un dataframe\n",
    "# puedes llamar \"df\"\n",
    "\n",
    "# df = pd....\n",
    "\n"
   ]
  },
  {
   "cell_type": "code",
   "execution_count": 3,
   "metadata": {},
   "outputs": [
    {
     "data": {
      "text/html": [
       "<div>\n",
       "<style scoped>\n",
       "    .dataframe tbody tr th:only-of-type {\n",
       "        vertical-align: middle;\n",
       "    }\n",
       "\n",
       "    .dataframe tbody tr th {\n",
       "        vertical-align: top;\n",
       "    }\n",
       "\n",
       "    .dataframe thead th {\n",
       "        text-align: right;\n",
       "    }\n",
       "</style>\n",
       "<table border=\"1\" class=\"dataframe\">\n",
       "  <thead>\n",
       "    <tr style=\"text-align: right;\">\n",
       "      <th></th>\n",
       "      <th>Número de instancia</th>\n",
       "      <th>Unnamed: 1</th>\n",
       "      <th>Unnamed: 2</th>\n",
       "      <th>Unnamed: 3</th>\n",
       "      <th>Unnamed: 4</th>\n",
       "      <th>Unnamed: 5</th>\n",
       "      <th>Unnamed: 6</th>\n",
       "      <th>Unnamed: 7</th>\n",
       "      <th>Unnamed: 8</th>\n",
       "      <th>Unnamed: 9</th>\n",
       "      <th>...</th>\n",
       "      <th>Unnamed: 249</th>\n",
       "      <th>Unnamed: 250</th>\n",
       "      <th>Unnamed: 251</th>\n",
       "      <th>Unnamed: 252</th>\n",
       "      <th>Unnamed: 253</th>\n",
       "      <th>Unnamed: 254</th>\n",
       "      <th>Unnamed: 255</th>\n",
       "      <th>Unnamed: 256</th>\n",
       "      <th>Número de agujeros</th>\n",
       "      <th>Etiqueta/Clase</th>\n",
       "    </tr>\n",
       "  </thead>\n",
       "  <tbody>\n",
       "    <tr>\n",
       "      <td>0</td>\n",
       "      <td>1</td>\n",
       "      <td>255.0</td>\n",
       "      <td>255.0</td>\n",
       "      <td>255.0</td>\n",
       "      <td>255.0</td>\n",
       "      <td>255.0</td>\n",
       "      <td>0.0</td>\n",
       "      <td>0.0</td>\n",
       "      <td>0.0</td>\n",
       "      <td>0.0</td>\n",
       "      <td>...</td>\n",
       "      <td>0.0</td>\n",
       "      <td>0.0</td>\n",
       "      <td>0.0</td>\n",
       "      <td>0.0</td>\n",
       "      <td>0.0</td>\n",
       "      <td>255.0</td>\n",
       "      <td>255.0</td>\n",
       "      <td>255.0</td>\n",
       "      <td>0</td>\n",
       "      <td>2</td>\n",
       "    </tr>\n",
       "    <tr>\n",
       "      <td>1</td>\n",
       "      <td>2</td>\n",
       "      <td>255.0</td>\n",
       "      <td>255.0</td>\n",
       "      <td>255.0</td>\n",
       "      <td>255.0</td>\n",
       "      <td>0.0</td>\n",
       "      <td>0.0</td>\n",
       "      <td>0.0</td>\n",
       "      <td>0.0</td>\n",
       "      <td>0.0</td>\n",
       "      <td>...</td>\n",
       "      <td>0.0</td>\n",
       "      <td>0.0</td>\n",
       "      <td>0.0</td>\n",
       "      <td>255.0</td>\n",
       "      <td>255.0</td>\n",
       "      <td>255.0</td>\n",
       "      <td>255.0</td>\n",
       "      <td>255.0</td>\n",
       "      <td>2</td>\n",
       "      <td>8</td>\n",
       "    </tr>\n",
       "    <tr>\n",
       "      <td>2</td>\n",
       "      <td>3</td>\n",
       "      <td>255.0</td>\n",
       "      <td>255.0</td>\n",
       "      <td>0.0</td>\n",
       "      <td>0.0</td>\n",
       "      <td>0.0</td>\n",
       "      <td>0.0</td>\n",
       "      <td>0.0</td>\n",
       "      <td>0.0</td>\n",
       "      <td>0.0</td>\n",
       "      <td>...</td>\n",
       "      <td>255.0</td>\n",
       "      <td>255.0</td>\n",
       "      <td>255.0</td>\n",
       "      <td>255.0</td>\n",
       "      <td>255.0</td>\n",
       "      <td>255.0</td>\n",
       "      <td>255.0</td>\n",
       "      <td>255.0</td>\n",
       "      <td>0</td>\n",
       "      <td>7</td>\n",
       "    </tr>\n",
       "    <tr>\n",
       "      <td>3</td>\n",
       "      <td>4</td>\n",
       "      <td>255.0</td>\n",
       "      <td>255.0</td>\n",
       "      <td>255.0</td>\n",
       "      <td>255.0</td>\n",
       "      <td>255.0</td>\n",
       "      <td>0.0</td>\n",
       "      <td>0.0</td>\n",
       "      <td>0.0</td>\n",
       "      <td>0.0</td>\n",
       "      <td>...</td>\n",
       "      <td>0.0</td>\n",
       "      <td>0.0</td>\n",
       "      <td>0.0</td>\n",
       "      <td>0.0</td>\n",
       "      <td>255.0</td>\n",
       "      <td>255.0</td>\n",
       "      <td>255.0</td>\n",
       "      <td>255.0</td>\n",
       "      <td>2</td>\n",
       "      <td>8</td>\n",
       "    </tr>\n",
       "    <tr>\n",
       "      <td>4</td>\n",
       "      <td>5</td>\n",
       "      <td>255.0</td>\n",
       "      <td>255.0</td>\n",
       "      <td>255.0</td>\n",
       "      <td>255.0</td>\n",
       "      <td>0.0</td>\n",
       "      <td>0.0</td>\n",
       "      <td>0.0</td>\n",
       "      <td>0.0</td>\n",
       "      <td>0.0</td>\n",
       "      <td>...</td>\n",
       "      <td>0.0</td>\n",
       "      <td>0.0</td>\n",
       "      <td>0.0</td>\n",
       "      <td>255.0</td>\n",
       "      <td>255.0</td>\n",
       "      <td>255.0</td>\n",
       "      <td>255.0</td>\n",
       "      <td>255.0</td>\n",
       "      <td>1</td>\n",
       "      <td>9</td>\n",
       "    </tr>\n",
       "  </tbody>\n",
       "</table>\n",
       "<p>5 rows × 259 columns</p>\n",
       "</div>"
      ],
      "text/plain": [
       "   Número de instancia  Unnamed: 1  Unnamed: 2  Unnamed: 3  Unnamed: 4  \\\n",
       "0                    1       255.0       255.0       255.0       255.0   \n",
       "1                    2       255.0       255.0       255.0       255.0   \n",
       "2                    3       255.0       255.0         0.0         0.0   \n",
       "3                    4       255.0       255.0       255.0       255.0   \n",
       "4                    5       255.0       255.0       255.0       255.0   \n",
       "\n",
       "   Unnamed: 5  Unnamed: 6  Unnamed: 7  Unnamed: 8  Unnamed: 9  ...  \\\n",
       "0       255.0         0.0         0.0         0.0         0.0  ...   \n",
       "1         0.0         0.0         0.0         0.0         0.0  ...   \n",
       "2         0.0         0.0         0.0         0.0         0.0  ...   \n",
       "3       255.0         0.0         0.0         0.0         0.0  ...   \n",
       "4         0.0         0.0         0.0         0.0         0.0  ...   \n",
       "\n",
       "   Unnamed: 249  Unnamed: 250  Unnamed: 251  Unnamed: 252  Unnamed: 253  \\\n",
       "0           0.0           0.0           0.0           0.0           0.0   \n",
       "1           0.0           0.0           0.0         255.0         255.0   \n",
       "2         255.0         255.0         255.0         255.0         255.0   \n",
       "3           0.0           0.0           0.0           0.0         255.0   \n",
       "4           0.0           0.0           0.0         255.0         255.0   \n",
       "\n",
       "   Unnamed: 254  Unnamed: 255  Unnamed: 256  Número de agujeros  \\\n",
       "0         255.0         255.0         255.0                   0   \n",
       "1         255.0         255.0         255.0                   2   \n",
       "2         255.0         255.0         255.0                   0   \n",
       "3         255.0         255.0         255.0                   2   \n",
       "4         255.0         255.0         255.0                   1   \n",
       "\n",
       "   Etiqueta/Clase  \n",
       "0               2  \n",
       "1               8  \n",
       "2               7  \n",
       "3               8  \n",
       "4               9  \n",
       "\n",
       "[5 rows x 259 columns]"
      ]
     },
     "execution_count": 3,
     "metadata": {},
     "output_type": "execute_result"
    }
   ],
   "source": [
    "# Para ver qué pinta tiene, puedes usar:\n",
    "\n",
    "df.head()"
   ]
  },
  {
   "cell_type": "code",
   "execution_count": 4,
   "metadata": {},
   "outputs": [],
   "source": [
    "# Genero una \"matriz\" con todas las filas, pero sin la columna de la \"Etiqueta\". Para ello, utiliza la opción \n",
    "# \"drop\" del \"DataFrame\".\n",
    "\n",
    "# Como segundo paso, puedes convertir esta variable a \"valores\" mediante el método \".values\"\n",
    "\n",
    "# X = ..."
   ]
  },
  {
   "cell_type": "code",
   "execution_count": 5,
   "metadata": {},
   "outputs": [],
   "source": [
    "# Genero otra \"matriz\" con todas las filas, pero sin las columnas de: (1) \"Número de agujeros\", y (2) \"Etiqueta\".\n",
    "\n",
    "# X2 = ..."
   ]
  },
  {
   "cell_type": "code",
   "execution_count": 6,
   "metadata": {},
   "outputs": [
    {
     "data": {
      "text/plain": [
       "array([[1.000e+00, 2.550e+02, 2.550e+02, ..., 2.550e+02, 2.550e+02,\n",
       "        0.000e+00],\n",
       "       [2.000e+00, 2.550e+02, 2.550e+02, ..., 2.550e+02, 2.550e+02,\n",
       "        2.000e+00],\n",
       "       [3.000e+00, 2.550e+02, 2.550e+02, ..., 2.550e+02, 2.550e+02,\n",
       "        0.000e+00],\n",
       "       ...,\n",
       "       [2.066e+03, 2.550e+02, 2.550e+02, ..., 2.550e+02, 2.550e+02,\n",
       "        0.000e+00],\n",
       "       [2.067e+03, 2.550e+02, 2.550e+02, ..., 2.550e+02, 2.550e+02,\n",
       "        0.000e+00],\n",
       "       [2.068e+03, 2.550e+02, 2.550e+02, ..., 2.550e+02, 2.550e+02,\n",
       "        0.000e+00]])"
      ]
     },
     "execution_count": 6,
     "metadata": {},
     "output_type": "execute_result"
    }
   ],
   "source": [
    "# Veo la \"pinta\" que tiene \"X\"\n",
    "X"
   ]
  },
  {
   "cell_type": "code",
   "execution_count": 7,
   "metadata": {},
   "outputs": [
    {
     "name": "stdout",
     "output_type": "stream",
     "text": [
      "(2068, 258)\n"
     ]
    }
   ],
   "source": [
    "# Quiero saber el tamaño de \"X\"\n",
    "print(X.shape)"
   ]
  },
  {
   "cell_type": "code",
   "execution_count": 8,
   "metadata": {},
   "outputs": [],
   "source": [
    "# Genero el vector columna de etiquetas/clases\n",
    "\n",
    "# Y="
   ]
  },
  {
   "cell_type": "code",
   "execution_count": 9,
   "metadata": {},
   "outputs": [
    {
     "data": {
      "text/plain": [
       "array(['2', '8', '7', ..., 'I', 'E', 'E'], dtype='<U1')"
      ]
     },
     "execution_count": 9,
     "metadata": {},
     "output_type": "execute_result"
    }
   ],
   "source": [
    "Y"
   ]
  },
  {
   "cell_type": "code",
   "execution_count": 10,
   "metadata": {},
   "outputs": [
    {
     "data": {
      "text/plain": [
       "array([255., 255., 255., 255.,   0.,   0.,   0.,   0.,   0.,   0.,   0.,\n",
       "         0.,   0.,   0., 255., 255., 255., 255., 255., 255.,   0.,   0.,\n",
       "         0.,   0.,   0.,   0.,   0., 255., 255., 255., 255., 255., 255.,\n",
       "       255.,   0.,   0.,   0.,   0.,   0.,   0., 255., 255., 255., 255.,\n",
       "       255., 255., 255., 255., 255., 255.,   0.,   0.,   0.,   0.,   0.,\n",
       "       255., 255., 255., 255., 255., 255., 255., 255., 255., 255., 255.,\n",
       "       255.,   0.,   0.,   0.,   0., 255., 255., 255., 255., 255., 255.,\n",
       "       255., 255., 255., 255., 255., 255., 255.,   0.,   0.,   0., 255.,\n",
       "       255., 255., 255., 255., 255., 255., 255., 255., 255., 255., 255.,\n",
       "       255.,   0.,   0.,   0.,   0.,   0.,   0.,   0., 255., 255., 255.,\n",
       "       255., 255., 255., 255., 255., 255.,   0.,   0.,   0.,   0.,   0.,\n",
       "         0.,   0.,   0., 255., 255., 255., 255., 255., 255., 255., 255.,\n",
       "         0.,   0.,   0.,   0.,   0.,   0.,   0.,   0., 255., 255., 255.,\n",
       "       255., 255., 255., 255., 255.,   0.,   0.,   0.,   0.,   0.,   0.,\n",
       "       255., 255., 255., 255., 255., 255., 255., 255., 255., 255.,   0.,\n",
       "         0.,   0., 255., 255., 255., 255., 255., 255., 255., 255., 255.,\n",
       "       255., 255., 255., 255.,   0.,   0.,   0., 255., 255., 255., 255.,\n",
       "       255., 255., 255., 255., 255., 255., 255., 255., 255.,   0.,   0.,\n",
       "         0., 255., 255., 255., 255., 255., 255., 255., 255., 255., 255.,\n",
       "       255., 255., 255.,   0.,   0.,   0., 255., 255.,   0.,   0.,   0.,\n",
       "         0., 255., 255., 255., 255., 255., 255., 255.,   0.,   0.,   0.,\n",
       "         0.,   0.,   0.,   0.,   0.,   0.,   0., 255., 255., 255., 255.,\n",
       "       255., 255.,   0.,   0.,   0.,   0.,   0.,   0.,   0.,   0.,   0.,\n",
       "       255., 255., 255.])"
      ]
     },
     "execution_count": 10,
     "metadata": {},
     "output_type": "execute_result"
    }
   ],
   "source": [
    "# Veo la forma como tiene el vector de la fila elegida (en este caso, la tercera)\n",
    "\n",
    "X2[2067,1:]"
   ]
  },
  {
   "cell_type": "code",
   "execution_count": 11,
   "metadata": {},
   "outputs": [],
   "source": [
    "imgVec=X2[2067,1:].astype(int)"
   ]
  },
  {
   "cell_type": "code",
   "execution_count": 12,
   "metadata": {},
   "outputs": [
    {
     "name": "stdout",
     "output_type": "stream",
     "text": [
      "[255 255 255 255   0   0   0   0   0   0   0   0   0   0 255 255 255 255\n",
      " 255 255   0   0   0   0   0   0   0 255 255 255 255 255 255 255   0   0\n",
      "   0   0   0   0 255 255 255 255 255 255 255 255 255 255   0   0   0   0\n",
      "   0 255 255 255 255 255 255 255 255 255 255 255 255   0   0   0   0 255\n",
      " 255 255 255 255 255 255 255 255 255 255 255 255   0   0   0 255 255 255\n",
      " 255 255 255 255 255 255 255 255 255 255   0   0   0   0   0   0   0 255\n",
      " 255 255 255 255 255 255 255 255   0   0   0   0   0   0   0   0 255 255\n",
      " 255 255 255 255 255 255   0   0   0   0   0   0   0   0 255 255 255 255\n",
      " 255 255 255 255   0   0   0   0   0   0 255 255 255 255 255 255 255 255\n",
      " 255 255   0   0   0 255 255 255 255 255 255 255 255 255 255 255 255 255\n",
      "   0   0   0 255 255 255 255 255 255 255 255 255 255 255 255 255   0   0\n",
      "   0 255 255 255 255 255 255 255 255 255 255 255 255 255   0   0   0 255\n",
      " 255   0   0   0   0 255 255 255 255 255 255 255   0   0   0   0   0   0\n",
      "   0   0   0   0 255 255 255 255 255 255   0   0   0   0   0   0   0   0\n",
      "   0 255 255 255]\n"
     ]
    }
   ],
   "source": [
    "print(imgVec)"
   ]
  },
  {
   "cell_type": "code",
   "execution_count": 13,
   "metadata": {},
   "outputs": [
    {
     "name": "stdout",
     "output_type": "stream",
     "text": [
      "(256,)\n"
     ]
    }
   ],
   "source": [
    "print(imgVec.shape)"
   ]
  },
  {
   "cell_type": "code",
   "execution_count": 14,
   "metadata": {},
   "outputs": [],
   "source": [
    "# Voy a redimensionar el vector a matrix de 16x16 para visualizarlo (en realidad, es una imagen)\n",
    "img = imgVec.reshape(16,16)"
   ]
  },
  {
   "cell_type": "code",
   "execution_count": 15,
   "metadata": {},
   "outputs": [
    {
     "name": "stdout",
     "output_type": "stream",
     "text": [
      "[[255 255 255 255   0   0   0   0   0   0   0   0   0   0 255 255]\n",
      " [255 255 255 255   0   0   0   0   0   0   0 255 255 255 255 255]\n",
      " [255 255   0   0   0   0   0   0 255 255 255 255 255 255 255 255]\n",
      " [255 255   0   0   0   0   0 255 255 255 255 255 255 255 255 255]\n",
      " [255 255 255   0   0   0   0 255 255 255 255 255 255 255 255 255]\n",
      " [255 255 255 255   0   0   0 255 255 255 255 255 255 255 255 255]\n",
      " [255 255 255 255   0   0   0   0   0   0   0 255 255 255 255 255]\n",
      " [255 255 255 255   0   0   0   0   0   0   0   0 255 255 255 255]\n",
      " [255 255 255 255   0   0   0   0   0   0   0   0 255 255 255 255]\n",
      " [255 255 255 255   0   0   0   0   0   0 255 255 255 255 255 255]\n",
      " [255 255 255 255   0   0   0 255 255 255 255 255 255 255 255 255]\n",
      " [255 255 255 255   0   0   0 255 255 255 255 255 255 255 255 255]\n",
      " [255 255 255 255   0   0   0 255 255 255 255 255 255 255 255 255]\n",
      " [255 255 255 255   0   0   0 255 255   0   0   0   0 255 255 255]\n",
      " [255 255 255 255   0   0   0   0   0   0   0   0   0   0 255 255]\n",
      " [255 255 255 255   0   0   0   0   0   0   0   0   0 255 255 255]]\n"
     ]
    }
   ],
   "source": [
    "print(img)"
   ]
  },
  {
   "cell_type": "code",
   "execution_count": 35,
   "metadata": {},
   "outputs": [
    {
     "name": "stderr",
     "output_type": "stream",
     "text": [
      "C:\\Users\\Pedro\\Anaconda3\\lib\\site-packages\\skimage\\io\\_plugins\\matplotlib_plugin.py:75: UserWarning: Low image data range; displaying image with stretched contrast.\n",
      "  warn(\"Low image data range; displaying image with \"\n"
     ]
    },
    {
     "data": {
      "text/plain": [
       "<matplotlib.image.AxesImage at 0x2649a37f648>"
      ]
     },
     "execution_count": 35,
     "metadata": {},
     "output_type": "execute_result"
    },
    {
     "data": {
      "image/png": "[encoded data removed]",
      "text/plain": [
       "<Figure size 432x288 with 2 Axes>"
      ]
     },
     "metadata": {
      "needs_background": "light"
     },
     "output_type": "display_data"
    }
   ],
   "source": [
    "from skimage.io import imshow, imread\n",
    "imshow(img) # Debería aparecer la letra \"E\"."
   ]
  },
  {
   "cell_type": "markdown",
   "metadata": {},
   "source": [
    "---\n",
    "## Generación de los conjuntos de *entrenamiento* y *test*\n",
    "---"
   ]
  },
  {
   "cell_type": "markdown",
   "metadata": {},
   "source": [
    "Una vez se ha definido el conjunto $(X,Y)$, hemos de dividirlo en conjuntos de *entrenamiento* y *test*, de cara a su uso por parte de un clasificador."
   ]
  },
  {
   "cell_type": "code",
   "execution_count": 17,
   "metadata": {},
   "outputs": [],
   "source": [
    "from sklearn.model_selection import train_test_split\n",
    "\n",
    "'''\n",
    "El par X_train, y_train son los atributos y clases del conjunto de entrenamiento (70% de los ejemplos)\n",
    "El par X_test, y_test son los atributos y clases del conjunto de test (30% de los ejemplos)\n",
    "\n",
    "stratify (estratificar) significa que se quiere que haya la misma proporcion de cada una de las clases\n",
    "tanto en entrenamiento como en test, es decir, no es una partición completamente aleatoria.\n",
    "'''\n",
    "X_train, X_test, Y_train, Y_test = train_test_split(X, Y, stratify=Y, train_size = 0.7 )"
   ]
  },
  {
   "cell_type": "code",
   "execution_count": 18,
   "metadata": {},
   "outputs": [
    {
     "data": {
      "text/plain": [
       "array([[6.000e+02, 2.550e+02, 2.550e+02, ..., 2.550e+02, 2.550e+02,\n",
       "        0.000e+00],\n",
       "       [1.174e+03, 2.550e+02, 2.550e+02, ..., 2.550e+02, 2.550e+02,\n",
       "        1.000e+00],\n",
       "       [1.147e+03, 2.550e+02, 2.550e+02, ..., 2.550e+02, 2.550e+02,\n",
       "        0.000e+00],\n",
       "       ...,\n",
       "       [7.600e+01, 2.550e+02, 2.550e+02, ..., 2.550e+02, 2.550e+02,\n",
       "        2.000e+00],\n",
       "       [4.800e+02, 2.550e+02, 2.550e+02, ..., 2.550e+02, 2.550e+02,\n",
       "        0.000e+00],\n",
       "       [1.429e+03, 2.550e+02, 2.550e+02, ..., 2.550e+02, 2.550e+02,\n",
       "        1.000e+00]])"
      ]
     },
     "execution_count": 18,
     "metadata": {},
     "output_type": "execute_result"
    }
   ],
   "source": [
    "X_train"
   ]
  },
  {
   "cell_type": "code",
   "execution_count": 19,
   "metadata": {},
   "outputs": [
    {
     "data": {
      "text/plain": [
       "array(['C', 'P', 'S', ..., '8', '5', '6'], dtype='<U1')"
      ]
     },
     "execution_count": 19,
     "metadata": {},
     "output_type": "execute_result"
    }
   ],
   "source": [
    "Y_train"
   ]
  },
  {
   "cell_type": "code",
   "execution_count": 20,
   "metadata": {},
   "outputs": [
    {
     "data": {
      "text/plain": [
       "MLPClassifier(activation='relu', alpha=0.0001, batch_size='auto', beta_1=0.9,\n",
       "              beta_2=0.999, early_stopping=False, epsilon=1e-08,\n",
       "              hidden_layer_sizes=(100,), learning_rate='constant',\n",
       "              learning_rate_init=0.001, max_iter=200, momentum=0.9,\n",
       "              n_iter_no_change=10, nesterovs_momentum=True, power_t=0.5,\n",
       "              random_state=None, shuffle=True, solver='adam', tol=0.0001,\n",
       "              validation_fraction=0.1, verbose=False, warm_start=False)"
      ]
     },
     "execution_count": 20,
     "metadata": {},
     "output_type": "execute_result"
    }
   ],
   "source": [
    "# Vamos a entrenar un clasificador del tipo \"Multi-layer perceptron\" (MLP), con el conjunto de entrenamiento generado.\n",
    "\n",
    "from sklearn.neural_network import MLPClassifier\n",
    "\n",
    "\n",
    "classifier = MLPClassifier()\n",
    "\n",
    "classifier.fit(X_train, Y_train)"
   ]
  },
  {
   "cell_type": "code",
   "execution_count": 21,
   "metadata": {},
   "outputs": [
    {
     "data": {
      "text/plain": [
       "array(['8', 'N', '4', 'S', 'F', 'K', 'F', '5', '0', 'I', '5', 'B', '5',\n",
       "       '6', '8', '2', 'F', 'L', '6', '7'], dtype='<U1')"
      ]
     },
     "execution_count": 21,
     "metadata": {},
     "output_type": "execute_result"
    }
   ],
   "source": [
    "# A continuación, obtenemos el resultado de la predicción, así como una \"impresión por pantalla\" de las etiquetas\n",
    "# predichas para las 20 primeras instancias.\n",
    "\n",
    "Y_pred = classifier.predict(X_test)\n",
    "Y_pred[:20]"
   ]
  },
  {
   "cell_type": "code",
   "execution_count": 22,
   "metadata": {},
   "outputs": [
    {
     "data": {
      "text/plain": [
       "0.8341384863123994"
      ]
     },
     "execution_count": 22,
     "metadata": {},
     "output_type": "execute_result"
    }
   ],
   "source": [
    "# Esta función permite hacer la evaluación de la predicción de las etiquetas, sobre el conjunto de \"test\".\n",
    "\n",
    "def evalua(Y_test, Y_pred):\n",
    "\n",
    "# A RELLENAR\n",
    "\n",
    "    return ...\n",
    "\n",
    "\n",
    "evalua(Y_test, Y_pred)"
   ]
  },
  {
   "cell_type": "code",
   "execution_count": 23,
   "metadata": {},
   "outputs": [
    {
     "name": "stderr",
     "output_type": "stream",
     "text": [
      "C:\\Users\\Pedro\\Anaconda3\\lib\\site-packages\\sklearn\\neural_network\\multilayer_perceptron.py:566: ConvergenceWarning: Stochastic Optimizer: Maximum iterations (200) reached and the optimization hasn't converged yet.\n",
      "  % self.max_iter, ConvergenceWarning)\n"
     ]
    },
    {
     "data": {
      "text/plain": [
       "array([[52,  0,  0, ...,  0,  0,  0],\n",
       "       [ 0, 69,  0, ...,  9,  1,  0],\n",
       "       [ 1,  0, 57, ...,  1,  0,  2],\n",
       "       ...,\n",
       "       [ 0,  0,  0, ..., 41,  3,  0],\n",
       "       [ 0,  0,  0, ...,  3, 46,  0],\n",
       "       [ 0,  0,  4, ...,  0,  0, 44]], dtype=int64)"
      ]
     },
     "execution_count": 23,
     "metadata": {},
     "output_type": "execute_result"
    }
   ],
   "source": [
    "# A continuación, mostramos lo que se conoce como la \"matriz de confusión\":\n",
    "\n",
    "\n",
    "import numpy as np \n",
    "from sklearn.metrics import confusion_matrix\n",
    "from sklearn.model_selection import cross_val_predict\n",
    "\n",
    "Y_pred = cross_val_predict(MLPClassifier(), X, Y, cv=3)\n",
    "\n",
    "conf_mat = confusion_matrix(Y, Y_pred,labels=np.unique(Y))\n",
    "conf_mat"
   ]
  },
  {
   "cell_type": "code",
   "execution_count": 24,
   "metadata": {},
   "outputs": [
    {
     "data": {
      "image/png": "[encoded data removed]",
      "text/plain": [
       "<Figure size 1080x1080 with 1 Axes>"
      ]
     },
     "metadata": {
      "needs_background": "light"
     },
     "output_type": "display_data"
    }
   ],
   "source": [
    "# Hacemos una \"visualización\" de la misma.\n",
    "\n",
    "import numpy as np \n",
    "from pandas import DataFrame\n",
    "import matplotlib.pyplot as plt\n",
    "\n",
    "\n",
    "df = DataFrame(conf_mat, index=np.unique(Y), columns=np.unique(Y))\n",
    "\n",
    "\n",
    "plt.figure(figsize=(15,15))\n",
    "\n",
    "plt.pcolor(df)\n",
    "plt.yticks(np.arange(0.5, len(df.index), 1), df.index)\n",
    "plt.xticks(np.arange(0.5, len(df.columns), 1), df.columns, rotation='vertical')\n",
    "plt.show()"
   ]
  },
  {
   "cell_type": "code",
   "execution_count": 25,
   "metadata": {},
   "outputs": [],
   "source": [
    "# Vamos a coger, a continuación, un subconjunto del anterior, formado solamente por dos clases.\n",
    "\n",
    "# Las dos que vamos a coger serán la \"B\" y la \"8\", las cuales pueden tener problemas de \"confusión\"\n",
    "\n",
    "X_2C = X[((Y == 'B') | (Y == '8'))]\n",
    "Y_2C = Y[((Y == 'B') | (Y == '8'))]"
   ]
  },
  {
   "cell_type": "code",
   "execution_count": 26,
   "metadata": {},
   "outputs": [
    {
     "data": {
      "text/plain": [
       "array(['8', '8', '8', '8', '8', '8', '8', '8', '8', '8', '8', '8', '8',\n",
       "       '8', '8', '8', '8', '8', '8', '8', '8', '8', '8', '8', '8', '8',\n",
       "       '8', '8', '8', '8', '8', '8', '8', '8', '8', '8', '8', '8', '8',\n",
       "       '8', '8', '8', '8', '8', '8', '8', '8', '8', '8', '8', '8', 'B',\n",
       "       'B', 'B', 'B', 'B', 'B', 'B', 'B', 'B', 'B', 'B', 'B', 'B', 'B',\n",
       "       'B', 'B', 'B', 'B', 'B', 'B', 'B', 'B', 'B', 'B', 'B', 'B', 'B',\n",
       "       'B', 'B', 'B', 'B', 'B', 'B', 'B', 'B', 'B', 'B', 'B', 'B', 'B',\n",
       "       'B', 'B', 'B', 'B', 'B', 'B', 'B', 'B', 'B', 'B', 'B', 'B', '8',\n",
       "       'B', 'B', '8', 'B', 'B', '8', '8', 'B', '8', 'B', '8', '8', '8',\n",
       "       'B', 'B', 'B', '8', 'B', 'B', 'B', 'B', '8', '8', '8', '8', 'B',\n",
       "       'B', 'B', '8', 'B', 'B', '8', '8', '8', '8', '8', '8', '8', '8',\n",
       "       '8', 'B', '8'], dtype='<U1')"
      ]
     },
     "execution_count": 26,
     "metadata": {},
     "output_type": "execute_result"
    }
   ],
   "source": [
    "Y_2C"
   ]
  },
  {
   "cell_type": "code",
   "execution_count": 27,
   "metadata": {},
   "outputs": [
    {
     "data": {
      "text/plain": [
       "array([0, 0, 0, 0, 0, 0, 0, 0, 0, 0, 0, 0, 0, 0, 0, 0, 0, 0, 0, 0, 0, 0,\n",
       "       0, 0, 0, 0, 0, 0, 0, 0, 0, 0, 0, 0, 0, 0, 0, 0, 0, 0, 0, 0, 0, 0,\n",
       "       0, 0, 0, 0, 0, 0, 0, 1, 1, 1, 1, 1, 1, 1, 1, 1, 1, 1, 1, 1, 1, 1,\n",
       "       1, 1, 1, 1, 1, 1, 1, 1, 1, 1, 1, 1, 1, 1, 1, 1, 1, 1, 1, 1, 1, 1,\n",
       "       1, 1, 1, 1, 1, 1, 1, 1, 1, 1, 1, 1, 1, 1, 1, 0, 1, 1, 0, 1, 1, 0,\n",
       "       0, 1, 0, 1, 0, 0, 0, 1, 1, 1, 0, 1, 1, 1, 1, 0, 0, 0, 0, 1, 1, 1,\n",
       "       0, 1, 1, 0, 0, 0, 0, 0, 0, 0, 0, 0, 1, 0])"
      ]
     },
     "execution_count": 27,
     "metadata": {},
     "output_type": "execute_result"
    }
   ],
   "source": [
    "Y_2C_num = (Y_2C == 'B').astype(int)\n",
    "Y_2C_num"
   ]
  },
  {
   "cell_type": "code",
   "execution_count": 28,
   "metadata": {},
   "outputs": [
    {
     "data": {
      "text/plain": [
       "Perceptron(alpha=0.0001, class_weight=None, early_stopping=False, eta0=0.1,\n",
       "           fit_intercept=False, max_iter=1000, n_iter_no_change=5, n_jobs=None,\n",
       "           penalty=None, random_state=None, shuffle=False, tol=0.001,\n",
       "           validation_fraction=0.1, verbose=0, warm_start=False)"
      ]
     },
     "execution_count": 28,
     "metadata": {},
     "output_type": "execute_result"
    }
   ],
   "source": [
    "# Entrenmos el perceptron de \"Sklearn\"\n",
    "\n",
    "from sklearn.linear_model import Perceptron\n",
    "\n",
    "X2C_train, X2C_test, Y2C_train, Y2C_test = train_test_split(X_2C, Y_2C_num, stratify=Y_2C_num, train_size = 0.5 )\n",
    "\n",
    "\n",
    "clf = Perceptron(random_state=None, eta0= 0.1, shuffle=False, fit_intercept=False)\n",
    "clf.fit(X2C_train, Y2C_train)"
   ]
  },
  {
   "cell_type": "code",
   "execution_count": 29,
   "metadata": {},
   "outputs": [
    {
     "data": {
      "text/plain": [
       "0.863013698630137"
      ]
     },
     "execution_count": 29,
     "metadata": {},
     "output_type": "execute_result"
    }
   ],
   "source": [
    "# Analizamos el resultado de la \"predicción\"\n",
    "\n",
    "Y_pred_2C = clf.predict(X2C_test)\n",
    "\n",
    "evalua(Y2C_test, Y_pred_2C)"
   ]
  },
  {
   "cell_type": "code",
   "execution_count": 30,
   "metadata": {},
   "outputs": [
    {
     "name": "stdout",
     "output_type": "stream",
     "text": [
      "[[1605.  255.  255. ...  255.  255.    2.]\n",
      " [ 249.  255.  255. ...  255.  255.    2.]\n",
      " [ 596.  255.  255. ...  255.  255.    2.]\n",
      " ...\n",
      " [ 325.  255.  255. ...  255.  255.    2.]\n",
      " [ 101.  255.  255. ...  255.  255.    2.]\n",
      " [ 792.  255.  255. ...  255.  255.    2.]]\n"
     ]
    }
   ],
   "source": [
    "print(X2C_train)"
   ]
  },
  {
   "cell_type": "markdown",
   "metadata": {},
   "source": [
    "---\n",
    "# Uso del perceptron realizado en la clase anterior \n",
    "\n",
    "Habíamos visto que el perceptrón de sklearn tiene un método **fit** que entrena el clasificador.\n",
    "Nosotros tenemos un método **perceptron_train** que entrena el perceptron y devuelve los pesos.\n",
    "\n",
    "---"
   ]
  },
  {
   "cell_type": "code",
   "execution_count": 31,
   "metadata": {},
   "outputs": [
    {
     "name": "stdout",
     "output_type": "stream",
     "text": [
      "Los pesos son:\n",
      "[   6.8    0.   -25.5 -127.5 -510.  -586.5 -153.   -51.   -25.5   76.5\n",
      "  -51.    51.   -25.5    0.     0.     0.     0.     0.   -25.5  -51.\n",
      " -510.  -127.5  -51.     0.     0.     0.     0.  -102.     0.    25.5\n",
      "    0.     0.     0.     0.   -25.5  127.5 -229.5  -25.5   51.   357.\n",
      "  255.    25.5 -127.5    0.  -102.    51.     0.     0.     0.     0.\n",
      "  -25.5  127.5  -25.5  -51.    76.5  102.     0.     0.    76.5    0.\n",
      "  -76.5  -76.5    0.     0.     0.     0.   -25.5  229.5  -25.5  -51.\n",
      "  102.   102.     0.     0.   127.5   51.   -25.5  -51.     0.     0.\n",
      "    0.     0.   -25.5  229.5 -102.     0.   357.   102.     0.    51.\n",
      "   51.   178.5    0.   -25.5    0.     0.     0.     0.   -25.5  -76.5\n",
      " -306.   -25.5  204.   484.5  306.   306.   255.     0.  -229.5 -127.5\n",
      "  -51.     0.     0.     0.   -25.5 -127.5 -331.5 -153.     0.     0.\n",
      "  127.5   25.5    0.     0.  -204.    25.5    0.     0.     0.     0.\n",
      "  -25.5  -76.5 -331.5  -51.     0.     0.     0.     0.     0.     0.\n",
      "   51.   -51.     0.     0.     0.     0.    25.5  153.     0.     0.\n",
      "   76.5   76.5  -76.5  -25.5 -153.     0.     0.    25.5   76.5    0.\n",
      "    0.     0.    25.5  306.   -51.   -25.5  -51.    25.5    0.     0.\n",
      "  102.   -51.     0.    25.5   25.5    0.     0.     0.    51.   306.\n",
      "   76.5 -127.5 -204.     0.     0.     0.    51.   -25.5    0.     0.\n",
      "  -25.5    0.     0.     0.    25.5  306.    51.  -153.   -51.    25.5\n",
      "    0.   -25.5    0.   -51.     0.     0.   -25.5    0.     0.     0.\n",
      "   25.5  204.    76.5  -25.5  153.   -25.5  -51.     0.  -153.   127.5\n",
      "  -25.5  178.5  -51.     0.     0.     0.   -25.5   51.  -127.5  -25.5\n",
      "  -25.5  -76.5  -76.5  -76.5    0.    25.5   25.5    0.     0.     0.\n",
      "    0.     0.   -25.5  -76.5 -357.  -306.   -51.   -25.5    0.     0.\n",
      "  -51.   178.5  102.   102.     0.     0.     0.     0. ]\n",
      "La suma de errores cuadráticos es:\n",
      "[8.0, 7.5, 6.5, 2.0, 2.5, 4.5, 2.0, 0.0, 0.0, 0.0, 0.0, 0.0, 0.0, 0.0, 0.0, 0.0, 0.0, 0.0, 0.0, 0.0, 0.0, 0.0, 0.0, 0.0, 0.0, 0.0, 0.0, 0.0, 0.0, 0.0, 0.0, 0.0, 0.0, 0.0, 0.0, 0.0, 0.0, 0.0, 0.0, 0.0, 0.0, 0.0, 0.0, 0.0, 0.0, 0.0, 0.0, 0.0, 0.0, 0.0]\n"
     ]
    }
   ],
   "source": [
    "def entrena_perceptron(X, y, z, eta, t):    \n",
    "    # inicialización de los pesos\n",
    "    \n",
    "    \n",
    "    w = np.zeros(len(X[0]))       \n",
    "    n = 0                           # numero de iteraciones se inicializa a 0                     \n",
    "    \n",
    "    # Inicialización de variables adicionales \n",
    "    yhat_vec = np.zeros(len(y))     # array para las predicciones de cada ejemplo\n",
    "    errors = np.zeros(len(y))       # array para los errores (valor real - predicción)\n",
    "    J = []                          # error total del modelo     \n",
    "    \n",
    "    \n",
    "    while n < t:  \n",
    "        ############## a completar (desde aqui) #################\n",
    "        # para cada ejemplo x del conjunto de datos X\n",
    "        #        Calcular el sumatorio de las entradas por los pesos (np.dot) \n",
    "        #        Se hace pasar el valor resultante por la función de activación \n",
    "        #        Para cada peso\n",
    "        #              actualizar peso\n",
    "        #######################################################\n",
    "        \n",
    "        \n",
    "        \n",
    "       #                   A COMPLETAR\n",
    "        \n",
    "        \n",
    "        \n",
    "          \n",
    "        ############## a completar (hasta aqui) #################\n",
    "        n += 1 # se incrementa el número de iteraciones \n",
    "\n",
    "        \n",
    "        \n",
    "        # calculo del error cuadrático del modelo\n",
    "        # esto no es más que la suma de cuadrados entre el valor real y la predicción\n",
    "        for i in range(0,len(y)):     \n",
    "            errors[i] = (y[i]-yhat_vec[i])**2\n",
    "        J.append(0.5*np.sum(errors))\n",
    "           \n",
    "    # Devuelve los pesos y el error cuadrático\n",
    "    return w, J\n",
    "\n",
    "\n",
    "z = 0.0     # umbral\n",
    "eta = 0.1   # learning rate\n",
    "t = 50      # número de iteraciones\n",
    "\n",
    "weights, errors = entrena_perceptron(X2C_train, Y2C_train, z, eta, t)\n",
    "\n",
    "\n",
    "print(\"Los pesos son:\")\n",
    "print(weights)\n",
    "\n",
    "print(\"La suma de errores cuadráticos es:\")\n",
    "print(errors)"
   ]
  },
  {
   "cell_type": "code",
   "execution_count": 32,
   "metadata": {},
   "outputs": [
    {
     "data": {
      "text/plain": [
       "Text(0.5, 1.0, 'Convergencia')"
      ]
     },
     "execution_count": 32,
     "metadata": {},
     "output_type": "execute_result"
    },
    {
     "data": {
      "image/png": "[encoded data removed]",
      "text/plain": [
       "<Figure size 432x288 with 1 Axes>"
      ]
     },
     "metadata": {
      "needs_background": "light"
     },
     "output_type": "display_data"
    }
   ],
   "source": [
    "# Gráfica de la disminución del error a medida que aumenta el número de iteraciones (i. e., nos acercamos a la \"convergencia\")\n",
    "\n",
    "epoch = np.arange(t)\n",
    "\n",
    "plt.plot(epoch, errors)\n",
    "plt.xlabel('Iteración')\n",
    "plt.ylabel('La suma de errores cuadráticos es')\n",
    "plt.title('Convergencia')"
   ]
  },
  {
   "cell_type": "code",
   "execution_count": 33,
   "metadata": {},
   "outputs": [
    {
     "name": "stdout",
     "output_type": "stream",
     "text": [
      "Valor real  1\n",
      "Valor predicho  1\n"
     ]
    }
   ],
   "source": [
    "# Función \"programada\" para la evaluación de la predicción de 1 solo caso.\n",
    "\n",
    "def predice(w,x):\n",
    "    \n",
    "    \n",
    "#  A COMPLETAR   \n",
    "\n",
    "\n",
    "    return ...\n",
    "\n",
    "# Se predice el primer caso del conjunto de datos (que no haga bien un ejemplo no significa que no está bien)\n",
    "\n",
    "print(\"Valor real \", Y2C_test[0])\n",
    "print(\"Valor predicho \",predice(weights,X2C_test[0]))"
   ]
  },
  {
   "cell_type": "code",
   "execution_count": 34,
   "metadata": {},
   "outputs": [
    {
     "data": {
      "text/plain": [
       "0.863013698630137"
      ]
     },
     "execution_count": 34,
     "metadata": {},
     "output_type": "execute_result"
    }
   ],
   "source": [
    "# Para todos\n",
    "\n",
    "def predice_varios(w,X):\n",
    "    preds = []\n",
    "    \n",
    "    \n",
    "    return np.array(preds)\n",
    "\n",
    "\n",
    "def predice_varios(w,X):\n",
    "    preds = []\n",
    "    \n",
    "    for x in X:\n",
    "        preds.append(predice(w,x))\n",
    "    \n",
    "    return np.array(preds)\n",
    "\n",
    "\n",
    "Y_pred_2C = predice_varios(weights,X2C_test)\n",
    "\n",
    "evalua(Y2C_test, Y_pred_2C)"
   ]
  }
 ],
 "metadata": {
  "kernelspec": {
   "display_name": "Python 3",
   "language": "python",
   "name": "python3"
  },
  "language_info": {
   "codemirror_mode": {
    "name": "ipython",
    "version": 3
   },
   "file_extension": ".py",
   "mimetype": "text/x-python",
   "name": "python",
   "nbconvert_exporter": "python",
   "pygments_lexer": "ipython3",
   "version": "3.7.4"
  }
 },
 "nbformat": 4,
 "nbformat_minor": 2
}
