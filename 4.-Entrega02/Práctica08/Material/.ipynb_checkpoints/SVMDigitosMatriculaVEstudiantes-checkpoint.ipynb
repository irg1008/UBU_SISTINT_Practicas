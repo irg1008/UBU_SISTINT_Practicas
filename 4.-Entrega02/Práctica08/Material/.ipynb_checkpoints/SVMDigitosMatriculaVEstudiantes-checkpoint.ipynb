{
 "cells": [
  {
   "cell_type": "markdown",
   "metadata": {},
   "source": [
    "# *Support Vector Machines* (*SVMs*)\n",
    "\n",
    "### Ejemplo de clasificador multi-etiqueta\n",
    "\n",
    "Una máquina de soporte vectorial construye un hiperplano o conjunto de hiperplanos en un espacio de alta dimensionalidad, para clasificar muestras de dos o más clases. \n",
    "\n",
    "De forma intuitiva, se obtiene una separación correcta considerando el hiperplano que tiene la distancia *máxima* respecto del punto del conjunto de entrenamiento, para cualquiera de las clases consideradas. A esta distancia se le denomina *margen funcional*. Se considera, de hecho, que a mayor margen, se producirá (en teoría) un error de clasificación menor.\n",
    "\n",
    "<img width=\"50%\" src=\"Support-Vector-Machine-2.png\">"
   ]
  },
  {
   "cell_type": "markdown",
   "metadata": {},
   "source": [
    "---\n",
    "Para todo aquel estudiante que esté interesado en leer los principios y fundamentos matemáticos de este tipo de clasificador, un buen enlace sería el siguiente: https://en.wikipedia.org/wiki/Support_vector_machine \n",
    "\n",
    "---"
   ]
  },
  {
   "cell_type": "markdown",
   "metadata": {},
   "source": [
    "---\n",
    "Para esta práctica se utilizará la librería *libSVM*, descargada de https://www.csie.ntu.edu.tw/~cjlin/libsvm/.\n",
    "\n",
    "---"
   ]
  },
  {
   "cell_type": "markdown",
   "metadata": {},
   "source": [
    "---\n",
    "Para esta práctica se utilizará la librería *libSVM*, descargada de https://www.csie.ntu.edu.tw/~cjlin/libsvm/.\n",
    "\n",
    "Hay que tener en cuenta, que este clasificador, para este tipo de implementación, funciona teniendo en cuenta unos determinados valores para ciertos parámetros. \n",
    "\n",
    "Los especificamos a continuación (copiado de la página web de libSVM, y, por tanto, en inglés):\n",
    "\n",
    "*Options*:\n",
    "\n",
    " - -s: svm_type : set type of SVM (default 0)\n",
    "        0 -- C-SVC\n",
    "        1 -- nu-SVC\n",
    "        2 -- one-class SVM\n",
    "        3 -- epsilon-SVR\n",
    "        4 -- nu-SVR\n",
    " - -t kernel_type : set type of kernel function (default 2)\n",
    "        0 -- linear: u'*v\n",
    "        1 -- polynomial: (gamma*u'*v + coef0)^degree\n",
    "        2 -- radial basis function: exp(-gamma*|u-v|^2)\n",
    "        3 -- sigmoid: tanh(gamma*u'*v + coef0)\n",
    "    \n",
    " - -d: degree : set degree in kernel function (default 3)\n",
    " \n",
    " - -g: gamma : set gamma in kernel function (default 1/num_features)\n",
    " \n",
    " - -r: coef0 : set coef0 in kernel function (default 0)\n",
    " \n",
    " - -c: cost : set the parameter C of C-SVC, epsilon-SVR, and nu-SVR (default 1)\n",
    " \n",
    " - -n: nu : set the parameter nu of nu-SVC, one-class SVM, and nu-SVR (default 0.5)\n",
    " \n",
    " - -p: epsilon : set the epsilon in loss function of epsilon-SVR (default 0.1)\n",
    " \n",
    " - -m: cachesize : set cache memory size in MB (default 100)\n",
    " \n",
    " - -e: epsilon : set tolerance of termination criterion (default 0.001)\n",
    " \n",
    " - -h: shrinking: whether to use the shrinking heuristics, 0 or 1 (default 1)\n",
    " \n",
    " - -b: probability_estimates: whether to train a SVC or SVR model for probability estimates, 0 or 1 (default 0)\n",
    " \n",
    " - -wi: weight: set the parameter C of class i to weight*C, for C-SVC (default 1)\n",
    "\n",
    "The k in the -g option means the number of attributes in the input data.\n",
    "\n",
    "---"
   ]
  },
  {
   "cell_type": "code",
   "execution_count": 1,
   "metadata": {},
   "outputs": [],
   "source": [
    "# Importación de librerias necesarias\n",
    "%matplotlib inline \n",
    "import numpy as np  \n",
    "import matplotlib.pyplot as plt \n",
    "import os\n",
    "ruta_local_svm=os.getcwd()+\"\\\\libsvm-master\\\\python\"\n",
    "import sys\n",
    "sys.path.append(ruta_local_svm)\n",
    "from svmutil import *\n",
    "from skimage.io import imshow, imread\n",
    "from skimage.transform import resize\n",
    "from sklearn.model_selection import train_test_split\n",
    "from sklearn.neural_network import MLPClassifier\n",
    "from sklearn.model_selection import train_test_split\n",
    "import warnings\n",
    "warnings.filterwarnings(\"ignore\")"
   ]
  },
  {
   "cell_type": "code",
   "execution_count": 2,
   "metadata": {},
   "outputs": [],
   "source": [
    "#definición de la función de valuación de rendimiento\n",
    "def evalua(y_test, y_pred):\n",
    "    \n",
    "    \n",
    "    # completa aqui\n",
    "    \n",
    "    return ..."
   ]
  },
  {
   "cell_type": "code",
   "execution_count": 3,
   "metadata": {},
   "outputs": [],
   "source": [
    "import pandas as pd"
   ]
  },
  {
   "cell_type": "code",
   "execution_count": 4,
   "metadata": {},
   "outputs": [
    {
     "data": {
      "text/html": [
       "<div>\n",
       "<style scoped>\n",
       "    .dataframe tbody tr th:only-of-type {\n",
       "        vertical-align: middle;\n",
       "    }\n",
       "\n",
       "    .dataframe tbody tr th {\n",
       "        vertical-align: top;\n",
       "    }\n",
       "\n",
       "    .dataframe thead th {\n",
       "        text-align: right;\n",
       "    }\n",
       "</style>\n",
       "<table border=\"1\" class=\"dataframe\">\n",
       "  <thead>\n",
       "    <tr style=\"text-align: right;\">\n",
       "      <th></th>\n",
       "      <th>Número de instancia</th>\n",
       "      <th>Unnamed: 1</th>\n",
       "      <th>Unnamed: 2</th>\n",
       "      <th>Unnamed: 3</th>\n",
       "      <th>Unnamed: 4</th>\n",
       "      <th>Unnamed: 5</th>\n",
       "      <th>Unnamed: 6</th>\n",
       "      <th>Unnamed: 7</th>\n",
       "      <th>Unnamed: 8</th>\n",
       "      <th>Unnamed: 9</th>\n",
       "      <th>...</th>\n",
       "      <th>Unnamed: 249</th>\n",
       "      <th>Unnamed: 250</th>\n",
       "      <th>Unnamed: 251</th>\n",
       "      <th>Unnamed: 252</th>\n",
       "      <th>Unnamed: 253</th>\n",
       "      <th>Unnamed: 254</th>\n",
       "      <th>Unnamed: 255</th>\n",
       "      <th>Unnamed: 256</th>\n",
       "      <th>Número de agujeros</th>\n",
       "      <th>Etiqueta/Clase</th>\n",
       "    </tr>\n",
       "  </thead>\n",
       "  <tbody>\n",
       "    <tr>\n",
       "      <td>0</td>\n",
       "      <td>1</td>\n",
       "      <td>255.0</td>\n",
       "      <td>255.0</td>\n",
       "      <td>255.0</td>\n",
       "      <td>255.0</td>\n",
       "      <td>255.0</td>\n",
       "      <td>0.0</td>\n",
       "      <td>0.0</td>\n",
       "      <td>0.0</td>\n",
       "      <td>0.0</td>\n",
       "      <td>...</td>\n",
       "      <td>0.0</td>\n",
       "      <td>0.0</td>\n",
       "      <td>0.0</td>\n",
       "      <td>0.0</td>\n",
       "      <td>0.0</td>\n",
       "      <td>255.0</td>\n",
       "      <td>255.0</td>\n",
       "      <td>255.0</td>\n",
       "      <td>0</td>\n",
       "      <td>2</td>\n",
       "    </tr>\n",
       "    <tr>\n",
       "      <td>1</td>\n",
       "      <td>2</td>\n",
       "      <td>255.0</td>\n",
       "      <td>255.0</td>\n",
       "      <td>255.0</td>\n",
       "      <td>255.0</td>\n",
       "      <td>0.0</td>\n",
       "      <td>0.0</td>\n",
       "      <td>0.0</td>\n",
       "      <td>0.0</td>\n",
       "      <td>0.0</td>\n",
       "      <td>...</td>\n",
       "      <td>0.0</td>\n",
       "      <td>0.0</td>\n",
       "      <td>0.0</td>\n",
       "      <td>255.0</td>\n",
       "      <td>255.0</td>\n",
       "      <td>255.0</td>\n",
       "      <td>255.0</td>\n",
       "      <td>255.0</td>\n",
       "      <td>2</td>\n",
       "      <td>8</td>\n",
       "    </tr>\n",
       "    <tr>\n",
       "      <td>2</td>\n",
       "      <td>3</td>\n",
       "      <td>255.0</td>\n",
       "      <td>255.0</td>\n",
       "      <td>0.0</td>\n",
       "      <td>0.0</td>\n",
       "      <td>0.0</td>\n",
       "      <td>0.0</td>\n",
       "      <td>0.0</td>\n",
       "      <td>0.0</td>\n",
       "      <td>0.0</td>\n",
       "      <td>...</td>\n",
       "      <td>255.0</td>\n",
       "      <td>255.0</td>\n",
       "      <td>255.0</td>\n",
       "      <td>255.0</td>\n",
       "      <td>255.0</td>\n",
       "      <td>255.0</td>\n",
       "      <td>255.0</td>\n",
       "      <td>255.0</td>\n",
       "      <td>0</td>\n",
       "      <td>7</td>\n",
       "    </tr>\n",
       "    <tr>\n",
       "      <td>3</td>\n",
       "      <td>4</td>\n",
       "      <td>255.0</td>\n",
       "      <td>255.0</td>\n",
       "      <td>255.0</td>\n",
       "      <td>255.0</td>\n",
       "      <td>255.0</td>\n",
       "      <td>0.0</td>\n",
       "      <td>0.0</td>\n",
       "      <td>0.0</td>\n",
       "      <td>0.0</td>\n",
       "      <td>...</td>\n",
       "      <td>0.0</td>\n",
       "      <td>0.0</td>\n",
       "      <td>0.0</td>\n",
       "      <td>0.0</td>\n",
       "      <td>255.0</td>\n",
       "      <td>255.0</td>\n",
       "      <td>255.0</td>\n",
       "      <td>255.0</td>\n",
       "      <td>2</td>\n",
       "      <td>8</td>\n",
       "    </tr>\n",
       "    <tr>\n",
       "      <td>4</td>\n",
       "      <td>5</td>\n",
       "      <td>255.0</td>\n",
       "      <td>255.0</td>\n",
       "      <td>255.0</td>\n",
       "      <td>255.0</td>\n",
       "      <td>0.0</td>\n",
       "      <td>0.0</td>\n",
       "      <td>0.0</td>\n",
       "      <td>0.0</td>\n",
       "      <td>0.0</td>\n",
       "      <td>...</td>\n",
       "      <td>0.0</td>\n",
       "      <td>0.0</td>\n",
       "      <td>0.0</td>\n",
       "      <td>255.0</td>\n",
       "      <td>255.0</td>\n",
       "      <td>255.0</td>\n",
       "      <td>255.0</td>\n",
       "      <td>255.0</td>\n",
       "      <td>1</td>\n",
       "      <td>9</td>\n",
       "    </tr>\n",
       "  </tbody>\n",
       "</table>\n",
       "<p>5 rows × 259 columns</p>\n",
       "</div>"
      ],
      "text/plain": [
       "   Número de instancia  Unnamed: 1  Unnamed: 2  Unnamed: 3  Unnamed: 4  \\\n",
       "0                    1       255.0       255.0       255.0       255.0   \n",
       "1                    2       255.0       255.0       255.0       255.0   \n",
       "2                    3       255.0       255.0         0.0         0.0   \n",
       "3                    4       255.0       255.0       255.0       255.0   \n",
       "4                    5       255.0       255.0       255.0       255.0   \n",
       "\n",
       "   Unnamed: 5  Unnamed: 6  Unnamed: 7  Unnamed: 8  Unnamed: 9  ...  \\\n",
       "0       255.0         0.0         0.0         0.0         0.0  ...   \n",
       "1         0.0         0.0         0.0         0.0         0.0  ...   \n",
       "2         0.0         0.0         0.0         0.0         0.0  ...   \n",
       "3       255.0         0.0         0.0         0.0         0.0  ...   \n",
       "4         0.0         0.0         0.0         0.0         0.0  ...   \n",
       "\n",
       "   Unnamed: 249  Unnamed: 250  Unnamed: 251  Unnamed: 252  Unnamed: 253  \\\n",
       "0           0.0           0.0           0.0           0.0           0.0   \n",
       "1           0.0           0.0           0.0         255.0         255.0   \n",
       "2         255.0         255.0         255.0         255.0         255.0   \n",
       "3           0.0           0.0           0.0           0.0         255.0   \n",
       "4           0.0           0.0           0.0         255.0         255.0   \n",
       "\n",
       "   Unnamed: 254  Unnamed: 255  Unnamed: 256  Número de agujeros  \\\n",
       "0         255.0         255.0         255.0                   0   \n",
       "1         255.0         255.0         255.0                   2   \n",
       "2         255.0         255.0         255.0                   0   \n",
       "3         255.0         255.0         255.0                   2   \n",
       "4         255.0         255.0         255.0                   1   \n",
       "\n",
       "   Etiqueta/Clase  \n",
       "0               2  \n",
       "1               8  \n",
       "2               7  \n",
       "3               8  \n",
       "4               9  \n",
       "\n",
       "[5 rows x 259 columns]"
      ]
     },
     "execution_count": 4,
     "metadata": {},
     "output_type": "execute_result"
    }
   ],
   "source": [
    "# Ídem al caso anterior con MLP\n",
    "\n",
    "# df = ..."
   ]
  },
  {
   "cell_type": "markdown",
   "metadata": {},
   "source": [
    "---\n",
    "## Generación de los conjuntos de *entrenamiento* y *test*\n",
    "---\n",
    "\n",
    "Hay que hacer exactamente lo mismo que lo hecho para la aplicación del algoritmo MLP, para el presente caso."
   ]
  },
  {
   "cell_type": "code",
   "execution_count": null,
   "metadata": {},
   "outputs": [],
   "source": []
  },
  {
   "cell_type": "code",
   "execution_count": 9,
   "metadata": {},
   "outputs": [],
   "source": [
    "# Como la columna de etiquetas contiene tanto números como letras, hay que transformar esta columna a una representación numérica \n",
    "# única, para que pueda ser usada por el algoritmo SVM.\n",
    "\n",
    "from sklearn.preprocessing import LabelEncoder\n",
    "\n",
    "# A COMPLETAR PARA \"Y\".\n"
   ]
  },
  {
   "cell_type": "code",
   "execution_count": 10,
   "metadata": {},
   "outputs": [
    {
     "data": {
      "text/plain": [
       "array([ 2,  8,  7, ..., 18, 14, 14], dtype=int64)"
      ]
     },
     "execution_count": 10,
     "metadata": {},
     "output_type": "execute_result"
    }
   ],
   "source": [
    "Y"
   ]
  },
  {
   "cell_type": "code",
   "execution_count": 11,
   "metadata": {},
   "outputs": [],
   "source": [
    "from sklearn.model_selection import train_test_split\n",
    "\n",
    "'''\n",
    "El par X_train, y_train son los atributos y clases del conjunto de entrenamiento (70% de los ejemplos)\n",
    "El par X_test, y_test son los atributos y clases del conjunto de test (30% de los ejemplos)\n",
    "\n",
    "stratify (estratificar) significa que se quiere que haya la misma proporcion de cada una de las clases\n",
    "tanto en entrenamiento como en test, es decir, no es una partición completamente aleatoria.\n",
    "'''\n",
    "X_train_svm, X_test_svm, y_train_svm, y_test_svm = train_test_split(X, Y, stratify=Y, train_size = 0.5 )"
   ]
  },
  {
   "cell_type": "code",
   "execution_count": 12,
   "metadata": {},
   "outputs": [
    {
     "data": {
      "text/plain": [
       "array([25, 31, 13, ..., 25,  9, 21], dtype=int64)"
      ]
     },
     "execution_count": 12,
     "metadata": {},
     "output_type": "execute_result"
    }
   ],
   "source": [
    "y_train_svm"
   ]
  },
  {
   "cell_type": "markdown",
   "metadata": {},
   "source": [
    "---\n",
    "## Construcción del problema\n",
    "\n",
    "\n",
    "Aquí debes analizar el ejemplo puesto en la página web https://www.csie.ntu.edu.tw/~cjlin/libsvm/\n",
    "\n",
    "---"
   ]
  },
  {
   "cell_type": "code",
   "execution_count": null,
   "metadata": {},
   "outputs": [],
   "source": [
    "# A construir a partir de aquí..."
   ]
  }
 ],
 "metadata": {
  "kernelspec": {
   "display_name": "Python 3",
   "language": "python",
   "name": "python3"
  },
  "language_info": {
   "codemirror_mode": {
    "name": "ipython",
    "version": 3
   },
   "file_extension": ".py",
   "mimetype": "text/x-python",
   "name": "python",
   "nbconvert_exporter": "python",
   "pygments_lexer": "ipython3",
   "version": "3.7.4"
  }
 },
 "nbformat": 4,
 "nbformat_minor": 2
}
