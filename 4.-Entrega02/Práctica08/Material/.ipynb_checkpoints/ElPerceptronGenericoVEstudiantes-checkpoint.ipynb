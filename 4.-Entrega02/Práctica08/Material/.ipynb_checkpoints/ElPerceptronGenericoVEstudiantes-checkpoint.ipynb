{
 "cells": [
  {
   "cell_type": "markdown",
   "metadata": {},
   "source": [
    "# El *Perceptron*. Fundamentos.\n",
    "\n",
    "### Sistemas Inteligentes. Grado en Ingeniería Informática.\n",
    "#### Universidad de Burgos\n",
    "##### Pedro Latorre Carmona. Curso 2020-2021.\n",
    "---\n",
    "\n",
    "El perceptron es un clasificador que realiza predicciones binarias (solo dos clases, o *alternativas*). Para resolver un problema de $N$ clases, necesitamos $N$ perceptrones.\n",
    "\n",
    "El perceptron simple solo es aplicable a problemas que son *linealmente separables*. Cuando es aplicado a otros tipos de problema, las denominadas *tasas de acierto*, pueden ser bajas.\n",
    "\n",
    "El perceptron denominado *multicapa* puede se aplicado a problemas más complicados.\n",
    "\n",
    "Podéis encontrar un poco más de información sobre el perceptron en:\n",
    "\n",
    "<a href=\"https://es.wikipedia.org/wiki/Perceptr%C3%B3n\">Perceptron (Wikipedia)</a>\n",
    "\n",
    "---\n",
    "\n",
    "## Cuál es su *funcionamiento*\n",
    "\n",
    "1. El perceptron *aprende* (infiere) una serie de pesos, ${w_{i}}$, $i = 1,\\cdots,n_{v}$ (donde $n_{v}$ es el número de variables), que se corresponden con lo que denominamos *atributos de entrada*.\n",
    "\n",
    "\n",
    "2. Se establece la combinación lineal $\\sum_{i} (w_{i} \\times x_{i})$ *atributos-pesos*.  \n",
    "\n",
    "\n",
    "3. Si la combinación lineal supera un determinado umbral, se asigna la predicción a una determinada clase. Si no es así, se asigna a la *otra*.  \n",
    "\n",
    "\n",
    "4. Es una metodología aplicable a problemas denominados *de dos clases*.  \n",
    "    \n",
    "    Ejemplo: imaginemos un problema de clasificación de *erros* y *gatos*, en los que la caracterización viene dada por dos atributos: *longitud* y *peso*. Así pues, si: \n",
    "    - La combinación lineal: (altura $\\cdot$ $w_1$ + peso $\\cdot$ $w_2$ + longitud $\\cdot$ $w_3$) > 0, se predice (la clase) *perro* y si no, se predice la clase *gato*.\n",
    "    - Los valores de $w_i$ se *infieren* a partir de un conjunto de datos (que se supone tenemos) de *perros* y *gatos*.\n",
    "\n",
    "Fijaos en la (el) siguiente imagen (esquema):\n",
    "\n",
    "<img style=\"float:left\" width=\"50%\" src=\"pics/Perceptrón_5_unidades.svg.png\">"
   ]
  },
  {
   "cell_type": "markdown",
   "metadata": {},
   "source": [
    "---\n",
    "## Cómo se aprenden los pesos\n",
    "\n",
    "Es un proceso iterativo: después de cada iteración (llamada *epoch*), se comprueba si la clasificación es correcta o no. Si no lo es, los pesos son actualizados según un *learning rate*.\n",
    "\n",
    "---"
   ]
  },
  {
   "cell_type": "markdown",
   "metadata": {},
   "source": [
    "## Algoritmo de entrenamiento\n",
    "\n",
    "Es relativamente sencillo. Consta de los siguientes pasos:\n",
    "\n",
    "\n",
    "1. inicializar el vector de pesos $w$ , el umbral $z$ de la función de activación, el número de iteraciones (*epochs*) $t$ y el *learning rate*, $\\eta$ (coeficiente de aprendizaje).\n",
    " - Con frecuencia los pesos $w$ se inicializan a 0s.\n",
    " - El umbral se inicializa a 0.\n",
    " - El número de iteraciones depende de la dificultad del problema. Cuanto más dificil, mayor número de iteraciones.\n",
    " - El *learning rate* depende de la dificultad del problema. Cuanto más dificil, más bajo.  \n",
    " \n",
    "\n",
    "2. Para cada iteración, $t$:\n",
    "    - Para cada ejemplo, $i$, del conjunto de entrenamiento:\n",
    "        - Se calcula el sumatorio de las entradas por los pesos ($k$ es el número de atributos).\n",
    "    \n",
    "        $sum = \\sum_{j=0}^k w_{j} \\cdot x_{ij}$\n",
    "    \n",
    "        - Se *aplica* el valor resultante sobre la función de activación. \n",
    "        $\\hat{y_i} =\\begin{cases}\n",
    "        1 & \\text{if }f \\gt z\\\\\n",
    "        0 & \\text{otherwise}.\n",
    "      \\end{cases} $\n",
    "  \n",
    "      - Se actualizan los pesos, con la siguiente formula:\n",
    "      \n",
    "          Desde $j=0$ hasta $j<$num_atts:          \n",
    "          $w_j = w_j + \\eta \\cdot (y_i-\\hat{y_i})\\cdot x_{ij}$ \n",
    "                  \n",
    "          \n",
    "3. Si se ha alcanzado el número de iteraciones: *fin*.    "
   ]
  },
  {
   "cell_type": "markdown",
   "metadata": {},
   "source": [
    "---\n",
    "## ¿Qué hace la formula siguiente? \n",
    "   \n",
    "$w_j = w_j + \\eta \\cdot (y_i-\\hat{y_i})\\cdot x_{ij}$  \n",
    "\n",
    "\n",
    "Respuesta:\n",
    "\n",
    "1. Si la predicción es correcta (es decir, si $y_i=\\hat{y_i}$), el peso no cambia. \n",
    "2. Si la predicción no es correcta, se modifica el peso, de acuerdo con dicha fórmula (es decir, el término: $\\eta \\cdot (y_i-\\hat{y_i})\\cdot x_{ij}$ no será nulo en este caso).\n",
    "\n",
    "---\n",
    "          "
   ]
  },
  {
   "cell_type": "markdown",
   "metadata": {},
   "source": [
    "### Ejemplo, paso a paso\n",
    "\n",
    "\n",
    "Un ejemplo paso a paso de cómo funciona el perceptron es la función **AND**. Es un problema sencillo y linealmente separable.\n",
    "Dadas dos entradas: $x_1$ y $x_2$, la salida de la función **AND** sería la siguiente:\n",
    "\n",
    "|$x_1$|$x_2$|$y$|\n",
    "|:---:|:---:|:---:|\n",
    "|0|0|0|\n",
    "|0|1|0|\n",
    "|1|0|0|\n",
    "|1|1|1|"
   ]
  },
  {
   "cell_type": "code",
   "execution_count": 1,
   "metadata": {},
   "outputs": [
    {
     "data": {
      "image/png": "[encoded data removed]",
      "text/plain": [
       "<Figure size 432x288 with 1 Axes>"
      ]
     },
     "metadata": {
      "needs_background": "light"
     },
     "output_type": "display_data"
    }
   ],
   "source": [
    "'''\n",
    "\n",
    "Código (utilizando matplotlib) que permite visualizar que la función es linealmente separable \n",
    "(es decir, las dos clases se pueden separar por una frontera \"lineal\").\n",
    "\n",
    "'''\n",
    "%matplotlib inline\n",
    "\n",
    "# Los 0s y 1s de la salida, se han pintado de/con colores diferentes\n",
    "\n",
    "import numpy as np\n",
    "import matplotlib.pyplot as plt\n",
    "\n",
    "x1 = np.array([0,0,1,1])\n",
    "x2 = np.array([0,1,0,1])\n",
    "y =  np.array([0,0,0,1])\n",
    "\n",
    "linex = np.arange(-0.1, 1.1, 0.01)  # Límites del eje de las \"x\" (i.e., entre -0.1 y 1.1)\n",
    "\n",
    "liney = 2 + (-1.5 * linex)\n",
    "\n",
    "plt.scatter(x1, x2, c=y, alpha=0.5)\n",
    "plt.plot(linex,liney,color='red',linestyle='dashed')\n",
    "plt.xlabel('$x_1$')\n",
    "plt.ylabel('$x_2$')\n",
    "plt.title('Clasificación/Resolución de \"AND\"')\n",
    "plt.show()"
   ]
  },
  {
   "cell_type": "markdown",
   "metadata": {},
   "source": [
    "---\n",
    "---\n",
    "Aparte de las características propias del conjunto de entrenamiento ($x_1$ y $x_2$), se suele introducir una característica adicional denominada *bias* ($x_0$), que siempre vale 1, y que puede ser útil de cara a poder entrenar correctamente el modelo. \n",
    "\n",
    "¿Por que es útil el *bias*?\n",
    "- En el caso de tener que aproximar una función tal que $f(0,0) = 1$, no se puede encontrar una combinación de pesos que haga que $[w_0*0 + w_1*0]$ supere un umbral, a no ser que se introduzcan *artilugios* como la adición de una característica que, en este caso, consideramos que vale 1, siempre.\n",
    "\n",
    "\n",
    "1. Se inicializan los pesos: $w_i=0, \\forall i$. \n",
    "\n",
    "    - Despues de añadir $x_0$, tendríamos que los pesos iniciales son $(w^0_{0}, w^0_{1}, w^0_{2}) = (0,0,0)$\n",
    "    - El umbral de la función de activación se inicializa a $z=0$. \n",
    "    - El número de iteraciones se establece en $t=50$.\n",
    "    - El coeficiente de aprendizaje (o *learning rate*) se estable en $\\eta=0.1$  \n",
    "    \n",
    "    \n",
    "2. Conjunto principal de operaciones: \n",
    "    - El sumatorio de las entradas por los pesos: $f_{i} = \\sum_{j=0}^k w_j x_{ij}$. \n",
    "    \n",
    "    En la iteración 0 (la primera), para los cuatro ejemplos que tenemos, el valor de $f_{i}$ sería:  \n",
    "    \n",
    "        - $ f_{1} = (0\\cdot1) + (0\\cdot0) + (0\\cdot 0) = 0$\n",
    "        - $ f_{2} = (0\\cdot1) + (0\\cdot0) + (0\\cdot 1) = 0$\n",
    "        - $ f_{3} = (0\\cdot1) + (0\\cdot1) + (0\\cdot 0) = 0$\n",
    "        - $ f_{4} = (0\\cdot1) + (0\\cdot1) + (0\\cdot 1) = 0$         \n",
    "        \n",
    "    - Se hace pasar el valor resultante por la función de activación \n",
    "    $$\\hat{y}_i =\\begin{cases}\n",
    "                        1 & \\text{if }f_{i}\\gt z\\\\\n",
    "                        0 & \\text{otherwise}.\n",
    "                  \\end{cases} $$\n",
    "    $\\hat{y}_i=0$ en los cuatro casos.\n",
    "    - Se actualizan los pesos. Para los 3 primeros ejemplos no hay diferencia entre $\\hat{y}$ e $y$, luego no hay actualización.        \n",
    "    - Para el cuarto caso $(i=3)$ sí que hay que actualizar, porque **AND(1,1)** es 1 y la predicción es 0:\n",
    "    - Los pesos se van a modificar con el producto de valor del atributo y el *learning rate*\n",
    "        - $w^1_0 = w^0_0 + \\eta [y_3 -\\hat{y}_3]x_{30} $ $ = 0 + 0.1\\cdot[1-0]\\cdot1 $ $= 0.1$  (Recuerda que $x_0=1$)\n",
    "        - $w^1_1 = w^0_1 + \\eta [y_3 -\\hat{y}_3]x_{31}$  $ = 0 + 0.1\\cdot[1-0]\\cdot1 $ $= 0.1$\n",
    "        - $w^1_2 = w^0_2 + \\eta [y_3 -\\hat{y}_3]x_{32}$  $ = 0 + 0.1\\cdot[1-0]\\cdot1 $ $= 0.1$\n",
    "        \n",
    "         $w^1_{0}, w^2_{1}, w^1_{2} = (0.1,0.1,0.1)$\n",
    "- Si/Como no *estamos* en la iteración número 50, **volvemos al paso 2**."
   ]
  },
  {
   "cell_type": "markdown",
   "metadata": {},
   "source": [
    "---\n",
    "## Implementación Python desde 0\n",
    "\n",
    "Se va a implementar la función AND en Python. Usando **Numpy** para simplificar las operaciones matemáticas y **Matplotlib** para los gráficos.\n",
    "\n"
   ]
  },
  {
   "cell_type": "code",
   "execution_count": 2,
   "metadata": {},
   "outputs": [],
   "source": [
    "import numpy as np\n",
    "import matplotlib.pyplot as plt"
   ]
  },
  {
   "cell_type": "code",
   "execution_count": 3,
   "metadata": {},
   "outputs": [
    {
     "name": "stdout",
     "output_type": "stream",
     "text": [
      "[0. 0. 0. 0. 0.]\n",
      "[ 6  9 11]\n",
      "43\n",
      "[0 1 2 3 4 5 6 7]\n"
     ]
    }
   ],
   "source": [
    "\"\"\"\n",
    "Las únicas funciones de numpy que debemos conocer\n",
    "\n",
    "\"\"\"\n",
    "\n",
    "# 1)\n",
    "# Para crear un array de 0s de un tamaño dado.\n",
    "print(np.zeros(5))\n",
    "\n",
    "# 2)\n",
    "# Crear un \"array\" de números (en este caso, un par).\n",
    "a = np.array([1,2,3])\n",
    "b = np.array([5,7,8])\n",
    "\n",
    "# 3)\n",
    "# Operaciones aritmeticas.\n",
    "print(a+b)\n",
    "\n",
    "# 4)\n",
    "# Producto escalar de \"a\" y \"b\" = 1*5 + 2*7 + 3*8 = 43. Esto se puede usar para multiplicar los atributos por los pesos \n",
    "# y sumarlos.\n",
    "print(np.dot(a,b))\n",
    "\n",
    "# 5)\n",
    "# Equivalente a \"range\", pero \"aplicado\" al caso de \"arrays\" de \"numpy\".\n",
    "print(np.arange(8))"
   ]
  },
  {
   "cell_type": "code",
   "execution_count": 4,
   "metadata": {},
   "outputs": [],
   "source": [
    "# ===================================================\n",
    "# Operador AND Lógico\n",
    "# Nota: x0 es una variable adicional para el bias\n",
    "# \n",
    "#     x0  x1  x2\n",
    "#\n",
    "\n",
    "x = [[1., 0., 0.],                                  \n",
    "     [1., 0., 1.],                                 \n",
    "     [1., 1., 0.],                                  \n",
    "     [1., 1., 1.]] \n",
    "\n",
    "# Salida deseada\n",
    "\n",
    "y = [0.,                                            \n",
    "     0.,                                            \n",
    "     0.,                                            \n",
    "     1.] "
   ]
  },
  {
   "cell_type": "code",
   "execution_count": 5,
   "metadata": {},
   "outputs": [
    {
     "name": "stdout",
     "output_type": "stream",
     "text": [
      "Los pesos son:\n",
      "[0. 0. 0.]\n",
      "La suma de errores cuadráticos es:\n",
      "[0.5, 0.5, 0.5, 0.5, 0.5, 0.5, 0.5, 0.5, 0.5, 0.5, 0.5, 0.5, 0.5, 0.5, 0.5, 0.5, 0.5, 0.5, 0.5, 0.5, 0.5, 0.5, 0.5, 0.5, 0.5, 0.5, 0.5, 0.5, 0.5, 0.5, 0.5, 0.5, 0.5, 0.5, 0.5, 0.5, 0.5, 0.5, 0.5, 0.5, 0.5, 0.5, 0.5, 0.5, 0.5, 0.5, 0.5, 0.5, 0.5, 0.5]\n"
     ]
    }
   ],
   "source": [
    "'''\n",
    "Procedimiento para el \"entrenamiento\" del perceptron\n",
    "\n",
    "Entrada\n",
    "=======\n",
    "x: datos de entrada (ampliados con x_0)\n",
    "y: valores de salidas\n",
    "z: umbral\n",
    "eta: coeficiente de aprendizaje (\"learning rate\")\n",
    "t: número de iteraciones\n",
    "\n",
    "\n",
    "Internamente, obtiene el error del modelo. No obstante, este error se \"os va a dar\" (buscadlo más abajo).\n",
    "\n",
    " entrena_perceptron(x, y, z, eta, t)\n",
    "'''\n",
    "def entrena_perceptron(X, y, z, eta, t):    \n",
    "    # Inicialización de los pesos\n",
    "    \n",
    "    \n",
    "    w = np.zeros(len(X[0]))       \n",
    "    n = 0                           # Número de iteraciones, se inicializa a 0                     \n",
    "    \n",
    "    # Inicialización de variables adicionales \n",
    "    ypred = np.zeros(len(y))     # Array para las predicciones de cada ejemplo\n",
    "    errors = np.zeros(len(y))       # Array para los errores (diferencia entre el valor real y la predicción)\n",
    "    J = []                          # Error total del modelo     \n",
    "    \n",
    "    \n",
    "    while n < t:  \n",
    "        ############## a completar (desde aqui) #################\n",
    "        # para cada ejemplo x del conjunto de datos X\n",
    "        #        Se calcula el sumatorio de las entradas por los pesos (np.dot) \n",
    "        #        Se hace pasar el valor resultante por la función de activación \n",
    "        #        Para cada peso\n",
    "        #              se actualiza dicho peso\n",
    "        #######################################################\n",
    "        \n",
    "        \n",
    "        \n",
    "        \n",
    "        \n",
    "          \n",
    "        ############## A completar (hasta aqui) #################\n",
    "        \n",
    "        n += 1 # Se incrementa el número de iteraciones \n",
    "\n",
    "        \n",
    "        \n",
    "        # Calculo del error cuadrático del modelo ( esto no es más que la suma de cuadrados \n",
    "        # de las diferencias entre el valor real y su correspondiente predicción\n",
    "        for i in range(0,len(y)):     \n",
    "            errors[i] = (y[i]-ypred[i])**2\n",
    "        J.append(0.5*np.sum(errors))\n",
    "           \n",
    "    # Devuelve los pesos y el error cuadrático\n",
    "    return w, J\n",
    "\n",
    "\n",
    "z = 0.0     # umbral\n",
    "eta = 0.1   # learning rate\n",
    "t = 50      # número de iteraciones\n",
    "\n",
    "weights, errors = entrena_perceptron(x, y, z, eta, t)\n",
    "\n",
    "print(\"Los pesos son:\")\n",
    "print(weights)\n",
    "\n",
    "print(\"La suma de errores cuadráticos es:\")\n",
    "print(errors)\n"
   ]
  },
  {
   "cell_type": "code",
   "execution_count": 6,
   "metadata": {},
   "outputs": [
    {
     "data": {
      "text/plain": [
       "Text(0.5, 1.0, 'Convergencia')"
      ]
     },
     "execution_count": 6,
     "metadata": {},
     "output_type": "execute_result"
    },
    {
     "data": {
      "image/png": "[encoded data removed]",
      "text/plain": [
       "<Figure size 432x288 with 1 Axes>"
      ]
     },
     "metadata": {
      "needs_background": "light"
     },
     "output_type": "display_data"
    }
   ],
   "source": [
    "\"\"\"\n",
    "Gráfica de la disminución del error a medida que aumenta el número de iteraciones (i. e., nos acercamos a la \"convergencia\")\n",
    "\"\"\"\n",
    "\n",
    "epoch = np.arange(t)\n",
    "\n",
    "plt.plot(epoch, errors,color='red',linestyle='dashed',marker='o')\n",
    "plt.xlabel('Iteración')\n",
    "plt.ylabel('La suma de errores cuadráticos es')\n",
    "plt.title('Convergencia del proceso iterativo')\n",
    "    "
   ]
  },
  {
   "cell_type": "markdown",
   "metadata": {},
   "source": [
    "---\n",
    "\n",
    "Se puede ver cómo a partir de la cuarta iteración, el perceptrón *converge*.\n",
    "\n",
    "---"
   ]
  },
  {
   "cell_type": "markdown",
   "metadata": {},
   "source": [
    "## Comentarios adicionales y mejoras que se podrían hacer sobre la versión básica\n",
    "\n",
    "1. El método es dependiente de: (a) parámetros, (b) *learning rate*, (c) número de iteraciones y (d) valor de $z$ (*umbral*).\n",
    "    - Con un *learning rate* más alto, puede converger más rápido, pero puede no converger, si el problema es difícilmente separable.  \n",
    "    \n",
    "    - Una buena estrategia suele consistir en empezar con un *learning rate* alto, e ir descendiendo.  \n",
    "    \n",
    "    - Para el resto de parámetros, es una cuestión de *prueba-error*.  \n",
    "    \n",
    "    \n",
    "2. Se puede detener el método una vez ha convergido, sin esperar a alcanzar el número de iteraciones prefijado.  \n",
    "\n",
    "\n",
    "3. En ocasiones, puede funcionar mejor el inicializar los pesos de forma aleatoria, en lugar de ser $w_i=0, \\forall i$.\n"
   ]
  },
  {
   "cell_type": "markdown",
   "metadata": {},
   "source": [
    "### Perceptron de *Scikit-learn* \n",
    "\n",
    "Vamos a comparar los pesos obtenidos por el algoritmo básico, con los obtenidos por la implementación de  **Scikit-learn** (la librería de aprendizaje automático estandard de Python)."
   ]
  },
  {
   "cell_type": "code",
   "execution_count": 7,
   "metadata": {},
   "outputs": [
    {
     "name": "stdout",
     "output_type": "stream",
     "text": [
      "Pesos obtenidos mediante Scikit-learn:\n",
      "[-0.2  0.2  0.1]\n",
      "Pesos mediante la implementación propia del perceptron:\n",
      "[0. 0. 0.]\n"
     ]
    }
   ],
   "source": [
    "from sklearn.linear_model import Perceptron\n",
    "\n",
    "# Se crea el Perceptron, ajustando sus parámetros para que funcione como nuestra implementación\n",
    "'''\n",
    "\n",
    "fit_intercept : bool\n",
    "If False, the data is assumed to be already centered. Defaults to True.\n",
    "\n",
    "Significado: El perceptron tiene que trabajar con datos centrados (media 0, sino puede funcionar mal.)\n",
    "\n",
    "shuffle : bool, optional, default True\n",
    "Whether or not the training data should be shuffled after each epoch.\n",
    "Para evitar la influencia del orden de las instancias, se \"barajean\" (\"mezclan\") cada vez\n",
    "'''\n",
    "\n",
    "\n",
    "clf = Perceptron(random_state=None, eta0= 0.1, shuffle=False, fit_intercept=False)\n",
    "\n",
    "# \n",
    "clf.fit(x, y)\n",
    "\n",
    "print(\"Pesos obtenidos mediante Scikit-learn:\")\n",
    "print(clf.coef_[0])\n",
    "\n",
    "print(\"Pesos mediante la implementación propia del perceptron:\")\n",
    "print(weights)"
   ]
  },
  {
   "cell_type": "markdown",
   "metadata": {},
   "source": [
    "Para ejemplos sencillos el algoritmo básico va a funcionar igual que la implementación de **Scikit-learn**. Sin embargo la implementación de **Scikit-learn** tiene algunas optimizaciones que hacen que funcione de forma distinta en otros casos.\n",
    "\n"
   ]
  },
  {
   "cell_type": "code",
   "execution_count": null,
   "metadata": {},
   "outputs": [],
   "source": []
  }
 ],
 "metadata": {
  "kernelspec": {
   "display_name": "Python 3",
   "language": "python",
   "name": "python3"
  },
  "language_info": {
   "codemirror_mode": {
    "name": "ipython",
    "version": 3
   },
   "file_extension": ".py",
   "mimetype": "text/x-python",
   "name": "python",
   "nbconvert_exporter": "python",
   "pygments_lexer": "ipython3",
   "version": "3.7.4"
  }
 },
 "nbformat": 4,
 "nbformat_minor": 1
}
