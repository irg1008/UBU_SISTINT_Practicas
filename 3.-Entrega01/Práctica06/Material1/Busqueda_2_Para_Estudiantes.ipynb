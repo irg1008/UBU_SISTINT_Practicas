{
 "cells": [
  {
   "cell_type": "markdown",
   "metadata": {},
   "source": [
    "# Implementación de *A**\n",
    "==================================\n",
    "\n",
    "En este *Notebook* se realizará la implementación del algoritmo A\\*, el cual funcionará primeramente sobre un grafo, y posteriormente sobre un mapa 2D (en concreto, algo *parecido* a un tablero).\n",
    "\n",
    "---\n",
    "\n",
    "<img style=\"float:left\" width=\"70%\" src=\"pics/Algoritmo-AStar-24Oct2019.png\">"
   ]
  },
  {
   "cell_type": "markdown",
   "metadata": {},
   "source": [
    "---\n",
    "---\n",
    "\n",
    "La implementación de A\\* trabajará con nodos. Por tanto, no debería resultar complicado adaptar el algoritmo para que realice búsquedas en otro(s) tipo(s) de problemas.  \n",
    "\n",
    "Para realizar dicha adaptación, sólo será necesario implementar nuevas funciones:  \n",
    "\n",
    "1. De ***sucesores*** \n",
    "2. De ***meta*** \n",
    "3. De ***heurístico***.\n",
    "\n",
    "\n",
    "```Python \n",
    "\n",
    "def AStar(inicial, sucesoresF, metaF, heuristicoF):\n",
    "    '''\n",
    "    Algoritmo A*. \n",
    "    Recibe\n",
    "    =======\n",
    "    inicial: Nodo inicial.\n",
    "    \n",
    "    sucesoresF: Función que toma un nodo y devuelve una lista de nodos sucesores (dependerá de cada problema).\n",
    "    \n",
    "    metaF: Función que toma un estado y devuelve \"True\" si es un estado meta (dependerá de cada problema).\n",
    "    \n",
    "    heuristicoF: Función que toma un estado, y devuelve un valor númerico con la estimación del coste restante para \n",
    "    llegar a una meta (dependerá de cada problema).\n",
    "    \n",
    "    Devuelve\n",
    "    ========\n",
    "    solución, i. e., [estado1, estado2,..., estadoN], o bien: [], si no hay.\n",
    "    '''\n",
    "    \n",
    "    '''\n",
    "    Creo Abiertos y Cerrados.\n",
    "    Abiertos --> Se inicializará con el nodo inicial.\n",
    "    Cerrados --> Estará vacía\n",
    "    \n",
    "    Mientras abiertos no esté vacía:\n",
    "        recupero de abiertos el nodo con menor f (nodoActual).\n",
    "        guardo nodoActual en cerrados.\n",
    "        compruebo si es meta:\n",
    "            si lo es devuelve el camino\n",
    "        obtengo los sucesores, la función genera sucesores recibe a la que calcula la h\n",
    "        para suc en sucesores:\n",
    "            si no está en abiertos ni en cerrados \n",
    "                lo meto en abiertos\n",
    "            está en abiertos pero suc tiene menor f\n",
    "                lo actualizo en abiertos\n",
    "            esta en cerrados pero suc tiene menor f\n",
    "                lo elimino de cerrados y lo meto en abiertos\n",
    "    Devuelvo [], no había solución\n",
    "    '''\n",
    "        \n",
    "```     \n",
    "\n"
   ]
  },
  {
   "cell_type": "markdown",
   "metadata": {},
   "source": [
    "_______\n",
    "\n",
    "#### Implementa *AStar*  \n",
    "\n",
    "---\n",
    "\n"
   ]
  },
  {
   "cell_type": "code",
   "execution_count": 1,
   "metadata": {},
   "outputs": [],
   "source": [
    "def AStar(inicial, sucesoresF, metaF, heuristicoF):\n",
    "        \n",
    "\n",
    "               \n",
    "    return []\n"
   ]
  },
  {
   "cell_type": "markdown",
   "metadata": {},
   "source": [
    "## Implementaciones de *Nodo* y *Abiertos*\n",
    "\n",
    "Versión completa y *utilizable* (por parte del alumnado) de lo pedido en *Busqueda_1*."
   ]
  },
  {
   "cell_type": "code",
   "execution_count": 2,
   "metadata": {},
   "outputs": [],
   "source": [
    "class Nodo:\n",
    "    \n",
    "    def __init__(self,estado,padre,g,f):\n",
    "        self.estado=estado\n",
    "        self.padre=padre\n",
    "        self.g = g\n",
    "        self.f = f\n",
    "    def getPadre(self):\n",
    "        return self.padre\n",
    "    def getEstado(self):\n",
    "        return self.estado\n",
    "    def getG(self):\n",
    "        return self.g\n",
    "    def getF(self):\n",
    "        return self.f\n",
    "    \n",
    "    def camino(self): \n",
    "        \"Crea una lista de nodos desde la raiz hasta este nodo.\"\n",
    "        \n",
    "        # Quiero un \"camino de nodos\" o un \"camino de estados\"?\n",
    "        # append(x.getEstado) o append(x)\n",
    "        \n",
    "        x = self\n",
    "        result =  []\n",
    "        while x:\n",
    "            result.append(x.getEstado())\n",
    "            x = x.getPadre()\n",
    "        return list(reversed(result))\n",
    "    \n",
    "    def __repr__(self):\n",
    "        return \"Nodo \"+str(self.estado)+\"(\"+str(self.f)+\")\"\n",
    "    \n",
    "    def __lt__(self, other):\n",
    "        return self.f<other.f\n",
    "        \n",
    "\n",
    "    def __eq__(self, other):\n",
    "        \n",
    "        return self.getEstado()==other.getEstado()\n",
    "    "
   ]
  },
  {
   "cell_type": "code",
   "execution_count": 3,
   "metadata": {},
   "outputs": [],
   "source": [
    "import queue as queue\n",
    "\n",
    "class Abiertos():\n",
    "    def __init__(self):\n",
    "        self.colaPrioridad = queue.PriorityQueue()\n",
    "    \n",
    "    def put(self,nodo):\n",
    "        self.colaPrioridad.put((nodo.getF(),nodo))\n",
    "    \n",
    "    def pop(self):\n",
    "        return self.colaPrioridad.get()\n",
    "    \n",
    "    def empty(self):\n",
    "        return self.colaPrioridad.empty();\n",
    "    \n",
    "    def getNodo(self,estado):\n",
    "        for elem in self.colaPrioridad.queue:\n",
    "            if elem[1].getEstado()==estado:\n",
    "                return elem[1]\n",
    "        return None           \n",
    "    \n",
    "    \n",
    "    def update(self,nodoViejo,nodoNuevo):\n",
    "        self.colaPrioridad.queue.remove((nodoViejo.getF(),nodoViejo))\n",
    "        self.colaPrioridad.put((nodoNuevo.getF(),nodoNuevo))\n",
    "        \n",
    "    def getNodes(self):\n",
    "        return list(map(lambda x:x[1],self.colaPrioridad.queue))\n",
    "    \n",
    "    def __str__(self):\n",
    "        return str(self.colaPrioridad.queue)   \n",
    "        \n",
    "        \n"
   ]
  },
  {
   "cell_type": "markdown",
   "metadata": {},
   "source": [
    "# El grafo de búsqueda\n",
    "\n",
    "Para probar el algoritmo A\\* en un problema sencillo, que tenga solución y *traza* conocidas, se va a crear un grafo usando la librería **networkx**. \n",
    "\n",
    "Hemos de considerar también que:\n",
    "\n",
    "1. El *grafo* se crea con **nx.Graph()**. Si se usa **nx.DiGraph()**, estoy considerando que es de tipo/naturaleza dirigido(a).\n",
    "\n",
    "2. Los *nodos* se crean con **add_node**.\n",
    "\n",
    "3. Los *arcos* se crean con **add_edge**."
   ]
  },
  {
   "cell_type": "code",
   "execution_count": 4,
   "metadata": {},
   "outputs": [
    {
     "name": "stdout",
     "output_type": "stream",
     "text": [
      "los hijos del nodo 1 son:\n",
      "[2, 3]\n"
     ]
    },
    {
     "name": "stderr",
     "output_type": "stream",
     "text": [
      "C:\\Users\\Olga\\Anaconda3\\lib\\site-packages\\networkx\\drawing\\nx_pylab.py:579: MatplotlibDeprecationWarning: \n",
      "The iterable function was deprecated in Matplotlib 3.1 and will be removed in 3.3. Use np.iterable instead.\n",
      "  if not cb.iterable(width):\n",
      "C:\\Users\\Olga\\Anaconda3\\lib\\site-packages\\networkx\\drawing\\nx_pylab.py:676: MatplotlibDeprecationWarning: \n",
      "The iterable function was deprecated in Matplotlib 3.1 and will be removed in 3.3. Use np.iterable instead.\n",
      "  if cb.iterable(node_size):  # many node sizes\n"
     ]
    }
   ],
   "source": [
    "# Ejemplo de grafo básico\n",
    "# =========================\n",
    "\n",
    "import networkx as nx\n",
    "import matplotlib.pyplot as plt\n",
    "\n",
    "# Creo el grafo\n",
    "Gprueba = nx.DiGraph()\n",
    "\n",
    "# Escribo el nombre del nodo, como argumento\n",
    "Gprueba.add_node(1)    \n",
    "Gprueba.add_node(2)    \n",
    "Gprueba.add_node(3)    \n",
    "\n",
    "# Escribo los nombres de los nodos que forman el arco, como argumento(s)\n",
    "Gprueba.add_edge(1,2)\n",
    "Gprueba.add_edge(1,3)\n",
    "Gprueba.add_edge(2,4)\n",
    "\n",
    "# Consulto los hijos del nodo 1. El grafo \"G\" funciona como un diccionario\n",
    "print(\"los hijos del nodo 1 son:\")\n",
    "print(list(Gprueba[1].keys()))\n",
    "\n",
    "\n",
    "nx.draw(Gprueba)"
   ]
  },
  {
   "cell_type": "markdown",
   "metadata": {},
   "source": [
    "---\n",
    "---\n",
    "##### Ejemplo de Grafo un poco más elaborado\n",
    "\n",
    "Sabiendo estos conceptos básicos de creación de grafos, pasamos ahora a crear un grafo similar a los que se han podido ver en teoría.  \n",
    "\n",
    "Tened en cuenta el siguiente dibujo:\n",
    "\n",
    "<img style=\"float:left\" width=\"60%\" src=\"pics/GrafoDirigidoTeoria.png\">\n"
   ]
  },
  {
   "cell_type": "code",
   "execution_count": 5,
   "metadata": {},
   "outputs": [
    {
     "name": "stdout",
     "output_type": "stream",
     "text": [
      "Grafo similar al de 'Teoría', para A*\n"
     ]
    },
    {
     "data": {
      "image/png": "[encoded data removed]",
      "text/plain": [
       "<Figure size 432x288 with 1 Axes>"
      ]
     },
     "metadata": {},
     "output_type": "display_data"
    }
   ],
   "source": [
    "# Creación del grafo\n",
    "# ==================\n",
    "\n",
    "# Se ha de considerar que el \"comienzo\" está en \"S\", y el \"final\", en \"G\".\n",
    "\n",
    "\n",
    "Grafo = nx.DiGraph()\n",
    "\n",
    "# Este diccionario almacena los hijos que tiene cada padre\n",
    "hijos = {'S': 'CDE','C': 'BD','B': 'A','D': 'AFE','A': 'G','F': 'G'}\n",
    "\n",
    "# Este diccionario almacena los costes de cada camino\n",
    "costes={('S', 'C'):10, ('S', 'D'): 20, ('S', 'E'): 20, ('C', 'B'): 18,\n",
    "        ('C', 'D'): 8, ('B', 'A'): 1, ('D', 'A'): 12, ('D', 'F'): 20,\n",
    "        ('D', 'E'): 10, ('A', 'G'): 30, ('F', 'G'): 35}\n",
    "\n",
    "# Este diccionario almacena los valores heurísticos de cada estado.\n",
    "heuristico = {'S': 40, 'C': 20, 'B': 8, 'D': 9, 'A': 5, 'F': 22, 'E': 40, 'G': 0}\n",
    "\n",
    "# Este diccionario almacena las posiciones de cada nodo. Sólo es a efectos estéticos.\n",
    "posiciones = {'S':(20,100),'C':(10,70),\n",
    "              'B':(10,50),'D':(20,50),\n",
    "              'A':(10,20),'F':(20,20),\n",
    "              'E':(30,20),'G':(15,10)}\n",
    "\n",
    "# Se crea el grafo, y se añaden: (1) nodos y (2) arcos\n",
    "node_labels={}\n",
    "for nodo in heuristico:\n",
    "    Grafo.add_node(nodo)\n",
    "    node_labels[nodo]=nodo+\" \"+str(heuristico[nodo])\n",
    "    if nodo in hijos:\n",
    "        for hijo in hijos[nodo]:\n",
    "            Grafo.add_edge(nodo,hijo) \n",
    "\n",
    "# Se dibuja el grafo\n",
    "nx.draw(Grafo,pos = posiciones)\n",
    "# Se dibujan las etiquetas de los nodos y los arcos\n",
    "node_label_pos = {k:[v[0]+1,v[1]+8] for k,v in posiciones.items()}\n",
    "node_label_handles = nx.draw_networkx_labels(Grafo,pos = node_label_pos,labels = node_labels)\n",
    "nx.draw_networkx_edge_labels(Grafo, pos = posiciones, edge_labels=costes)\n",
    "print(\"Grafo similar al de 'Teoría', para A*\")"
   ]
  },
  {
   "cell_type": "markdown",
   "metadata": {},
   "source": [
    "# Funciones de *sucesores*, *meta* y *heurística*, sobre el grafo\n",
    "\n",
    "A continuación se pueden ver cómo serían las funciones de: (1) *sucesores*, (2) *meta* y (3) *heurística*, para el problema de la búsqueda en el grafo.\n",
    "\n",
    "- Para crear un nodo inicial, se le pasa:\n",
    "    * El estado inicial (al constuctor de Nodo), \n",
    "    * Su nodo padre (que en el caso inicial sería *None*), \n",
    "    * El valor de **g** (**g** = 0) y \n",
    "    * El valor de **f** (**f** = **g**+**h**). En el caso inicial, como **g**=0, sólo haría falta **h**.  \n",
    "\n",
    "\n",
    "- ***sucesoresGrafo***: Se obtienen los sucesores. Como el grafo 'Grafo' es un diccionario, solamente tenemos que consultar las claves disponibles. Se actualiza el valor de **g** usando el coste necesario para llegar al hijo que se *saca* del diccionario de costes. Se calcula la **h** invocando a la función *heuristicaF*.  \n",
    "\n",
    "\n",
    "- ***metaGrafo***: Se hace la comparación de si el estado es o no es **G** (por ser el valor del estado *meta*). Mirad el grafo justo arriba (donde aparece **G**).  \n",
    "\n",
    "\n",
    "- ***heuristicaGrafo***: Se hace la consulta en el *diccionario de valores heurísticos*."
   ]
  },
  {
   "cell_type": "code",
   "execution_count": 6,
   "metadata": {
    "scrolled": true
   },
   "outputs": [
    {
     "name": "stdout",
     "output_type": "stream",
     "text": [
      "40\n",
      "False\n",
      "[Nodo C(30), Nodo D(29), Nodo E(60)]\n"
     ]
    }
   ],
   "source": [
    "nodoInicial = Nodo('S',None,0,heuristico['S'])\n",
    "\n",
    "def sucesoresGrafo(nodo,heuristicaF):\n",
    "    estado = nodo.getEstado()\n",
    "    g = nodo.getG()\n",
    "    hijos = []\n",
    "    \n",
    "    for hijo in Grafo[estado].keys():\n",
    "        nuevaG = g+costes[(estado,hijo)]\n",
    "        h=heuristicaF(hijo)\n",
    "        \n",
    "        hijos.append(Nodo(hijo,nodo,nuevaG,nuevaG+h))\n",
    "        \n",
    "    return hijos\n",
    "\n",
    "def metaGrafo(nodo):\n",
    "    estado = nodo.getEstado()\n",
    "    return estado=='G' \n",
    "\n",
    "def heuristicaGrafo(estado):\n",
    "    return heuristico[estado]                \n",
    "    \n",
    "print(heuristicaGrafo('S'))\n",
    "print(metaGrafo(nodoInicial))\n",
    "print(sucesoresGrafo(nodoInicial,heuristicaGrafo))\n",
    "    \n"
   ]
  },
  {
   "cell_type": "code",
   "execution_count": 7,
   "metadata": {},
   "outputs": [
    {
     "data": {
      "text/plain": [
       "[]"
      ]
     },
     "execution_count": 7,
     "metadata": {},
     "output_type": "execute_result"
    }
   ],
   "source": [
    "AStar(nodoInicial,sucesoresGrafo, metaGrafo, heuristicaGrafo)"
   ]
  },
  {
   "cell_type": "markdown",
   "metadata": {},
   "source": [
    "# Trazas más ricas\n",
    "\n",
    "A la hora de *mejorar* (por así decirlo) el algoritmo A\\*, es posible que las listas de *Abiertos* y *Cerrados* sean tan grandes que cuando (por ejemplo) las *visualizáramos* (con un *print*) nos costara entender algo.\n",
    "\n",
    "Se puede generar una tabla HTML con el resultado de una lista, usando **pandas**, una librería de *Python* para el tratamiento de tablas de datos que está incluida en **Anaconda**.\n",
    "\n",
    "\n"
   ]
  },
  {
   "cell_type": "code",
   "execution_count": 8,
   "metadata": {},
   "outputs": [
    {
     "data": {
      "text/html": [
       "<div>\n",
       "<style scoped>\n",
       "    .dataframe tbody tr th:only-of-type {\n",
       "        vertical-align: middle;\n",
       "    }\n",
       "\n",
       "    .dataframe tbody tr th {\n",
       "        vertical-align: top;\n",
       "    }\n",
       "\n",
       "    .dataframe thead th {\n",
       "        text-align: right;\n",
       "    }\n",
       "</style>\n",
       "<table border=\"1\" class=\"dataframe\">\n",
       "  <thead>\n",
       "    <tr style=\"text-align: right;\">\n",
       "      <th></th>\n",
       "      <th>Actual</th>\n",
       "      <th>Abiertos</th>\n",
       "      <th>Sucesores</th>\n",
       "      <th>Cerrados</th>\n",
       "    </tr>\n",
       "  </thead>\n",
       "  <tbody>\n",
       "    <tr>\n",
       "      <td>0</td>\n",
       "      <td>Nodo actual</td>\n",
       "      <td>[1, 2, 3, 4, 5, 6, 7, 8, 9, 10, 11, 12, 13, 14...</td>\n",
       "      <td>['suc1', 'suc2', 'suc3']</td>\n",
       "      <td>[1, 2, 3, 4, 5, 6, 7, 8, 9, 10, 11, 12, 13, 14...</td>\n",
       "    </tr>\n",
       "  </tbody>\n",
       "</table>\n",
       "</div>"
      ],
      "text/plain": [
       "        Actual                                           Abiertos  \\\n",
       "0  Nodo actual  [1, 2, 3, 4, 5, 6, 7, 8, 9, 10, 11, 12, 13, 14...   \n",
       "\n",
       "                  Sucesores                                           Cerrados  \n",
       "0  ['suc1', 'suc2', 'suc3']  [1, 2, 3, 4, 5, 6, 7, 8, 9, 10, 11, 12, 13, 14...  "
      ]
     },
     "execution_count": 8,
     "metadata": {},
     "output_type": "execute_result"
    }
   ],
   "source": [
    "from IPython.display import display\n",
    "import pandas as pd\n",
    "import numpy as np\n",
    "\n",
    "debugData =[]\n",
    "\n",
    "columns = [\"Actual\",\"Abiertos\", \"Sucesores\", \"Cerrados\"]\n",
    "debugData.append([\"Nodo actual\",\n",
    "                  str(list(range(1,20))),\n",
    "                  str([\"suc1\",\"suc2\",\"suc3\"]),\n",
    "                  str(list(range(1,20)))])\n",
    "\n",
    "pd.DataFrame(np.array(debugData), columns=columns)\n",
    "\n",
    "        "
   ]
  },
  {
   "cell_type": "markdown",
   "metadata": {},
   "source": [
    "# Ejemplo de *path finding*\n",
    "\n",
    "El mismo código de A\\* se puede usar para resolver un problema del tipo denominado *path finding* (movimiento de un punto *A*, a un punto *B*), en una matriz 2D."
   ]
  },
  {
   "cell_type": "markdown",
   "metadata": {},
   "source": [
    "### Explicación de la representación del mapa y los estados\n",
    "\n",
    "Hemos de considerar que:\n",
    "\n",
    "* El mapa va a ser una lista 2D con 0's en las casillas libres, y 1's en las correspondientes a obstaculos.\n",
    "\n",
    "* Un estado va a estar constituido por coordenadas: (y,x)."
   ]
  },
  {
   "cell_type": "code",
   "execution_count": 9,
   "metadata": {},
   "outputs": [],
   "source": [
    "tablero = [[1,1,1,1,1,1,1,1],\n",
    "           [1,0,0,0,0,0,0,1],\n",
    "           [1,0,1,1,0,0,0,1],\n",
    "           [1,0,1,0,0,1,1,1],\n",
    "           [1,1,1,0,1,0,0,1],\n",
    "           [1,0,1,0,0,0,0,1],\n",
    "           [1,1,1,1,1,1,1,1]]\n",
    "\n",
    "estadoInicialPF = (1,1) #y,x\n",
    "estadoFinalPF = (5,6)"
   ]
  },
  {
   "cell_type": "code",
   "execution_count": 10,
   "metadata": {},
   "outputs": [],
   "source": [
    "# posibles movimientos \n",
    "posiblesMovs = [[1,0],[-1,0],[0,1],[0,-1]]"
   ]
  },
  {
   "cell_type": "markdown",
   "metadata": {
    "collapsed": true
   },
   "source": [
    "```Python\n",
    "'''\n",
    "Ejercicio 1\n",
    "\n",
    "Creación de una función \"es_meta\".\n",
    "\n",
    "'''\n",
    "def es_meta(nodo):\n",
    "    global estadoFinalPF\n",
    "\n",
    "    # Modifica la función para que compare el estado con \"estadoFinal\"\n",
    "    return False\n",
    "    \n",
    "```"
   ]
  },
  {
   "cell_type": "markdown",
   "metadata": {},
   "source": [
    "```Python\n",
    "'''\n",
    "Ejercicio 2\n",
    "\n",
    "Creación de una función \"es_valido\".\n",
    "\n",
    "Primero comprueba que la coordenada está dentro de los \n",
    "límites del tablero y luego que en el tablero haya un 0\n",
    "en dichas coordenadas.\n",
    "'''\n",
    "def es_valida(estado):\n",
    "    global tablero\n",
    "    return False\n",
    "```"
   ]
  },
  {
   "cell_type": "markdown",
   "metadata": {},
   "source": [
    "```Python\n",
    "''' \n",
    "Ejercicio 3\n",
    "\n",
    "La distancia de \"Manhattan\" entre dos vectores: v1=[x1,y1] y v2=[x2,y2] sería: \n",
    "\n",
    "d(v1,v2) = |x1-x2| + |y1-y2|\n",
    "\n",
    "donde: | | representa la operación matemática del \"valor absoluto\".\n",
    "\n",
    "La cuestión ahora sería el calcular la distancia de \"Manhattan\" de un estado respecto a la meta.\n",
    "\n",
    "'''\n",
    "\n",
    "def heuristicaPF(estado):\n",
    "    global estadoFinalPF\n",
    "    \n",
    "    # completa aqui\n",
    "    \n",
    "    return 0\n",
    "```"
   ]
  },
  {
   "cell_type": "markdown",
   "metadata": {},
   "source": [
    "```Python\n",
    "''' \n",
    "Ejercicio 4\n",
    "\n",
    "Cómo sería una función que, dado un estado, devuelva todos los estados sucesores válidos.\n",
    "\n",
    "Pistas:\n",
    "1 - Con un \"for\", se recorren los posibles movimientos.\n",
    "    1.1 Se hace la suma del movimiento con el estado.\n",
    "    1.2 se comprueba si es válido, y si lo es, se introduce en \"hijos\".\n",
    "2 - Para introducir elementos en la lista de \"hijos\", se usa \"append\".\n",
    "3 - El coste del padre al hijo es 1. La heurística es la distancia de \"Manhattan\", que se pasa como argumento.\n",
    "'''\n",
    "\n",
    "def sucesores(nodo,heuristicaF):\n",
    "    hijos = []\n",
    "    \n",
    "    # Completad aquí\n",
    "    \n",
    "    return hijos\n",
    "```"
   ]
  },
  {
   "cell_type": "code",
   "execution_count": 11,
   "metadata": {},
   "outputs": [],
   "source": [
    "posiblesMovs = [[1,0],[-1,0],[0,1],[0,-1]]\n",
    "\n",
    "# ============================================\n",
    "# Implementa las funciones anteriores\n",
    "# ============================================\n",
    "\n"
   ]
  },
  {
   "cell_type": "code",
   "execution_count": 12,
   "metadata": {},
   "outputs": [
    {
     "ename": "NameError",
     "evalue": "name 'heuristicaPF' is not defined",
     "output_type": "error",
     "traceback": [
      "\u001b[1;31m---------------------------------------------------------------------------\u001b[0m",
      "\u001b[1;31mNameError\u001b[0m                                 Traceback (most recent call last)",
      "\u001b[1;32m<ipython-input-12-465ea6296d36>\u001b[0m in \u001b[0;36m<module>\u001b[1;34m\u001b[0m\n\u001b[0;32m     10\u001b[0m \u001b[1;33m\u001b[0m\u001b[0m\n\u001b[0;32m     11\u001b[0m \u001b[1;33m\u001b[0m\u001b[0m\n\u001b[1;32m---> 12\u001b[1;33m \u001b[0mnodoInicialPF\u001b[0m \u001b[1;33m=\u001b[0m \u001b[0mcreaNodoInicialPF\u001b[0m\u001b[1;33m(\u001b[0m\u001b[0mestadoInicialPF\u001b[0m\u001b[1;33m,\u001b[0m\u001b[0mestadoFinalPF\u001b[0m\u001b[1;33m,\u001b[0m \u001b[0mtablero\u001b[0m\u001b[1;33m,\u001b[0m \u001b[0mheuristicaPF\u001b[0m\u001b[1;33m)\u001b[0m\u001b[1;33m\u001b[0m\u001b[1;33m\u001b[0m\u001b[0m\n\u001b[0m\u001b[0;32m     13\u001b[0m \u001b[1;33m\u001b[0m\u001b[0m\n\u001b[0;32m     14\u001b[0m \u001b[0mAStar\u001b[0m\u001b[1;33m(\u001b[0m\u001b[0mnodoInicialPF\u001b[0m\u001b[1;33m,\u001b[0m\u001b[0msucesoresPF\u001b[0m\u001b[1;33m,\u001b[0m \u001b[0mes_metaPF\u001b[0m\u001b[1;33m,\u001b[0m \u001b[0mheuristicaPF\u001b[0m\u001b[1;33m)\u001b[0m\u001b[1;33m\u001b[0m\u001b[1;33m\u001b[0m\u001b[0m\n",
      "\u001b[1;31mNameError\u001b[0m: name 'heuristicaPF' is not defined"
     ]
    }
   ],
   "source": [
    "def creaNodoInicialPF(ei,ef, tab, hPF):\n",
    "    global estadoFinalPF\n",
    "    global tablero\n",
    "    \n",
    "    estadoFinalPF = ef \n",
    "    tablero = tab\n",
    "    \n",
    "    return Nodo(ei,None,0,hPF(ei))\n",
    "    \n",
    "    \n",
    "\n",
    "nodoInicialPF = creaNodoInicialPF(estadoInicialPF,estadoFinalPF, tablero, heuristicaPF)\n",
    "\n",
    "AStar(nodoInicialPF,sucesoresPF, es_metaPF, heuristicaPF)"
   ]
  }
 ],
 "metadata": {
  "anaconda-cloud": {},
  "kernelspec": {
   "display_name": "Python 3",
   "language": "python",
   "name": "python3"
  },
  "language_info": {
   "codemirror_mode": {
    "name": "ipython",
    "version": 3
   },
   "file_extension": ".py",
   "mimetype": "text/x-python",
   "name": "python",
   "nbconvert_exporter": "python",
   "pygments_lexer": "ipython3",
   "version": "3.7.4"
  }
 },
 "nbformat": 4,
 "nbformat_minor": 1
}
