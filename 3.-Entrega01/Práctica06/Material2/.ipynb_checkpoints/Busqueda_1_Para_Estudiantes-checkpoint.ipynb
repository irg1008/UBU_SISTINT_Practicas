{
 "cells": [
  {
   "cell_type": "markdown",
   "metadata": {},
   "source": [
    "# Búsqueda - Algoritmo *A\\**. \n",
    "\n",
    "### PASO 1: Estructuras de datos\n",
    "=====================================\n",
    "\n",
    "Antes de llevar a cabo la implementación del método de búsqueda A\\*, es necesario tener en cuenta qué estructuras de datos podemos utilizar para:\n",
    "1. Representar los nodos en un grafo de búsqueda.\n",
    "2. Definir las colecciones internas del algoritmo (*Abiertos* y *Cerrados*).\n",
    "\n",
    "La elección correcta de \"1.\" nos va a permitir que el algoritmo sea genérico, y pueda funcionar para muchos y diversos problemas de búsqueda. \n",
    "\n",
    "La elección correcta de \"2.\" nos va a simplificar la implementación del método, y va a hacer que sea más eficiente."
   ]
  },
  {
   "cell_type": "markdown",
   "metadata": {},
   "source": [
    "---\n",
    "### Recordatorio de lo visto en teoría  (I)\n",
    "\n",
    "<img style=\"float:left\" width=\"70%\" src=\"pics/Nodo-Para-AStar-23Oct2019.png\">\n",
    "\n",
    "---"
   ]
  },
  {
   "cell_type": "markdown",
   "metadata": {},
   "source": [
    "---\n",
    "### Recordatorio de lo visto en teoría  (II)\n",
    "\n",
    "<img style=\"float:left\" width=\"70%\" src=\"pics/Representacion-Heuristica-30-Oct-2020.png\">\n",
    "\n",
    "---"
   ]
  },
  {
   "cell_type": "markdown",
   "metadata": {},
   "source": [
    "---\n",
    "### Recordatorio de lo visto en teoría  (III)\n",
    "\n",
    "<img style=\"float:left\" width=\"70%\" src=\"pics/Algoritmo-A-30-Oct2020.png\">\n",
    "\n",
    "---"
   ]
  },
  {
   "cell_type": "markdown",
   "metadata": {},
   "source": [
    "---\n",
    "### Recordatorio de lo visto en teoría  (IV)\n",
    "\n",
    "<img style=\"float:left\" width=\"70%\" src=\"pics/Algoritmo-AStar-24Oct2019.png\">\n",
    "\n",
    "---"
   ]
  },
  {
   "cell_type": "markdown",
   "metadata": {},
   "source": [
    "## Representación de los *nodos* del *grafo* de búsqueda\n",
    "\n",
    "Para poder gestionar los *nodos*, vamos a definir una clase con el mismo nombre (*nodo*). \n",
    "\n",
    "Esta clase la vamos a considerar formada por 4 atributos:\n",
    "1. **Estado**: Va a ser el estado del *nodo* actual.\n",
    "2. **Padre**: El *nodo* desde el que se llega, al *nodo* actual. En el *nodo* inicial, el padre va a ser *None*.\n",
    "3. **g**: El coste desde el *nodo* inicial al *nodo* actual. Es igual al valor de **g** del padre + el coste asociado al paso desde el padre al actual.\n",
    "4. **f**: El coste total del camino que va desde el *nodo* inicial al final, pasando por el *nodo* actual. Hemos de considerar que: **f** = **g** + **h** (donde **h** representaría la *función heurística* (estado)).\n",
    "\n",
    "\n",
    "***IMPORTANTE***: Tened en cuenta que en este *Notebook*, el valor de la función **h** está puesto implícitamente, ya que se va a dar el valor de **g**, y el de **f**, por lo que, evidentemente, **h** será la diferencia entre **f** y **g**.\n",
    "\n",
    "Aparte de un constructor al que le pasamos estos 4 atributos y los métodos (que podríamos llamar) *getEstado*, *getPadre*, *getG* y *getF*, se va a necesitar una serie de métodos *extra* que nos van a ayudar con la implementación de A\\*:\n",
    "\n",
    "- camino: Obtiene el camino (todos los estados) desde el *nodo* actual hasta el inicio. En un bucle, va recuperando el *padre*, y mientras el *padre* no sea *None*, añade el estado a una lista, las cual, finalmente, se devolverá como camino.\n",
    "\n",
    "\n",
    "```Python\n",
    "nA=Nodo(\"A\",None,0,10)\n",
    "nB=Nodo(\"B\",nA,1,10)\n",
    "nC=Nodo(\"C\",nA,1,8)\n",
    "nD=Nodo(\"D\",nB,2,10)\n",
    "\n",
    "nD.camino()\n",
    "\n",
    "#Devuelve [\"A\",\"B\",\"D\"]\n",
    "```\n",
    "\n",
    "- \\_\\_repr\\_\\_: Es equivalente al \\_\\_str\\_\\_ pero funciona en contenedores de Nodos (listas, diccionarios) y como los *nodos* los vamos a tener dentro de *Abiertos* y *Cerrados*, es mejor implementar este método. Tendrá que devolver el estado y la **f**, para poder hacer una traza de lo que pasa en el interior del algoritmo A\\*. Opcionalmente, podría devolver más cosas, aunque dificultaría la comprensión.  \n",
    "\n",
    "\n",
    "- El método \\_\\_lt\\_\\_ y el método  \\_\\_eq\\_\\_ son necesarios para poder usar el tipo Nodo dentro de Colas de Prioridad (el primero) y  Diccionarios (el segundo). El primero devuelve *True* cuando el objeto es mejor que otro (que se pase por parámetro) y el segundo devuelve *True*, si el objeto (por parámetro) es igual. Se os va a proporcionar (*caja* siguiente).\n"
   ]
  },
  {
   "cell_type": "code",
   "execution_count": 1,
   "metadata": {},
   "outputs": [],
   "source": [
    "'''\n",
    "Ejercicio: Completa la estructura de la clase \"Nodo\"\n",
    "\n",
    "'''\n",
    "\n",
    "class Nodo:\n",
    "    \n",
    "\n",
    "\n",
    "    def __init__(self,estado,padre,g,f):\n",
    "        \n",
    "      # SE HA DE COMPLETAR  \n",
    "        \n",
    "    def getPadre(self):\n",
    "        \n",
    "       # SE HA DE COMPLETAR \n",
    "        \n",
    "    def getEstado(self):\n",
    "        \n",
    "        # SE HA DE COMPLETAR\n",
    "        \n",
    "        \n",
    "    def getG(self):\n",
    "        \n",
    "        # SE HA DE COMPLETAR\n",
    "                \n",
    "    def getF(self):\n",
    "        \n",
    "        \n",
    "        # SE HA DE COMPLETAR\n",
    "        \n",
    "    def camino(self):\n",
    "        \n",
    "        # SE HA DE COMPLETAR\n",
    "        \n",
    "    def __repr__(self):\n",
    "         \n",
    "\n",
    "# ==================================================================\n",
    "# Tal y como se ha comentado arriba, se os proporciona lo siguiente\n",
    "# ==================================================================\n",
    "\n",
    "    def __lt__(self, other):\n",
    "        return self.f<other.f\n",
    "        \n",
    "\n",
    "    def __eq__(self, other):        \n",
    "        return self.getEstado()==other.getEstado()\n",
    "    "
   ]
  },
  {
   "cell_type": "code",
   "execution_count": null,
   "metadata": {},
   "outputs": [],
   "source": [
    "# Haced la siguiente prueba, para saber si vuestro código funciona:\n",
    "\n",
    "nA=Nodo(\"A\",None,0,10)\n",
    "nB=Nodo(\"B\",nA,1,10)\n",
    "nC=Nodo(\"C\",nA,1,8)\n",
    "nD=Nodo(\"D\",nB,2,10)\n",
    "\n",
    "nD.camino()"
   ]
  },
  {
   "cell_type": "markdown",
   "metadata": {},
   "source": [
    "## Las colecciones internas del algoritmo A\\*\n",
    "\n",
    "### *Cerrados*: \n",
    "Hay que guardar en algún sitio los nodos visitados. Además, hay que poder consultar si al volver a evaluar un determinado nodo, un nodo con su mismo estado ya había sido visitado, pero con una **f** mayor.\n",
    "\n",
    "En un *set*, podemos guardar elementos y podemos consultar si un elemento está incluido o no.\n",
    "\n",
    "Podemos tener un diccionario en el que la *clave* sea el estado, y el valor asociado, sea el nodo completo. Podemos consultar si un estado ha sido visitado, y como podemos recuperar (el valor de) la **f** (al estar dentro del nodo), podemos saber si ese nodo pasa de *Cerrados* a *Abiertos*, o no.\n",
    "\n",
    "Para *Cerrados*, elegimos un diccionario. A modo de ejemplo, podría ser: \n",
    "\n",
    "```Python\n",
    "\n",
    "cerrados = {}\n",
    "cerrados[\"A\"]=nA\n",
    "cerrados[\"B\"]=nB\n",
    "cerrados[\"C\"]=nC\n",
    "cerrados[\"D\"]=nD\n",
    "\n",
    "# Aparece un nuevo nodo con D\n",
    "nuevaD=Nodo(\"D\",nC,3,9)\n",
    "\n",
    "viejaD = cerrados[\"D\"]\n",
    "\n",
    "if nuevaD.getF() < viejaD.getF():\n",
    "    # Elimino de Cerrados y pongo en abiertos\n",
    "```"
   ]
  },
  {
   "cell_type": "markdown",
   "metadata": {},
   "source": [
    "### *Abiertos*\n",
    "\n",
    "Queremos una estructura que esté ordenada por el valor de la **f** de los nodos, para, así, poder ir recuperando siempre el de menor **f**. En Python, tenemos **PriorityQueue** que es una estructura que ordena los elementos por el valor que digamos.\n",
    "\n",
    "La clase **PriorityQueue** tiene los siguientes métodos que nos interesan:\n",
    "- *put*: Inserta elementos.\n",
    "- *empty*: Comprueba si está vacía.\n",
    "- *get*: Recupera el primer elemento de la cola (y desaparece de la cola).\n",
    "\n"
   ]
  },
  {
   "cell_type": "code",
   "execution_count": 2,
   "metadata": {},
   "outputs": [
    {
     "name": "stdout",
     "output_type": "stream",
     "text": [
      "(1, 'Item 2')\n",
      "(1, 'Item 3')\n",
      "(2, 'Item 1')\n",
      "(2, 'Item 5')\n",
      "(5, 'Item 4')\n"
     ]
    }
   ],
   "source": [
    "import queue as queue\n",
    "\n",
    "prio_queue = queue.PriorityQueue()\n",
    "prio_queue.put((2, 'Item 1'))\n",
    "prio_queue.put((1, 'Item 2'))\n",
    "prio_queue.put((1, 'Item 3'))\n",
    "prio_queue.put((5, 'Item 4'))\n",
    "prio_queue.put((2, 'Item 5'))\n",
    "\n",
    "while not prio_queue.empty():\n",
    "    item = prio_queue.get() # el elemento se consume, desaparece\n",
    "    print(item)"
   ]
  },
  {
   "cell_type": "code",
   "execution_count": 3,
   "metadata": {},
   "outputs": [
    {
     "name": "stdout",
     "output_type": "stream",
     "text": [
      "[]\n"
     ]
    }
   ],
   "source": [
    "# Aquí, vamos a comprobar que hemos \"vaciado\" la \"cola\".\n",
    "item = prio_queue.queue\n",
    "print(item)"
   ]
  },
  {
   "cell_type": "markdown",
   "metadata": {},
   "source": [
    "Esta estructura sería correcta, pero hemos de extenderla. En un determinado punto del algoritmo A\\*, queremos saber si un  estado concreto ya había sido almacenado en *Abiertos*. Además, si ya había sido almacenado, pero tiene una **f** mayor que el nuevo, debemos actualizarlo.\n",
    "\n",
    "Vamos a crear una nueva estructura usando **PriorityQueue**, añadiendo lo que nos faltaría:\n",
    "- Un método para saber si tenemos un determinado Nodo en *Abiertos*.\n",
    "- Un método para actualizar un Nodo. Se necesitará en el momento encontremos Nodo, con otro padre y una **f** menor."
   ]
  },
  {
   "cell_type": "code",
   "execution_count": 4,
   "metadata": {},
   "outputs": [
    {
     "data": {
      "text/plain": [
       "[(1, 'Item 2'), (2, 'Item 1')]"
      ]
     },
     "execution_count": 4,
     "metadata": {},
     "output_type": "execute_result"
    }
   ],
   "source": [
    "prio_queue.put((2, 'Item 1'))\n",
    "prio_queue.put((1, 'Item 2'))\n",
    "\n",
    "'''\n",
    "el atributo queue es una lista que tiene tuplas con la prioridad \n",
    "y el valor almacenado en la cola.\n",
    "\n",
    "Se puede acceder a esa lista para implementar los métodos que nos hacen falta\n",
    "'''\n",
    "\n",
    "\n",
    "prio_queue.queue"
   ]
  },
  {
   "cell_type": "code",
   "execution_count": 5,
   "metadata": {},
   "outputs": [
    {
     "data": {
      "text/plain": [
       "'\\nabiertos = Abiertos()\\nabiertos.put(Nodo(\"A\",None,0,10))\\nabiertos.put(Nodo(\"B\",nA,1,10))\\nabiertos.put(Nodo(\"C\",nA,1,8))\\nabiertos.put(Nodo(\"D\",nB,2,10))\\n\\n\\nwhile not abiertos.empty():\\n    item = abiertos.pop() # el elemento se consume\\n    print(item)\\n    \\n\\nabiertos.put(Nodo(\"A\",None,0,10))\\nabiertos.put(Nodo(\"B\",nA,1,10))\\nabiertos.put(Nodo(\"C\",nA,1,8))\\nabiertos.put(Nodo(\"D\",nB,2,10))\\n\\nprint(\"actualizo D\")\\nnodoD = abiertos.getNodo(\"D\")\\nprint(nodoD)\\nabiertos.update(nodoD,Nodo(\"D\",nA,2,8))\\nprint(\"abiertos\")\\n\\nwhile not abiertos.empty():\\n    item = abiertos.pop() # el elemento se consume\\n    print(item)\\n    \\n'"
      ]
     },
     "execution_count": 5,
     "metadata": {},
     "output_type": "execute_result"
    }
   ],
   "source": [
    "# Completa lo que \"aparece\" a continuación.\n",
    "\n",
    "class Abiertos():\n",
    "    def __init__(self):\n",
    "        self.colaPrioridad = queue.PriorityQueue() # El constructor está formado por una tupla que, al principio, está vacía,\n",
    "        # pero que también es una \"tupla\".\n",
    "    \n",
    "    \n",
    "    \n",
    "    def put(self,nodo):\n",
    "        self.colaPrioridad.put((nodo.getF(),nodo)) # Cada vez que ponemos un nuevo nodo, lo metemos en forma de \"tupla\", tal\n",
    "        # y como podemos ver aparece aquí (y, por eso, se hace de esa manera en los ejemplos a \"descomentar\" más abajo).\n",
    "    \n",
    "    \n",
    "    \n",
    "# Se \"bautiza\" como \"pop\" porque es más facil de identificar así que el elemento se consume\n",
    "    def pop(self):\n",
    "        return self.colaPrioridad.get()\n",
    "    \n",
    "    \n",
    "    \n",
    "    def empty(self):\n",
    "        return self.colaPrioridad.empty();\n",
    "    \n",
    "# Hay que implementar \"getNodo\". La idea consiste en buscar el estado en \"colaPrioridad.queue\" y devolver todo el nodo (o\n",
    "# \"None\", si no estaba)\n",
    "\n",
    "\n",
    "\n",
    "    def getNodo(self,estado): # Te permite comprobar si un \"Nodo\" ya está en el conjunto de \"Abiertos\", o no.\n",
    "        \"Implementar\" \n",
    "        \n",
    "# Hay que implementar \"upodate\". Hay que hacer un \"colaPrioridad.queue.remove\", para quitar el viejo, y un \n",
    "# \"self.colaPrioridad.put\", para meter el nuevo.\n",
    "\n",
    "\n",
    "\n",
    "    def update(self,nodoViejo,nodoNuevo):\n",
    "        \"Implementar\"\n",
    "        \n",
    "        \n",
    "        \n",
    "    \n",
    "    def getNodes(self):\n",
    "        \"Implementar\" # El \"return\" del \"getNodes\" me debería devolver el conjunto de todos los nodos (sin distinción).\n",
    "    \n",
    "    \n",
    "    \n",
    "    \n",
    "    def __str__(self):\n",
    "        \"Implementar\" # Plantearos qué debería devolver.\n",
    "        \n",
    "# =========================================================================================================\n",
    "# Descomentad, para probar.\n",
    "# \n",
    "# IMPORTANTE: NO descomenteis todo a la vez. Entended qué se quiere hacer, y descomentad en consecuencia.\n",
    "# =========================================================================================================\n",
    "\n",
    "'''\n",
    "print(\"Arranco con una primera parte\")\n",
    "\n",
    "abiertos = Abiertos()\n",
    "abiertos.put(Nodo(\"A\",None,0,10))\n",
    "abiertos.put(Nodo(\"B\",nA,1,10))\n",
    "abiertos.put(Nodo(\"C\",nA,1,8))\n",
    "abiertos.put(Nodo(\"D\",nB,2,10))\n",
    "\n",
    "\n",
    "while not abiertos.empty():\n",
    "    item = abiertos.pop() # el elemento se consume\n",
    "    print(item)\n",
    "\n",
    "\n",
    "# Aquí, imprimo qué queda en \"Abiertos\"\n",
    "print(abiertos)\n",
    "\n",
    "print(\"Aquí empieza la segunda parte\")\n",
    "\n",
    "abiertos.put(Nodo(\"A\",None,0,10))\n",
    "abiertos.put(Nodo(\"B\",nA,1,10))\n",
    "abiertos.put(Nodo(\"C\",nA,1,8))\n",
    "abiertos.put(Nodo(\"D\",nB,2,10))\n",
    "\n",
    "print(\"actualizo D\")\n",
    "nodoD = abiertos.getNodo(\"D\")\n",
    "print(nodoD)\n",
    "abiertos.update(nodoD,Nodo(\"D\",nA,2,8))\n",
    "print(\"abiertos\")\n",
    "\n",
    "while not abiertos.empty():\n",
    "    item = abiertos.pop() # el elemento se consume\n",
    "    print(item)\n",
    "    \n",
    "'''\n"
   ]
  }
 ],
 "metadata": {
  "anaconda-cloud": {},
  "kernelspec": {
   "display_name": "Python 3",
   "language": "python",
   "name": "python3"
  },
  "language_info": {
   "codemirror_mode": {
    "name": "ipython",
    "version": 3
   },
   "file_extension": ".py",
   "mimetype": "text/x-python",
   "name": "python",
   "nbconvert_exporter": "python",
   "pygments_lexer": "ipython3",
   "version": "3.7.4"
  }
 },
 "nbformat": 4,
 "nbformat_minor": 1
}
