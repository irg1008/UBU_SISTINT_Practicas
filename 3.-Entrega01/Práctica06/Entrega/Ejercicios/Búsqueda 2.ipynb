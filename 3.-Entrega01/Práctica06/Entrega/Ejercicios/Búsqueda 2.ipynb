{
 "cells": [
  {
   "cell_type": "code",
   "execution_count": 93,
   "metadata": {},
   "outputs": [],
   "source": [
    "%matplotlib inline \n",
    "#para poder mostrar figuras integradas en el notebook\n",
    "# figuras como las de los grafos"
   ]
  },
  {
   "cell_type": "markdown",
   "metadata": {},
   "source": [
    "# Implementación de A*\n",
    "\n",
    "En este notebook se realizará la implementación del algoritmo A\\* que funcionará primeramente sobre un grafo y posteriormente sobre un mapa 2D (un tablero).\n",
    "La implementación de A\\* trabajará con nodos, así que será trivial adaptar el algoritmo para que realice búsquedas en otro tipo de problemas.\n",
    "Para realizar dicha adaptación solo será necesario implementar nuevas funciones de sucesores, meta y heurístico. \n",
    "De hecho, la práctica utilizará el código de este notebook, razón por la que existen ciertas celdas que comienzan por # Cargar Celda\n",
    "\n",
    "\n",
    "```Python \n",
    "\n",
    "def AStar(inicial, sucesoresF, metaF, heuristicoF):\n",
    "    '''\n",
    "    Algoritmo A*. \n",
    "    Recibe:\n",
    "    inicial: Nodo inicial\n",
    "    sucesoresF: Función que toma un nodo y devuelve una lista de nodos sucesores (dependerá de cada problema).\n",
    "    metaF: Función que toma un estado y devuelve True si es un estado meta (dependerá de cada problema)\n",
    "    heuristicoF: Función que toma un estado y devuelve un valor númerico con la estimación del coste restante para llegar a una meta (dependerá de cada problema)\n",
    "    \n",
    "    Return: solución [estado1, estado2,..., estadoN] o [] si no hay solución\n",
    "    '''\n",
    "    \n",
    "    '''\n",
    "    creo abiertos y cerrados.\n",
    "    abiertos se inicializa con el nodo inicial.\n",
    "    cerrados estará vacía\n",
    "    \n",
    "    mientras abiertos no esté vacía:\n",
    "        recupero de abiertos el nodo con menor f (nodoActual).\n",
    "        guardo nodoActual en cerrados.\n",
    "        compruebo si es meta:\n",
    "            si lo es devuelve el camino\n",
    "        obtengo los sucesores, la función genera sucesores recibe a la que calcula la h\n",
    "        para suc en sucesores:\n",
    "            si no está en abiertos ni en cerrados \n",
    "                lo meto en abiertos\n",
    "            está en abiertos pero suc tiene menor f\n",
    "                lo actualizo en abiertos\n",
    "            esta en cerrados pero suc tiene menor f\n",
    "                lo elimino de cerrados y lo meto en abiertos\n",
    "    devuelvo [], no había solución\n",
    "    '''\n",
    "        \n",
    "```       \n",
    "\n",
    "\n",
    "\n",
    "\n"
   ]
  },
  {
   "cell_type": "markdown",
   "metadata": {},
   "source": [
    "_______\n",
    "\n",
    "Implementa AStar"
   ]
  },
  {
   "cell_type": "code",
   "execution_count": 118,
   "metadata": {},
   "outputs": [],
   "source": [
    "# Cargar Celda\n",
    "\n",
    "def AStar(inicial, sucesoresF, metaF, heuristicoF):\n",
    "    '''\n",
    "    Algoritmo A*. \n",
    "    Recibe:\n",
    "    inicial: Nodo inicial\n",
    "    sucesoresF: Función que toma un nodo y devuelve una lista de nodos sucesores (dependerá de cada problema)\n",
    "    metaF: Función que toma un estado y devuelve True si es un estado meta (dependerá de cada problema)\n",
    "    heuristicoF: Función que toma un estado y devuelve un valor númerico con la estimación del coste restante \n",
    "                    para llegar a una meta (dependerá de cada problema)\n",
    "\n",
    "    Return: solución [estado1, estado2,..., estadoN] o [] si no hay solución\n",
    "    '''\n",
    "    \n",
    "    abiertos = Abiertos()\n",
    "    abiertos.put(inicial)\n",
    "    cerrados = {}\n",
    "    \n",
    "    while not abiertos.empty() :\n",
    "        f, actual = abiertos.pop()\n",
    "        print('F -> ', f, '\\nActual ->', actual)\n",
    "        cerrados[actual.getEstado()] = actual\n",
    "        \n",
    "        if metaF(actual) :\n",
    "            return actual.camino()\n",
    "        \n",
    "        sucesores = sucesoresF(actual, heuristicoF)\n",
    "        print('Sucesores -> ', sucesores)\n",
    "        print('-----------------------------------------------------------------------------')\n",
    "        \n",
    "        for suc in sucesores :   \n",
    "            ab_viejo = abiertos.getNodo(suc.getEstado())\n",
    "            cerr_viejo = cerrados.get(suc.getEstado())\n",
    "            \n",
    "            if ab_viejo is None and cerr_viejo is None :\n",
    "                abiertos.put(suc)\n",
    "            elif ab_viejo is not None and suc.getF() < ab_viejo.getF():\n",
    "                abiertos.update(ab_viejo, suc)\n",
    "            elif cerr_viejo is not None and suc.getF() < cerr_viejo.getF() :\n",
    "                del cerrados[suc.getEstado()]\n",
    "                abiertos.put(suc)\n",
    "    \n",
    "    return [] #No había solución\n"
   ]
  },
  {
   "cell_type": "markdown",
   "metadata": {},
   "source": [
    "## Implementaciones de Nodo y Abiertos\n",
    "\n",
    "Versión del profesor de lo pedido en el notebook anterior."
   ]
  },
  {
   "cell_type": "code",
   "execution_count": 119,
   "metadata": {},
   "outputs": [],
   "source": [
    "# Cargar Celda\n",
    "\n",
    "class Nodo:\n",
    "    \n",
    "    def __init__(self,estado,padre,g,f):\n",
    "        self.estado=estado\n",
    "        self.padre=padre\n",
    "        self.g = g\n",
    "        self.f = f\n",
    "    def getPadre(self):\n",
    "        return self.padre\n",
    "    def getEstado(self):\n",
    "        return self.estado\n",
    "    def getG(self):\n",
    "        return self.g\n",
    "    def getF(self):\n",
    "        return self.f\n",
    "    \n",
    "    def camino(self): \n",
    "        \"Create a list of nodes from the root to this node.\"\n",
    "        \n",
    "        # quiero camino de nodos o camino de estados?\n",
    "        # append(x.getEstado) o append(x)\n",
    "        x = self\n",
    "        result =  []\n",
    "        while x:\n",
    "            result.append(x.getEstado())\n",
    "            x = x.getPadre()\n",
    "        return list(reversed(result))\n",
    "    \n",
    "    def __repr__(self):\n",
    "        return \"Nodo \"+str(self.estado)+\"(\"+str(self.f)+\")\"\n",
    "    \n",
    "    def __lt__(self, other):\n",
    "        return self.f<other.f\n",
    "        \n",
    "\n",
    "    def __eq__(self, other):\n",
    "        \n",
    "        return self.getEstado()==other.getEstado()\n",
    "    "
   ]
  },
  {
   "cell_type": "code",
   "execution_count": 120,
   "metadata": {},
   "outputs": [],
   "source": [
    "# Cargar Celda\n",
    "\n",
    "import queue as queue\n",
    "\n",
    "class Abiertos():\n",
    "    def __init__(self):\n",
    "        self.colaPrioridad = queue.PriorityQueue()\n",
    "    \n",
    "    def put(self,nodo):\n",
    "        self.colaPrioridad.put((nodo.getF(),nodo))\n",
    "    \n",
    "    def pop(self):\n",
    "        return self.colaPrioridad.get()\n",
    "    \n",
    "    def empty(self):\n",
    "        return self.colaPrioridad.empty();\n",
    "    \n",
    "    def getNodo(self,estado):\n",
    "        for elem in self.colaPrioridad.queue:\n",
    "            if elem[1].getEstado() == estado:\n",
    "                return elem[1]\n",
    "        return None           \n",
    "    \n",
    "    \n",
    "    def update(self,nodoViejo,nodoNuevo):\n",
    "        self.colaPrioridad.queue.remove((nodoViejo.getF(),nodoViejo))\n",
    "        self.colaPrioridad.put((nodoNuevo.getF(),nodoNuevo))\n",
    "        \n",
    "    def getNodes(self):\n",
    "        return list(map(lambda x:x[1],self.colaPrioridad.queue))\n",
    "    \n",
    "    def __str__(self):\n",
    "        return str(self.colaPrioridad.queue)\n",
    "        \n",
    "        \n",
    "        \n"
   ]
  },
  {
   "cell_type": "markdown",
   "metadata": {},
   "source": [
    "# El grafo de búsqueda\n",
    "\n",
    "Para probar el algoritmo de A\\* en un problema sencillo y con solución y traza conocida se va a crear un grafo como el de los apuntes de teoría usando la librería **networkx**. \n",
    "\n",
    "Básicamente el grafo se crea con nx.Graph(), con nx.DiGraph() le estoy diciendo que es dirigido.\n",
    "\n",
    "Se crean nodos con **add_node** y se crean arcos con **add_edge**"
   ]
  },
  {
   "cell_type": "code",
   "execution_count": 121,
   "metadata": {},
   "outputs": [
    {
     "name": "stdout",
     "output_type": "stream",
     "text": [
      "los hijos del nodo 1 son:\n",
      "[2, 3]\n"
     ]
    },
    {
     "data": {
      "image/png": "[encoded data removed]",
      "text/plain": [
       "<Figure size 432x288 with 1 Axes>"
      ]
     },
     "metadata": {},
     "output_type": "display_data"
    }
   ],
   "source": [
    "# ejemplo de grafo básico\n",
    "\n",
    "import networkx as nx\n",
    "import matplotlib.pyplot as plt\n",
    "\n",
    "# Creo el grafo\n",
    "Gprueba = nx.DiGraph()\n",
    "\n",
    "# como argumento el nombre del nodo\n",
    "Gprueba.add_node(1)    \n",
    "Gprueba.add_node(2)    \n",
    "Gprueba.add_node(3)    \n",
    "\n",
    "# como argumento los nombres de los nodos que forman el arco\n",
    "Gprueba.add_edge(1,2)\n",
    "Gprueba.add_edge(1,3)\n",
    "Gprueba.add_edge(2,4)\n",
    "\n",
    "# consultar los hijos del nodo 1. \n",
    "# el grafo G funciona como un diccionario\n",
    "print(\"los hijos del nodo 1 son:\")\n",
    "print(list(Gprueba[1].keys()))\n",
    "\n",
    "\n",
    "nx.draw(Gprueba)"
   ]
  },
  {
   "cell_type": "markdown",
   "metadata": {},
   "source": [
    "Sabiendo estos conceptos básicos de creación de grafos, se va a pasar a crear un grafo como el de los apuntes de teoría."
   ]
  },
  {
   "cell_type": "code",
   "execution_count": 122,
   "metadata": {},
   "outputs": [
    {
     "name": "stdout",
     "output_type": "stream",
     "text": [
      "Grafo de las diapositivas de A*\n"
     ]
    },
    {
     "data": {
      "image/png": "[encoded data removed]",
      "text/plain": [
       "<Figure size 432x288 with 1 Axes>"
      ]
     },
     "metadata": {},
     "output_type": "display_data"
    }
   ],
   "source": [
    "# Creo el grafo\n",
    "Grafo = nx.DiGraph()\n",
    "\n",
    "# este diccionario almacena los hijos que tiene cada padre\n",
    "hijos = {'S': 'CDE','C': 'BD','B': 'A','D': 'AFE','A': 'G','F': 'G'}\n",
    "\n",
    "# este diccionario almacena los costes de cada camino\n",
    "costes={('S', 'C'):10, ('S', 'D'): 20, ('S', 'E'): 20, ('C', 'B'): 18,\n",
    "        ('C', 'D'): 8, ('B', 'A'): 1, ('D', 'A'): 12, ('D', 'F'): 20,\n",
    "        ('D', 'E'): 10, ('A', 'G'): 30, ('F', 'G'): 35}\n",
    "\n",
    "# este diccionario almacena los valores heurísticos de cada estado.\n",
    "heuristico = {'S': 40, 'C': 20, 'B': 8, 'D': 9, 'A': 5, 'F': 22, 'E': 40, 'G': 0}\n",
    "\n",
    "# este diccionario almacena las posiciones de cada nodo, solo es estética\n",
    "posiciones = {'S':(20,100),'C':(10,70),\n",
    "              'B':(10,50),'D':(20,50),\n",
    "              'A':(10,20),'F':(20,20),\n",
    "              'E':(30,20),'G':(15,10)}\n",
    "\n",
    "# crea el grafo, añade nodos y arcos\n",
    "node_labels={}\n",
    "for nodo in heuristico:\n",
    "    Grafo.add_node(nodo)\n",
    "    node_labels[nodo]=nodo+\" \"+str(heuristico[nodo])\n",
    "    if nodo in hijos:\n",
    "        for hijo in hijos[nodo]:\n",
    "            Grafo.add_edge(nodo,hijo) \n",
    "\n",
    "#dibuja el grafo\n",
    "nx.draw(Grafo,pos = posiciones)\n",
    "#dibuja las etiquetas de los nodos y los arcos\n",
    "node_label_pos = {k:[v[0]+1,v[1]+8] for k,v in posiciones.items()}\n",
    "node_label_handles = nx.draw_networkx_labels(Grafo,pos = node_label_pos,labels = node_labels)\n",
    "nx.draw_networkx_edge_labels(Grafo, pos = posiciones, edge_labels=costes)\n",
    "print(\"Grafo de las diapositivas de A*\")"
   ]
  },
  {
   "cell_type": "markdown",
   "metadata": {},
   "source": [
    "# Funciones de sucesores, meta y heurística sobre el grafo\n",
    "\n",
    "A continuación se pueden ver como serían las funciones de sucesores, meta y heurística para el problema de la búsqueda en el grafo.\n",
    "\n",
    "- Para crear un nodo inicial se le pasa al constuctor de Nodo el estado inicial, su nodo padre que en el caso inicial sería None, el valor de G que es 0 y el valor de F que sería G+H, en el caso inicial como G es 0, solo haría falta H.\n",
    "\n",
    "- sucesoresGrafo. Se obtienen los sucesores, como el grafo 'Grafo' es un diccionario solamente tenemos que consultar las claves disponibles. Se actualiza la G usando el coste necesario para llegar al hijo que se saca del diccionario de costes. Se calcula la H invocando a la función heuristicaF.\n",
    "\n",
    "- metaGrafo. Solamente compara que el estado sea o no sea 'G' que es el valor del estado meta.\n",
    "- heuristicaGrafo. Consulta en el diccionario de valores heurísticos."
   ]
  },
  {
   "cell_type": "code",
   "execution_count": 123,
   "metadata": {
    "scrolled": true
   },
   "outputs": [
    {
     "name": "stdout",
     "output_type": "stream",
     "text": [
      "40\n",
      "False\n",
      "[Nodo C(30), Nodo D(29), Nodo E(60)]\n"
     ]
    }
   ],
   "source": [
    "# Nodo (estado, padre, g, f)\n",
    "nodoInicial = Nodo('S',None,0,heuristico['S'])\n",
    "\n",
    "def sucesoresGrafo(nodo,heuristicaF):\n",
    "    estado = nodo.getEstado()\n",
    "    g = nodo.getG()\n",
    "    hijos = []\n",
    "    \n",
    "    for hijo in Grafo[estado].keys():\n",
    "        nuevaG = g+costes[(estado,hijo)]\n",
    "        h=heuristicaF(hijo)\n",
    "        \n",
    "        hijos.append(Nodo(hijo,nodo,nuevaG,nuevaG + h))\n",
    "        \n",
    "    return hijos\n",
    "\n",
    "def metaGrafo(nodo):\n",
    "    estado = nodo.getEstado()\n",
    "    return estado == 'G' \n",
    "\n",
    "def heuristicaGrafo(estado):\n",
    "    return heuristico[estado]                \n",
    "    \n",
    "print(heuristicaGrafo('S'))\n",
    "print(metaGrafo(nodoInicial))\n",
    "print(sucesoresGrafo(nodoInicial,heuristicaGrafo))\n",
    "    \n"
   ]
  },
  {
   "cell_type": "code",
   "execution_count": 124,
   "metadata": {},
   "outputs": [
    {
     "name": "stdout",
     "output_type": "stream",
     "text": [
      "F ->  40 \n",
      "Actual -> Nodo S(40)\n",
      "Sucesores ->  [Nodo C(30), Nodo D(29), Nodo E(60)]\n",
      "-----------------------------------------------------------------------------\n",
      "F ->  29 \n",
      "Actual -> Nodo D(29)\n",
      "Sucesores ->  [Nodo A(37), Nodo F(62), Nodo E(70)]\n",
      "-----------------------------------------------------------------------------\n",
      "F ->  30 \n",
      "Actual -> Nodo C(30)\n",
      "Sucesores ->  [Nodo B(36), Nodo D(27)]\n",
      "-----------------------------------------------------------------------------\n",
      "F ->  27 \n",
      "Actual -> Nodo D(27)\n",
      "Sucesores ->  [Nodo A(35), Nodo F(60), Nodo E(68)]\n",
      "-----------------------------------------------------------------------------\n",
      "F ->  35 \n",
      "Actual -> Nodo A(35)\n",
      "Sucesores ->  [Nodo G(60)]\n",
      "-----------------------------------------------------------------------------\n",
      "F ->  36 \n",
      "Actual -> Nodo B(36)\n",
      "Sucesores ->  [Nodo A(34)]\n",
      "-----------------------------------------------------------------------------\n",
      "F ->  34 \n",
      "Actual -> Nodo A(34)\n",
      "Sucesores ->  [Nodo G(59)]\n",
      "-----------------------------------------------------------------------------\n",
      "F ->  59 \n",
      "Actual -> Nodo G(59)\n"
     ]
    },
    {
     "data": {
      "text/plain": [
       "['S', 'C', 'B', 'A', 'G']"
      ]
     },
     "execution_count": 124,
     "metadata": {},
     "output_type": "execute_result"
    }
   ],
   "source": [
    "AStar(nodoInicial, sucesoresGrafo, metaGrafo, heuristicaGrafo)"
   ]
  },
  {
   "cell_type": "markdown",
   "metadata": {},
   "source": [
    "# Trazas más ricas\n",
    "\n",
    "A la hora de depurar el algoritmo A\\* es posible que las listas de abiertos y cerrados sean tan grandes que con un print no entendamos nada.\n",
    "\n",
    "Se puede generar una tabla HTML con el resultado de una lista usando **pandas**, una librería de python para el tratamiento de tablas de datos que está incluida en Anaconda.\n",
    "\n",
    "\n"
   ]
  },
  {
   "cell_type": "code",
   "execution_count": 125,
   "metadata": {},
   "outputs": [
    {
     "data": {
      "text/html": [
       "<div>\n",
       "<style scoped>\n",
       "    .dataframe tbody tr th:only-of-type {\n",
       "        vertical-align: middle;\n",
       "    }\n",
       "\n",
       "    .dataframe tbody tr th {\n",
       "        vertical-align: top;\n",
       "    }\n",
       "\n",
       "    .dataframe thead th {\n",
       "        text-align: right;\n",
       "    }\n",
       "</style>\n",
       "<table border=\"1\" class=\"dataframe\">\n",
       "  <thead>\n",
       "    <tr style=\"text-align: right;\">\n",
       "      <th></th>\n",
       "      <th>Actual</th>\n",
       "      <th>Abiertos</th>\n",
       "      <th>Sucesores</th>\n",
       "      <th>Cerrados</th>\n",
       "    </tr>\n",
       "  </thead>\n",
       "  <tbody>\n",
       "    <tr>\n",
       "      <th>0</th>\n",
       "      <td>Nodo actual</td>\n",
       "      <td>[1, 2, 3, 4, 5, 6, 7, 8, 9, 10, 11, 12, 13, 14...</td>\n",
       "      <td>['suc1', 'suc2', 'suc3']</td>\n",
       "      <td>[1, 2, 3, 4, 5, 6, 7, 8, 9, 10, 11, 12, 13, 14...</td>\n",
       "    </tr>\n",
       "  </tbody>\n",
       "</table>\n",
       "</div>"
      ],
      "text/plain": [
       "        Actual                                           Abiertos  \\\n",
       "0  Nodo actual  [1, 2, 3, 4, 5, 6, 7, 8, 9, 10, 11, 12, 13, 14...   \n",
       "\n",
       "                  Sucesores                                           Cerrados  \n",
       "0  ['suc1', 'suc2', 'suc3']  [1, 2, 3, 4, 5, 6, 7, 8, 9, 10, 11, 12, 13, 14...  "
      ]
     },
     "execution_count": 125,
     "metadata": {},
     "output_type": "execute_result"
    }
   ],
   "source": [
    "from IPython.display import display\n",
    "import pandas as pd\n",
    "import numpy as np\n",
    "\n",
    "debugData =[]\n",
    "\n",
    "columns = [\"Actual\",\"Abiertos\", \"Sucesores\", \"Cerrados\"]\n",
    "debugData.append([\"Nodo actual\",\n",
    "                  str(list(range(1,20))),\n",
    "                  str([\"suc1\",\"suc2\",\"suc3\"]),\n",
    "                  str(list(range(1,20)))])\n",
    "\n",
    "pd.DataFrame(np.array(debugData), columns=columns)\n",
    "\n",
    "        "
   ]
  },
  {
   "cell_type": "markdown",
   "metadata": {},
   "source": [
    "# Ejemplo de path finding\n",
    "\n",
    "En mismo código de A\\* lo vamos a usar para resolver un problema de *path finding* (movernos del punto A al punto B en una matriz 2D)"
   ]
  },
  {
   "cell_type": "markdown",
   "metadata": {},
   "source": [
    "### Explicación de la representación del mapa y los estados\n",
    "\n",
    "\n",
    "El mapa va a ser una lista en 2D con 0s en las casillas libres y 1s en los obstaculos\n",
    "\n",
    "Un estado van a ser coordenadas (y,x)\n",
    "Una tupla (y,x)."
   ]
  },
  {
   "cell_type": "code",
   "execution_count": 126,
   "metadata": {},
   "outputs": [],
   "source": [
    "tablero = [[1,1,1,1,1,1,1,1],\n",
    "           [1,0,0,0,0,0,0,1],\n",
    "           [1,0,1,1,0,0,0,1],\n",
    "           [1,0,1,0,0,1,1,1],\n",
    "           [1,1,1,0,1,0,0,1],\n",
    "           [1,0,1,0,0,0,0,1],\n",
    "           [1,1,1,1,1,1,1,1]]\n",
    "\n",
    "estadoInicialPF = (1,1) #y,x\n",
    "estadoFinalPF = (5,6)"
   ]
  },
  {
   "cell_type": "code",
   "execution_count": 127,
   "metadata": {},
   "outputs": [],
   "source": [
    "# posibles movimientos \n",
    "posiblesMovs = [[1,0],[-1,0],[0,1],[0,-1]]"
   ]
  },
  {
   "cell_type": "markdown",
   "metadata": {
    "collapsed": true
   },
   "source": [
    "```Python\n",
    "'''\n",
    "Ejercicio 1\n",
    "\n",
    "Hacer una función es_meta\n",
    "\n",
    "'''\n",
    "def es_meta(nodo):\n",
    "    global estadoFinalPF\n",
    "\n",
    "    # modifica para que compare el estado con estadoFinal\n",
    "    return False\n",
    "    \n",
    "```"
   ]
  },
  {
   "cell_type": "markdown",
   "metadata": {},
   "source": [
    "```Python\n",
    "'''\n",
    "Ejercicio 2\n",
    "\n",
    "Hacer una función es_valido\n",
    "Primero comprueba que la coordenada está dentro de los \n",
    "límites del tablero y luego que en el tablero haya un 0\n",
    "en dichas coordenadas\n",
    "'''\n",
    "def es_valida(estado):\n",
    "    global tablero\n",
    "    return False\n",
    "```"
   ]
  },
  {
   "cell_type": "markdown",
   "metadata": {},
   "source": [
    "```Python\n",
    "''' ejercicio 3\n",
    "\n",
    "como sería una función que calcula la distancia de manhatan de un estado respecto la meta\n",
    "'''\n",
    "\n",
    "def heuristicaPF(estado):\n",
    "    global estadoFinalPF\n",
    "    \n",
    "    # completa aqui\n",
    "    \n",
    "    return 0\n",
    "```"
   ]
  },
  {
   "cell_type": "markdown",
   "metadata": {},
   "source": [
    "```Python\n",
    "''' ejercicio 4\n",
    "\n",
    "como sería una función que dado un estado devuelva \n",
    "todos los estados sucesores validos.\n",
    "\n",
    "\n",
    "Pistas:\n",
    "1-Con un for se recorren los posibles movimientos\n",
    "    1.1 Se hace la suma del movimiento con el estado\n",
    "    1.2 se comprueba si es válido y si lo es se introduce en hijos\n",
    "2-para introducir elemenos en la lista de hijos se usa append\n",
    "3- El coste del padre al hijo es 1, la heurística es la distancia de manhatan, que se pasa como argumento\n",
    "'''\n",
    "\n",
    "def sucesores(nodo,heuristicaF):\n",
    "    hijos = []\n",
    "    \n",
    "    # completa aqui\n",
    "    \n",
    "    return hijos\n",
    "```"
   ]
  },
  {
   "cell_type": "code",
   "execution_count": 128,
   "metadata": {},
   "outputs": [],
   "source": [
    "# Cargar Celda\n",
    "\n",
    "posiblesMovs = [[1,0],[-1,0],[0,1],[0,-1]]\n",
    "\n",
    "def es_metaPF(nodo):\n",
    "    '''\n",
    "    Función es_meta.\n",
    "    \n",
    "    Descripcion: Hacer una función es_meta\n",
    "    \n",
    "    Recibe:\n",
    "        nodo: Nodo\n",
    "        \n",
    "    Return: True si es meta / False si no\n",
    "    '''\n",
    "    global estadoFinalPF\n",
    "\n",
    "    estado = nodo.getEstado()\n",
    "    return estado == estadoFinalPF\n",
    "\n",
    "\n",
    "def es_valida(estado):\n",
    "    '''\n",
    "    Funcion es_valida.\n",
    "    \n",
    "    Descripcion: Hacer una función es_valido\n",
    "    Primero comprueba que la coordenada está dentro de los \n",
    "    límites del tablero y luego que en el tablero haya un 0\n",
    "    en dichas coordenadas\n",
    "    \n",
    "    Recibe:\n",
    "        estado: Coordenada\n",
    "        \n",
    "    Return: True si la coordenada está dentro del tablero y es 0 / False si no\n",
    "    '''\n",
    "    global tablero\n",
    "    \n",
    "    if estado[0] < len(tablero) and estado[0] >= 0 and estado[1] < len(tablero[0]) and estado[1] >= 0 :\n",
    "        if tablero[estado[0]][estado[1]] == 0:\n",
    "            return True\n",
    "    return False\n",
    "\n",
    "\n",
    "def heuristicaPF(estado):\n",
    "    '''\n",
    "    Funcion heuristicaPF.\n",
    "    \n",
    "    Descripcion: Función que calcula la distancia de manhattan de un estado respecto la meta\n",
    "    \n",
    "    Recibe:\n",
    "        estado: Coordenada\n",
    "    \n",
    "    Return: Distancia manhattan entre el estado y la meta\n",
    "    '''\n",
    "    global estadoFinalPF\n",
    "\n",
    "    return abs(estado[0] - estadoFinalPF[0]) + abs(estado[1] - estadoFinalPF[1])\n",
    "\n",
    "\n",
    "def sucesoresPF(nodo,heuristicaF):\n",
    "    ''' \n",
    "    Funcion sucesores.\n",
    "    \n",
    "    Descripción: Función que dado un estado devuelva \n",
    "    todos los estados sucesores validos.\n",
    "    Pistas:\n",
    "    1-Con un for se recorren los posibles movimientos\n",
    "        1.1 Se hace la suma del movimiento con el estado\n",
    "        1.2 Se comprueba si es válido y si lo es se introduce en hijos\n",
    "    2-Para introducir elemenos en la lista de hijos se usa append\n",
    "    3-El coste del padre al hijo es 1, la heurística es la distancia de manhatan, que se pasa como argumento\n",
    "    \n",
    "    Recibe:\n",
    "        nodo: Nodo\n",
    "        heuristicaF: Heuristica\n",
    "    \n",
    "    Return: Lista de estados sucesores validos\n",
    "    '''\n",
    "    hijos = []\n",
    "    global posiblesMovs\n",
    "    estado = nodo.getEstado()\n",
    "    \n",
    "    for mov in posiblesMovs :\n",
    "        actual = (estado[0] + mov[0], estado[1] + mov[1])\n",
    "        if es_valida(actual) :\n",
    "            g_nueva = nodo.getG() + 1\n",
    "            f_nueva = g_nueva + heuristicaF(actual)\n",
    "            \n",
    "            hijos.append(Nodo(actual, nodo, g_nueva, f_nueva)  )\n",
    "\n",
    "    return hijos\n"
   ]
  },
  {
   "cell_type": "code",
   "execution_count": 129,
   "metadata": {
    "scrolled": false
   },
   "outputs": [
    {
     "name": "stdout",
     "output_type": "stream",
     "text": [
      "F ->  9 \n",
      "Actual -> Nodo (1, 1)(9)\n",
      "Sucesores ->  [Nodo (2, 1)(9), Nodo (1, 2)(9)]\n",
      "-----------------------------------------------------------------------------\n",
      "F ->  9 \n",
      "Actual -> Nodo (2, 1)(9)\n",
      "Sucesores ->  [Nodo (3, 1)(9), Nodo (1, 1)(11)]\n",
      "-----------------------------------------------------------------------------\n",
      "F ->  9 \n",
      "Actual -> Nodo (1, 2)(9)\n",
      "Sucesores ->  [Nodo (1, 3)(9), Nodo (1, 1)(11)]\n",
      "-----------------------------------------------------------------------------\n",
      "F ->  9 \n",
      "Actual -> Nodo (3, 1)(9)\n",
      "Sucesores ->  [Nodo (2, 1)(11)]\n",
      "-----------------------------------------------------------------------------\n",
      "F ->  9 \n",
      "Actual -> Nodo (1, 3)(9)\n",
      "Sucesores ->  [Nodo (1, 4)(9), Nodo (1, 2)(11)]\n",
      "-----------------------------------------------------------------------------\n",
      "F ->  9 \n",
      "Actual -> Nodo (1, 4)(9)\n",
      "Sucesores ->  [Nodo (2, 4)(9), Nodo (1, 5)(9), Nodo (1, 3)(11)]\n",
      "-----------------------------------------------------------------------------\n",
      "F ->  9 \n",
      "Actual -> Nodo (2, 4)(9)\n",
      "Sucesores ->  [Nodo (3, 4)(9), Nodo (1, 4)(11), Nodo (2, 5)(9)]\n",
      "-----------------------------------------------------------------------------\n",
      "F ->  9 \n",
      "Actual -> Nodo (1, 5)(9)\n",
      "Sucesores ->  [Nodo (2, 5)(9), Nodo (1, 6)(9), Nodo (1, 4)(11)]\n",
      "-----------------------------------------------------------------------------\n",
      "F ->  9 \n",
      "Actual -> Nodo (3, 4)(9)\n",
      "Sucesores ->  [Nodo (2, 4)(11), Nodo (3, 3)(11)]\n",
      "-----------------------------------------------------------------------------\n",
      "F ->  9 \n",
      "Actual -> Nodo (2, 5)(9)\n",
      "Sucesores ->  [Nodo (1, 5)(11), Nodo (2, 6)(9), Nodo (2, 4)(11)]\n",
      "-----------------------------------------------------------------------------\n",
      "F ->  9 \n",
      "Actual -> Nodo (1, 6)(9)\n",
      "Sucesores ->  [Nodo (2, 6)(9), Nodo (1, 5)(11)]\n",
      "-----------------------------------------------------------------------------\n",
      "F ->  9 \n",
      "Actual -> Nodo (2, 6)(9)\n",
      "Sucesores ->  [Nodo (1, 6)(11), Nodo (2, 5)(11)]\n",
      "-----------------------------------------------------------------------------\n",
      "F ->  11 \n",
      "Actual -> Nodo (3, 3)(11)\n",
      "Sucesores ->  [Nodo (4, 3)(11), Nodo (3, 4)(11)]\n",
      "-----------------------------------------------------------------------------\n",
      "F ->  11 \n",
      "Actual -> Nodo (4, 3)(11)\n",
      "Sucesores ->  [Nodo (5, 3)(11), Nodo (3, 3)(13)]\n",
      "-----------------------------------------------------------------------------\n",
      "F ->  11 \n",
      "Actual -> Nodo (5, 3)(11)\n",
      "Sucesores ->  [Nodo (4, 3)(13), Nodo (5, 4)(11)]\n",
      "-----------------------------------------------------------------------------\n",
      "F ->  11 \n",
      "Actual -> Nodo (5, 4)(11)\n",
      "Sucesores ->  [Nodo (5, 5)(11), Nodo (5, 3)(13)]\n",
      "-----------------------------------------------------------------------------\n",
      "F ->  11 \n",
      "Actual -> Nodo (5, 5)(11)\n",
      "Sucesores ->  [Nodo (4, 5)(13), Nodo (5, 6)(11), Nodo (5, 4)(13)]\n",
      "-----------------------------------------------------------------------------\n",
      "F ->  11 \n",
      "Actual -> Nodo (5, 6)(11)\n"
     ]
    },
    {
     "data": {
      "text/plain": [
       "[(1, 1),\n",
       " (1, 2),\n",
       " (1, 3),\n",
       " (1, 4),\n",
       " (2, 4),\n",
       " (3, 4),\n",
       " (3, 3),\n",
       " (4, 3),\n",
       " (5, 3),\n",
       " (5, 4),\n",
       " (5, 5),\n",
       " (5, 6)]"
      ]
     },
     "execution_count": 129,
     "metadata": {},
     "output_type": "execute_result"
    }
   ],
   "source": [
    "def creaNodoInicialPF(ei, ef, tab, hPF):\n",
    "    global estadoFinalPF\n",
    "    global tablero\n",
    "    \n",
    "    estadoFinalPF = ef \n",
    "    tablero = tab\n",
    "    \n",
    "    return Nodo(ei,None,0,hPF(ei))\n",
    "    \n",
    "    \n",
    "\n",
    "nodoInicialPF = creaNodoInicialPF(estadoInicialPF,estadoFinalPF, tablero, heuristicaPF)\n",
    "\n",
    "AStar(nodoInicialPF,sucesoresPF, es_metaPF, heuristicaPF)\n",
    "\n",
    "#sucesoresPF(nodoInicialPF,heuristicaPF)"
   ]
  },
  {
   "cell_type": "code",
   "execution_count": 130,
   "metadata": {},
   "outputs": [
    {
     "data": {
      "text/plain": [
       "[[1, 1, 1, 1, 1, 1, 1, 1],\n",
       " [1, 0, 0, 0, 0, 0, 0, 1],\n",
       " [1, 0, 1, 1, 0, 0, 0, 1],\n",
       " [1, 0, 1, 0, 0, 1, 1, 1],\n",
       " [1, 1, 1, 0, 1, 0, 0, 1],\n",
       " [1, 0, 1, 0, 0, 0, 0, 1],\n",
       " [1, 1, 1, 1, 1, 1, 1, 1]]"
      ]
     },
     "execution_count": 130,
     "metadata": {},
     "output_type": "execute_result"
    }
   ],
   "source": [
    "tablero"
   ]
  }
 ],
 "metadata": {
  "anaconda-cloud": {},
  "kernelspec": {
   "display_name": "Python 3",
   "language": "python",
   "name": "python3"
  },
  "language_info": {
   "codemirror_mode": {
    "name": "ipython",
    "version": 3
   },
   "file_extension": ".py",
   "mimetype": "text/x-python",
   "name": "python",
   "nbconvert_exporter": "python",
   "pygments_lexer": "ipython3",
   "version": "3.6.5"
  }
 },
 "nbformat": 4,
 "nbformat_minor": 1
}
