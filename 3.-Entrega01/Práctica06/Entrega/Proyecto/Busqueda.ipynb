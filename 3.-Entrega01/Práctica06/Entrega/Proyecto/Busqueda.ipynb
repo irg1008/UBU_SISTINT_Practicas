{
 "metadata": {
  "language_info": {
   "codemirror_mode": {
    "name": "ipython",
    "version": 3
   },
   "file_extension": ".py",
   "mimetype": "text/x-python",
   "name": "python",
   "nbconvert_exporter": "python",
   "pygments_lexer": "ipython3",
   "version": "3.8.6-final"
  },
  "orig_nbformat": 2,
  "kernelspec": {
   "name": "python3",
   "display_name": "Python 3"
  }
 },
 "nbformat": 4,
 "nbformat_minor": 2,
 "cells": [
  {
   "cell_type": "code",
   "execution_count": 8,
   "metadata": {},
   "outputs": [],
   "source": [
    "# Cargar Celda\n",
    "\n",
    "class Node:\n",
    "    def __init__(self, state, parent, g, f):\n",
    "        self.state = state\n",
    "        self.parent = parent\n",
    "        self.g = g\n",
    "        self.f = f\n",
    "\n",
    "    def getParent(self):\n",
    "        return self.parent\n",
    "\n",
    "    def getState(self):\n",
    "        return self.state\n",
    "\n",
    "    def getG(self):\n",
    "        return self.g\n",
    "\n",
    "    def getF(self):\n",
    "        return self.f\n",
    "\n",
    "    def path(self):\n",
    "        path = []\n",
    "\n",
    "        parent = self\n",
    "        while parent:\n",
    "            path.append(parent.getState())\n",
    "            parent = parent.getParent()\n",
    "\n",
    "        return path.reverse()\n",
    "            \n",
    "    def __repr__(self):\n",
    "        return f\"Nodo: {str(self.getState())} ({str(self.getF())})\"\n",
    "    \n",
    "    def __lt__(self, o):\n",
    "        return self.getF() < o.getF()\n",
    "        \n",
    "\n",
    "    def __eq__(self, o):\n",
    "        return self.getState() == o.getState()"
   ]
  },
  {
   "cell_type": "code",
   "execution_count": 27,
   "metadata": {},
   "outputs": [],
   "source": [
    "# Cargar Celda\n",
    "\n",
    "import queue as queue\n",
    "\n",
    "class Open():\n",
    "    def __init__(self):\n",
    "        self.priorityQueue = queue.PriorityQueue()\n",
    "\n",
    "    def put(self, node):\n",
    "        self.priorityQueue.put((node.getF(), node))\n",
    "\n",
    "    def pop(self):\n",
    "        return self.priorityQueue.get()\n",
    "\n",
    "    def empty(self):\n",
    "        return self.priorityQueue.empty()\n",
    "\n",
    "    def getNode(self, state):\n",
    "        for elem in self.priorityQueue.queue:\n",
    "            node = elem[1]\n",
    "            if node.getState() == state:\n",
    "                return node\n",
    "        return None\n",
    "\n",
    "    def getNodes(self):\n",
    "        return [x[1] for x in self.priorityQueue.queue]\n",
    "\n",
    "    def update(self, oldNode, newNode):\n",
    "        self.priorityQueue.queue.remove((oldNode.getF(), oldNode))\n",
    "        self.put(newNode)\n",
    "\n",
    "    def __str__(self):\n",
    "        return str(self.priorityQueue.queue)\n"
   ]
  },
  {
   "cell_type": "code",
   "execution_count": 45,
   "metadata": {},
   "outputs": [],
   "source": [
    "# Cargar Celda\n",
    "\n",
    "def AStar(initial, successorsF, goalF, heuristicF):\n",
    "    open = Open()\n",
    "    open.put(initial)\n",
    "    closed = {}\n",
    "\n",
    "    while open:\n",
    "        f, current = open.pop()\n",
    "        print(f\"F -> {f}\\nActual -> {current}\")\n",
    "        closed[current.getState()] = current\n",
    "\n",
    "        if goalF(current):\n",
    "            return current.path()\n",
    "\n",
    "        successors = successorsF(current, heuristicF)\n",
    "        print(f\"Sucesores -> {successors}\")\n",
    "        print(\"-\" * 90)\n",
    "\n",
    "        for suc in successors:\n",
    "            old_open = open.getNode(suc.getState())\n",
    "            old_closed = closed.get(suc.getState())\n",
    "\n",
    "            if not (old_open or old_closed):\n",
    "                open.put(suc)\n",
    "            elif old_open and suc.getF() < old_open.getF():\n",
    "                open.update(old_open, suc)\n",
    "            elif old_closed and suc.getF() < old_closed.getF():\n",
    "                del closed[suc.getState()]\n",
    "                open.put(suc)\n",
    "\n",
    "    return [] # No solución.\n"
   ]
  },
  {
   "cell_type": "code",
   "execution_count": 11,
   "metadata": {},
   "outputs": [
    {
     "output_type": "stream",
     "name": "stdout",
     "text": [
      "los hijos del nodo 1 son:\n[2, 3]\n"
     ]
    },
    {
     "output_type": "display_data",
     "data": {
      "text/plain": "<Figure size 432x288 with 1 Axes>",
      "image/svg+xml": "<?xml version=\"1.0\" encoding=\"utf-8\" standalone=\"no\"?>\r\n<!DOCTYPE svg PUBLIC \"-//W3C//DTD SVG 1.1//EN\"\r\n  \"http://www.w3.org/Graphics/SVG/1.1/DTD/svg11.dtd\">\r\n<!-- Created with matplotlib (https://matplotlib.org/) -->\r\n<svg height=\"302.4pt\" version=\"1.1\" viewBox=\"0 0 446.4 302.4\" width=\"446.4pt\" xmlns=\"http://www.w3.org/2000/svg\" xmlns:xlink=\"http://www.w3.org/1999/xlink\">\r\n <metadata>\r\n  <rdf:RDF xmlns:cc=\"http://creativecommons.org/ns#\" xmlns:dc=\"http://purl.org/dc/elements/1.1/\" xmlns:rdf=\"http://www.w3.org/1999/02/22-rdf-syntax-ns#\">\r\n   <cc:Work>\r\n    <dc:type rdf:resource=\"http://purl.org/dc/dcmitype/StillImage\"/>\r\n    <dc:date>2020-11-19T20:17:56.322023</dc:date>\r\n    <dc:format>image/svg+xml</dc:format>\r\n    <dc:creator>\r\n     <cc:Agent>\r\n      <dc:title>Matplotlib v3.3.2, https://matplotlib.org/</dc:title>\r\n     </cc:Agent>\r\n    </dc:creator>\r\n   </cc:Work>\r\n  </rdf:RDF>\r\n </metadata>\r\n <defs>\r\n  <style type=\"text/css\">*{stroke-linecap:butt;stroke-linejoin:round;}</style>\r\n </defs>\r\n <g id=\"figure_1\">\r\n  <g id=\"patch_1\">\r\n   <path d=\"M 0 302.4 \r\nL 446.4 302.4 \r\nL 446.4 0 \r\nL 0 0 \r\nz\r\n\" style=\"fill:#ffffff;\"/>\r\n  </g>\r\n  <g id=\"axes_1\">\r\n   <g id=\"patch_2\">\r\n    <path clip-path=\"url(#p7ab5165770)\" d=\"M 186.640314 145.700465 \r\nQ 248.595218 91.789188 309.706699 38.611831 \r\n\" style=\"fill:none;stroke:#000000;stroke-linecap:round;\"/>\r\n    <path clip-path=\"url(#p7ab5165770)\" d=\"M 305.376304 39.728825 \r\nL 309.706699 38.611831 \r\nL 308.002057 42.746344 \r\nL 305.376304 39.728825 \r\nz\r\n\" style=\"stroke:#000000;stroke-linecap:round;\"/>\r\n   </g>\r\n   <g id=\"patch_3\">\r\n    <path clip-path=\"url(#p7ab5165770)\" d=\"M 173.597684 157.097119 \r\nQ 112.397065 210.797125 52.036834 263.75974 \r\n\" style=\"fill:none;stroke:#000000;stroke-linecap:round;\"/>\r\n    <path clip-path=\"url(#p7ab5165770)\" d=\"M 56.362586 262.624897 \r\nL 52.036834 263.75974 \r\nL 53.724411 259.618232 \r\nL 56.362586 262.624897 \r\nz\r\n\" style=\"stroke:#000000;stroke-linecap:round;\"/>\r\n   </g>\r\n   <g id=\"patch_4\">\r\n    <path clip-path=\"url(#p7ab5165770)\" d=\"M 325.744248 32.416778 \r\nQ 359.399937 33.291411 391.937969 34.137 \r\n\" style=\"fill:none;stroke:#000000;stroke-linecap:round;\"/>\r\n    <path clip-path=\"url(#p7ab5165770)\" d=\"M 387.991277 32.033759 \r\nL 391.937969 34.137 \r\nL 387.887361 36.032409 \r\nL 387.991277 32.033759 \r\nz\r\n\" style=\"stroke:#000000;stroke-linecap:round;\"/>\r\n   </g>\r\n   <g id=\"PathCollection_1\">\r\n    <defs>\r\n     <path d=\"M 0 8.660254 \r\nC 2.296726 8.660254 4.499694 7.747755 6.123724 6.123724 \r\nC 7.747755 4.499694 8.660254 2.296726 8.660254 0 \r\nC 8.660254 -2.296726 7.747755 -4.499694 6.123724 -6.123724 \r\nC 4.499694 -7.747755 2.296726 -8.660254 0 -8.660254 \r\nC -2.296726 -8.660254 -4.499694 -7.747755 -6.123724 -6.123724 \r\nC -7.747755 -4.499694 -8.660254 -2.296726 -8.660254 0 \r\nC -8.660254 2.296726 -7.747755 4.499694 -6.123724 6.123724 \r\nC -4.499694 7.747755 -2.296726 8.660254 0 8.660254 \r\nz\r\n\" id=\"m1a4692044b\" style=\"stroke:#1f78b4;\"/>\r\n    </defs>\r\n    <g clip-path=\"url(#p7ab5165770)\">\r\n     <use style=\"fill:#1f78b4;stroke:#1f78b4;\" x=\"180.108795\" xlink:href=\"#m1a4692044b\" y=\"151.383995\"/>\r\n     <use style=\"fill:#1f78b4;stroke:#1f78b4;\" x=\"317.08468\" xlink:href=\"#m1a4692044b\" y=\"32.191736\"/>\r\n     <use style=\"fill:#1f78b4;stroke:#1f78b4;\" x=\"44.687603\" xlink:href=\"#m1a4692044b\" y=\"270.208264\"/>\r\n     <use style=\"fill:#1f78b4;stroke:#1f78b4;\" x=\"401.712397\" xlink:href=\"#m1a4692044b\" y=\"34.391015\"/>\r\n    </g>\r\n   </g>\r\n  </g>\r\n </g>\r\n <defs>\r\n  <clipPath id=\"p7ab5165770\">\r\n   <rect height=\"288\" width=\"432\" x=\"7.2\" y=\"7.2\"/>\r\n  </clipPath>\r\n </defs>\r\n</svg>\r\n",
      "image/png": "[encoded data removed]"
     },
     "metadata": {}
    }
   ],
   "source": [
    "import networkx as nx\n",
    "import matplotlib.pyplot as plt\n",
    "\n",
    "# Creo el grafo\n",
    "Gprueba = nx.DiGraph()\n",
    "\n",
    "# Escribo el nombre del nodo, como argumento\n",
    "Gprueba.add_node(1)    \n",
    "Gprueba.add_node(2)    \n",
    "Gprueba.add_node(3)    \n",
    "\n",
    "# Escribo los nombres de los nodos que forman el arco, como argumento(s)\n",
    "Gprueba.add_edge(1,2)\n",
    "Gprueba.add_edge(1,3)\n",
    "Gprueba.add_edge(2,4)\n",
    "\n",
    "# Consulto los hijos del nodo 1. El grafo \"G\" funciona como un diccionario\n",
    "print(\"los hijos del nodo 1 son:\")\n",
    "print(list(Gprueba[1].keys()))\n",
    "\n",
    "\n",
    "nx.draw(Gprueba)"
   ]
  },
  {
   "cell_type": "code",
   "execution_count": 12,
   "metadata": {},
   "outputs": [
    {
     "output_type": "stream",
     "name": "stdout",
     "text": [
      "Grafo similar al de 'Teoría', para A*\n"
     ]
    },
    {
     "output_type": "display_data",
     "data": {
      "text/plain": "<Figure size 432x288 with 1 Axes>",
      "image/svg+xml": "<?xml version=\"1.0\" encoding=\"utf-8\" standalone=\"no\"?>\r\n<!DOCTYPE svg PUBLIC \"-//W3C//DTD SVG 1.1//EN\"\r\n  \"http://www.w3.org/Graphics/SVG/1.1/DTD/svg11.dtd\">\r\n<!-- Created with matplotlib (https://matplotlib.org/) -->\r\n<svg height=\"302.4pt\" version=\"1.1\" viewBox=\"0 0 446.4 302.4\" width=\"446.4pt\" xmlns=\"http://www.w3.org/2000/svg\" xmlns:xlink=\"http://www.w3.org/1999/xlink\">\r\n <metadata>\r\n  <rdf:RDF xmlns:cc=\"http://creativecommons.org/ns#\" xmlns:dc=\"http://purl.org/dc/elements/1.1/\" xmlns:rdf=\"http://www.w3.org/1999/02/22-rdf-syntax-ns#\">\r\n   <cc:Work>\r\n    <dc:type rdf:resource=\"http://purl.org/dc/dcmitype/StillImage\"/>\r\n    <dc:date>2020-11-19T20:17:57.895100</dc:date>\r\n    <dc:format>image/svg+xml</dc:format>\r\n    <dc:creator>\r\n     <cc:Agent>\r\n      <dc:title>Matplotlib v3.3.2, https://matplotlib.org/</dc:title>\r\n     </cc:Agent>\r\n    </dc:creator>\r\n   </cc:Work>\r\n  </rdf:RDF>\r\n </metadata>\r\n <defs>\r\n  <style type=\"text/css\">*{stroke-linecap:butt;stroke-linejoin:round;}</style>\r\n </defs>\r\n <g id=\"figure_1\">\r\n  <g id=\"patch_1\">\r\n   <path d=\"M 0 302.4 \r\nL 446.4 302.4 \r\nL 446.4 0 \r\nL 0 0 \r\nz\r\n\" style=\"fill:#ffffff;\"/>\r\n  </g>\r\n  <g id=\"axes_1\">\r\n   <g id=\"patch_2\">\r\n    <path clip-path=\"url(#p121ae4a109)\" d=\"M 215.28712 35.708571 \r\nQ 133.945439 71.860429 53.625431 107.558211 \r\n\" style=\"fill:none;stroke:#000000;stroke-linecap:round;\"/>\r\n    <path clip-path=\"url(#p121ae4a109)\" d=\"M 58.092954 107.76128 \r\nL 53.625431 107.558211 \r\nL 56.4684 104.106034 \r\nL 58.092954 107.76128 \r\nz\r\n\" style=\"stroke:#000000;stroke-linecap:round;\"/>\r\n   </g>\r\n   <g id=\"patch_3\">\r\n    <path clip-path=\"url(#p121ae4a109)\" d=\"M 223.2 40.855701 \r\nQ 223.2 98.308451 223.2 154.643168 \r\n\" style=\"fill:none;stroke:#000000;stroke-linecap:round;\"/>\r\n    <path clip-path=\"url(#p121ae4a109)\" d=\"M 225.2 150.643168 \r\nL 223.2 154.643168 \r\nL 221.2 150.643168 \r\nL 225.2 150.643168 \r\nz\r\n\" style=\"stroke:#000000;stroke-linecap:round;\"/>\r\n   </g>\r\n   <g id=\"patch_4\">\r\n    <path clip-path=\"url(#p121ae4a109)\" d=\"M 228.786684 38.812991 \r\nQ 312.456543 137.977268 395.405415 236.287042 \r\n\" style=\"fill:none;stroke:#000000;stroke-linecap:round;\"/>\r\n    <path clip-path=\"url(#p121ae4a109)\" d=\"M 394.354514 231.940134 \r\nL 395.405415 236.287042 \r\nL 391.297348 234.519618 \r\nL 394.354514 231.940134 \r\nz\r\n\" style=\"stroke:#000000;stroke-linecap:round;\"/>\r\n   </g>\r\n   <g id=\"patch_5\">\r\n    <path clip-path=\"url(#p121ae4a109)\" d=\"M 44.687603 120.192123 \r\nQ 44.687603 137.978748 44.687603 154.647338 \r\n\" style=\"fill:none;stroke:#000000;stroke-linecap:round;\"/>\r\n    <path clip-path=\"url(#p121ae4a109)\" d=\"M 46.687603 150.647338 \r\nL 44.687603 154.647338 \r\nL 42.687603 150.647338 \r\nL 46.687603 150.647338 \r\nz\r\n\" style=\"stroke:#000000;stroke-linecap:round;\"/>\r\n   </g>\r\n   <g id=\"patch_6\">\r\n    <path clip-path=\"url(#p121ae4a109)\" d=\"M 52.992723 113.991355 \r\nQ 133.944806 137.977157 213.82492 161.645339 \r\n\" style=\"fill:none;stroke:#000000;stroke-linecap:round;\"/>\r\n    <path clip-path=\"url(#p121ae4a109)\" d=\"M 210.557905 158.59139 \r\nL 213.82492 161.645339 \r\nL 209.421551 162.426582 \r\nL 210.557905 158.59139 \r\nz\r\n\" style=\"stroke:#000000;stroke-linecap:round;\"/>\r\n   </g>\r\n   <g id=\"patch_7\">\r\n    <path clip-path=\"url(#p121ae4a109)\" d=\"M 215.28712 167.939976 \r\nQ 133.945439 204.091834 53.625431 239.789616 \r\n\" style=\"fill:none;stroke:#000000;stroke-linecap:round;\"/>\r\n    <path clip-path=\"url(#p121ae4a109)\" d=\"M 58.092954 239.992685 \r\nL 53.625431 239.789616 \r\nL 56.4684 236.337439 \r\nL 58.092954 239.992685 \r\nz\r\n\" style=\"stroke:#000000;stroke-linecap:round;\"/>\r\n   </g>\r\n   <g id=\"patch_8\">\r\n    <path clip-path=\"url(#p121ae4a109)\" d=\"M 223.2 173.086299 \r\nQ 223.2 204.095342 223.2 233.986351 \r\n\" style=\"fill:none;stroke:#000000;stroke-linecap:round;\"/>\r\n    <path clip-path=\"url(#p121ae4a109)\" d=\"M 225.2 229.986351 \r\nL 223.2 233.986351 \r\nL 221.2 229.986351 \r\nL 225.2 229.986351 \r\nz\r\n\" style=\"stroke:#000000;stroke-linecap:round;\"/>\r\n   </g>\r\n   <g id=\"patch_9\">\r\n    <path clip-path=\"url(#p121ae4a109)\" d=\"M 231.11288 167.939976 \r\nQ 312.454561 204.091834 392.774569 239.789616 \r\n\" style=\"fill:none;stroke:#000000;stroke-linecap:round;\"/>\r\n    <path clip-path=\"url(#p121ae4a109)\" d=\"M 389.9316 236.337439 \r\nL 392.774569 239.789616 \r\nL 388.307046 239.992685 \r\nL 389.9316 236.337439 \r\nz\r\n\" style=\"stroke:#000000;stroke-linecap:round;\"/>\r\n   </g>\r\n   <g id=\"patch_10\">\r\n    <path clip-path=\"url(#p121ae4a109)\" d=\"M 44.687603 173.086299 \r\nQ 44.687603 204.095342 44.687603 233.986351 \r\n\" style=\"fill:none;stroke:#000000;stroke-linecap:round;\"/>\r\n    <path clip-path=\"url(#p121ae4a109)\" d=\"M 46.687603 229.986351 \r\nL 44.687603 233.986351 \r\nL 42.687603 229.986351 \r\nL 46.687603 229.986351 \r\nz\r\n\" style=\"stroke:#000000;stroke-linecap:round;\"/>\r\n   </g>\r\n   <g id=\"patch_11\">\r\n    <path clip-path=\"url(#p121ae4a109)\" d=\"M 52.992723 246.22276 \r\nQ 89.316703 256.98542 124.568715 267.430461 \r\n\" style=\"fill:none;stroke:#000000;stroke-linecap:round;\"/>\r\n    <path clip-path=\"url(#p121ae4a109)\" d=\"M 121.301699 264.376511 \r\nL 124.568715 267.430461 \r\nL 120.165345 268.211704 \r\nL 121.301699 264.376511 \r\nz\r\n\" style=\"stroke:#000000;stroke-linecap:round;\"/>\r\n   </g>\r\n   <g id=\"patch_12\">\r\n    <path clip-path=\"url(#p121ae4a109)\" d=\"M 214.894881 246.22276 \r\nQ 178.5709 256.98542 143.318889 267.430461 \r\n\" style=\"fill:none;stroke:#000000;stroke-linecap:round;\"/>\r\n    <path clip-path=\"url(#p121ae4a109)\" d=\"M 147.722258 268.211704 \r\nL 143.318889 267.430461 \r\nL 146.585905 264.376511 \r\nL 147.722258 268.211704 \r\nz\r\n\" style=\"stroke:#000000;stroke-linecap:round;\"/>\r\n   </g>\r\n   <g id=\"text_1\">\r\n    <g id=\"patch_13\">\r\n     <path clip-path=\"url(#p121ae4a109)\" d=\"M 131.31342 81.608639 \r\nL 142.941672 76.440527 \r\nQ 145.683107 75.222111 144.464692 72.480677 \r\nL 140.534033 63.636694 \r\nQ 139.315617 60.89526 136.574183 62.113675 \r\nL 124.945931 67.281787 \r\nQ 122.204496 68.500203 123.422912 71.241637 \r\nL 127.35357 80.08562 \r\nQ 128.571986 82.827054 131.31342 81.608639 \r\nz\r\n\" style=\"fill:#ffffff;stroke:#ffffff;stroke-linejoin:miter;\"/>\r\n    </g>\r\n    <g clip-path=\"url(#p121ae4a109)\">\r\n     <!-- 10 -->\r\n     <g transform=\"translate(129.250364 76.966762)rotate(-23.962489)scale(0.1 -0.1)\">\r\n      <defs>\r\n       <path d=\"M 12.40625 8.296875 \r\nL 28.515625 8.296875 \r\nL 28.515625 63.921875 \r\nL 10.984375 60.40625 \r\nL 10.984375 69.390625 \r\nL 28.421875 72.90625 \r\nL 38.28125 72.90625 \r\nL 38.28125 8.296875 \r\nL 54.390625 8.296875 \r\nL 54.390625 0 \r\nL 12.40625 0 \r\nz\r\n\" id=\"DejaVuSans-49\"/>\r\n       <path d=\"M 31.78125 66.40625 \r\nQ 24.171875 66.40625 20.328125 58.90625 \r\nQ 16.5 51.421875 16.5 36.375 \r\nQ 16.5 21.390625 20.328125 13.890625 \r\nQ 24.171875 6.390625 31.78125 6.390625 \r\nQ 39.453125 6.390625 43.28125 13.890625 \r\nQ 47.125 21.390625 47.125 36.375 \r\nQ 47.125 51.421875 43.28125 58.90625 \r\nQ 39.453125 66.40625 31.78125 66.40625 \r\nz\r\nM 31.78125 74.21875 \r\nQ 44.046875 74.21875 50.515625 64.515625 \r\nQ 56.984375 54.828125 56.984375 36.375 \r\nQ 56.984375 17.96875 50.515625 8.265625 \r\nQ 44.046875 -1.421875 31.78125 -1.421875 \r\nQ 19.53125 -1.421875 13.0625 8.265625 \r\nQ 6.59375 17.96875 6.59375 36.375 \r\nQ 6.59375 54.828125 13.0625 64.515625 \r\nQ 19.53125 74.21875 31.78125 74.21875 \r\nz\r\n\" id=\"DejaVuSans-48\"/>\r\n      </defs>\r\n      <use xlink:href=\"#DejaVuSans-49\"/>\r\n      <use x=\"63.623047\" xlink:href=\"#DejaVuSans-48\"/>\r\n     </g>\r\n    </g>\r\n   </g>\r\n   <g id=\"text_2\">\r\n    <g id=\"patch_14\">\r\n     <path clip-path=\"url(#p121ae4a109)\" d=\"M 215.360937 91.944938 \r\nL 215.360937 104.669938 \r\nQ 215.360937 107.669938 218.360937 107.669938 \r\nL 228.039062 107.669938 \r\nQ 231.039062 107.669938 231.039062 104.669938 \r\nL 231.039062 91.944938 \r\nQ 231.039062 88.944938 228.039062 88.944938 \r\nL 218.360937 88.944938 \r\nQ 215.360937 88.944938 215.360937 91.944938 \r\nz\r\n\" style=\"fill:#ffffff;stroke:#ffffff;stroke-linejoin:miter;\"/>\r\n    </g>\r\n    <g clip-path=\"url(#p121ae4a109)\">\r\n     <!-- 20 -->\r\n     <g transform=\"translate(220.440625 91.944938)rotate(-270)scale(0.1 -0.1)\">\r\n      <defs>\r\n       <path d=\"M 19.1875 8.296875 \r\nL 53.609375 8.296875 \r\nL 53.609375 0 \r\nL 7.328125 0 \r\nL 7.328125 8.296875 \r\nQ 12.9375 14.109375 22.625 23.890625 \r\nQ 32.328125 33.6875 34.8125 36.53125 \r\nQ 39.546875 41.84375 41.421875 45.53125 \r\nQ 43.3125 49.21875 43.3125 52.78125 \r\nQ 43.3125 58.59375 39.234375 62.25 \r\nQ 35.15625 65.921875 28.609375 65.921875 \r\nQ 23.96875 65.921875 18.8125 64.3125 \r\nQ 13.671875 62.703125 7.8125 59.421875 \r\nL 7.8125 69.390625 \r\nQ 13.765625 71.78125 18.9375 73 \r\nQ 24.125 74.21875 28.421875 74.21875 \r\nQ 39.75 74.21875 46.484375 68.546875 \r\nQ 53.21875 62.890625 53.21875 53.421875 \r\nQ 53.21875 48.921875 51.53125 44.890625 \r\nQ 49.859375 40.875 45.40625 35.40625 \r\nQ 44.1875 33.984375 37.640625 27.21875 \r\nQ 31.109375 20.453125 19.1875 8.296875 \r\nz\r\n\" id=\"DejaVuSans-50\"/>\r\n      </defs>\r\n      <use xlink:href=\"#DejaVuSans-50\"/>\r\n      <use x=\"63.623047\" xlink:href=\"#DejaVuSans-48\"/>\r\n     </g>\r\n    </g>\r\n   </g>\r\n   <g id=\"text_3\">\r\n    <g id=\"patch_15\">\r\n     <path clip-path=\"url(#p121ae4a109)\" d=\"M 302.361878 138.169239 \r\nL 310.567861 147.894848 \r\nQ 312.502474 150.187722 314.795348 148.253109 \r\nL 322.192257 142.011968 \r\nQ 324.485131 140.077355 322.550518 137.78448 \r\nL 314.344536 128.058871 \r\nQ 312.409923 125.765997 310.117048 127.70061 \r\nL 302.72014 133.941751 \r\nQ 300.427265 135.876364 302.361878 138.169239 \r\nz\r\n\" style=\"fill:#ffffff;stroke:#ffffff;stroke-linejoin:miter;\"/>\r\n    </g>\r\n    <g clip-path=\"url(#p121ae4a109)\">\r\n     <!-- 20 -->\r\n     <g transform=\"translate(306.24424 134.893496)rotate(-310.156)scale(0.1 -0.1)\">\r\n      <use xlink:href=\"#DejaVuSans-50\"/>\r\n      <use x=\"63.623047\" xlink:href=\"#DejaVuSans-48\"/>\r\n     </g>\r\n    </g>\r\n   </g>\r\n   <g id=\"text_4\">\r\n    <g id=\"patch_16\">\r\n     <path clip-path=\"url(#p121ae4a109)\" d=\"M 36.848541 131.61436 \r\nL 36.848541 144.33936 \r\nQ 36.848541 147.33936 39.848541 147.33936 \r\nL 49.526666 147.33936 \r\nQ 52.526666 147.33936 52.526666 144.33936 \r\nL 52.526666 131.61436 \r\nQ 52.526666 128.61436 49.526666 128.61436 \r\nL 39.848541 128.61436 \r\nQ 36.848541 128.61436 36.848541 131.61436 \r\nz\r\n\" style=\"fill:#ffffff;stroke:#ffffff;stroke-linejoin:miter;\"/>\r\n    </g>\r\n    <g clip-path=\"url(#p121ae4a109)\">\r\n     <!-- 18 -->\r\n     <g transform=\"translate(41.928228 131.61436)rotate(-270)scale(0.1 -0.1)\">\r\n      <defs>\r\n       <path d=\"M 31.78125 34.625 \r\nQ 24.75 34.625 20.71875 30.859375 \r\nQ 16.703125 27.09375 16.703125 20.515625 \r\nQ 16.703125 13.921875 20.71875 10.15625 \r\nQ 24.75 6.390625 31.78125 6.390625 \r\nQ 38.8125 6.390625 42.859375 10.171875 \r\nQ 46.921875 13.96875 46.921875 20.515625 \r\nQ 46.921875 27.09375 42.890625 30.859375 \r\nQ 38.875 34.625 31.78125 34.625 \r\nz\r\nM 21.921875 38.8125 \r\nQ 15.578125 40.375 12.03125 44.71875 \r\nQ 8.5 49.078125 8.5 55.328125 \r\nQ 8.5 64.0625 14.71875 69.140625 \r\nQ 20.953125 74.21875 31.78125 74.21875 \r\nQ 42.671875 74.21875 48.875 69.140625 \r\nQ 55.078125 64.0625 55.078125 55.328125 \r\nQ 55.078125 49.078125 51.53125 44.71875 \r\nQ 48 40.375 41.703125 38.8125 \r\nQ 48.828125 37.15625 52.796875 32.3125 \r\nQ 56.78125 27.484375 56.78125 20.515625 \r\nQ 56.78125 9.90625 50.3125 4.234375 \r\nQ 43.84375 -1.421875 31.78125 -1.421875 \r\nQ 19.734375 -1.421875 13.25 4.234375 \r\nQ 6.78125 9.90625 6.78125 20.515625 \r\nQ 6.78125 27.484375 10.78125 32.3125 \r\nQ 14.796875 37.15625 21.921875 38.8125 \r\nz\r\nM 18.3125 54.390625 \r\nQ 18.3125 48.734375 21.84375 45.5625 \r\nQ 25.390625 42.390625 31.78125 42.390625 \r\nQ 38.140625 42.390625 41.71875 45.5625 \r\nQ 45.3125 48.734375 45.3125 54.390625 \r\nQ 45.3125 60.0625 41.71875 63.234375 \r\nQ 38.140625 66.40625 31.78125 66.40625 \r\nQ 25.390625 66.40625 21.84375 63.234375 \r\nQ 18.3125 60.0625 18.3125 54.390625 \r\nz\r\n\" id=\"DejaVuSans-56\"/>\r\n      </defs>\r\n      <use xlink:href=\"#DejaVuSans-49\"/>\r\n      <use x=\"63.623047\" xlink:href=\"#DejaVuSans-56\"/>\r\n     </g>\r\n    </g>\r\n   </g>\r\n   <g id=\"text_5\">\r\n    <g id=\"patch_17\">\r\n     <path clip-path=\"url(#p121ae4a109)\" d=\"M 128.666639 144.589182 \r\nL 134.766992 146.396694 \r\nQ 137.643386 147.248959 138.495651 144.372564 \r\nL 141.245094 135.093197 \r\nQ 142.097359 132.216802 139.220964 131.364537 \r\nL 133.120611 129.557025 \r\nQ 130.244217 128.70476 129.391952 131.581155 \r\nL 126.64251 140.860523 \r\nQ 125.790245 143.736917 128.666639 144.589182 \r\nz\r\n\" style=\"fill:#ffffff;stroke:#ffffff;stroke-linejoin:miter;\"/>\r\n    </g>\r\n    <g clip-path=\"url(#p121ae4a109)\">\r\n     <!-- 8 -->\r\n     <g transform=\"translate(130.109719 139.718787)rotate(-343.495639)scale(0.1 -0.1)\">\r\n      <use xlink:href=\"#DejaVuSans-56\"/>\r\n     </g>\r\n    </g>\r\n   </g>\r\n   <g id=\"text_6\">\r\n    <g id=\"patch_18\">\r\n     <path clip-path=\"url(#p121ae4a109)\" d=\"M 36.848541 200.911312 \r\nL 36.848541 207.273812 \r\nQ 36.848541 210.273812 39.848541 210.273812 \r\nL 49.526666 210.273812 \r\nQ 52.526666 210.273812 52.526666 207.273812 \r\nL 52.526666 200.911312 \r\nQ 52.526666 197.911312 49.526666 197.911312 \r\nL 39.848541 197.911312 \r\nQ 36.848541 197.911312 36.848541 200.911312 \r\nz\r\n\" style=\"fill:#ffffff;stroke:#ffffff;stroke-linejoin:miter;\"/>\r\n    </g>\r\n    <g clip-path=\"url(#p121ae4a109)\">\r\n     <!-- 1 -->\r\n     <g transform=\"translate(41.928228 200.911312)rotate(-270)scale(0.1 -0.1)\">\r\n      <use xlink:href=\"#DejaVuSans-49\"/>\r\n     </g>\r\n    </g>\r\n   </g>\r\n   <g id=\"text_7\">\r\n    <g id=\"patch_19\">\r\n     <path clip-path=\"url(#p121ae4a109)\" d=\"M 131.31342 213.840044 \r\nL 142.941672 208.671932 \r\nQ 145.683107 207.453516 144.464692 204.712082 \r\nL 140.534033 195.868099 \r\nQ 139.315617 193.126665 136.574183 194.34508 \r\nL 124.945931 199.513192 \r\nQ 122.204496 200.731608 123.422912 203.473042 \r\nL 127.35357 212.317025 \r\nQ 128.571986 215.058459 131.31342 213.840044 \r\nz\r\n\" style=\"fill:#ffffff;stroke:#ffffff;stroke-linejoin:miter;\"/>\r\n    </g>\r\n    <g clip-path=\"url(#p121ae4a109)\">\r\n     <!-- 12 -->\r\n     <g transform=\"translate(129.250364 209.198167)rotate(-23.962489)scale(0.1 -0.1)\">\r\n      <use xlink:href=\"#DejaVuSans-49\"/>\r\n      <use x=\"63.623047\" xlink:href=\"#DejaVuSans-50\"/>\r\n     </g>\r\n    </g>\r\n   </g>\r\n   <g id=\"text_8\">\r\n    <g id=\"patch_20\">\r\n     <path clip-path=\"url(#p121ae4a109)\" d=\"M 215.360937 197.730062 \r\nL 215.360937 210.455062 \r\nQ 215.360937 213.455062 218.360937 213.455062 \r\nL 228.039062 213.455062 \r\nQ 231.039062 213.455062 231.039062 210.455062 \r\nL 231.039062 197.730062 \r\nQ 231.039062 194.730062 228.039062 194.730062 \r\nL 218.360937 194.730062 \r\nQ 215.360937 194.730062 215.360937 197.730062 \r\nz\r\n\" style=\"fill:#ffffff;stroke:#ffffff;stroke-linejoin:miter;\"/>\r\n    </g>\r\n    <g clip-path=\"url(#p121ae4a109)\">\r\n     <!-- 20 -->\r\n     <g transform=\"translate(220.440625 197.730062)rotate(-270)scale(0.1 -0.1)\">\r\n      <use xlink:href=\"#DejaVuSans-50\"/>\r\n      <use x=\"63.623047\" xlink:href=\"#DejaVuSans-48\"/>\r\n     </g>\r\n    </g>\r\n   </g>\r\n   <g id=\"text_9\">\r\n    <g id=\"patch_21\">\r\n     <path clip-path=\"url(#p121ae4a109)\" d=\"M 303.458328 208.671932 \r\nL 315.08658 213.840044 \r\nQ 317.828014 215.058459 319.04643 212.317025 \r\nL 322.977088 203.473042 \r\nQ 324.195504 200.731608 321.454069 199.513192 \r\nL 309.825817 194.34508 \r\nQ 307.084383 193.126665 305.865967 195.868099 \r\nL 301.935308 204.712082 \r\nQ 300.716893 207.453516 303.458328 208.671932 \r\nz\r\n\" style=\"fill:#ffffff;stroke:#ffffff;stroke-linejoin:miter;\"/>\r\n    </g>\r\n    <g clip-path=\"url(#p121ae4a109)\">\r\n     <!-- 10 -->\r\n     <g transform=\"translate(305.521384 204.030055)rotate(-336.037511)scale(0.1 -0.1)\">\r\n      <use xlink:href=\"#DejaVuSans-49\"/>\r\n      <use x=\"63.623047\" xlink:href=\"#DejaVuSans-48\"/>\r\n     </g>\r\n    </g>\r\n   </g>\r\n   <g id=\"text_10\">\r\n    <g id=\"patch_22\">\r\n     <path clip-path=\"url(#p121ae4a109)\" d=\"M 80.988363 262.69369 \r\nL 93.189069 266.308714 \r\nQ 96.065464 267.160979 96.917729 264.284585 \r\nL 99.667171 255.005217 \r\nQ 100.519436 252.128823 97.643042 251.276558 \r\nL 85.442336 247.661534 \r\nQ 82.565941 246.809269 81.713676 249.685663 \r\nL 78.964234 258.965031 \r\nQ 78.111969 261.841425 80.988363 262.69369 \r\nz\r\n\" style=\"fill:#ffffff;stroke:#ffffff;stroke-linejoin:miter;\"/>\r\n    </g>\r\n    <g clip-path=\"url(#p121ae4a109)\">\r\n     <!-- 30 -->\r\n     <g transform=\"translate(82.431443 257.823296)rotate(-343.495639)scale(0.1 -0.1)\">\r\n      <defs>\r\n       <path d=\"M 40.578125 39.3125 \r\nQ 47.65625 37.796875 51.625 33 \r\nQ 55.609375 28.21875 55.609375 21.1875 \r\nQ 55.609375 10.40625 48.1875 4.484375 \r\nQ 40.765625 -1.421875 27.09375 -1.421875 \r\nQ 22.515625 -1.421875 17.65625 -0.515625 \r\nQ 12.796875 0.390625 7.625 2.203125 \r\nL 7.625 11.71875 \r\nQ 11.71875 9.328125 16.59375 8.109375 \r\nQ 21.484375 6.890625 26.8125 6.890625 \r\nQ 36.078125 6.890625 40.9375 10.546875 \r\nQ 45.796875 14.203125 45.796875 21.1875 \r\nQ 45.796875 27.640625 41.28125 31.265625 \r\nQ 36.765625 34.90625 28.71875 34.90625 \r\nL 20.21875 34.90625 \r\nL 20.21875 43.015625 \r\nL 29.109375 43.015625 \r\nQ 36.375 43.015625 40.234375 45.921875 \r\nQ 44.09375 48.828125 44.09375 54.296875 \r\nQ 44.09375 59.90625 40.109375 62.90625 \r\nQ 36.140625 65.921875 28.71875 65.921875 \r\nQ 24.65625 65.921875 20.015625 65.03125 \r\nQ 15.375 64.15625 9.8125 62.3125 \r\nL 9.8125 71.09375 \r\nQ 15.4375 72.65625 20.34375 73.4375 \r\nQ 25.25 74.21875 29.59375 74.21875 \r\nQ 40.828125 74.21875 47.359375 69.109375 \r\nQ 53.90625 64.015625 53.90625 55.328125 \r\nQ 53.90625 49.265625 50.4375 45.09375 \r\nQ 46.96875 40.921875 40.578125 39.3125 \r\nz\r\n\" id=\"DejaVuSans-51\"/>\r\n      </defs>\r\n      <use xlink:href=\"#DejaVuSans-51\"/>\r\n      <use x=\"63.623047\" xlink:href=\"#DejaVuSans-48\"/>\r\n     </g>\r\n    </g>\r\n   </g>\r\n   <g id=\"text_11\">\r\n    <g id=\"patch_23\">\r\n     <path clip-path=\"url(#p121ae4a109)\" d=\"M 174.698534 266.308714 \r\nL 186.89924 262.69369 \r\nQ 189.775634 261.841425 188.923369 258.965031 \r\nL 186.173927 249.685663 \r\nQ 185.321662 246.809269 182.445268 247.661534 \r\nL 170.244562 251.276558 \r\nQ 167.368167 252.128823 168.220432 255.005217 \r\nL 170.969875 264.284585 \r\nQ 171.82214 267.160979 174.698534 266.308714 \r\nz\r\n\" style=\"fill:#ffffff;stroke:#ffffff;stroke-linejoin:miter;\"/>\r\n    </g>\r\n    <g clip-path=\"url(#p121ae4a109)\">\r\n     <!-- 35 -->\r\n     <g transform=\"translate(173.255454 261.43832)rotate(-16.504361)scale(0.1 -0.1)\">\r\n      <defs>\r\n       <path d=\"M 10.796875 72.90625 \r\nL 49.515625 72.90625 \r\nL 49.515625 64.59375 \r\nL 19.828125 64.59375 \r\nL 19.828125 46.734375 \r\nQ 21.96875 47.46875 24.109375 47.828125 \r\nQ 26.265625 48.1875 28.421875 48.1875 \r\nQ 40.625 48.1875 47.75 41.5 \r\nQ 54.890625 34.8125 54.890625 23.390625 \r\nQ 54.890625 11.625 47.5625 5.09375 \r\nQ 40.234375 -1.421875 26.90625 -1.421875 \r\nQ 22.3125 -1.421875 17.546875 -0.640625 \r\nQ 12.796875 0.140625 7.71875 1.703125 \r\nL 7.71875 11.625 \r\nQ 12.109375 9.234375 16.796875 8.0625 \r\nQ 21.484375 6.890625 26.703125 6.890625 \r\nQ 35.15625 6.890625 40.078125 11.328125 \r\nQ 45.015625 15.765625 45.015625 23.390625 \r\nQ 45.015625 31 40.078125 35.4375 \r\nQ 35.15625 39.890625 26.703125 39.890625 \r\nQ 22.75 39.890625 18.8125 39.015625 \r\nQ 14.890625 38.140625 10.796875 36.28125 \r\nz\r\n\" id=\"DejaVuSans-53\"/>\r\n      </defs>\r\n      <use xlink:href=\"#DejaVuSans-51\"/>\r\n      <use x=\"63.623047\" xlink:href=\"#DejaVuSans-53\"/>\r\n     </g>\r\n    </g>\r\n   </g>\r\n   <g id=\"PathCollection_1\">\r\n    <defs>\r\n     <path d=\"M 0 8.660254 \r\nC 2.296726 8.660254 4.499694 7.747755 6.123724 6.123724 \r\nC 7.747755 4.499694 8.660254 2.296726 8.660254 0 \r\nC 8.660254 -2.296726 7.747755 -4.499694 6.123724 -6.123724 \r\nC 4.499694 -7.747755 2.296726 -8.660254 0 -8.660254 \r\nC -2.296726 -8.660254 -4.499694 -7.747755 -6.123724 -6.123724 \r\nC -7.747755 -4.499694 -8.660254 -2.296726 -8.660254 0 \r\nC -8.660254 2.296726 -7.747755 4.499694 -6.123724 6.123724 \r\nC -4.499694 7.747755 -2.296726 8.660254 0 8.660254 \r\nz\r\n\" id=\"m18065590d5\" style=\"stroke:#1f78b4;\"/>\r\n    </defs>\r\n    <g clip-path=\"url(#p121ae4a109)\">\r\n     <use style=\"fill:#1f78b4;stroke:#1f78b4;\" x=\"223.2\" xlink:href=\"#m18065590d5\" y=\"32.191736\"/>\r\n     <use style=\"fill:#1f78b4;stroke:#1f78b4;\" x=\"44.687603\" xlink:href=\"#m18065590d5\" y=\"111.530579\"/>\r\n     <use style=\"fill:#1f78b4;stroke:#1f78b4;\" x=\"223.2\" xlink:href=\"#m18065590d5\" y=\"164.42314\"/>\r\n     <use style=\"fill:#1f78b4;stroke:#1f78b4;\" x=\"401.712397\" xlink:href=\"#m18065590d5\" y=\"243.761983\"/>\r\n     <use style=\"fill:#1f78b4;stroke:#1f78b4;\" x=\"44.687603\" xlink:href=\"#m18065590d5\" y=\"164.42314\"/>\r\n     <use style=\"fill:#1f78b4;stroke:#1f78b4;\" x=\"44.687603\" xlink:href=\"#m18065590d5\" y=\"243.761983\"/>\r\n     <use style=\"fill:#1f78b4;stroke:#1f78b4;\" x=\"223.2\" xlink:href=\"#m18065590d5\" y=\"243.761983\"/>\r\n     <use style=\"fill:#1f78b4;stroke:#1f78b4;\" x=\"133.943802\" xlink:href=\"#m18065590d5\" y=\"270.208264\"/>\r\n    </g>\r\n   </g>\r\n   <g id=\"text_12\">\r\n    <g clip-path=\"url(#p121ae4a109)\">\r\n     <!-- S 40 -->\r\n     <g transform=\"translate(227.700302 14.345961)scale(0.12 -0.12)\">\r\n      <defs>\r\n       <path d=\"M 53.515625 70.515625 \r\nL 53.515625 60.890625 \r\nQ 47.90625 63.578125 42.921875 64.890625 \r\nQ 37.9375 66.21875 33.296875 66.21875 \r\nQ 25.25 66.21875 20.875 63.09375 \r\nQ 16.5 59.96875 16.5 54.203125 \r\nQ 16.5 49.359375 19.40625 46.890625 \r\nQ 22.3125 44.4375 30.421875 42.921875 \r\nL 36.375 41.703125 \r\nQ 47.40625 39.59375 52.65625 34.296875 \r\nQ 57.90625 29 57.90625 20.125 \r\nQ 57.90625 9.515625 50.796875 4.046875 \r\nQ 43.703125 -1.421875 29.984375 -1.421875 \r\nQ 24.8125 -1.421875 18.96875 -0.25 \r\nQ 13.140625 0.921875 6.890625 3.21875 \r\nL 6.890625 13.375 \r\nQ 12.890625 10.015625 18.65625 8.296875 \r\nQ 24.421875 6.59375 29.984375 6.59375 \r\nQ 38.421875 6.59375 43.015625 9.90625 \r\nQ 47.609375 13.234375 47.609375 19.390625 \r\nQ 47.609375 24.75 44.3125 27.78125 \r\nQ 41.015625 30.8125 33.5 32.328125 \r\nL 27.484375 33.5 \r\nQ 16.453125 35.6875 11.515625 40.375 \r\nQ 6.59375 45.0625 6.59375 53.421875 \r\nQ 6.59375 63.09375 13.40625 68.65625 \r\nQ 20.21875 74.21875 32.171875 74.21875 \r\nQ 37.3125 74.21875 42.625 73.28125 \r\nQ 47.953125 72.359375 53.515625 70.515625 \r\nz\r\n\" id=\"DejaVuSans-83\"/>\r\n       <path id=\"DejaVuSans-32\"/>\r\n       <path d=\"M 37.796875 64.3125 \r\nL 12.890625 25.390625 \r\nL 37.796875 25.390625 \r\nz\r\nM 35.203125 72.90625 \r\nL 47.609375 72.90625 \r\nL 47.609375 25.390625 \r\nL 58.015625 25.390625 \r\nL 58.015625 17.1875 \r\nL 47.609375 17.1875 \r\nL 47.609375 0 \r\nL 37.796875 0 \r\nL 37.796875 17.1875 \r\nL 4.890625 17.1875 \r\nL 4.890625 26.703125 \r\nz\r\n\" id=\"DejaVuSans-52\"/>\r\n      </defs>\r\n      <use xlink:href=\"#DejaVuSans-83\"/>\r\n      <use x=\"63.476562\" xlink:href=\"#DejaVuSans-32\"/>\r\n      <use x=\"95.263672\" xlink:href=\"#DejaVuSans-52\"/>\r\n      <use x=\"158.886719\" xlink:href=\"#DejaVuSans-48\"/>\r\n     </g>\r\n    </g>\r\n   </g>\r\n   <g id=\"text_13\">\r\n    <g clip-path=\"url(#p121ae4a109)\">\r\n     <!-- C 20 -->\r\n     <g transform=\"translate(48.80728 93.684804)scale(0.12 -0.12)\">\r\n      <defs>\r\n       <path d=\"M 64.40625 67.28125 \r\nL 64.40625 56.890625 \r\nQ 59.421875 61.53125 53.78125 63.8125 \r\nQ 48.140625 66.109375 41.796875 66.109375 \r\nQ 29.296875 66.109375 22.65625 58.46875 \r\nQ 16.015625 50.828125 16.015625 36.375 \r\nQ 16.015625 21.96875 22.65625 14.328125 \r\nQ 29.296875 6.6875 41.796875 6.6875 \r\nQ 48.140625 6.6875 53.78125 8.984375 \r\nQ 59.421875 11.28125 64.40625 15.921875 \r\nL 64.40625 5.609375 \r\nQ 59.234375 2.09375 53.4375 0.328125 \r\nQ 47.65625 -1.421875 41.21875 -1.421875 \r\nQ 24.65625 -1.421875 15.125 8.703125 \r\nQ 5.609375 18.84375 5.609375 36.375 \r\nQ 5.609375 53.953125 15.125 64.078125 \r\nQ 24.65625 74.21875 41.21875 74.21875 \r\nQ 47.75 74.21875 53.53125 72.484375 \r\nQ 59.328125 70.75 64.40625 67.28125 \r\nz\r\n\" id=\"DejaVuSans-67\"/>\r\n      </defs>\r\n      <use xlink:href=\"#DejaVuSans-67\"/>\r\n      <use x=\"69.824219\" xlink:href=\"#DejaVuSans-32\"/>\r\n      <use x=\"101.611328\" xlink:href=\"#DejaVuSans-50\"/>\r\n      <use x=\"165.234375\" xlink:href=\"#DejaVuSans-48\"/>\r\n     </g>\r\n    </g>\r\n   </g>\r\n   <g id=\"text_14\">\r\n    <g clip-path=\"url(#p121ae4a109)\">\r\n     <!-- B 8 -->\r\n     <g transform=\"translate(52.697905 146.577366)scale(0.12 -0.12)\">\r\n      <defs>\r\n       <path d=\"M 19.671875 34.8125 \r\nL 19.671875 8.109375 \r\nL 35.5 8.109375 \r\nQ 43.453125 8.109375 47.28125 11.40625 \r\nQ 51.125 14.703125 51.125 21.484375 \r\nQ 51.125 28.328125 47.28125 31.5625 \r\nQ 43.453125 34.8125 35.5 34.8125 \r\nz\r\nM 19.671875 64.796875 \r\nL 19.671875 42.828125 \r\nL 34.28125 42.828125 \r\nQ 41.5 42.828125 45.03125 45.53125 \r\nQ 48.578125 48.25 48.578125 53.8125 \r\nQ 48.578125 59.328125 45.03125 62.0625 \r\nQ 41.5 64.796875 34.28125 64.796875 \r\nz\r\nM 9.8125 72.90625 \r\nL 35.015625 72.90625 \r\nQ 46.296875 72.90625 52.390625 68.21875 \r\nQ 58.5 63.53125 58.5 54.890625 \r\nQ 58.5 48.1875 55.375 44.234375 \r\nQ 52.25 40.28125 46.1875 39.3125 \r\nQ 53.46875 37.75 57.5 32.78125 \r\nQ 61.53125 27.828125 61.53125 20.40625 \r\nQ 61.53125 10.640625 54.890625 5.3125 \r\nQ 48.25 0 35.984375 0 \r\nL 9.8125 0 \r\nz\r\n\" id=\"DejaVuSans-66\"/>\r\n      </defs>\r\n      <use xlink:href=\"#DejaVuSans-66\"/>\r\n      <use x=\"68.603516\" xlink:href=\"#DejaVuSans-32\"/>\r\n      <use x=\"100.390625\" xlink:href=\"#DejaVuSans-56\"/>\r\n     </g>\r\n    </g>\r\n   </g>\r\n   <g id=\"text_15\">\r\n    <g clip-path=\"url(#p121ae4a109)\">\r\n     <!-- D 9 -->\r\n     <g transform=\"translate(230.706865 146.577366)scale(0.12 -0.12)\">\r\n      <defs>\r\n       <path d=\"M 19.671875 64.796875 \r\nL 19.671875 8.109375 \r\nL 31.59375 8.109375 \r\nQ 46.6875 8.109375 53.6875 14.9375 \r\nQ 60.6875 21.78125 60.6875 36.53125 \r\nQ 60.6875 51.171875 53.6875 57.984375 \r\nQ 46.6875 64.796875 31.59375 64.796875 \r\nz\r\nM 9.8125 72.90625 \r\nL 30.078125 72.90625 \r\nQ 51.265625 72.90625 61.171875 64.09375 \r\nQ 71.09375 55.28125 71.09375 36.53125 \r\nQ 71.09375 17.671875 61.125 8.828125 \r\nQ 51.171875 0 30.078125 0 \r\nL 9.8125 0 \r\nz\r\n\" id=\"DejaVuSans-68\"/>\r\n       <path d=\"M 10.984375 1.515625 \r\nL 10.984375 10.5 \r\nQ 14.703125 8.734375 18.5 7.8125 \r\nQ 22.3125 6.890625 25.984375 6.890625 \r\nQ 35.75 6.890625 40.890625 13.453125 \r\nQ 46.046875 20.015625 46.78125 33.40625 \r\nQ 43.953125 29.203125 39.59375 26.953125 \r\nQ 35.25 24.703125 29.984375 24.703125 \r\nQ 19.046875 24.703125 12.671875 31.3125 \r\nQ 6.296875 37.9375 6.296875 49.421875 \r\nQ 6.296875 60.640625 12.9375 67.421875 \r\nQ 19.578125 74.21875 30.609375 74.21875 \r\nQ 43.265625 74.21875 49.921875 64.515625 \r\nQ 56.59375 54.828125 56.59375 36.375 \r\nQ 56.59375 19.140625 48.40625 8.859375 \r\nQ 40.234375 -1.421875 26.421875 -1.421875 \r\nQ 22.703125 -1.421875 18.890625 -0.6875 \r\nQ 15.09375 0.046875 10.984375 1.515625 \r\nz\r\nM 30.609375 32.421875 \r\nQ 37.25 32.421875 41.125 36.953125 \r\nQ 45.015625 41.5 45.015625 49.421875 \r\nQ 45.015625 57.28125 41.125 61.84375 \r\nQ 37.25 66.40625 30.609375 66.40625 \r\nQ 23.96875 66.40625 20.09375 61.84375 \r\nQ 16.21875 57.28125 16.21875 49.421875 \r\nQ 16.21875 41.5 20.09375 36.953125 \r\nQ 23.96875 32.421875 30.609375 32.421875 \r\nz\r\n\" id=\"DejaVuSans-57\"/>\r\n      </defs>\r\n      <use xlink:href=\"#DejaVuSans-68\"/>\r\n      <use x=\"77.001953\" xlink:href=\"#DejaVuSans-32\"/>\r\n      <use x=\"108.789062\" xlink:href=\"#DejaVuSans-57\"/>\r\n     </g>\r\n    </g>\r\n   </g>\r\n   <g id=\"text_16\">\r\n    <g clip-path=\"url(#p121ae4a109)\">\r\n     <!-- A 5 -->\r\n     <g transform=\"translate(52.710093 225.916209)scale(0.12 -0.12)\">\r\n      <defs>\r\n       <path d=\"M 34.1875 63.1875 \r\nL 20.796875 26.90625 \r\nL 47.609375 26.90625 \r\nz\r\nM 28.609375 72.90625 \r\nL 39.796875 72.90625 \r\nL 67.578125 0 \r\nL 57.328125 0 \r\nL 50.6875 18.703125 \r\nL 17.828125 18.703125 \r\nL 11.1875 0 \r\nL 0.78125 0 \r\nz\r\n\" id=\"DejaVuSans-65\"/>\r\n      </defs>\r\n      <use xlink:href=\"#DejaVuSans-65\"/>\r\n      <use x=\"68.408203\" xlink:href=\"#DejaVuSans-32\"/>\r\n      <use x=\"100.195312\" xlink:href=\"#DejaVuSans-53\"/>\r\n     </g>\r\n    </g>\r\n   </g>\r\n   <g id=\"text_17\">\r\n    <g clip-path=\"url(#p121ae4a109)\">\r\n     <!-- F 22 -->\r\n     <g transform=\"translate(228.058427 225.916209)scale(0.12 -0.12)\">\r\n      <defs>\r\n       <path d=\"M 9.8125 72.90625 \r\nL 51.703125 72.90625 \r\nL 51.703125 64.59375 \r\nL 19.671875 64.59375 \r\nL 19.671875 43.109375 \r\nL 48.578125 43.109375 \r\nL 48.578125 34.8125 \r\nL 19.671875 34.8125 \r\nL 19.671875 0 \r\nL 9.8125 0 \r\nz\r\n\" id=\"DejaVuSans-70\"/>\r\n      </defs>\r\n      <use xlink:href=\"#DejaVuSans-70\"/>\r\n      <use x=\"57.519531\" xlink:href=\"#DejaVuSans-32\"/>\r\n      <use x=\"89.306641\" xlink:href=\"#DejaVuSans-50\"/>\r\n      <use x=\"152.929688\" xlink:href=\"#DejaVuSans-50\"/>\r\n     </g>\r\n    </g>\r\n   </g>\r\n   <g id=\"text_18\">\r\n    <g clip-path=\"url(#p121ae4a109)\">\r\n     <!-- E 40 -->\r\n     <g transform=\"translate(406.230511 225.916209)scale(0.12 -0.12)\">\r\n      <defs>\r\n       <path d=\"M 9.8125 72.90625 \r\nL 55.90625 72.90625 \r\nL 55.90625 64.59375 \r\nL 19.671875 64.59375 \r\nL 19.671875 43.015625 \r\nL 54.390625 43.015625 \r\nL 54.390625 34.71875 \r\nL 19.671875 34.71875 \r\nL 19.671875 8.296875 \r\nL 56.78125 8.296875 \r\nL 56.78125 0 \r\nL 9.8125 0 \r\nz\r\n\" id=\"DejaVuSans-69\"/>\r\n      </defs>\r\n      <use xlink:href=\"#DejaVuSans-69\"/>\r\n      <use x=\"63.183594\" xlink:href=\"#DejaVuSans-32\"/>\r\n      <use x=\"94.970703\" xlink:href=\"#DejaVuSans-52\"/>\r\n      <use x=\"158.59375\" xlink:href=\"#DejaVuSans-48\"/>\r\n     </g>\r\n    </g>\r\n   </g>\r\n   <g id=\"text_19\">\r\n    <g clip-path=\"url(#p121ae4a109)\">\r\n     <!-- G 0 -->\r\n     <g transform=\"translate(141.421604 252.36249)scale(0.12 -0.12)\">\r\n      <defs>\r\n       <path d=\"M 59.515625 10.40625 \r\nL 59.515625 29.984375 \r\nL 43.40625 29.984375 \r\nL 43.40625 38.09375 \r\nL 69.28125 38.09375 \r\nL 69.28125 6.78125 \r\nQ 63.578125 2.734375 56.6875 0.65625 \r\nQ 49.8125 -1.421875 42 -1.421875 \r\nQ 24.90625 -1.421875 15.25 8.5625 \r\nQ 5.609375 18.5625 5.609375 36.375 \r\nQ 5.609375 54.25 15.25 64.234375 \r\nQ 24.90625 74.21875 42 74.21875 \r\nQ 49.125 74.21875 55.546875 72.453125 \r\nQ 61.96875 70.703125 67.390625 67.28125 \r\nL 67.390625 56.78125 \r\nQ 61.921875 61.421875 55.765625 63.765625 \r\nQ 49.609375 66.109375 42.828125 66.109375 \r\nQ 29.4375 66.109375 22.71875 58.640625 \r\nQ 16.015625 51.171875 16.015625 36.375 \r\nQ 16.015625 21.625 22.71875 14.15625 \r\nQ 29.4375 6.6875 42.828125 6.6875 \r\nQ 48.046875 6.6875 52.140625 7.59375 \r\nQ 56.25 8.5 59.515625 10.40625 \r\nz\r\n\" id=\"DejaVuSans-71\"/>\r\n      </defs>\r\n      <use xlink:href=\"#DejaVuSans-71\"/>\r\n      <use x=\"77.490234\" xlink:href=\"#DejaVuSans-32\"/>\r\n      <use x=\"109.277344\" xlink:href=\"#DejaVuSans-48\"/>\r\n     </g>\r\n    </g>\r\n   </g>\r\n  </g>\r\n </g>\r\n <defs>\r\n  <clipPath id=\"p121ae4a109\">\r\n   <rect height=\"288\" width=\"432\" x=\"7.2\" y=\"7.2\"/>\r\n  </clipPath>\r\n </defs>\r\n</svg>\r\n",
      "image/png": "[encoded data removed]"
     },
     "metadata": {}
    }
   ],
   "source": [
    "Graph = nx.DiGraph()\n",
    "\n",
    "# Este diccionario almacena los hijos que tiene cada padre\n",
    "childs = {'S': 'CDE', 'C': 'BD', 'B': 'A', 'D': 'AFE', 'A': 'G', 'F': 'G'}\n",
    "\n",
    "# Este diccionario almacena los costes de cada camino\n",
    "costs = {('S', 'C'): 10, ('S', 'D'): 20, ('S', 'E'): 20, ('C', 'B'): 18,\n",
    "         ('C', 'D'):  8, ('B', 'A'):  1, ('D', 'A'): 12, ('D', 'F'): 20,\n",
    "         ('D', 'E'): 10, ('A', 'G'): 30, ('F', 'G'): 35}\n",
    "\n",
    "# Este diccionario almacena los valores heurísticos de cada estado.\n",
    "heuristic = {'S': 40, 'C': 20, 'B': 8, 'D': 9, 'A': 5, 'F': 22, 'E': 40, 'G': 0}\n",
    "\n",
    "# Este diccionario almacena las posiciones de cada nodo. Sólo es a efectos estéticos.\n",
    "positions = {'S':(20,100), 'C':(10,70),\n",
    "             'B':(10,50),  'D':(20,50),\n",
    "             'A':(10,20),  'F':(20,20),\n",
    "             'E':(30,20),  'G':(15,10)}\n",
    "\n",
    "# Se crea el grafo, y se añaden: (1) nodos y (2) arcos\n",
    "node_labels={}\n",
    "for node in heuristic:\n",
    "    Graph.add_node(node)\n",
    "    node_labels[node] = f\"{node} {str(heuristic[node])}\"\n",
    "    if node in childs:\n",
    "        for child in childs[node]:\n",
    "            Graph.add_edge(node, child) \n",
    "\n",
    "# Se dibuja el grafo\n",
    "nx.draw(Graph, pos=positions)\n",
    "# Se dibujan las etiquetas de los nodos y los arcos\n",
    "node_label_pos = {k:[v[0]+1,v[1]+8] for k,v in positions.items()}\n",
    "node_label_handles = nx.draw_networkx_labels(Graph, pos=node_label_pos, labels=node_labels)\n",
    "nx.draw_networkx_edge_labels(Graph, pos=positions, edge_labels=costs)\n",
    "print(\"Grafo similar al de 'Teoría', para A*\")"
   ]
  },
  {
   "cell_type": "code",
   "execution_count": 18,
   "metadata": {},
   "outputs": [
    {
     "output_type": "stream",
     "name": "stdout",
     "text": [
      "40\nFalse\n[Nodo: C (30), Nodo: D (29), Nodo: E (60)]\n"
     ]
    }
   ],
   "source": [
    "initialNode = Node('S', None, 0, heuristic['S'])\n",
    "\n",
    "def successorsGraph(node, heuristicF):\n",
    "    state = node.getState()\n",
    "    g = node.getG()\n",
    "    childs = []\n",
    "    \n",
    "    for child in Graph[state].keys():\n",
    "        newG = g + costs[(state, child)]\n",
    "        h = heuristicF(child)\n",
    "        \n",
    "        childs.append(Node(child, node, newG, newG + h))\n",
    "        \n",
    "    return childs\n",
    "\n",
    "def goalGraph(node):\n",
    "    state = node.getState()\n",
    "    return state == 'G' \n",
    "\n",
    "def heuristicGraph(state):\n",
    "    return heuristic[state]                \n",
    "\n",
    "print(heuristicGraph('S'))\n",
    "print(goalGraph(initialNode))\n",
    "print(successorsGraph(initialNode, heuristicGraph))\n",
    "    "
   ]
  },
  {
   "cell_type": "code",
   "execution_count": 32,
   "metadata": {},
   "outputs": [
    {
     "output_type": "stream",
     "name": "stdout",
     "text": [
      "F -> 40\nActual -> Nodo: S (40)\nSucesores -> [Nodo: C (30), Nodo: D (29), Nodo: E (60)]\n--------------------------------------------------\nF -> 29\nActual -> Nodo: D (29)\nSucesores -> [Nodo: A (37), Nodo: F (62), Nodo: E (70)]\n--------------------------------------------------\nF -> 30\nActual -> Nodo: C (30)\nSucesores -> [Nodo: B (36), Nodo: D (27)]\n--------------------------------------------------\nF -> 27\nActual -> Nodo: D (27)\nSucesores -> [Nodo: A (35), Nodo: F (60), Nodo: E (68)]\n--------------------------------------------------\nF -> 35\nActual -> Nodo: A (35)\nSucesores -> [Nodo: G (60)]\n--------------------------------------------------\nF -> 36\nActual -> Nodo: B (36)\nSucesores -> [Nodo: A (34)]\n--------------------------------------------------\nF -> 34\nActual -> Nodo: A (34)\nSucesores -> [Nodo: G (59)]\n--------------------------------------------------\nF -> 59\nActual -> Nodo: G (59)\n"
     ]
    }
   ],
   "source": [
    "AStar(initialNode, successorsGraph, goalGraph, heuristicGraph)"
   ]
  },
  {
   "cell_type": "code",
   "execution_count": 13,
   "metadata": {},
   "outputs": [
    {
     "output_type": "execute_result",
     "data": {
      "text/plain": [
       "        Actual                                           Abiertos  \\\n",
       "0  Nodo actual  [1, 2, 3, 4, 5, 6, 7, 8, 9, 10, 11, 12, 13, 14...   \n",
       "\n",
       "                  Sucesores                                           Cerrados  \n",
       "0  ['suc1', 'suc2', 'suc3']  [1, 2, 3, 4, 5, 6, 7, 8, 9, 10, 11, 12, 13, 14...  "
      ],
      "text/html": "<div>\n<style scoped>\n    .dataframe tbody tr th:only-of-type {\n        vertical-align: middle;\n    }\n\n    .dataframe tbody tr th {\n        vertical-align: top;\n    }\n\n    .dataframe thead th {\n        text-align: right;\n    }\n</style>\n<table border=\"1\" class=\"dataframe\">\n  <thead>\n    <tr style=\"text-align: right;\">\n      <th></th>\n      <th>Actual</th>\n      <th>Abiertos</th>\n      <th>Sucesores</th>\n      <th>Cerrados</th>\n    </tr>\n  </thead>\n  <tbody>\n    <tr>\n      <th>0</th>\n      <td>Nodo actual</td>\n      <td>[1, 2, 3, 4, 5, 6, 7, 8, 9, 10, 11, 12, 13, 14...</td>\n      <td>['suc1', 'suc2', 'suc3']</td>\n      <td>[1, 2, 3, 4, 5, 6, 7, 8, 9, 10, 11, 12, 13, 14...</td>\n    </tr>\n  </tbody>\n</table>\n</div>"
     },
     "metadata": {},
     "execution_count": 13
    }
   ],
   "source": [
    "from IPython.display import display\n",
    "import pandas as pd\n",
    "import numpy as np\n",
    "\n",
    "debugData = []\n",
    "\n",
    "columns = [\"Actual\",\"Abiertos\", \"Sucesores\", \"Cerrados\"]\n",
    "debugData.append([\"Nodo actual\",\n",
    "                  str(list(range(1,20))),\n",
    "                  str([\"suc1\",\"suc2\",\"suc3\"]),\n",
    "                  str(list(range(1,20)))])\n",
    "\n",
    "pd.DataFrame(np.array(debugData), columns=columns)"
   ]
  },
  {
   "source": [
    "# PATHFINDING"
   ],
   "cell_type": "markdown",
   "metadata": {}
  },
  {
   "cell_type": "code",
   "execution_count": 38,
   "metadata": {},
   "outputs": [],
   "source": [
    "board = [[1, 1, 1, 1, 1, 1, 1, 1],\n",
    "         [1, 0, 0, 0, 0, 0, 0, 1],\n",
    "         [1, 0, 1, 1, 0, 0, 0, 1],\n",
    "         [1, 0, 1, 0, 0, 1, 1, 1],\n",
    "         [1, 1, 1, 0, 1, 0, 0, 1],\n",
    "         [1, 0, 1, 0, 0, 0, 0, 1],\n",
    "         [1, 1, 1, 1, 1, 1, 1, 1]]\n",
    "\n",
    "initialStatePF = (1, 1)\n",
    "finalStatePF = (5, 6)"
   ]
  },
  {
   "cell_type": "code",
   "execution_count": 47,
   "metadata": {},
   "outputs": [],
   "source": [
    "# Cargar Celda\n",
    "\n",
    "movements = [[1,0],[-1,0],[0,1],[0,-1]]\n",
    "\n",
    "def isGoal(node):\n",
    "    return node.getState() == finalStatePF\n",
    "\n",
    "def isValid(state):\n",
    "    x = state[0]\n",
    "    y = state[1]\n",
    "    return 0 <= x < len(board) and 0 <= y < len(board[0]) and board[x][y] == 0\n",
    "\n",
    "def heuristicPF(state):\n",
    "    return abs(state[0] - finalStatePF[0]) + abs(state[1] - finalStatePF[1])\n",
    "\n",
    "def successorsPF(node, heuristicPF):\n",
    "    childs = []\n",
    "    state = node.getState()\n",
    "\n",
    "    for mov in movements:\n",
    "        current = (state[0] + mov[0], state[1] + mov[1])\n",
    "\n",
    "        if isValid(current):\n",
    "            new_g = node.getG() + 1\n",
    "            new_f = new_g + heuristicPF(current)\n",
    "\n",
    "            childs.append(Node(current, node, new_g, new_f))\n",
    "\n",
    "    return childs"
   ]
  },
  {
   "cell_type": "code",
   "execution_count": 48,
   "metadata": {},
   "outputs": [
    {
     "output_type": "stream",
     "name": "stdout",
     "text": [
      "F -> 9\nActual -> Nodo: (1, 1) (9)\nSucesores -> [Nodo: (2, 1) (9), Nodo: (1, 2) (9)]\n------------------------------------------------------------------------------------------\nF -> 9\nActual -> Nodo: (2, 1) (9)\nSucesores -> [Nodo: (3, 1) (9), Nodo: (1, 1) (11)]\n------------------------------------------------------------------------------------------\nF -> 9\nActual -> Nodo: (1, 2) (9)\nSucesores -> [Nodo: (1, 3) (9), Nodo: (1, 1) (11)]\n------------------------------------------------------------------------------------------\nF -> 9\nActual -> Nodo: (3, 1) (9)\nSucesores -> [Nodo: (2, 1) (11)]\n------------------------------------------------------------------------------------------\nF -> 9\nActual -> Nodo: (1, 3) (9)\nSucesores -> [Nodo: (1, 4) (9), Nodo: (1, 2) (11)]\n------------------------------------------------------------------------------------------\nF -> 9\nActual -> Nodo: (1, 4) (9)\nSucesores -> [Nodo: (2, 4) (9), Nodo: (1, 5) (9), Nodo: (1, 3) (11)]\n------------------------------------------------------------------------------------------\nF -> 9\nActual -> Nodo: (2, 4) (9)\nSucesores -> [Nodo: (3, 4) (9), Nodo: (1, 4) (11), Nodo: (2, 5) (9)]\n------------------------------------------------------------------------------------------\nF -> 9\nActual -> Nodo: (1, 5) (9)\nSucesores -> [Nodo: (2, 5) (9), Nodo: (1, 6) (9), Nodo: (1, 4) (11)]\n------------------------------------------------------------------------------------------\nF -> 9\nActual -> Nodo: (3, 4) (9)\nSucesores -> [Nodo: (2, 4) (11), Nodo: (3, 3) (11)]\n------------------------------------------------------------------------------------------\nF -> 9\nActual -> Nodo: (2, 5) (9)\nSucesores -> [Nodo: (1, 5) (11), Nodo: (2, 6) (9), Nodo: (2, 4) (11)]\n------------------------------------------------------------------------------------------\nF -> 9\nActual -> Nodo: (1, 6) (9)\nSucesores -> [Nodo: (2, 6) (9), Nodo: (1, 5) (11)]\n------------------------------------------------------------------------------------------\nF -> 9\nActual -> Nodo: (2, 6) (9)\nSucesores -> [Nodo: (1, 6) (11), Nodo: (2, 5) (11)]\n------------------------------------------------------------------------------------------\nF -> 11\nActual -> Nodo: (3, 3) (11)\nSucesores -> [Nodo: (4, 3) (11), Nodo: (3, 4) (11)]\n------------------------------------------------------------------------------------------\nF -> 11\nActual -> Nodo: (4, 3) (11)\nSucesores -> [Nodo: (5, 3) (11), Nodo: (3, 3) (13)]\n------------------------------------------------------------------------------------------\nF -> 11\nActual -> Nodo: (5, 3) (11)\nSucesores -> [Nodo: (4, 3) (13), Nodo: (5, 4) (11)]\n------------------------------------------------------------------------------------------\nF -> 11\nActual -> Nodo: (5, 4) (11)\nSucesores -> [Nodo: (5, 5) (11), Nodo: (5, 3) (13)]\n------------------------------------------------------------------------------------------\nF -> 11\nActual -> Nodo: (5, 5) (11)\nSucesores -> [Nodo: (4, 5) (13), Nodo: (5, 6) (11), Nodo: (5, 4) (13)]\n------------------------------------------------------------------------------------------\nF -> 11\nActual -> Nodo: (5, 6) (11)\n"
     ]
    },
    {
     "output_type": "execute_result",
     "data": {
      "text/plain": [
       "[Nodo: (2, 1) (9), Nodo: (1, 2) (9)]"
      ]
     },
     "metadata": {},
     "execution_count": 48
    }
   ],
   "source": [
    "def createInitialNodePF(initialState, finalState, newBoard, heuristic):\n",
    "    finalStatePF = finalState\n",
    "    board = newBoard\n",
    "    return Node(initialState, None, 0, heuristic(initialState))\n",
    "    \n",
    "initialNodePF = createInitialNodePF(initialStatePF, finalStatePF, board, heuristicPF)\n",
    "\n",
    "AStar(initialNodePF, successorsPF, isGoal, heuristicPF)"
   ]
  },
  {
   "cell_type": "code",
   "execution_count": null,
   "metadata": {},
   "outputs": [],
   "source": []
  }
 ]
}