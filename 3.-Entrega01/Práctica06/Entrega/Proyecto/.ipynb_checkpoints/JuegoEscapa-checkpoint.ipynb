{
 "cells": [
  {
   "cell_type": "code",
   "execution_count": 1,
   "metadata": {},
   "outputs": [],
   "source": [
    "from Loader import Loader\n",
    "\n",
    "loader = Loader()\n",
    "files = loader.get_all_levels()\n",
    "txt_level = loader.get_txt_level(files[3])\n",
    "\n",
    "level, state = loader.load_level(txt_level)"
   ]
  },
  {
   "cell_type": "code",
   "execution_count": 2,
   "metadata": {},
   "outputs": [
    {
     "data": {
      "text/plain": [
       "((0, 0, 0, 0, 0, 0, 0),\n",
       " (0, 0, 1, 1, 0, 1, 0),\n",
       " (0, 1, 1, 1, 1, 1, 0),\n",
       " (0, 1, 1, 1, 1, 1, 0),\n",
       " (0, 1, 1, 1, 1, 1, 0),\n",
       " (0, 0, 0, 0, 0, 0, 0))"
      ]
     },
     "execution_count": 2,
     "metadata": {},
     "output_type": "execute_result"
    }
   ],
   "source": [
    "level.get_board()"
   ]
  },
  {
   "cell_type": "code",
   "execution_count": 3,
   "metadata": {},
   "outputs": [],
   "source": [
    "# Cargar Celda\n",
    "\n",
    "def is_valid(board, coord):\n",
    "    try:\n",
    "        x, y = coord\n",
    "        return board[x][y] == 1\n",
    "    except IndexError:\n",
    "        return False\n",
    "\n",
    "\n",
    "def is_rocks_free(board, player, rocks, coord):\n",
    "    return (is_valid(board, coord)\n",
    "            and not tuple(coord) in rocks)\n",
    "\n",
    "\n",
    "def is_player_free(board, player, rocks, water, coord):\n",
    "    return (is_rocks_free(board, player, rocks, coord)\n",
    "            and not tuple(coord) in water)"
   ]
  },
  {
   "cell_type": "code",
   "execution_count": 4,
   "metadata": {},
   "outputs": [],
   "source": [
    "# Cargar Celda\n",
    "\n",
    "def remove_crosses_from(crosses, enemy, coord):\n",
    "    new_crosses = set(crosses)\n",
    "    sum_initial_cross = sum(coord)\n",
    "    enemy_is_facing_down = sum(enemy) < sum_initial_cross\n",
    "\n",
    "    for cross in crosses:\n",
    "        cross_sum = sum(cross)\n",
    "        if ((enemy_is_facing_down\n",
    "             and cross_sum >= sum_initial_cross)\n",
    "            or\n",
    "            (not enemy_is_facing_down\n",
    "                and cross_sum <= sum_initial_cross)):\n",
    "            new_crosses.remove(cross)\n",
    "\n",
    "    return new_crosses"
   ]
  },
  {
   "cell_type": "code",
   "execution_count": 5,
   "metadata": {},
   "outputs": [],
   "source": [
    "# Cargar Celda\n",
    "\n",
    "import numpy as np\n",
    "from JuegoEscapa import State\n",
    "\n",
    "def move_player(board, player, enemy, rocks, water, crosses, keys, target, mov):\n",
    "    next_coord = tuple(np.add(player, mov))\n",
    "\n",
    "    if is_player_free(board, player, rocks, water, next_coord):\n",
    "        player = list(next_coord)\n",
    "        # If players picks the key => Remove key.\n",
    "        if next_coord in keys:\n",
    "            keys.remove(next_coord)\n",
    "        # If players wins => Remove player.\n",
    "        elif next_coord == target:\n",
    "            player = None\n",
    "\n",
    "    return State(player, rocks, water, crosses, keys)\n",
    "\n",
    "\n",
    "def move_rocks(enemy, board, player, rocks, water, crosses, keys, mov):\n",
    "    next_coord = tuple(np.add(player, mov))\n",
    "    next_rock_space = tuple(np.add(next_coord, mov))\n",
    "\n",
    "    if (next_coord in rocks\n",
    "            and is_rocks_free(board, player, rocks, next_rock_space)):\n",
    "        rocks.remove(next_coord)\n",
    "        # We check if water in new rock position.\n",
    "        if next_rock_space in water:\n",
    "            water.remove(next_rock_space)\n",
    "        else:\n",
    "            if next_rock_space in crosses:\n",
    "                crosses = remove_crosses_from(crosses, enemy, next_rock_space)\n",
    "            rocks.add(next_rock_space)\n",
    "\n",
    "    return State(player, rocks, water, crosses, keys)\n",
    "\n",
    "def move(level, state, mov):\n",
    "    pos_movements = ((1, 0), (-1, 0), (0, 1), (0, -1))\n",
    "\n",
    "    board = level.get_board()\n",
    "    target = level.get_target()\n",
    "    enemy = level.get_enemy()\n",
    "\n",
    "    player = state.get_player()\n",
    "    rocks = state.get_rocks()\n",
    "    water = state.get_water()\n",
    "    crosses = state.get_crosses()\n",
    "    keys = state.get_keys()\n",
    "\n",
    "    if tuple(mov) in pos_movements:\n",
    "        s1 = move_rocks(\n",
    "            enemy, board, player, rocks, water, crosses, keys, mov)\n",
    "        s2 = move_player(\n",
    "            board, player, enemy, s1.get_rocks(), s1.get_water(), s1.get_crosses(), keys, target, mov)\n",
    "        return s2\n",
    "\n",
    "    return state"
   ]
  },
  {
   "cell_type": "code",
   "execution_count": 6,
   "metadata": {},
   "outputs": [],
   "source": [
    "# Cargar Celda\n",
    "\n",
    "def is_goal(state):\n",
    "    player = state.get_player()\n",
    "    return not player"
   ]
  },
  {
   "cell_type": "code",
   "execution_count": 7,
   "metadata": {},
   "outputs": [],
   "source": [
    "from Gui import Gui\n",
    "\n",
    "ui = Gui()"
   ]
  },
  {
   "cell_type": "code",
   "execution_count": 8,
   "metadata": {},
   "outputs": [
    {
     "data": {
      "application/vnd.jupyter.widget-view+json": {
       "model_id": "b1f33d9e320e435998b2d31bc13e9136",
       "version_major": 2,
       "version_minor": 0
      },
      "text/plain": [
       "HTML(value='<style> img.game {width: 50px !important; height: 50px !important;}</style><table><tr><td><img cla…"
      ]
     },
     "metadata": {},
     "output_type": "display_data"
    }
   ],
   "source": [
    "from ipywidgets import HTML\n",
    "\n",
    "s1 = state\n",
    "\n",
    "html_str = ui.get_html(level, state)\n",
    "HTML(value = html_str)"
   ]
  },
  {
   "cell_type": "code",
   "execution_count": 9,
   "metadata": {},
   "outputs": [
    {
     "data": {
      "application/vnd.jupyter.widget-view+json": {
       "model_id": "f1a58de5908145249e402d0bd840e09c",
       "version_major": 2,
       "version_minor": 0
      },
      "text/plain": [
       "VBox(children=(Dropdown(description='Choose Level:', options=('level_PruebaJEscapa.txt', 'level_PruebaJEscapaT…"
      ]
     },
     "metadata": {},
     "output_type": "display_data"
    }
   ],
   "source": [
    "from IPython.display import display\n",
    "from MediadorVPedro import Mediator\n",
    "from Gui import Gui\n",
    "\n",
    "import warnings\n",
    "warnings.filterwarnings(\"ignore\")\n",
    "ui = Gui(manual = True)\n",
    "\n",
    "med = Mediator.get_instance(modelPath = \"JuegoEscapa.ipynb\")   \n",
    "med.register_ui(ui)\n",
    "\n",
    "\n",
    "# Cuando llamo a la función se crean\n",
    "display(ui.get_ui_elements())"
   ]
  },
  {
   "cell_type": "markdown",
   "metadata": {},
   "source": [
    "### Arreglar lo de la llave\n",
    "### Que el jugador muera.\n",
    "### Varios enemigos y que las cuces no se quiten.\n",
    "### Mejorar la estructura de clases y todo.\n",
    "### Que eliga Daniela luego."
   ]
  }
 ],
 "metadata": {
  "kernelspec": {
   "display_name": "Python 3.7.3 64-bit",
   "language": "python",
   "name": "python37364bit4f04a4998edd4fe39bb27648f56c05ea"
  },
  "language_info": {
   "codemirror_mode": {
    "name": "ipython",
    "version": 3
   },
   "file_extension": ".py",
   "mimetype": "text/x-python",
   "name": "python",
   "nbconvert_exporter": "python",
   "pygments_lexer": "ipython3",
   "version": "3.7.3"
  }
 },
 "nbformat": 4,
 "nbformat_minor": 2
}
