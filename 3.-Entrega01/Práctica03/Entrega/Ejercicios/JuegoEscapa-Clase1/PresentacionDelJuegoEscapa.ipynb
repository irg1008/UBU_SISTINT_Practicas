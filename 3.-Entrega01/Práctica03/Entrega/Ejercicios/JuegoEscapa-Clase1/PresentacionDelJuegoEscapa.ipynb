{
 "cells": [
  {
   "cell_type": "markdown",
   "metadata": {},
   "source": [
    "# Juego\n",
    "\n",
    "\n",
    "### *Escapa, con la llave*\n",
    "\n",
    "---\n",
    "\n",
    "En este juego has de:\n",
    "\n",
    "- ir hasta donde hay una llave, para luego\n",
    "- ir con la llave hasta donde está una puerta, para así poder abrirla.\n",
    "\n",
    "Hay casillas de agua (prohibidas) de tamaño igual a una celda. Para poder *pasar por encima* de dichas casillas, has de *taponarlas*, desplazando piedras hasta ellas.\n",
    "\n",
    "Por otro lado, va a haber *enemigos* que disparan, *inutilizando* determinadas direcciones (filas o columnas)\n",
    "\n",
    "Se pueden usar las piedras para protegrse de los *disparos*.\n",
    "\n",
    "**OPCIONAL**: Hay varias cosas que se pueden considerar, como:\n",
    "\n",
    "- Los disparos se pueden producir tanto en horizontal como en vertical (a elegir la opción adecuada, por parte de vosotros).\n",
    "- Puede haber más de 1 enemigo\n",
    "- Puede haber varias casillas con piedras y con *agua*.\n",
    "\n",
    "<img style=\"float:left\" width=\"35%\" src=\"pics/JuegoBase.png\">"
   ]
  },
  {
   "cell_type": "markdown",
   "metadata": {},
   "source": [
    "---\n",
    "Vamos a poder tener varios mapas de niveles. Dichos mapas se van a representar, en un primer momento, mediante la siguiente codificación:\n",
    "                             \n",
    "- El conjunto de los elementos que van a definir el tablero y la(s) pared(es) es **#**\n",
    "- El conjunto de elementos que describen zonas de agua, van a tener el símbolo asociado **-**\n",
    "- La posición en la que está la llave, tendrá el símbolo **¡**\n",
    "- La posición en la que está la puerta de salida, tendrá el símbolo *****\n",
    "- La posición en la que está un enemigo, tendrá el símbolo asociado **!**\n",
    "- La posición en la que está una piedra, tendrá la el símbolo asociado **+**\n",
    "- La posición del jugador se representará con el símbolo **@**"
   ]
  },
  {
   "cell_type": "markdown",
   "metadata": {},
   "source": [
    "---\n",
    "Así, por ejemplo, podemos considerar un tablero de tamaño **6 x 7** tal como:\n",
    "\n",
    "    #######\n",
    "    #!  #*#\n",
    "    #x + -#\n",
    "    #x   @#\n",
    "    #x¡   #\n",
    "    #######\n",
    "\n",
    "En este tablero aparecen todos los elementos necesarios que definen el juego."
   ]
  },
  {
   "cell_type": "markdown",
   "metadata": {},
   "source": [
    "---\n",
    "## Ejercicio 1\n",
    "\n",
    "Vamos a hacer un primer ejercicio consistente en codificar el tablero que aparece arriba, convirtiéndolo en una matriz de tamaño de **6 x 7** de números."
   ]
  },
  {
   "cell_type": "code",
   "execution_count": 1,
   "metadata": {},
   "outputs": [],
   "source": [
    "# HAZ EL CÓDIGO A PARTIR DE AQUÍ..."
   ]
  }
 ],
 "metadata": {
  "kernelspec": {
   "display_name": "Python 3",
   "language": "python",
   "name": "python3"
  },
  "language_info": {
   "codemirror_mode": {
    "name": "ipython",
    "version": 3
   },
   "file_extension": ".py",
   "mimetype": "text/x-python",
   "name": "python",
   "nbconvert_exporter": "python",
   "pygments_lexer": "ipython3",
   "version": "3.7.4"
  }
 },
 "nbformat": 4,
 "nbformat_minor": 2
}
