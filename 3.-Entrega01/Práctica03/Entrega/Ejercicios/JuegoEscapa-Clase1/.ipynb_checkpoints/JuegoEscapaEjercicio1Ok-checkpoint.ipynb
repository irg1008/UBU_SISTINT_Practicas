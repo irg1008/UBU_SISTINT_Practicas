{
 "cells": [
  {
   "cell_type": "markdown",
   "metadata": {
    "collapsed": true
   },
   "source": [
    "# Ejercicio 1\n",
    "\n",
    "**Escapa, con la llave** es un juego de puzzle que puede tener una cantidad muy grande de niveles. \n",
    "\n",
    "Los mapas de los niveles se pueden codificar como texto. \n",
    "--------\n",
    "\n"
   ]
  },
  {
   "cell_type": "markdown",
   "metadata": {},
   "source": [
    "## Modelado del juego\n",
    "\n",
    "\n",
    "El juego tiene una parte estática, correspondiente al tablero, y una parte dinámica (estado): posición del jugador y casillas temporales (cuando el agua esté tapada por la piedra, por ejemplo).\n",
    "\n",
    "El tablero es un *array2D*, resultado de hacer las siguientes substituciones:\n",
    "\n",
    "- **#** --> 0\n",
    "- **-** --> 1\n",
    "- **¡** --> 2\n",
    "- ***** --> 3\n",
    "- **!** --> 4\n",
    "- **+** --> 5\n",
    "- **@** --> 6\n",
    "\n",
    "### ¿Qué hay que hacer en el primer ejercicio?\n",
    "\n",
    "Hay que intentar cargar un fichero .txt con un nivel y producir el tablero."
   ]
  },
  {
   "cell_type": "markdown",
   "metadata": {},
   "source": [
    "## Instrucciones *a seguir*\n",
    "\n",
    "- Hay que crear una función que tome el nombre del nivel y devuelta una lista 2D con el tablero.\n",
    "\n",
    "### Pasos para su *implementación*.\n",
    "Una manera de hacer esta función es siguiendo estos pasos, pero la implementación es libre y podría funcionar de muchas maneras.\n",
    "1. Leer el fichero con *readlines()* devuelve una lista de filas. Recorriendo esta lista podemos:\n",
    "    - Saber el número de filas del mapa (Alto del tablero).\n",
    "    - Saber el ancho máximo de las filas (Ancho del tablero).\n",
    "2. Crear un tablero vacio. Ej tablero = [ ]\n",
    "3. Recorrer nuevamente las filas que devuelve *readlines()*. Por cada linea:\n",
    "    - crear una lista vacia del tamaño del ancho del tablero. (ver uso de repeat)\n",
    "    - recorrer cada uno de los carácteres de cada linea. Actualizar esa lista Vacia de acuerdo el los valores del enunciado\n",
    "    - añadir esa lista al tablero\n",
    "4. Devolver el tablero."
   ]
  },
  {
   "cell_type": "code",
   "execution_count": 1,
   "metadata": {},
   "outputs": [
    {
     "name": "stdout",
     "output_type": "stream",
     "text": [
      "[0, 0, 0, 0, 0]\n"
     ]
    }
   ],
   "source": [
    "# uso de repeat\n",
    "import itertools\n",
    "\n",
    "listaVacia=list(itertools.repeat(0,5))\n",
    "print(listaVacia)"
   ]
  },
  {
   "cell_type": "code",
   "execution_count": 2,
   "metadata": {},
   "outputs": [],
   "source": [
    "fileHandler = open (\"level_medio_VpedroJEscapa.txt\", \"r\",encoding=\"utf-8\")\n",
    " \n",
    "# Get list of all lines in file\n",
    "listOfLines = fileHandler.readlines()\n",
    " \n",
    "# Close file \n",
    "fileHandler.close()"
   ]
  },
  {
   "cell_type": "code",
   "execution_count": 3,
   "metadata": {},
   "outputs": [
    {
     "name": "stdout",
     "output_type": "stream",
     "text": [
      "#######\n",
      "#!  #*#\n",
      "#x + -#\n",
      "#x   @#\n",
      "#x¡   #\n",
      "#######\n"
     ]
    }
   ],
   "source": [
    "for line in listOfLines:\n",
    "    a=line.strip()\n",
    "    print(a)"
   ]
  },
  {
   "cell_type": "code",
   "execution_count": 4,
   "metadata": {},
   "outputs": [
    {
     "ename": "ModuleNotFoundError",
     "evalue": "No module named 'LoaderPedroJuegoEscapaOk'",
     "output_type": "error",
     "traceback": [
      "\u001b[1;31m---------------------------------------------------------------------------\u001b[0m",
      "\u001b[1;31mModuleNotFoundError\u001b[0m                       Traceback (most recent call last)",
      "\u001b[1;32m<ipython-input-4-fbe3a92fb35b>\u001b[0m in \u001b[0;36m<module>\u001b[1;34m\u001b[0m\n\u001b[0;32m      5\u001b[0m \u001b[1;33m\u001b[0m\u001b[0m\n\u001b[0;32m      6\u001b[0m \u001b[1;31m#from modelo import Interruptor, Estado, Nivel, Juego\u001b[0m\u001b[1;33m\u001b[0m\u001b[1;33m\u001b[0m\u001b[1;33m\u001b[0m\u001b[0m\n\u001b[1;32m----> 7\u001b[1;33m \u001b[1;32mfrom\u001b[0m \u001b[0mLoaderPedroJuegoEscapaOk\u001b[0m \u001b[1;32mimport\u001b[0m \u001b[0mgetJuego\u001b[0m\u001b[1;33m\u001b[0m\u001b[1;33m\u001b[0m\u001b[0m\n\u001b[0m\u001b[0;32m      8\u001b[0m \u001b[1;33m\u001b[0m\u001b[0m\n\u001b[0;32m      9\u001b[0m \u001b[1;33m\u001b[0m\u001b[0m\n",
      "\u001b[1;31mModuleNotFoundError\u001b[0m: No module named 'LoaderPedroJuegoEscapaOk'"
     ]
    }
   ],
   "source": [
    "# Este código sirve \"en sí mismo\", es decir, independientemente de lo que he escrito en las \"cajas\" anteriores. \n",
    "\n",
    "import functools\n",
    "import itertools\n",
    "\n",
    "#from modelo import Interruptor, Estado, Nivel, Juego\n",
    "from LoaderJuegoEscapa import getJuego\n",
    "  \n",
    "\n",
    "\n",
    "j=getJuego('level_medio_VpedroJEscapa.txt')\n",
    "\n",
    "print(j)"
   ]
  },
  {
   "cell_type": "code",
   "execution_count": null,
   "metadata": {},
   "outputs": [],
   "source": []
  },
  {
   "cell_type": "code",
   "execution_count": null,
   "metadata": {},
   "outputs": [],
   "source": []
  }
 ],
 "metadata": {
  "kernelspec": {
   "display_name": "Python 3",
   "language": "python",
   "name": "python3"
  },
  "language_info": {
   "codemirror_mode": {
    "name": "ipython",
    "version": 3
   },
   "file_extension": ".py",
   "mimetype": "text/x-python",
   "name": "python",
   "nbconvert_exporter": "python",
   "pygments_lexer": "ipython3",
   "version": "3.7.4"
  }
 },
 "nbformat": 4,
 "nbformat_minor": 1
}
