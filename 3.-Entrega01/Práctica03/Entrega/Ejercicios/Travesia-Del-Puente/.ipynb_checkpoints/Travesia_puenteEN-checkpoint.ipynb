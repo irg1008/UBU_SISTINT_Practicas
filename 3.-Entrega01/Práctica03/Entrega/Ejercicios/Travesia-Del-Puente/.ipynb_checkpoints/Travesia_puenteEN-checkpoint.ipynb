{
 "cells": [
  {
   "cell_type": "markdown",
   "metadata": {
    "slideshow": {
     "slide_type": "slide"
    }
   },
   "source": [
    "# Bridge and torch problem\n",
    "\n",
    "The bridge and torch problem (also known as The Midnight Train and Dangerous crossing is a logic puzzle that deals with five people, a bridge and a torch. It is one of the category of river crossing puzzles, where a number of objects must move across a river, with some constraints.\n",
    "\n",
    "The goal of the game is to help a family cross the bridge. The bridge is crossed in complete darkness so you need a lamp to cross it, due to the fragility of the bridge only two people can cross it at the same time. Each person crosses at a different pace and when two people are crossing at the same time they must move at the slowest pace.\n",
    "\n",
    "http://www.juegosarea.com/travesia-del-puente.html\n",
    "\n",
    "\n",
    "\n"
   ]
  },
  {
   "cell_type": "markdown",
   "metadata": {
    "slideshow": {
     "slide_type": "slide"
    }
   },
   "source": [
    "## Rules\n",
    "\n",
    "- Torch only last 30 secondos. It is necessary to cross before the torch turns off.\n",
    "- Only two people can cross at the same time. \n",
    "- Two people must move at the speed of the slowest person.\n",
    "\n",
    "\n",
    "## Members of the family \n",
    "- Boy: 1s\n",
    "- Teenager: 3s\n",
    "- Mother: 6s\n",
    "- Father 8s\n",
    "- Grandfather 12s"
   ]
  },
  {
   "cell_type": "markdown",
   "metadata": {
    "slideshow": {
     "slide_type": "slide"
    }
   },
   "source": [
    "# Defining data structures\n",
    "\n",
    "- We represent the remaining time with a variable called time.\n",
    "- We represent where the torch is with a Boolean variable (True: danger zone, False: safe zone)\n",
    "\n",
    "- We can define each of the relatives as a list, each relative is defined by the name and the time he needs to cross.\n",
    "\n",
    "- We will have a list called *saved* with family members who have already crossed and another list *in\\_danger* with family members who still need to cross.\n",
    "\n"
   ]
  },
  {
   "cell_type": "markdown",
   "metadata": {
    "slideshow": {
     "slide_type": "slide"
    }
   },
   "source": [
    "\n",
    "State would be a class that contains the two lists (*saved* and *in\\_danger*), the remaining time and the boolean variable torch.\n",
    "\n",
    "- There would be a function \\_\\_str\\_\\_ that would return a string that represent the state.\n",
    "\n",
    "- There would be a function \\_\\_eq\\_\\_ that would return if two states are equal. Two states are the same if their strings are equal.\n",
    "\n",
    "- There would be a method \\_\\_hash\\_\\_ to be able to use Crossing_State_Base in a set and to know if it has already been visited\n",
    "\n",
    "\n",
    "```Python\n",
    "def __hash__(self):\n",
    "    return hash(self.__str__())\n",
    "```\n",
    "\n",
    "\n"
   ]
  },
  {
   "cell_type": "markdown",
   "metadata": {
    "slideshow": {
     "slide_type": "slide"
    }
   },
   "source": [
    "# Implementation\n",
    "\n",
    "```Python\n",
    "class Crossing_State_Base:\n",
    "    \n",
    "    def __init__(self):\n",
    "\n",
    "        self.time = 30\n",
    "        self.torch = True\n",
    "\n",
    "        boy = [\"Boy\", 1]\n",
    "        # complete this\n",
    "\n",
    "        self.in_danger = []\n",
    "        self.saved = []\n",
    "        \n",
    "        \n",
    "    def __str__(self):\n",
    "        representation = ''\n",
    "        # complete this\n",
    "        return rep\n",
    "    \n",
    "    def __eq__(self, other):        \n",
    "        return self.__str__() == other.__str__()\n",
    "        \n",
    "    def __hash__(self):\n",
    "        return hash(self.__str__())\n",
    "```"
   ]
  },
  {
   "cell_type": "code",
   "execution_count": null,
   "metadata": {
    "collapsed": true,
    "slideshow": {
     "slide_type": "slide"
    }
   },
   "outputs": [],
   "source": [
    "class Crossing_State_Base:\n",
    "    \n",
    "    def __init__(self):\n",
    "\n",
    "        self.time = 30\n",
    "        self.torch = True\n",
    "\n",
    "        boy = [\"Boy\", 1]\n",
    "        teenager = [\"Teenager\", 3]\n",
    "        mother = [\"Mother\", 6]\n",
    "        father = [\"Father\", 8]\n",
    "        grandfather = [\"Grandfather\", 12]\n",
    "\n",
    "        self.in_danger = [boy, teenager, mother, father, grandfather]\n",
    "        self.saved = []\n",
    "        \n",
    "        \n",
    "    def __str__(self):\n",
    "        rep = 'Torch {} Danger {} Saved {} Time {} \\n'.format(\n",
    "            self.torch,[relative[0] for relative in self.in_danger],\n",
    "            [relative[0] for relative in self.saved],self.time)\n",
    "        return rep\n",
    "    \n",
    "    def __eq__(self, other):        \n",
    "        return self.__str__() == other.__str__()\n",
    "    \n",
    "    def __hash__(self):\n",
    "        return hash(self.__str__())\n",
    "        \n",
    "    \n"
   ]
  },
  {
   "cell_type": "code",
   "execution_count": null,
   "metadata": {
    "slideshow": {
     "slide_type": "slide"
    }
   },
   "outputs": [],
   "source": [
    "# ejemplo: Creating the initial state\n",
    "e1 =  Crossing_State_Base()\n",
    "print(e1)"
   ]
  },
  {
   "cell_type": "markdown",
   "metadata": {
    "slideshow": {
     "slide_type": "slide"
    }
   },
   "source": [
    "## ¿which are the final states?\n",
    "\n",
    "- For simplicity (two simpler classes instead of a big one) in Crossing_State_Base we only define the State, then in Crossing_State class we are going to define the rest of the functions.\n",
    "\n",
    "So, we need to:\n",
    "\n",
    "- Create a class called Crossing_State that inherit from Crossing_State_Base\n",
    "- Create a function calle is_final() that returns True if the remaining time is <= 0 or *in_danger* is empty.\n",
    "\n",
    "Try to create **is_final** in a new class classe Crossing_State. Do not go to the next slide\n",
    "\n"
   ]
  },
  {
   "cell_type": "markdown",
   "metadata": {
    "slideshow": {
     "slide_type": "slide"
    }
   },
   "source": [
    "Add this to the Crossing_State class\n",
    "\n",
    "```Python\n",
    "def is_final(self):\n",
    "        return len(self.en_peligro)==0 or self.tiempo <= 0\n",
    "    \n",
    "```"
   ]
  },
  {
   "cell_type": "markdown",
   "metadata": {
    "slideshow": {
     "slide_type": "slide"
    }
   },
   "source": [
    "## How to create the next States?\n",
    "\n",
    "\n",
    "- When going from *in_danger* to *saved* 2 relatives move at the same time from *saved* to *in_danger* only 1 can move.\n",
    "\n",
    "- When the torch variable is True, the relatives move from the list *in_danger* to the list *saved* and if the variable is False, the movement is the opposite.\n",
    "\n",
    "- Every tima a movement is made, the cost of the slowest relative is subtracted from the variable time is and the value of Torch is changed.\n",
    "\n",
    "- We are going to define a move function, this function receives a list of relatives (which will have size 1 or 2 depending on the value of the Torch.) This function will modify the variables of the state.\n",
    "\n",
    "\n",
    "\n",
    "\n"
   ]
  },
  {
   "cell_type": "markdown",
   "metadata": {
    "slideshow": {
     "slide_type": "slide"
    }
   },
   "source": [
    "We can create an auxiliar function called \n",
    "\n",
    "Se puede tener una función auxiliar *get_possible_movements* which calcules what relatives can we move in each moment.\n",
    "\n",
    "- This function will return a **list of lists**.\n",
    "\n",
    "    - if torch is True, the function returns a list of all posible combination of 2 relatives of in_danger list. Each combination is a list.\n",
    "    - if torch is False, (the case when a relative is back with the torch), there will be as many possible movementss as relatives in *saved* list. Each possible movements will ve a list (with only one element).\n",
    "    \n",
    "\n",
    "\n"
   ]
  },
  {
   "cell_type": "markdown",
   "metadata": {
    "slideshow": {
     "slide_type": "slide"
    }
   },
   "source": [
    "### Implementation tips\n",
    "\n",
    "Para implementarlo se puede usar itertools.combinations que devuelve las posibles combinaciones de un tamaño dado\n",
    "\n",
    "```Python\n",
    "from itertools import combinations\n",
    "\n",
    "x = ['a','b','c','d']\n",
    "\n",
    "list(combinations(x,2)) #return a list of all combination of 2 elements)\n",
    "#list(combinations(x,1)) # devolvería una lista con todas las combinaciones de tamaño 1\n",
    "```\n",
    "\n",
    "It is possible to add elements with **append** and remove them with **remove**\n",
    "Example:\n",
    "\n",
    "``` Python\n",
    "l1 = [1,2,3,4]\n",
    "l1.remove(2)\n",
    "print(l1)\n",
    "l1.append(5)\n",
    "print(l1)\n",
    "```\n",
    "Define a function called **move(self,mov)** that performs the movement.\n",
    "Try before looking the solution"
   ]
  },
  {
   "cell_type": "code",
   "execution_count": null,
   "metadata": {
    "slideshow": {
     "slide_type": "slide"
    }
   },
   "outputs": [],
   "source": [
    "from itertools import combinations\n",
    "\n",
    "class Crossing_State(Crossing_State_Base):    \n",
    "   \n",
    "    def is_final(self):\n",
    "        return len(self.in_danger)==0 or self.time <= 0    \n",
    "    \n",
    "    def get_possible_movements(self):        \n",
    "        if self.torch:\n",
    "            return list(combinations(self.in_danger,2))\n",
    "        else:\n",
    "            return list(combinations(self.saved,1))\n",
    "        \n",
    "    def move(self,mov):\n",
    "        max_cost = 0\n",
    "        for relative in mov:            \n",
    "            if relative[1] > max_cost:\n",
    "                max_cost = relative[1]            \n",
    "            if self.torch:\n",
    "                self.in_danger.remove(relative)\n",
    "                self.saved.append(relative)\n",
    "            else:\n",
    "                self.saved.remove(relative)\n",
    "                self.in_danger.append(relative)                \n",
    "        self.time -=max_cost\n",
    "        self.torch = not self.torch "
   ]
  },
  {
   "cell_type": "code",
   "execution_count": null,
   "metadata": {
    "slideshow": {
     "slide_type": "slide"
    }
   },
   "outputs": [],
   "source": [
    "# Ejemplo de como se usaría get_posibles_movimientos\n",
    "e1 =  Crossing_State()\n",
    "possible_movs = e1.get_possible_movements()\n",
    "possible_movs"
   ]
  },
  {
   "cell_type": "code",
   "execution_count": null,
   "metadata": {
    "slideshow": {
     "slide_type": "slide"
    }
   },
   "outputs": [],
   "source": [
    "# Ejemplo de como se usaría mueve para realizar un movimiento\n",
    "# Example: using move to perform the first possible movement\n",
    "\n",
    "e1.move(possible_movs[0])\n",
    "print(e1)"
   ]
  },
  {
   "cell_type": "markdown",
   "metadata": {
    "slideshow": {
     "slide_type": "slide"
    }
   },
   "source": [
    "# Last Adaptations \n",
    "\n",
    "### Logging al movements made\n",
    "\n",
    "- To recover the solution we are going to create a new Crossing_State str attribute called **log**.\n",
    "- It will store a new line for each movement made.\n",
    "     - It would be necessary to modify the function 'move' to carry out this record.\n",
    "\n"
   ]
  },
  {
   "cell_type": "code",
   "execution_count": null,
   "metadata": {
    "collapsed": true,
    "slideshow": {
     "slide_type": "slide"
    }
   },
   "outputs": [],
   "source": [
    "from itertools import combinations\n",
    "\n",
    "class Crossing_State(Crossing_State_Base):\n",
    "    \n",
    "    def __init__(self):\n",
    "        Crossing_State_Base.__init__(self)\n",
    "        self.log ='Torch {} in Danger {} Saved {} Time {} \\n'.format(\n",
    "            self.torch,[relative[0] for relative in self.in_danger],\"\",self.time)       \n",
    "        \n",
    "    def is_final(self):\n",
    "        return len(self.in_danger)==0 or self.time <= 0    \n",
    "    \n",
    "    def get_possible_movements(self):        \n",
    "        if self.torch:\n",
    "            return list(combinations(self.in_danger,2))\n",
    "        else:\n",
    "            return list(combinations(self.saved,1))\n",
    "        \n",
    "    def move(self,mov):\n",
    "        max_cost = 0\n",
    "        for relative in mov:            \n",
    "            if relative[1] > max_cost:\n",
    "                max_cost = relative[1]            \n",
    "            if self.torch:\n",
    "                self.in_danger.remove(relative)\n",
    "                self.saved.append(relative)\n",
    "            else:\n",
    "                self.saved.remove(relative)\n",
    "                self.in_danger.append(relative)                \n",
    "        self.time -=max_cost\n",
    "        self.torch = not self.torch \n",
    "        self.log+='Torch {} Time {} Move {} \\n'.format(\n",
    "            self.torch,self.time,[relative[0] for relative in mov])"
   ]
  },
  {
   "cell_type": "code",
   "execution_count": null,
   "metadata": {
    "slideshow": {
     "slide_type": "slide"
    }
   },
   "outputs": [],
   "source": [
    "e1 =  Crossing_State()\n",
    "possible_movs = e1.get_possible_movements()\n",
    "e1.move(possible_movs[0])\n",
    "possible_movs = e1.get_possible_movements()\n",
    "e1.move(possible_movs[0])\n",
    "\n",
    "print(e1.log)\n"
   ]
  },
  {
   "cell_type": "markdown",
   "metadata": {
    "slideshow": {
     "slide_type": "slide"
    }
   },
   "source": [
    "# Solving the problem: Depth First Search (DFS)\n",
    "\n",
    "\n",
    "```Python\n",
    "def dfs(initial_state):\n",
    "    visited, heap = set(), [initial_state]\n",
    "    while heap: # while there are remaining elements in the heap, take the first\n",
    "        current = heap.pop()\n",
    "        \n",
    "        if is_goal(current): # test if is goal \n",
    "            return current        \n",
    "        \n",
    "        if current not in visited: # if is not goal, and it has not been visited before, expand it\n",
    "            visited.add(current)\n",
    "            suc = expand(current,visited)\n",
    "            heap.extend(suc)\n",
    "    \n",
    "```\n",
    "Continue in the next slide"
   ]
  },
  {
   "cell_type": "markdown",
   "metadata": {
    "slideshow": {
     "slide_type": "slide"
    }
   },
   "source": [
    "What extends does\n",
    "```Python\n",
    "l1 = [1,2,3,4]\n",
    "l1.extend([5,6,7])\n",
    "l1\n",
    "\n",
    "[1, 2, 3, 4, 5, 6, 7]\n",
    "\n",
    "```\n",
    "- Haría falta una función *is_meta* que devuelve True cuando todos los familiares están a salvo y el tiempo es mayor o igual que 0.\n",
    "\n",
    "- Haría falta una función sucesores que devuelve una lista de estados sucesores:\n",
    "    - genera un estado nuevo por cada posible movimiento que se pueda hacer\n",
    "    - no devuelve estados que ya estuviesen visitados\n",
    "    - cada estado que devuelve se genera de una copia del estado original, para no cambiar los valores del estado original. Pista  copia = copy.deepcopy(estado)\n",
    "    - si es un estado final devuelve la lista vacia\n",
    "    \n",
    "  \n",
    "- Intenta implementar ambas funciones antes de pasar de diapositiva.\n",
    "\n",
    "\n",
    "\n",
    "- We will need a  *is_goal* that returns True when all the relatives are safe and the time is greater than or equal to 0.\n",
    "\n",
    "- We will need a *expand* function that generate list of successor states:\n",
    "     - generates a new state for every possible move that can be made\n",
    "     - does not return states that were already visited\n",
    "     - each state it returns is generated from a copy of the original state, to avoid modifying the 'father' state. Copy track = copy.deepcopy (state)\n",
    "     - if the state is a final state returns the empty list\n",
    "    \n",
    "  \n",
    "- Try to implement both functions before going on slide."
   ]
  },
  {
   "cell_type": "code",
   "execution_count": null,
   "metadata": {
    "collapsed": true,
    "slideshow": {
     "slide_type": "slide"
    }
   },
   "outputs": [],
   "source": [
    "import copy\n",
    "\n",
    "\n",
    "def is_goal(state):\n",
    "    if len(state.in_danger)==0 and state.time>=0:\n",
    "        return True\n",
    "    else:\n",
    "        return False\n",
    "    \n",
    "    \n",
    "def expand(state,visited):\n",
    "    \n",
    "    if state.is_final():\n",
    "        return []    \n",
    "    succesors = []\n",
    "    possible_movs = state.get_possible_movements()\n",
    "    \n",
    "    for mov in possible_movs:\n",
    "        state_copy = copy.deepcopy(state)\n",
    "        state_copy.move(mov)\n",
    "        \n",
    "        if not state_copy in visited:\n",
    "            succesors.append(state_copy)\n",
    "            \n",
    "    return succesors"
   ]
  },
  {
   "cell_type": "code",
   "execution_count": null,
   "metadata": {
    "slideshow": {
     "slide_type": "slide"
    }
   },
   "outputs": [],
   "source": [
    "def dfs(initial_state):\n",
    "    visited, heap = set(), [initial_state]\n",
    "    while heap: \n",
    "        current = heap.pop()\n",
    "\n",
    "        if is_goal(current): \n",
    "            return current        \n",
    "\n",
    "        if current not in visited: \n",
    "            visited.add(current)\n",
    "            suc = expand(current,visited)\n",
    "            heap.extend(suc)\n",
    "\n",
    "e1 =  Crossing_State()\n",
    "goal = dfs(e1)\n",
    "print(goal.log)"
   ]
  }
 ],
 "metadata": {
  "celltoolbar": "Slideshow",
  "kernelspec": {
   "display_name": "Python 3",
   "language": "python",
   "name": "python3"
  },
  "language_info": {
   "codemirror_mode": {
    "name": "ipython",
    "version": 3
   },
   "file_extension": ".py",
   "mimetype": "text/x-python",
   "name": "python",
   "nbconvert_exporter": "python",
   "pygments_lexer": "ipython3",
   "version": "3.6.4"
  }
 },
 "nbformat": 4,
 "nbformat_minor": 2
}
