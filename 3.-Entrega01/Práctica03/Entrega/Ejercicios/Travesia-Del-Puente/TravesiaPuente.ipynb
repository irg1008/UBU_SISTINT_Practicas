{
 "metadata": {
  "language_info": {
   "codemirror_mode": {
    "name": "ipython",
    "version": 3
   },
   "file_extension": ".py",
   "mimetype": "text/x-python",
   "name": "python",
   "nbconvert_exporter": "python",
   "pygments_lexer": "ipython3",
   "version": "3.8.3-final"
  },
  "orig_nbformat": 2,
  "kernelspec": {
   "name": "Python 3.8.3 64-bit ('base': conda)",
   "display_name": "Python 3.8.3 64-bit ('base': conda)",
   "metadata": {
    "interpreter": {
     "hash": "a707b6ce8c685eb936424fcc3009d4b4b7a52543c4db09380a3fc49186ceb509"
    }
   }
  }
 },
 "nbformat": 4,
 "nbformat_minor": 2,
 "cells": [
  {
   "cell_type": "code",
   "execution_count": 28,
   "metadata": {},
   "outputs": [],
   "source": [
    "class EstadoTravesiaBase:\n",
    "    def __init__(self):\n",
    "        self.tiempo = 30\n",
    "        self.candil = True\n",
    "\n",
    "        familiares = [\n",
    "            \"Hijo Pequeño\": 1,\n",
    "            \"Hijo Mayor\": 3,\n",
    "            \"Madre\": 6,\n",
    "            \"Padre\": 8,\n",
    "            \"Abuelo\": 12\n",
    "        ]\n",
    "        \n",
    "        self.en_peligro = [familiar in familiares]\n",
    "        self.salvados = []\n",
    "\n",
    "    def __str__(self):\n",
    "        return \"Candil: {}. Peligro: {}. Salvados: {}. Tiempo: {}. \\n\".format(\n",
    "            self.candil,\n",
    "            [familiar[0] for familiar in self.en_peligro],\n",
    "            [familiar[0] for familiar in self.salvados],\n",
    "            self.tiempo)\n",
    "\n",
    "    def __eq__(self, other):\n",
    "        return self.__str__() == other.__str__()\n",
    "\n",
    "    def __hash__(self):\n",
    "        return hash(self.__str__())"
   ]
  },
  {
   "cell_type": "code",
   "execution_count": 27,
   "metadata": {},
   "outputs": [
    {
     "output_type": "stream",
     "name": "stdout",
     "text": [
      "Candil: True. Peligro: ['Hijo Pequeño', 'Hijo Mayor', 'Madre', 'Padre', 'Abuelo']. Salvados: []. Tiempo: 30. \n\n"
     ]
    }
   ],
   "source": [
    "estado_1 = EstadoTravesiaBase()\n",
    "print(estado_1)"
   ]
  },
  {
   "cell_type": "code",
   "execution_count": 30,
   "metadata": {},
   "outputs": [],
   "source": [
    "from itertools import combinations\n",
    "\n",
    "class EstadoTravesia(EstadoTravesiaBase):\n",
    "    def es_final(self):\n",
    "        time, en_peligro = self\n",
    "        return not tiempo or not en_peligro\n",
    "\n",
    "    def "
   ]
  },
  {
   "cell_type": "code",
   "execution_count": null,
   "metadata": {},
   "outputs": [],
   "source": []
  }
 ]
}