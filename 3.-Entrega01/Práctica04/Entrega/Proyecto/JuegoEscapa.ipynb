{
 "metadata": {
  "language_info": {
   "codemirror_mode": {
    "name": "ipython",
    "version": 3
   },
   "file_extension": ".py",
   "mimetype": "text/x-python",
   "name": "python",
   "nbconvert_exporter": "python",
   "pygments_lexer": "ipython3",
   "version": "3.8.3-final"
  },
  "orig_nbformat": 2,
  "kernelspec": {
   "name": "Python 3.8.3 64-bit ('base': conda)",
   "display_name": "Python 3.8.3 64-bit ('base': conda)",
   "metadata": {
    "interpreter": {
     "hash": "a707b6ce8c685eb936424fcc3009d4b4b7a52543c4db09380a3fc49186ceb509"
    }
   }
  }
 },
 "nbformat": 4,
 "nbformat_minor": 2,
 "cells": [
  {
   "cell_type": "code",
   "execution_count": 1,
   "metadata": {},
   "outputs": [],
   "source": [
    "import numpy as np\n",
    "from IPython.display import display\n",
    "from ipywidgets import HTML"
   ]
  },
  {
   "source": [
    "board = ((0, 0, 0, 0, 0, 0, 0),\n",
    "         (0, 1, 1, 1, 0, 1, 0),\n",
    "         (0, 1, 1, 1, 1, 1, 0),\n",
    "         (0, 1, 1, 1, 1, 1, 0),\n",
    "         (0, 1, 1, 1, 1, 1, 0),\n",
    "         (0, 0, 0, 0, 0, 0, 0))\n",
    "\n",
    "# Floor/Wall/Target.\n",
    "target = (1, 5)\n",
    "\n",
    "# Characters.\n",
    "enemy = (1, 1)\n",
    "player = [3, 5]\n",
    "\n",
    "# Objects.\n",
    "rocks = set([(2, 3)])\n",
    "water = set([(2, 5)])\n",
    "keys = set([(4, 2)])\n",
    "crosses = set([(2, 1), (3, 1), (4, 1)])"
   ],
   "cell_type": "code",
   "metadata": {},
   "execution_count": 2,
   "outputs": []
  },
  {
   "cell_type": "code",
   "execution_count": 44,
   "metadata": {},
   "outputs": [],
   "source": [
    "def get_board_sizes():\n",
    "    return len(board), len(board[0])\n",
    "\n",
    "def is_floor(coord):\n",
    "    try:\n",
    "        x, y = coord\n",
    "        return board[x][y] == 1\n",
    "    except IndexError:\n",
    "        return False"
   ]
  },
  {
   "cell_type": "code",
   "execution_count": 30,
   "metadata": {},
   "outputs": [],
   "source": [
    "def get_content(coord):\n",
    "    coord = tuple(coord)\n",
    "    content = [None, None]\n",
    "\n",
    "    # Floor/Wall/Target.\n",
    "    if coord == target:\n",
    "        content[0] = (\"target\")\n",
    "    elif is_floor(coord):\n",
    "        content[0] = (\"floor\")\n",
    "    else:\n",
    "        content[0] = (\"wall\")\n",
    "\n",
    "    # Objects.\n",
    "    if coord in rocks:\n",
    "        content[1] = (\"rock\")\n",
    "    elif coord in water:\n",
    "        content[1] = (\"water\")\n",
    "    elif coord in crosses:\n",
    "        content[1] = (\"cross\")\n",
    "    elif coord in keys:\n",
    "        content[1] = (\"key\")\n",
    "\n",
    "    # Character.\n",
    "    if list(coord) == player:\n",
    "        content[1] = (\"player\")\n",
    "    elif coord == enemy:\n",
    "        content[1] = (\"enemy\")\n",
    "\n",
    "    return content"
   ]
  },
  {
   "cell_type": "code",
   "execution_count": 5,
   "metadata": {},
   "outputs": [],
   "source": [
    "def is_valid(coord):\n",
    "    return is_floor(coord)\n",
    "\n",
    "def is_rocks_free(coord):\n",
    "    return is_valid(coord) and not tuple(coord) in rocks\n",
    "\n",
    "def is_player_free(coord):\n",
    "    return is_rocks_free(coord) and not tuple(coord) in water"
   ]
  },
  {
   "cell_type": "code",
   "execution_count": 6,
   "metadata": {},
   "outputs": [],
   "source": [
    "def remove_crosses_from(coord):\n",
    "    new_crosses = set(crosses)\n",
    "    sum_initial_cross = sum(coord)\n",
    "    enemy_is_facing_down = sum(enemy) < sum_initial_cross\n",
    "\n",
    "    for cross in crosses:\n",
    "        cross_sum = sum(cross)\n",
    "        if ((enemy_is_facing_down\n",
    "             and cross_sum >= sum_initial_cross)\n",
    "            or\n",
    "            (not enemy_is_facing_down\n",
    "                and cross_sum <= sum_initial_cross)):\n",
    "            new_crosses.remove(cross)\n",
    "\n",
    "    return new_crosses"
   ]
  },
  {
   "cell_type": "code",
   "execution_count": 39,
   "metadata": {},
   "outputs": [],
   "source": [
    "def move_player(mov):\n",
    "    new_player = player\n",
    "    new_keys = set(keys)\n",
    "\n",
    "    next_coord = tuple(np.add(new_player, mov))\n",
    "\n",
    "    if is_player_free(next_coord):\n",
    "        new_player = list(next_coord)\n",
    "        # If players picks the key => Remove key.\n",
    "        if next_coord in new_keys:\n",
    "            new_keys.remove(next_coord)\n",
    "        # If players wins => Remove player.\n",
    "        elif next_coord == target:\n",
    "            new_player = None\n",
    "\n",
    "    return new_player, new_keys\n",
    "\n",
    "\n",
    "def move_rocks(mov):\n",
    "    new_water = set(water)\n",
    "    new_crosses = set(crosses)\n",
    "    new_rocks = set(rocks)\n",
    "\n",
    "    next_coord = tuple(np.add(player, mov))\n",
    "    next_rock_space = tuple(np.add(next_coord, mov))\n",
    "\n",
    "    if (next_coord in new_rocks\n",
    "            and is_rocks_free(next_rock_space)):\n",
    "        new_rocks.remove(next_coord)\n",
    "        # We check if water in new rock position.\n",
    "        if next_rock_space in new_water:\n",
    "            new_water.remove(next_rock_space)\n",
    "        else:\n",
    "            if next_rock_space in crosses:\n",
    "                new_crosses = remove_crosses_from(next_rock_space)\n",
    "            new_rocks.add(next_rock_space)\n",
    "\n",
    "    return new_rocks, new_water, new_crosses\n",
    "\n",
    "def move(mov):\n",
    "    new_rocks, new_water, _ = move_rocks(mov)\n",
    "    new_player, _ = move_player(mov)\n",
    "    return new_player, new_rocks, new_water"
   ]
  },
  {
   "cell_type": "code",
   "execution_count": 8,
   "metadata": {},
   "outputs": [],
   "source": [
    "element_image = {\n",
    "    \"floor\": \"./sprites/floor.png\",\n",
    "    \"wall\": \"./sprites/wall.png\",\n",
    "    \"target\": \"./sprites/target.png\",\n",
    "    \"player\": \"./sprites/player.png\",\n",
    "    \"rock\": \"./sprites/rock.png\",\n",
    "    \"water\": \"./sprites/water.png\",\n",
    "    \"key\": \"./sprites/key.png\",\n",
    "    \"enemy\": \"./sprites/enemy.png\",\n",
    "    \"cross\": \"./sprites/cross.gif\"\n",
    "}"
   ]
  },
  {
   "cell_type": "code",
   "execution_count": 46,
   "metadata": {},
   "outputs": [
    {
     "output_type": "display_data",
     "data": {
      "text/plain": "HTML(value='<style> img.game {width: 50px !important; height: 50px !important;}</style><table><tr><td><img cla…",
      "application/vnd.jupyter.widget-view+json": {
       "version_major": 2,
       "version_minor": 0,
       "model_id": "81d589ea0ba143f8af4ff066531a33f8"
      }
     },
     "metadata": {}
    }
   ],
   "source": [
    "# Characters.\n",
    "enemy = (1, 1)\n",
    "player = [2, 2]\n",
    "\n",
    "# Objects.\n",
    "rocks = set([(2, 3)])\n",
    "water = set([(2, 5)])\n",
    "keys = set([(4, 2)])\n",
    "crosses = set([(2, 1), (3, 1), (4, 1)])\n",
    "\n",
    "\n",
    "def get_html():\n",
    "    height, width = get_board_sizes()\n",
    "\n",
    "    new_row = \"<tr>\"\n",
    "    end_row = \"</tr>\"\n",
    "\n",
    "    html_string = \"<style> img.game {width: 50px !important; height: 50px !important;}</style><table>\"\n",
    "    \n",
    "    for i in range(height):\n",
    "        html_string += new_row\n",
    "        for j in range(width):\n",
    "            content = get_content((i, j))\n",
    "            if not content[1]:\n",
    "                drawing = element_image[content[0]]\n",
    "            else:\n",
    "                drawing = element_image[content[1]]\n",
    "            html_string += f'<td><img class=\"game\" src={drawing} alt=\"\"></img></td>'\n",
    "        html_string += end_row\n",
    "    html_string += \"</table>\"\n",
    "                \n",
    "    return html_string\n",
    "\n",
    "HTML(get_html())"
   ]
  },
  {
   "cell_type": "code",
   "execution_count": 47,
   "metadata": {},
   "outputs": [
    {
     "output_type": "display_data",
     "data": {
      "text/plain": "HTML(value='<style> img.game {width: 50px !important; height: 50px !important;}</style><table><tr><td><img cla…",
      "application/vnd.jupyter.widget-view+json": {
       "version_major": 2,
       "version_minor": 0,
       "model_id": "0b9397d857084d70949ef0e2b64da9db"
      }
     },
     "metadata": {}
    }
   ],
   "source": [
    "from IPython.display import display\n",
    "\n",
    "# \"Restarting\" the values, for testing porpuses.\n",
    "\n",
    "# Characters.\n",
    "enemy = (1, 1)\n",
    "player = [2, 2]\n",
    "\n",
    "# Objects.\n",
    "rocks = set([(2, 3)])\n",
    "water = set([(2, 5)])\n",
    "keys = set([(4, 2)])\n",
    "crosses = set([(2, 1), (3, 1), (4, 1)])\n",
    "\n",
    "display(HTML(get_html()))"
   ]
  },
  {
   "cell_type": "code",
   "execution_count": 49,
   "metadata": {},
   "outputs": [
    {
     "output_type": "display_data",
     "data": {
      "text/plain": "HTML(value='<style> img.game {width: 50px !important; height: 50px !important;}</style><table><tr><td><img cla…",
      "application/vnd.jupyter.widget-view+json": {
       "version_major": 2,
       "version_minor": 0,
       "model_id": "1e758f28e1a5486b815ec4dd32de6761"
      }
     },
     "metadata": {}
    }
   ],
   "source": [
    "# ================================================\n",
    "# El jugador empuja la piedra, y se mueve\n",
    "rocks, water, crosses = move_rocks([0, 1])\n",
    "player, key = move_player([0, 1])\n",
    "display(HTML(get_html()))"
   ]
  },
  {
   "cell_type": "code",
   "execution_count": 50,
   "metadata": {},
   "outputs": [
    {
     "output_type": "display_data",
     "data": {
      "text/plain": "HTML(value='<style> img.game {width: 50px !important; height: 50px !important;}</style><table><tr><td><img cla…",
      "application/vnd.jupyter.widget-view+json": {
       "version_major": 2,
       "version_minor": 0,
       "model_id": "98aaf131450f4aeea4d66074e94e1479"
      }
     },
     "metadata": {}
    }
   ],
   "source": [
    "# ========================================================================\n",
    "# El jugador empuja la piedra y se mueve, desaparece el agua, y la piedra\n",
    "rocks, water, crosses = move_rocks([0, 1])\n",
    "player, key = move_player([0, 1])\n",
    "display(HTML(get_html()))"
   ]
  },
  {
   "cell_type": "code",
   "execution_count": 53,
   "metadata": {},
   "outputs": [
    {
     "output_type": "display_data",
     "data": {
      "text/plain": "HTML(value='<style> img.game {width: 50px !important; height: 50px !important;}</style><table><tr><td><img cla…",
      "application/vnd.jupyter.widget-view+json": {
       "version_major": 2,
       "version_minor": 0,
       "model_id": "cb1b4157e4d7496488664be2cb7a14aa"
      }
     },
     "metadata": {}
    }
   ],
   "source": [
    "# ================================================================\n",
    "# El jugador se mueve hasta la última posición libre de la fila\n",
    "player, key = move_player([0, 1])\n",
    "display(HTML(get_html()))"
   ]
  },
  {
   "cell_type": "code",
   "execution_count": 54,
   "metadata": {},
   "outputs": [
    {
     "output_type": "display_data",
     "data": {
      "text/plain": "HTML(value='<style> img.game {width: 50px !important; height: 50px !important;}</style><table><tr><td><img cla…",
      "application/vnd.jupyter.widget-view+json": {
       "version_major": 2,
       "version_minor": 0,
       "model_id": "c7b0bc6030044413be75c98010a95b47"
      }
     },
     "metadata": {}
    }
   ],
   "source": [
    "# =======================================================================\n",
    "# El jugador se mueve hacia arriba, y entra en la meta (desapareciendo)\n",
    "player, key = move_player([-1, 0])\n",
    "display(HTML(get_html()))"
   ]
  },
  {
   "cell_type": "code",
   "execution_count": 15,
   "metadata": {},
   "outputs": [
    {
     "output_type": "display_data",
     "data": {
      "text/plain": "HTML(value='<style> img.game {width: 50px !important; height: 50px !important;}</style><table><tr><td><img cla…",
      "application/vnd.jupyter.widget-view+json": {
       "version_major": 2,
       "version_minor": 0,
       "model_id": "cc67bbf4647c4acbb8e502cb7ba6cc10"
      }
     },
     "metadata": {}
    }
   ],
   "source": [
    "from IPython.display import display\n",
    "\n",
    "# \"Restarting\" the values, for testing porpuses.\n",
    "\n",
    "# Characters.\n",
    "enemy = (1, 1)\n",
    "player = [2, 2]\n",
    "\n",
    "# Objects.\n",
    "rocks = set([(2, 3)])\n",
    "water = set([(2, 5)])\n",
    "keys = set([(4, 2)])\n",
    "crosses = set([(2, 1), (3, 1), (4, 1)])\n",
    "\n",
    "display(HTML(get_html()))"
   ]
  },
  {
   "cell_type": "code",
   "execution_count": 16,
   "metadata": {},
   "outputs": [
    {
     "output_type": "display_data",
     "data": {
      "text/plain": "HTML(value='<style> img.game {width: 50px !important; height: 50px !important;}</style><table><tr><td><img cla…",
      "application/vnd.jupyter.widget-view+json": {
       "version_major": 2,
       "version_minor": 0,
       "model_id": "810a62e0138041879b052e2f58cd1323"
      }
     },
     "metadata": {}
    }
   ],
   "source": [
    "# ==========================================================================================================================\n",
    "# El jugador empuja la piedra y se mueve, desaparece el aspa, pero no la piedra, y, además, el conjunto de aspas por debajo\n",
    "# de la primera también desaparece, dando a entender que la piedra protege a quien se ponga en cualquier casilla por \n",
    "# debajo de dicha piedra. \n",
    "# ==========================================================================================================================\n",
    "rocks, water, crosses = move_rocks([0, -1])\n",
    "player, key = move_player([0, -1])\n",
    "display(HTML(get_html()))"
   ]
  },
  {
   "cell_type": "code",
   "execution_count": 31,
   "metadata": {},
   "outputs": [
    {
     "output_type": "display_data",
     "data": {
      "text/plain": "HTML(value='<style> img.game {width: 50px !important; height: 50px !important;}</style><table><tr><td><img cla…",
      "application/vnd.jupyter.widget-view+json": {
       "version_major": 2,
       "version_minor": 0,
       "model_id": "6a57c387d5d842d6839acf4bf82f3b5b"
      }
     },
     "metadata": {}
    }
   ],
   "source": [
    "from IPython.display import display\n",
    "\n",
    "# \"Restarting\" the values, for testing porpuses.\n",
    "\n",
    "# Characters.\n",
    "enemy = (1, 1)\n",
    "player = [2, 2]\n",
    "\n",
    "# Objects.\n",
    "rocks = set([(2, 3)])\n",
    "water = set([(2, 5)])\n",
    "keys = set([(4, 2)])\n",
    "crosses = set([(2, 1), (3, 1), (4, 1)])\n",
    "\n",
    "display(HTML(get_html()))"
   ]
  },
  {
   "cell_type": "code",
   "execution_count": 32,
   "metadata": {},
   "outputs": [
    {
     "output_type": "display_data",
     "data": {
      "text/plain": "HTML(value='<style> img.game {width: 50px !important; height: 50px !important;}</style><table><tr><td><img cla…",
      "application/vnd.jupyter.widget-view+json": {
       "version_major": 2,
       "version_minor": 0,
       "model_id": "bc2e1f3ecc9b4f5ab2cb015106fa2c1b"
      }
     },
     "metadata": {}
    }
   ],
   "source": [
    "# ===============================================================\n",
    "# Muevo el jugador hacia bajo respecto de su posición inicial\n",
    "\n",
    "player, key = move_player([1, 0])\n",
    "display(HTML(get_html()))"
   ]
  },
  {
   "cell_type": "code",
   "execution_count": 34,
   "metadata": {},
   "outputs": [
    {
     "output_type": "display_data",
     "data": {
      "text/plain": "HTML(value='<style> img.game {width: 50px !important; height: 50px !important;}</style><table><tr><td><img cla…",
      "application/vnd.jupyter.widget-view+json": {
       "version_major": 2,
       "version_minor": 0,
       "model_id": "9416e3ab8a364c4abf97b9c0c16358af"
      }
     },
     "metadata": {}
    }
   ],
   "source": [
    "# =============================================================================================\n",
    "# Muevo el jugador hacia la izquierda. La idea es que el jugador pase a la posición de la llave, y, a partir de ese momento, la \n",
    "# llave ya no vuelva a aparecer con símbolo, en el tablero.\n",
    "\n",
    "player, key = move_player([0, -1])\n",
    "display(HTML(get_html()))"
   ]
  },
  {
   "cell_type": "code",
   "execution_count": 43,
   "metadata": {},
   "outputs": [
    {
     "output_type": "display_data",
     "data": {
      "text/plain": "HTML(value='<style> img.game {width: 50px !important; height: 50px !important;}</style><table><tr><td><img cla…",
      "application/vnd.jupyter.widget-view+json": {
       "version_major": 2,
       "version_minor": 0,
       "model_id": "8ec1715a9d3442e6a7b14b256011dcfa"
      }
     },
     "metadata": {}
    }
   ],
   "source": [
    "# ==================================================================================================\n",
    "# Muevo el jugador hacia la derecha desde la posición anterior. La posición de la llave debería ser substituida por suelo.\n",
    "\n",
    "player, keys = move_player([0, 1])\n",
    "display(HTML(get_html()))"
   ]
  },
  {
   "cell_type": "code",
   "execution_count": null,
   "metadata": {},
   "outputs": [],
   "source": []
  }
 ]
}