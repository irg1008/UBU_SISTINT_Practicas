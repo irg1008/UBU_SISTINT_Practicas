{
 "cells": [
  {
   "cell_type": "markdown",
   "metadata": {
    "collapsed": true
   },
   "source": [
    "# Ejercicio 2\n",
    "\n",
    "Recordatorio del ejercicio 1:\n",
    "**Escapa, con la llave** es un juego de puzzle, que puede tener tantos niveles de dificultad como queramos. Los mapas de los niveles se pueden codificar como texto. \n",
    "\n",
    "Como decíamos, en el caso más simple, podríamos considerar mapas del siguiente *estilo*:\n",
    "\n",
    "\n",
    "    #######\n",
    "    #!  #*#\n",
    "    #x + -#\n",
    "    #x   @#\n",
    "    #x¡   #\n",
    "    #######\n",
    "\n",
    "--------\n"
   ]
  },
  {
   "cell_type": "markdown",
   "metadata": {},
   "source": [
    "## Modelado del juego\n",
    "\n",
    "\n",
    "El juego tiene una parte estática, consistente en tablero y posición de la *puerta*, y otra, de tipo dinámico (estado): posición del jugador, y estado de la casilla en la que se encuentra la llave.\n",
    "\n",
    "El tablero es un *array2D*, resultado de:\n",
    "\n",
    "- **#** --> 0\n",
    "- **-** --> 1\n",
    "- **¡** --> 2\n",
    "- ***** --> 3\n",
    "- **!** --> 4\n",
    "- **+** --> 5\n",
    "- **@** --> 6\n",
    "\n",
    "Esto, ya lo tenemos (*dicho*) de la semana anterior.\n",
    "\n",
    "# Estructuras de datos\n",
    "\n",
    "En todos los juegos de tipo puzzle (kwirk, sokoban, bomberman, bloxorz ...) siempre tenemos una parte del nivel que es inmutable (casillas libres, paredes, destinos o metas) y una parte que cambia, a la que llamamos estado (jugador, cajas/piedras que se puedan mover, agua que se pueda tapar etc).\n",
    "\n",
    "En un problema de búsqueda en espacio de estados se opera con dicho estado para encontrar la secuencia de pasos que nos lleva del estado inicial al estado final.\n",
    "\n",
    "\n",
    "En un *Nivel* de nuestro juego, tendremos los siguientes elementos inmutables:\n",
    "\n",
    "- **Tablero**: Un mapa de 2 dimensiones, el cual (con)tendrá casillas libres y/o paredes.\n",
    "- **Posición de la llave**: La coordenada en la que está la llave que se necesita tener, para poder abrir la puerta.\n",
    "- **Meta/destino/puerta**: La coordenada a la que tienen que llegar los jugadores, una vez tienen la llave.\n",
    "- **Enemigo** (opcional): Personaje que puede inutilizar fila o columna. Se asimila a que puede disparar un arma y si pasas por la fila o columna, mueres. Se puede sobrevivir si se pone una piedra que pare la trayectoria de la bala.\n",
    "\n",
    "Tendremos, también, los siguientes elementos mutables o que cambian (el *Estado*):\n",
    "\n",
    "- **Posición del jugador**.\n",
    "- **Piedras** que se pueden mover.\n",
    "- **Agua**: Casillas de agua que podemos tapar con piedras.\n",
    "- **Posesión de la llave** (*booleano(a)*).\n",
    "\n",
    "Las estructuras de datos que se van a usar son:\n",
    "- **Tablero**: Tupla de 2-dimensiones con 0 (paredes) o 1 (casilla libre). No cambia -> *tupla*\n",
    "- **Meta**: Una *tupla* con una coordenada.\n",
    "- **Llave**: Un *set* con multiples coordenadas (y,x) que serían *tuplas*. Cambia y no importa el orden -> *set*.\n",
    "- **Piedras**: Un *set* con multiples coordenadas (y,x) que serían *tuplas*. Cambia y no importa el orden -> *set*\n",
    "- **Jugador**: Una *lista* [y,x]. \n",
    "- **Agua**: Un *set* con multiples coordenadas (y,x) que serían *tuplas*. Cambia y no importa el orden -> *set*."
   ]
  },
  {
   "cell_type": "markdown",
   "metadata": {},
   "source": [
    "## Ejercicios\n",
    "\n",
    "## Funciones para recuperar el contenido de los elementos del juego.\n",
    "\n",
    "Necesitamos una función para conocer el contenido del juego en una coordenada determinada. Va a servir para simplificar las funciones que determinen los movimientos válidos.\n",
    "\n",
    "En una determinada posición puede haber: \n",
    "- Un elemento del nivel que no cambia (casillas *paseables*, paredes, destino)\n",
    "- Un elemento del estado que es cambiante (jugador, piedra, agua, llave)\n",
    "\n",
    "\n",
    "En una casilla podemos tener [\"suelo\",\"piedra\"] o [\"suelo\",None] o [\"pared\",None] etc. Queremos una función que devuelva este tipo de combinaciones.\n",
    "\n",
    "Significado:\n",
    "- **suelo**: Hueco/casilla por el que se puede caminar.\n",
    "- **pared**: Parte del tablero por la que no se puede caminar.\n",
    "- **Destino**: coordenada del tablero a donde hay que llegar (es una puerta).\n",
    "- **Jugador**: son las coordenadas del jugador.\n",
    "- **Piedra**: Elemento del juego que se puede empujar, para tapar una casilla de agua o *cubrirse* (si uno se cubre, lo hace desde otra casilla).\n",
    "- **Agua**: Elemento del juego que podemos tapar con una piedra.\n",
    "- **Llave**: Elemento que hay que coger para poder llegar al destino, y así, abrir la puerta."
   ]
  },
  {
   "cell_type": "markdown",
   "metadata": {},
   "source": [
    "### Ejercicio 2.1\n",
    "\n",
    "Parte del siguiente código:"
   ]
  },
  {
   "cell_type": "code",
   "execution_count": 1,
   "metadata": {},
   "outputs": [],
   "source": [
    "tablero = ((0,0,0,0,0,0,0),\n",
    "         (0,1,1,1,0,1,0),\n",
    "         (0,1,1,1,1,1,0),\n",
    "         (0,1,1,1,1,1,0),\n",
    "         (0,1,1,1,1,1,0),  \n",
    "         (0,0,0,0,0,0,0))\n",
    "\n",
    "destino = (1,5)\n",
    "\n",
    "# Aquí tienes que poner las coordenadas del jugador, las de la piedra, las del agua y las de la llave. Es sólo un ejemplo. \n",
    "# Haz algo simple."
   ]
  },
  {
   "cell_type": "code",
   "execution_count": 2,
   "metadata": {},
   "outputs": [
    {
     "data": {
      "text/plain": [
       "tuple"
      ]
     },
     "execution_count": 2,
     "metadata": {},
     "output_type": "execute_result"
    }
   ],
   "source": [
    "type(tablero)"
   ]
  },
  {
   "cell_type": "code",
   "execution_count": 3,
   "metadata": {},
   "outputs": [],
   "source": [
    "tablero = ((0,0,0,0,0,0,0),\n",
    "         (0,1,1,1,0,1,0),\n",
    "         (0,1,1,1,1,1,0),\n",
    "         (0,1,1,1,1,1,0),\n",
    "         (0,1,1,1,1,1,0),  \n",
    "         (0,0,0,0,0,0,0))\n",
    "\n",
    "destino = (1,5)\n",
    "enemigo = (1,1)\n",
    "\n",
    "player = [3,5]\n",
    "\n",
    "piedras = set([(2,3)])\n",
    "agua = set([(2,5)])\n",
    "llave = set([(4,2)])\n",
    "aspa = set([(2,1),(3,1),(4,1)])"
   ]
  },
  {
   "cell_type": "markdown",
   "metadata": {},
   "source": [
    "### Ejercicio 2.2\n",
    "\n",
    "Completa la siguiente función"
   ]
  },
  {
   "cell_type": "code",
   "execution_count": 4,
   "metadata": {},
   "outputs": [],
   "source": [
    "def get_content(coord):\n",
    "    \"\"\"\n",
    "    Obtiene el contenido de una determinada posición.\n",
    "    \n",
    "    Parameters\n",
    "    ----------\n",
    "    coord : Posición [y,x] de la que queremos conocer el contenido\n",
    "    \n",
    "    Returns\n",
    "    --------\n",
    "    contenido : Una lista de tamaño 2 con el elemento del nivel y del estado en la coordenada correspondiente.\n",
    "    \"\"\"\n",
    "    contenido = [None,None]\n",
    "    \n",
    "    if coord == destino:\n",
    "        contenido[0] = \"destino\"\n",
    "    elif tablero[coord[0]][coord[1]] == 1:\n",
    "        contenido[0] = \"suelo\"\n",
    "    else:\n",
    "        contenido[0] = \"pared\"\n",
    "        \n",
    "    # Se rellena correctamente el elemento del nivel que no cambia, pero falta el elemento del estado\n",
    "    # Completa esta parte\n",
    "            \n",
    "    \n",
    "    return contenido"
   ]
  },
  {
   "cell_type": "code",
   "execution_count": 5,
   "metadata": {},
   "outputs": [
    {
     "name": "stdout",
     "output_type": "stream",
     "text": [
      "['suelo', 'aspa']\n",
      "['suelo', 'llave']\n",
      "['suelo', 'agua']\n"
     ]
    }
   ],
   "source": [
    "def get_content(coord):\n",
    "    \"\"\"\n",
    "    Obtiene el contenido de una determinada posición.\n",
    "    \n",
    "    Parameters\n",
    "    ----------\n",
    "    coord : Posición [y,x] de la que queremos conocer el contenido\n",
    "    \n",
    "    Returns\n",
    "    --------\n",
    "    contenido : Una lista de tamaño 2 con el elemento del nivel y del estado en la coordenada correspondiente.\n",
    "    \"\"\"\n",
    "    content = [None,None]\n",
    "    \n",
    "    if coord == destino:\n",
    "        content[0] = \"destino\"\n",
    "    elif tablero[coord[0]][coord[1]] == 1:\n",
    "        content[0] = \"suelo\"    \n",
    "    else:\n",
    "        content[0] = \"pared\"\n",
    "        \n",
    "    if coord in piedras:\n",
    "        content[1] = \"piedra\"\n",
    "        \n",
    "    if coord in agua:\n",
    "        content[1] = \"agua\"\n",
    "        \n",
    "    if coord in aspa:\n",
    "        content[1] = \"aspa\"\n",
    "        \n",
    "    if coord in llave:\n",
    "        content[1] = \"llave\"\n",
    "            \n",
    "    if list(coord) == player:\n",
    "        content[1] = \"player\"\n",
    "        \n",
    "    if coord == enemigo:\n",
    "        content[1] = \"enemigo\"\n",
    "                \n",
    "    \n",
    "    return content\n",
    "\n",
    "\n",
    "'''\n",
    "['suelo', None]\n",
    "['suelo', 'jugador']\n",
    "['suelo', 'agua']\n",
    "['suelo', 'piedra']\n",
    "['pared', None]\n",
    "['destino', None]\n",
    "'''\n",
    "print(get_content((2,1)))\n",
    "print(get_content((4,2)))\n",
    "print(get_content((2,5)))"
   ]
  },
  {
   "cell_type": "markdown",
   "metadata": {},
   "source": [
    "## Funciones básicas de comprobación de casillas\n",
    "\n",
    "Antes de crear funciones para mover el jugador, o empujar piedras, se necesitan funciones básicas que comprueben si una casilla:\n",
    "\n",
    "- Es válida: \n",
    "        - Está dentro de los límites del tablero y \n",
    "        - Son \"caminables\".\n",
    "- Está libre para un jugador: \n",
    "        - Es válida, \n",
    "        - No hay piedra(s), y \n",
    "        - No hay agua. \n",
    "        \n",
    "El jugador se puede mover a esas casillas.\n",
    "\n",
    "- Está libre para una piedra: \n",
    "        - Es válida, y \n",
    "        - No hay otra(s) piedra(s). \n",
    "        \n",
    "Se recuerda que una piedra sí que se puede mover donde hay agua, porque cae encima del agua y la tapa."
   ]
  },
  {
   "cell_type": "markdown",
   "metadata": {},
   "source": [
    "### Ejercicio 2.3\n",
    "\n",
    "Completa las siguientes funciones:"
   ]
  },
  {
   "cell_type": "code",
   "execution_count": 6,
   "metadata": {},
   "outputs": [],
   "source": [
    "# Rehaz comentarios y traduce\n",
    "\n",
    "def is_valid(coord):\n",
    "    \"\"\" Comprueba si la casilla es válida.\n",
    "    \n",
    "    Parámetros\n",
    "    ----------\n",
    "    coord -- coordenada de la casilla a comprobar\n",
    "    \n",
    "    Devuelve\n",
    "    --------\n",
    "    True, si la casilla está dentro de los límites del tablero y existe un 1 en esta posición\n",
    "    \"\"\"    \n",
    "    return False\n",
    "\n",
    "def is_stones_free(coord):\n",
    "    \"\"\" Comprueba si una casilla es válida y si es posible poner una piedra en esas coordenadas\n",
    "        \n",
    "    Parámetros\n",
    "    ----------\n",
    "    coord -- coordenadas de la casilla a comprobar\n",
    "    \n",
    "    Devuelve\n",
    "    --------\n",
    "    True, si la casilla es válida y no hay una piedra, y tampoco está el jugador\n",
    "    \"\"\"  \n",
    "    return False\n",
    "\n",
    "def is_player_free(coord):\n",
    "    \"\"\" Comprueba si una casilla es válida, y si es posible poner al jugador en esas coordenadas\n",
    "    \n",
    "    Parámetros\n",
    "    ----------\n",
    "    coord -- coordenadas de la casilla a comprobar\n",
    "    \n",
    "    Devuelve\n",
    "    --------\n",
    "    True, si la casilla es válida y no hay una piedra, o agua.\n",
    "    \"\"\"   \n",
    "    return False\n",
    "\n",
    "###################################################################################################\n",
    "\n",
    "\n",
    "def is_valid(coord):\n",
    "    y,x = coord\n",
    "    alto,ancho = len(tablero),len(tablero[0])\n",
    "    return y>=0 and y< alto and x>=0 and x< ancho and tablero[coord[0]][coord[1]] ==1\n",
    "\n",
    "def is_stones_free(coord):    \n",
    "    return is_valid(coord) and not tuple(coord) in piedras\n",
    "\n",
    "def is_player_free(coord):    \n",
    "    return is_stones_free(coord) and not tuple(coord) in agua"
   ]
  },
  {
   "cell_type": "markdown",
   "metadata": {},
   "source": [
    "## Funciones de actualización\n",
    "\n",
    "Las funciones de actualización son las funciones asociadas al movimiento de *piezas*. En la función de mover, se recibe un movimiento y si puede o es necesario, se empujan piedras y el jugador se desplaza, simultáneamente.\n",
    "\n",
    "Para hacer esto, se pueden considerar dos funciones básicas de actualización.\n",
    "\n",
    "- **move_player**: \n",
    "    - Recibe un movimiento ([1,0]: *abajo*, [-1,0]: *arriba*, [0,1]: *derecha*, [0,-1]: *izquierda*)\n",
    "    - Suma el movimiento a la posición última del jugador.\n",
    "    - Si la casilla resultante está libre:\n",
    "        - El jugador pasa a encontrarse en la casilla resultante\n",
    "        - Si el jugador llega al destino, se acaba del juego.\n",
    "     - Devuelve una lista actualizada del jugador (una nueva lista). Si no ha habido movimiento válido, devuelve la lista previa de dicho jugador (i. e., sin modificar).\n",
    "     - Si en la casilla se encuentra la llave, la llave desaparecerá de la casilla, y se considerará que la tiene ya el jugador, hasta el final del juego.\n",
    "\n",
    "- **move_stones**: \n",
    "    - Recibe un movimiento ([1,0]: *abajo*, [-1,0]: *arriba*, [0,1]: *derecha*, [0,-1]: *izquierda*)\n",
    "    - Suma el movimiento a la posición del jugador actual.\n",
    "    - Si la posición resultante coincide con una piedra del *set*:\n",
    "        - Aplica ese movimiento también a la piedra.\n",
    "        - Si la nueva posición de la piedra está libre:\n",
    "            - Saca la piedra a empujar del *set*, y actualiza sus coordenadas.\n",
    "            - Si en la nueva posición hay agua, elimina esa coordenada del *set* de agua.\n",
    "            - Si no hay agua, vuelve a meter la piedra actualizada en el *set* de piedras.\n",
    "    - Devuelve los *sets* de piedras y de agua, convenientemente actualizados.\n",
    "    \n",
    "Estas funciones no actualizan los valores del estado, solo devuelven los valores nuevos. Si el movimiento no se puede efectuar devuelve una copia de las variables sin actualizar."
   ]
  },
  {
   "cell_type": "markdown",
   "metadata": {},
   "source": [
    "### Ejercicio 2.4\n",
    "\n",
    "Completa las siguientes funciones.\n",
    "\n",
    "---\n",
    "\n",
    "#### IMPORTANTE:\n",
    "\n",
    "Ten en cuenta que, en una de ellas, si el movimiento de una piedra, impide dirección de disparo de enemigo, lo que debe hacer la función es que desaparezcan las aspas correspondientes de fila o columna, de forma adecuada, para que el jugador pueda ocupar las casillas correspondientes.\n",
    "\n",
    "\n",
    "---"
   ]
  },
  {
   "cell_type": "code",
   "execution_count": 7,
   "metadata": {},
   "outputs": [],
   "source": [
    "def move(mov):\n",
    "    \"\"\" Mueve un jugador\n",
    "\n",
    "    Mueve el jugador y las piedras, si el movimiento es válido\n",
    "\n",
    "    Parámetros\n",
    "    ---------\n",
    "    mov -- dirección del movimiento\n",
    "    \n",
    "    Devuelve\n",
    "    --------\n",
    "    Una nueva lista con los valores del jugador, un nuevo set para \"piedras\", y un nuevo set para \"agua\"\n",
    "    \"\"\"  \n",
    "    \n",
    "    return None\n",
    "\n",
    "\n",
    "def move_player(mov):\n",
    "    \"\"\" Mueve un jugador\n",
    "\n",
    "    Mueve el jugador, si el movimiento es válido\n",
    "\n",
    "    Parámetros\n",
    "    ---------\n",
    "    mov -- dirección del movimiento\n",
    "    \n",
    "    Devuelve\n",
    "    --------\n",
    "    Una nueva lista con los valores del jugador, y las coordenadas de la llave (o su ausencia) \n",
    "    si el jugador todavía no ha cogido dicha llave \n",
    "\n",
    "    \"\"\"  \n",
    "    \n",
    "    return None\n",
    "\n",
    "def move_stones(mov):\n",
    "    \"\"\" Mueve piedras\n",
    "\n",
    "    Mueve las piedras, si el movimiento es válido\n",
    "\n",
    "\n",
    "    Parámetros\n",
    "    ---------\n",
    "    mov -- dirección del movimiento\n",
    "    \n",
    "    Devuelve\n",
    "    --------\n",
    "    Un nuevo set de \"piedras\", \"agua\", y \"conjunto de casillas NO VÁLIDAS (aspas)\"\n",
    "\n",
    "    \"\"\"  \n",
    "    \n",
    "    return None\n",
    "\n",
    "def change_turn():\n",
    "    return False if turn else True\n",
    "\n",
    "\n",
    "#jose\n",
    "def move_player(mov):\n",
    "    \n",
    "    nueva_llave = set(llave)    \n",
    "    newPlayer = list(map(lambda x,y: x+y,player,mov))\n",
    "    \n",
    "    if is_player_free(newPlayer):\n",
    "        if tuple(newPlayer) == destino:\n",
    "            newPlayer = None\n",
    "        \n",
    "        elif tuple(newPlayer) in llave:\n",
    "        \n",
    "           nueva_llave.remove(tuple(newPlayer))\n",
    "            \n",
    "        return newPlayer,nueva_llave\n",
    "    \n",
    "    return player,nueva_llave\n",
    "\n",
    "    \n",
    "\n",
    "\n",
    "def move_stones(mov):\n",
    "    \n",
    "    \n",
    "        \n",
    "    nuevas_piedras = set(piedras)\n",
    "    nueva_agua = set(agua)\n",
    "    nueva_aspa = set(aspa)\n",
    "    \n",
    "    \n",
    "    nuevaCoord = list(map(lambda x,y: x+y,player,mov))\n",
    "    nuevaCoord2 = list(map(lambda x,y: x+y,nuevaCoord,mov))\n",
    "       \n",
    "    \n",
    "    \n",
    "    if tuple(nuevaCoord) in piedras and is_stones_free(nuevaCoord2):        \n",
    "        nuevas_piedras.remove(tuple(nuevaCoord))\n",
    "        \n",
    "        if tuple(nuevaCoord2) in agua:\n",
    "            nueva_agua.remove(tuple(nuevaCoord2))\n",
    "            \n",
    "        elif tuple(nuevaCoord2) in aspa:\n",
    "            nueva_aspa.remove(tuple(nuevaCoord2))\n",
    "            nuevas_piedras.add(tuple(nuevaCoord2))\n",
    "            \n",
    "            \n",
    "            y,x = nuevaCoord2\n",
    "            alto,ancho = len(tablero),len(tablero[0])\n",
    "                        \n",
    "            \n",
    "            for i in range(y+1,alto-1,1):\n",
    "            \n",
    "                nuevaCoord3 = i,x\n",
    "                nueva_aspa.remove(tuple(nuevaCoord3))\n",
    "            \n",
    "            \n",
    "        else:\n",
    "            nuevas_piedras.add(tuple(nuevaCoord2))       \n",
    "                  \n",
    "        \n",
    "    return nuevas_piedras, nueva_agua, nueva_aspa"
   ]
  },
  {
   "cell_type": "code",
   "execution_count": 8,
   "metadata": {},
   "outputs": [
    {
     "name": "stdout",
     "output_type": "stream",
     "text": [
      "[3, 5] {(2, 3)} {(2, 5)} {(3, 1), (4, 1), (2, 1)} {(4, 2)}\n",
      "player [3, 5] piedras {(2, 3)} agua {(2, 5)} aspa {(3, 1), (4, 1), (2, 1)} llave {(4, 2)}\n",
      "player [3, 5] piedras {(2, 3)} agua {(2, 5)} aspa {(3, 1), (4, 1), (2, 1)} llave {(4, 2)}\n"
     ]
    }
   ],
   "source": [
    "####################################################################\n",
    "# Pequeñas primeras pruebas.\n",
    "####################################################################\n",
    "\n",
    "# Inicializamos las variables necesarias, para hacer pruebas\n",
    "player = [3,5]\n",
    "piedras = set([(2,3)])\n",
    "agua = set([(2,5)])\n",
    "aspa = set([(2,1),(3,1),(4,1)])\n",
    "\n",
    "# El jugador empuja la piedra y se mueve\n",
    "piedras,agua,aspa = move_stones([0,1])\n",
    "player,llave = move_player([0,1])\n",
    "print(player, piedras,agua,aspa,llave)\n",
    "\n",
    "# El jugador empuja la piedra y se mueve, desaparece el agua, y también la piedra\n",
    "piedras,agua,aspa = move_stones([0,1])\n",
    "player,llave = move_player([0,1])\n",
    "print(\"player\",player, \"piedras\",piedras,\"agua\",agua,\"aspa\",aspa,\"llave\",llave)\n",
    "\n",
    "# El jugador se mueve hacia arriba, entra en la meta\n",
    "player,llave = move_player([-1,0])\n",
    "print(\"player\",player, \"piedras\",piedras,\"agua\",agua,\"aspa\",aspa,\"llave\",llave)"
   ]
  },
  {
   "cell_type": "markdown",
   "metadata": {},
   "source": [
    "## Funciones de representación gráfica\n",
    "\n",
    "Va a haber una función pinta juego. **Está función queda *medio proporcionada* por el profesor**, pero el alumno puede modificarla, si quiere, para hacer que el juego sea más atractivo. Usando conceptos más avanzados de HTML como *canvas*, o lo que se le ocurra (y/o sepa). También puede usar otro tipo de representaciones gráficas no basadas en HTML, pero no se garatiza que funcionen con el resto de códigos que puedan ser proporcionados por el profesor.\n",
    "\n",
    "Simplemente se crea una tabla HTML.\n",
    "\n",
    "- `<td></td>` define una celda\n",
    "- `<tr></tr>` define una fila\n",
    "- `<table></table>` define una tabla\n",
    "- `<img ></img>` permite insertar una imagen.\n",
    "- `<style> </style>` permite definir un estilo, cambiar la apariencia visual de un elemento HTML\n",
    "\n",
    "\n",
    "Con\n",
    "\n",
    "```HTML\n",
    "<style> img.game {width: 50px !important; height: 50px !important;}</style>\n",
    "<img class=\"game\" src=\"./sprites/hombre.jpg\" alt=\"\" ></img></td>\n",
    "```\n",
    "\n",
    "Se está creando el estilo game de elemento img, para que todos los elementos que usen este estilo sean de 50px x 50px. Si posteriormente se inserta una imagen y se especifíca que la clase (estilo) es game, automáticamente será del tamaño fijado anteriormente.\n",
    "\n",
    "--------------------------"
   ]
  },
  {
   "cell_type": "markdown",
   "metadata": {},
   "source": [
    "Para hacer el código más modular, más fácilmente adaptable a otros juegos o imágenes, la representación de cada elemento se va a codificar en forma de diccionario, de esta forma solo habría que modificar el diccionario para cambiar como se dibuja.\n",
    "\n",
    "Esto valdría para nuevos juegos en los que hubiese un número distinto de elementos dibujables."
   ]
  },
  {
   "cell_type": "code",
   "execution_count": 9,
   "metadata": {},
   "outputs": [
    {
     "name": "stdout",
     "output_type": "stream",
     "text": [
      "./sprites/suelo.jpg\n",
      "./sprites/jugadorH.jpg\n",
      "./sprites/llave.jpg\n",
      "./sprites/puerta.jpg\n",
      "./sprites/enemigo.jpg\n",
      "./sprites/aspaprohibido.jpg\n"
     ]
    }
   ],
   "source": [
    "element_image = {\n",
    "    \"suelo\": \"./sprites/suelo.jpg\",\n",
    "    \"pared\": \"./sprites/pared.jpg\",\n",
    "    \"destino\": \"./sprites/puerta.jpg\",\n",
    "    \"player\": \"./sprites/jugadorH.jpg\",\n",
    "    \"piedra\": \"./sprites/piedra.jpg\",\n",
    "    \"agua\": \"./sprites/agua.jpg\",\n",
    "    \"llave\": \"./sprites/llave.jpg\",\n",
    "    \"enemigo\": \"./sprites/enemigo.jpg\",\n",
    "    \"aspa\": \"./sprites/aspaprohibido.jpg\"\n",
    "}\n",
    "\n",
    "print(element_image[\"suelo\"])\n",
    "print(element_image[\"player\"])\n",
    "print(element_image[\"llave\"])\n",
    "print(element_image[\"destino\"])\n",
    "print(element_image[\"enemigo\"])\n",
    "print(element_image[\"aspa\"])"
   ]
  },
  {
   "cell_type": "code",
   "execution_count": 10,
   "metadata": {},
   "outputs": [
    {
     "data": {
      "application/vnd.jupyter.widget-view+json": {
       "model_id": "c7478e574a694538b81fd7d962a4d6e5",
       "version_major": 2,
       "version_minor": 0
      },
      "text/plain": [
       "HTML(value='<style> img.game {width: 50px !important; height: 50px !important;}</style><table><tr><td><img cla…"
      ]
     },
     "metadata": {},
     "output_type": "display_data"
    }
   ],
   "source": [
    "from IPython.display import display\n",
    "from ipywidgets import HTML\n",
    "\n",
    "\n",
    "# Resetea los valores iniciales para hacer pruebas\n",
    "\n",
    "\n",
    "player = [2,2]\n",
    "llave = set([(4,2)])\n",
    "enemigo = (1,1)\n",
    "piedras = set([(2,3)])\n",
    "agua = set([(2,5)])\n",
    "aspa = set([(2,1),(3,1),(4,1)])\n",
    "\n",
    "\n",
    "def get_html():\n",
    "    \"\"\" Muestra una representación gráfica del juego.\n",
    "\n",
    "    Devuelve un \"string\" que contiene HTML\n",
    "\n",
    "    \"\"\" \n",
    "    \n",
    "    \n",
    "    height = len(tablero)\n",
    "    width = len(tablero[0])\n",
    "    \n",
    "    html_string = \"<style> img.game {width: 50px !important; height: 50px !important;}</style><table>\"\n",
    "    \n",
    "\n",
    "\n",
    "    new_row = \"<tr>\"\n",
    "    end_row = \"</tr>\"\n",
    "    \n",
    "    for i in range(height):\n",
    "        html_string+=new_row\n",
    "        for j in range(width):\n",
    "            \n",
    "            content = get_content((i,j))\n",
    "            \n",
    "            if content[1] is None:\n",
    "                drawing = element_image[content[0]]\n",
    "            else:\n",
    "                drawing = element_image[content[1]]\n",
    "            html = '<td><img class=\"game\" src=%s alt=\"\"></img></td>' % drawing     \n",
    "            \n",
    "            \n",
    "            html_string+=html\n",
    "        html_string+=end_row\n",
    "            \n",
    "    html_string += \"</table>\"\n",
    "        \n",
    "                \n",
    "    return html_string\n",
    "\n",
    "HTML(get_html())"
   ]
  },
  {
   "cell_type": "markdown",
   "metadata": {},
   "source": [
    "---\n",
    "## Prueba gráfica del funcionamiento de las funciones\n",
    "---"
   ]
  },
  {
   "cell_type": "code",
   "execution_count": 11,
   "metadata": {},
   "outputs": [
    {
     "data": {
      "application/vnd.jupyter.widget-view+json": {
       "model_id": "6a8824e6e8314eb0b6e9e67e929ded2b",
       "version_major": 2,
       "version_minor": 0
      },
      "text/plain": [
       "HTML(value='<style> img.game {width: 50px !important; height: 50px !important;}</style><table><tr><td><img cla…"
      ]
     },
     "metadata": {},
     "output_type": "display_data"
    }
   ],
   "source": [
    "from IPython.display import display\n",
    "\n",
    "# \"Reiniciamos\" los valores, para hacer pruebas\n",
    "player = [2,2]\n",
    "piedras = set([(2,3)])\n",
    "agua = set([(2,5)])\n",
    "enemigo = (1,1)\n",
    "aspa = set([(2,1),(3,1),(4,1)])\n",
    "\n",
    "display(HTML(get_html()))"
   ]
  },
  {
   "cell_type": "code",
   "execution_count": 12,
   "metadata": {},
   "outputs": [
    {
     "data": {
      "application/vnd.jupyter.widget-view+json": {
       "model_id": "4f92863159a5468e8317b5a6b084dd54",
       "version_major": 2,
       "version_minor": 0
      },
      "text/plain": [
       "HTML(value='<style> img.game {width: 50px !important; height: 50px !important;}</style><table><tr><td><img cla…"
      ]
     },
     "metadata": {},
     "output_type": "display_data"
    }
   ],
   "source": [
    "# ================================================\n",
    "# El jugador empuja la piedra, y se mueve\n",
    "piedras,agua,aspa = move_stones([0,1])\n",
    "player,llave = move_player([0,1])\n",
    "display(HTML(get_html()))"
   ]
  },
  {
   "cell_type": "code",
   "execution_count": 13,
   "metadata": {},
   "outputs": [
    {
     "data": {
      "application/vnd.jupyter.widget-view+json": {
       "model_id": "04e3190db8174a4fbf452b6e963f481c",
       "version_major": 2,
       "version_minor": 0
      },
      "text/plain": [
       "HTML(value='<style> img.game {width: 50px !important; height: 50px !important;}</style><table><tr><td><img cla…"
      ]
     },
     "metadata": {},
     "output_type": "display_data"
    }
   ],
   "source": [
    "# ========================================================================\n",
    "# El jugador empuja la piedra y se mueve, desaparece el agua, y la piedra\n",
    "piedras,agua,aspa = move_stones([0,1])\n",
    "player,llave = move_player([0,1])\n",
    "display(HTML(get_html()))"
   ]
  },
  {
   "cell_type": "code",
   "execution_count": 14,
   "metadata": {},
   "outputs": [
    {
     "data": {
      "application/vnd.jupyter.widget-view+json": {
       "model_id": "cd095f8e66314dc893320305520f1897",
       "version_major": 2,
       "version_minor": 0
      },
      "text/plain": [
       "HTML(value='<style> img.game {width: 50px !important; height: 50px !important;}</style><table><tr><td><img cla…"
      ]
     },
     "metadata": {},
     "output_type": "display_data"
    }
   ],
   "source": [
    "# ================================================================\n",
    "# El jugador se mueve hasta la última posición libre de la fila\n",
    "player,llave = move_player([0,1])\n",
    "display(HTML(get_html()))"
   ]
  },
  {
   "cell_type": "code",
   "execution_count": 15,
   "metadata": {},
   "outputs": [
    {
     "data": {
      "application/vnd.jupyter.widget-view+json": {
       "model_id": "fbbc417d56a14426ba1bdd9ad3ba7236",
       "version_major": 2,
       "version_minor": 0
      },
      "text/plain": [
       "HTML(value='<style> img.game {width: 50px !important; height: 50px !important;}</style><table><tr><td><img cla…"
      ]
     },
     "metadata": {},
     "output_type": "display_data"
    }
   ],
   "source": [
    "# =======================================================================\n",
    "# El jugador se mueve hacia arriba, y entra en la meta (desapareciendo)\n",
    "player,llave = move_player([-1,0])\n",
    "display(HTML(get_html()))"
   ]
  },
  {
   "cell_type": "markdown",
   "metadata": {},
   "source": [
    "---\n",
    "\n",
    "## Movemos el jugador y la piedra a la izquierda, para taponar una de las aspas.\n",
    "\n",
    "La idea ahora sería que, al interponer una piedra en el camino, el enemigo ya no nos pueda alcanzar con su(s) disparo(s), y el jugador pueda colocarse debajo de la piedra para cubrirse.\n",
    "\n",
    "---"
   ]
  },
  {
   "cell_type": "code",
   "execution_count": 16,
   "metadata": {},
   "outputs": [
    {
     "data": {
      "application/vnd.jupyter.widget-view+json": {
       "model_id": "c667597df535411f9c094b37acdcdf41",
       "version_major": 2,
       "version_minor": 0
      },
      "text/plain": [
       "HTML(value='<style> img.game {width: 50px !important; height: 50px !important;}</style><table><tr><td><img cla…"
      ]
     },
     "metadata": {},
     "output_type": "display_data"
    }
   ],
   "source": [
    "# \"Reiniciamos\" los valores, para hacer pruebas\n",
    "from IPython.display import display\n",
    "\n",
    "player = [3,3]\n",
    "piedras = set([(3,2)])\n",
    "agua = set([(2,5)])\n",
    "enemigo = (1,1)\n",
    "\n",
    "display(HTML(get_html()))"
   ]
  },
  {
   "cell_type": "code",
   "execution_count": 17,
   "metadata": {},
   "outputs": [
    {
     "data": {
      "application/vnd.jupyter.widget-view+json": {
       "model_id": "66d1b0f323514e0ab8c12206c3344d92",
       "version_major": 2,
       "version_minor": 0
      },
      "text/plain": [
       "HTML(value='<style> img.game {width: 50px !important; height: 50px !important;}</style><table><tr><td><img cla…"
      ]
     },
     "metadata": {},
     "output_type": "display_data"
    }
   ],
   "source": [
    "# ==========================================================================================================================\n",
    "# El jugador empuja la piedra y se mueve, desaparece el aspa, pero no la piedra, y, además, el conjunto de aspas por debajo\n",
    "# de la primera también desaparece, dando a entender que la piedra protege a quien se ponga en cualquier casilla por \n",
    "# debajo de dicha piedra. \n",
    "# ==========================================================================================================================\n",
    "piedras,agua,aspa = move_stones([0,-1])\n",
    "player,llave = move_player([0,-1])\n",
    "display(HTML(get_html()))"
   ]
  },
  {
   "cell_type": "markdown",
   "metadata": {},
   "source": [
    "---\n",
    "\n",
    "## Movemos el jugador hasta encontrarse con la *llave*, condición necesaria para poder salir (i. e., finalizar)\n",
    "\n",
    "La idea ahora sería que, cuando el jugador llegue hasta la llave, ésta desaparezca y se convierta en un elemento de suelo. Hay que tener en cuenta que, sin la llave, no se puede dar por terminado el juego y que, por tanto, cualquier camino válido de solución final ha de pasar por coger la llave, **ANTES** de ir a la salida. \n",
    "\n",
    "---"
   ]
  },
  {
   "cell_type": "code",
   "execution_count": 18,
   "metadata": {},
   "outputs": [
    {
     "data": {
      "application/vnd.jupyter.widget-view+json": {
       "model_id": "3033ffffe7cb4c72ab83ae80efea619d",
       "version_major": 2,
       "version_minor": 0
      },
      "text/plain": [
       "HTML(value='<style> img.game {width: 50px !important; height: 50px !important;}</style><table><tr><td><img cla…"
      ]
     },
     "metadata": {},
     "output_type": "display_data"
    }
   ],
   "source": [
    "# Partimos del punto inicial previo.\n",
    "\n",
    "from IPython.display import display\n",
    "\n",
    "player = [3,3]\n",
    "piedras = set([(3,2)])\n",
    "agua = set([(2,5)])\n",
    "enemigo = (1,1)\n",
    "aspa = set([(2,1),(3,1),(4,1)])\n",
    "\n",
    "display(HTML(get_html()))"
   ]
  },
  {
   "cell_type": "code",
   "execution_count": 19,
   "metadata": {},
   "outputs": [
    {
     "data": {
      "application/vnd.jupyter.widget-view+json": {
       "model_id": "e948e31b822143b2a36a52e6800f7b1b",
       "version_major": 2,
       "version_minor": 0
      },
      "text/plain": [
       "HTML(value='<style> img.game {width: 50px !important; height: 50px !important;}</style><table><tr><td><img cla…"
      ]
     },
     "metadata": {},
     "output_type": "display_data"
    }
   ],
   "source": [
    "# ===============================================================\n",
    "# Muevo el jugador hacia bajo respecto de su posición inicial\n",
    "\n",
    "player,llave = move_player([1,0])\n",
    "display(HTML(get_html()))"
   ]
  },
  {
   "cell_type": "code",
   "execution_count": 20,
   "metadata": {},
   "outputs": [
    {
     "data": {
      "application/vnd.jupyter.widget-view+json": {
       "model_id": "796d06bf31ff46c2ab8c695a6bf60e5a",
       "version_major": 2,
       "version_minor": 0
      },
      "text/plain": [
       "HTML(value='<style> img.game {width: 50px !important; height: 50px !important;}</style><table><tr><td><img cla…"
      ]
     },
     "metadata": {},
     "output_type": "display_data"
    }
   ],
   "source": [
    "# =============================================================================================\n",
    "# Muevo el jugador hacia la izquierda. La idea es que el jugador pase a la posición de la llave, y, a partir de ese momento, la \n",
    "# llave ya no vuelva a aparecer con símbolo, en el tablero.\n",
    "\n",
    "player,llave = move_player([0,-1])\n",
    "display(HTML(get_html()))"
   ]
  },
  {
   "cell_type": "code",
   "execution_count": 21,
   "metadata": {},
   "outputs": [
    {
     "data": {
      "application/vnd.jupyter.widget-view+json": {
       "model_id": "0b3bd7d8454d42e58d25fb248af46e3c",
       "version_major": 2,
       "version_minor": 0
      },
      "text/plain": [
       "HTML(value='<style> img.game {width: 50px !important; height: 50px !important;}</style><table><tr><td><img cla…"
      ]
     },
     "metadata": {},
     "output_type": "display_data"
    }
   ],
   "source": [
    "# ==================================================================================================\n",
    "# Muevo el jugador hacia la derecha desde la posición anterior. La posición de la llave debería ser substituida por suelo.\n",
    "\n",
    "player,llave = move_player([0,1])\n",
    "display(HTML(get_html()))"
   ]
  }
 ],
 "metadata": {
  "kernelspec": {
   "display_name": "Python 3",
   "language": "python",
   "name": "python3"
  },
  "language_info": {
   "codemirror_mode": {
    "name": "ipython",
    "version": 3
   },
   "file_extension": ".py",
   "mimetype": "text/x-python",
   "name": "python",
   "nbconvert_exporter": "python",
   "pygments_lexer": "ipython3",
   "version": "3.7.4"
  }
 },
 "nbformat": 4,
 "nbformat_minor": 1
}
