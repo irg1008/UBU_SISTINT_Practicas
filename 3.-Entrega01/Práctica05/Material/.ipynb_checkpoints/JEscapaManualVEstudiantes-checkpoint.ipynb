{
 "cells": [
  {
   "cell_type": "markdown",
   "metadata": {},
   "source": [
    "# *Escapa, con la llave*. \n",
    "## Organización del código, en *clases*.\n",
    "\n",
    "\n",
    "\n",
    "**Este es el primer *Notebook* asociado a la primera práctica obligatoria**.\n",
    "\n",
    "\n",
    "***TENED EN CUENTA** que habrá un segundo Notebook en el que se consigue que juegue solo usando A**\n",
    "\n",
    "----------------------------------------\n",
    "\n",
    "En esta primera parte de la práctica se va a estructurar el código de las funciones básicas (*Notebook* anterior) en clases, para así poder dejar el código listo para su adaptación al modo automático, usando *A\\** (cosa que se hará en las siguientes sesiones).\n",
    "\n",
    "------------------\n",
    "\n"
   ]
  },
  {
   "cell_type": "markdown",
   "metadata": {},
   "source": [
    "Para este *Notebook*, el profesor proporciona un conjunto de clases que el alumno no tiene que modificar, pero puede hacerlo si lo desea.\n",
    "\n",
    "El profesor proporciona:\n",
    "1. Este *Notebook*, con las explicaciones y el ***main*** \n",
    "2. La *clase* **UIJEscapaVPedro**, la cual implementará los controles (botones, desplegables, y la representación visual del juego)\n",
    "3. La *clase* **MediadorVPedro** que pone en contacto los componentes gráficos entre sí, y utiliza los métodos de la clase **State**, **Level**, **Model**, y la clase **LoaderEscapaVPedro**\n",
    "4. **State**: Funciones para la construcción y consulta de estados (jugadores, cajas ...) <--> Modulo **Escapa** (**Escapa.py**).\n",
    "5. **Level**: Funciones para la construcción y consulta de niveles (tablero, destinos) <--> Modulo **Escapa** (**Escapa.py**)."
   ]
  },
  {
   "cell_type": "markdown",
   "metadata": {},
   "source": [
    "## Descripción de las clases\n",
    "\n",
    "La representación del estado y de los niveles visto en el notebook de funciones básicas se ha organizado en clases.\n",
    "\n",
    "La clase **State**: \n",
    "- tiene un constructor que recibe el jugador, la(s) piedra(s) y la(s) casilla(s) de agua. \n",
    "- tiene un método **get_piedra** que devuelve las piedras\n",
    "- tiene un método **get_agua** que devuelve las coordenadas con agua\n",
    "- tiene un método **get_aspa**, que devuelve las coordenadas que marcan la dirección de disparo del enemigo\n",
    "- tiene un método **get_llave**, que devuelve las coordenadas de la casilla con la llave.\n",
    "\n",
    "- tiene un método **\\_\\_str\\_\\_** que permite obtener la representación en modo texto del objeto y un método **\\_\\_repr\\_\\_** equivalente, para usarlo dentro de colecciones.\n",
    "\n",
    "- Tiene también un método que permite determinar si dos estados son iguales y también otro para calcular su *hash*.\n",
    "\n",
    "La clase **Level**:\n",
    "- tiene un constructor que recibe el tablero y los destinos\n",
    "- tiene un método **get_tablero** que devuelve el tablero, y las paredes.\n",
    "- tiene un método **get_destino** que devuelve el destino al que se debe dirigir el jugador\n",
    "- tiene un método **get_enemigo** que devuelve las coordenadas en las que se encuentra el enemigo\n",
    "- tiene un método **\\_\\_str\\_\\_** que permite obtener la representación en modo texto del objeto, así como un método **\\_\\_repr\\_\\_** equivalente\n",
    "\n",
    "**LoaderEscapaVPedro**, **UIJEscapaVPedro**, **MediadorVPedro**"
   ]
  },
  {
   "cell_type": "code",
   "execution_count": 1,
   "metadata": {},
   "outputs": [],
   "source": [
    "# Ejemplo de cómo se carga un nivel\n",
    "import os\n",
    "from LoaderEscapaVPedro import Loader\n",
    "    \n",
    "l = Loader()\n",
    "l.get_all_levels()\n",
    "# os.sep es el separador de ficheros (\"/\" en linux \"\\\" en windows)\n",
    "level_txt = open(\".\"+os.sep+\"levels\"+os.sep+\"level_medio_VpedroJEscapaB.txt\",'r',encoding=\"utf-8\").read()\n",
    "\n",
    "level, state = l.load_level(level_txt)\n"
   ]
  },
  {
   "cell_type": "code",
   "execution_count": 2,
   "metadata": {},
   "outputs": [
    {
     "name": "stdout",
     "output_type": "stream",
     "text": [
      "#######\n",
      "#!  #*#\n",
      "#x + -#\n",
      "#x   @#\n",
      "#x¡   #\n",
      "#######\n"
     ]
    }
   ],
   "source": [
    "# Imprimimos el nivel para asegurarnos que todo es correcto.\n",
    "print(level_txt)"
   ]
  },
  {
   "cell_type": "code",
   "execution_count": 3,
   "metadata": {},
   "outputs": [
    {
     "data": {
      "text/plain": [
       "[(0, 0, 0, 0, 0, 0, 0),\n",
       " (0, 0, 1, 1, 0, 1, 0),\n",
       " (0, 1, 1, 1, 1, 1, 0),\n",
       " (0, 1, 1, 1, 1, 1, 0),\n",
       " (0, 1, 1, 1, 1, 1, 0),\n",
       " (0, 0, 0, 0, 0, 0, 0)]"
      ]
     },
     "execution_count": 3,
     "metadata": {},
     "output_type": "execute_result"
    }
   ],
   "source": [
    "# Obtenemos la repreentación numérica del Tablero\n",
    "level.get_tablero()"
   ]
  },
  {
   "cell_type": "code",
   "execution_count": 4,
   "metadata": {},
   "outputs": [
    {
     "data": {
      "application/vnd.jupyter.widget-view+json": {
       "model_id": "9aded54070aa4400809578f870761889",
       "version_major": 2,
       "version_minor": 0
      },
      "text/plain": [
       "HTML(value='<style> img.game {width: 50px !important; height: 50px !important;}</style><table><tr><td><img cla…"
      ]
     },
     "metadata": {},
     "output_type": "display_data"
    }
   ],
   "source": [
    "# Ejemplo de visualización de un nivel\n",
    "from UIJEscapaVPedro import gui\n",
    "from ipywidgets import HTML\n",
    "ui = gui()\n",
    "htmlStr = ui.get_html(level, state)\n",
    "HTML(value = htmlStr)"
   ]
  },
  {
   "cell_type": "markdown",
   "metadata": {},
   "source": [
    "El alumno debe completar la implementación de los métodos de este notebook:\n",
    "\n",
    "\n",
    "## Funciones a implementar por el alumno.\n",
    "\n",
    "Nota: En el notebook anterior se usaban variables globales. En este notebook los valores están encapsulados en objetos. Pero la funcionalidad es la misma.\n",
    "\n",
    "- move(level,state,mov): Recibe un nivel, un estado y un movimiento. **Devuelve un nuevo estado** resultante de aplicar el movimiento. Esta función puede reutilizar las funciones del *Notebook* anterior.\n",
    "\n",
    "- is_goal(state): Recibe un estado. Devuelve True si los dos jugadores son None (los dos jugadores han llegado a la meta y es un estado final)\n",
    "\n",
    "**NOTA - IMPORTANTE**: No debes borrar **# Cargar Celda** en cada una de las celdas en que aparezca."
   ]
  },
  {
   "cell_type": "code",
   "execution_count": 5,
   "metadata": {},
   "outputs": [],
   "source": [
    "# Cargar Celda\n",
    "# No tocar esta primera linea\n",
    "\n",
    "# Completa las funciones de esta celda y pruebalas en celdas posteriores\n",
    "from Escapa import Level, State\n",
    "\n",
    "        \n",
    "def is_valid(tablero,coord):\n",
    "    \"\"\" Comprueba si una celda es váida y si es posible poner una piedra en esas coordenadas\n",
    "    \n",
    "    \n",
    "    Parámetros\n",
    "    ----------\n",
    "    coord -- coordenadas de la casilla a analizar\n",
    "    \n",
    "    Devolución\n",
    "    --------\n",
    "    Devuelve True si la casilla es válida y no existe piedra ni cualquier jugador any player\n",
    "    \"\"\"  \n",
    "    \n",
    "    \n",
    "    # A COMPLETAR\n",
    "    \n",
    "\n",
    "def is_piedra_free(tablero, player, piedra, coord):\n",
    "    \"\"\" Comprueba si una casilla es válida y si es posible poner el jugador en esas coordenadas\n",
    "    \n",
    "    \n",
    "    Parámetros\n",
    "    ----------\n",
    "    coord -- coordenadas de la casilla a analizar\n",
    "    \n",
    "    Devolución\n",
    "    --------\n",
    "    Devuelve True si la casilla es válida y no existe piedra o agua.\n",
    "    \"\"\"   \n",
    "    \n",
    "    # A COMPLETAR\n",
    "\n",
    "\n",
    "def is_player_free(tablero, player, piedra, agua, coord):    \n",
    "    \n",
    "    # A COMPLETAR"
   ]
  },
  {
   "cell_type": "code",
   "execution_count": 6,
   "metadata": {},
   "outputs": [],
   "source": [
    "# Cargar Celda\n",
    "def move_player(tablero, player, enemigo, piedra, agua, aspa, llave, destino, mov):\n",
    "    \n",
    "    \n",
    "    # A COMPLETAR"
   ]
  },
  {
   "cell_type": "code",
   "execution_count": 7,
   "metadata": {},
   "outputs": [],
   "source": [
    "# Cargar Celda\n",
    "def move_piedra(tablero, player, piedra, agua, aspa, llave, mov):\n",
    "    \n",
    "    jugador_actual = player    \n",
    "        \n",
    "    nueva_piedra = set(piedra)\n",
    "    nueva_agua = set(agua)\n",
    "    nueva_llave = set(llave)\n",
    "    nueva_aspa = set(aspa)\n",
    "        \n",
    "    nuevaCoord = list(map(lambda x,y: x+y,jugador_actual,mov))\n",
    "    nuevaCoord2 = list(map(lambda x,y: x+y,nuevaCoord,mov))\n",
    "    \n",
    "    \n",
    "      # A COMPLETAR"
   ]
  },
  {
   "cell_type": "code",
   "execution_count": 8,
   "metadata": {},
   "outputs": [],
   "source": [
    "# Cargar Celda\n",
    "def move(level,state,mov):\n",
    "    \"\"\" Mueve al jugador: [1,0] (Arriba), [-1,0] (Abajo), [0,1] (Derecha), [0,-1] (Izquierda)\n",
    "    \n",
    "    Parámetros\n",
    "    ----------\n",
    "    level -- Un \"nivel\"\n",
    "    State -- Un \"estado\"\n",
    "    mov -- Dirección del movimiento\n",
    "    \n",
    "    Devolución\n",
    "    --------\n",
    "    Devuelve un nuevo estado, o el mismo, si el movimiento indicado no es posible.\n",
    "    \"\"\"\n",
    "        \n",
    "    piedra = state.get_piedra()\n",
    "    agua = state.get_agua()\n",
    "    aspa=state.get_aspa()\n",
    "    llave = state.get_llave()\n",
    "    \n",
    "    player = state.get_player()\n",
    "    \n",
    "        \n",
    "    tablero = level.get_tablero()\n",
    "    destino = level.get_destino()\n",
    "    \n",
    "    enemigo = level.get_enemigo()\n",
    "        \n",
    "    e1= move_piedra(tablero,player,piedra,agua,aspa,llave,mov)\n",
    "    e2 = move_player(tablero,player,enemigo,e1.get_piedra(),e1.get_agua(),e1.get_aspa(),llave,destino,mov)    \n",
    "    \n",
    "    return e2"
   ]
  },
  {
   "cell_type": "code",
   "execution_count": 9,
   "metadata": {},
   "outputs": [],
   "source": [
    "# Cargar Celda\n",
    "def is_goal(state):\n",
    "    \"\"\" Determinación de si \"es el objetivo\" \n",
    "    \n",
    "    Parámetros\n",
    "    ----------\n",
    "    state -- Un \"estado\"\n",
    "    \n",
    "    Devolución\n",
    "    --------\n",
    "    Devuelve \"True\" si el \"estado\" es un \"objetivo\"\n",
    "    \"\"\"\n",
    "    player = state.get_player()\n",
    "    return player is None"
   ]
  },
  {
   "cell_type": "code",
   "execution_count": null,
   "metadata": {},
   "outputs": [],
   "source": []
  },
  {
   "cell_type": "code",
   "execution_count": 10,
   "metadata": {},
   "outputs": [
    {
     "data": {
      "application/vnd.jupyter.widget-view+json": {
       "model_id": "7cc29adad9ac4fb08067623debcefc70",
       "version_major": 2,
       "version_minor": 0
      },
      "text/plain": [
       "HTML(value='<style> img.game {width: 50px !important; height: 50px !important;}</style><table><tr><td><img cla…"
      ]
     },
     "metadata": {},
     "output_type": "display_data"
    }
   ],
   "source": [
    "HTML(value = htmlStr)"
   ]
  },
  {
   "cell_type": "code",
   "execution_count": 11,
   "metadata": {},
   "outputs": [
    {
     "name": "stdout",
     "output_type": "stream",
     "text": [
      "[3, 5]{(2, 3)}{(2, 5)}{(3, 1), (4, 1), (2, 1)}{(4, 2)}\n"
     ]
    }
   ],
   "source": [
    "s1 = state\n",
    "print(s1)"
   ]
  },
  {
   "cell_type": "code",
   "execution_count": 12,
   "metadata": {},
   "outputs": [
    {
     "data": {
      "application/vnd.jupyter.widget-view+json": {
       "model_id": "943d1657d10a49a5a79d6dac8303d14e",
       "version_major": 2,
       "version_minor": 0
      },
      "text/plain": [
       "HTML(value='<style> img.game {width: 50px !important; height: 50px !important;}</style><table><tr><td><img cla…"
      ]
     },
     "metadata": {},
     "output_type": "display_data"
    }
   ],
   "source": [
    "from UIJEscapaVPedro import gui\n",
    "from ipywidgets import HTML\n",
    "ui = gui()\n",
    "\n",
    "s2 = move(level,s1,[0,-1])\n",
    "\n",
    "htmlStr = ui.get_html(level, s2)\n",
    "HTML(value = htmlStr)"
   ]
  },
  {
   "cell_type": "code",
   "execution_count": 13,
   "metadata": {},
   "outputs": [
    {
     "data": {
      "application/vnd.jupyter.widget-view+json": {
       "model_id": "cec1b3847aa54dafb84edf886aa1b0c4",
       "version_major": 2,
       "version_minor": 0
      },
      "text/plain": [
       "HTML(value='<style> img.game {width: 50px !important; height: 50px !important;}</style><table><tr><td><img cla…"
      ]
     },
     "metadata": {},
     "output_type": "display_data"
    }
   ],
   "source": [
    "# En las celdas que aparecen a continuación, vamos a aplicar una serie de movimientos \"manuales\" individuales para asegurarnos\n",
    "# que todo es correcto.\n",
    "\n",
    "s3 = move(level,s2,[-1,0])\n",
    "\n",
    "htmlStr = ui.get_html(level, s3)\n",
    "HTML(value = htmlStr)"
   ]
  },
  {
   "cell_type": "code",
   "execution_count": 14,
   "metadata": {},
   "outputs": [
    {
     "data": {
      "application/vnd.jupyter.widget-view+json": {
       "model_id": "62a9b8ead4984d8ba276708f39dbc29e",
       "version_major": 2,
       "version_minor": 0
      },
      "text/plain": [
       "HTML(value='<style> img.game {width: 50px !important; height: 50px !important;}</style><table><tr><td><img cla…"
      ]
     },
     "metadata": {},
     "output_type": "display_data"
    }
   ],
   "source": [
    "s4 = move(level,s3,[0,-1])\n",
    "\n",
    "htmlStr = ui.get_html(level, s4)\n",
    "HTML(value = htmlStr)"
   ]
  },
  {
   "cell_type": "code",
   "execution_count": 15,
   "metadata": {},
   "outputs": [
    {
     "data": {
      "application/vnd.jupyter.widget-view+json": {
       "model_id": "5d946624457b4f1ca71ad95406d17ece",
       "version_major": 2,
       "version_minor": 0
      },
      "text/plain": [
       "HTML(value='<style> img.game {width: 50px !important; height: 50px !important;}</style><table><tr><td><img cla…"
      ]
     },
     "metadata": {},
     "output_type": "display_data"
    }
   ],
   "source": [
    "s5 = move(level,s4,[0,-1])\n",
    "\n",
    "htmlStr = ui.get_html(level, s5)\n",
    "HTML(value = htmlStr)"
   ]
  },
  {
   "cell_type": "markdown",
   "metadata": {},
   "source": [
    "Una vez hayas implementado y probado las funciones, trata de ejecutar el juego.\n",
    "\n",
    "El **Mediador** es la clase que sirve de enganche entre las clases de interfaz y la funcionalidad. Leerá las celdas que empiezan por \"# Cargar Celda\", cargará esas funciones dinámicamente, y las usará para mover y comprobar si la partida finaliza.\n",
    "\n",
    "\n",
    "# Atención\n",
    "Es código de abajo carga el *Notebook* actual, por lo que si queremos que el funcionamiento se actualize debemos guardar el *Notebook* y recargar todo el proyecto."
   ]
  },
  {
   "cell_type": "code",
   "execution_count": 16,
   "metadata": {},
   "outputs": [
    {
     "data": {
      "application/vnd.jupyter.widget-view+json": {
       "model_id": "1a34efced71e4ee7b5142aa4294bf87c",
       "version_major": 2,
       "version_minor": 0
      },
      "text/plain": [
       "VBox(children=(Dropdown(description='Elija nivel:', options=('level_PruebaJEscapa.txt', 'level_PruebaJEscapaTr…"
      ]
     },
     "metadata": {},
     "output_type": "display_data"
    }
   ],
   "source": [
    "from IPython.display import display\n",
    "from MediadorVPedro import Mediator\n",
    "from UIJEscapaVPedro import gui\n",
    "\n",
    "import warnings\n",
    "warnings.filterwarnings(\"ignore\")\n",
    "ui = gui(manual = True)\n",
    "\n",
    "med = Mediator.get_instance(modelPath = \"JEscapaManual.ipynb\")   \n",
    "med.register_ui(ui)\n",
    "\n",
    "\n",
    "# Cuando llamo a la función se crean\n",
    "display(ui.get_ui_elements())\n",
    "\n",
    "\n"
   ]
  },
  {
   "cell_type": "code",
   "execution_count": null,
   "metadata": {},
   "outputs": [],
   "source": []
  }
 ],
 "metadata": {
  "kernelspec": {
   "display_name": "Python 3",
   "language": "python",
   "name": "python3"
  },
  "language_info": {
   "codemirror_mode": {
    "name": "ipython",
    "version": 3
   },
   "file_extension": ".py",
   "mimetype": "text/x-python",
   "name": "python",
   "nbconvert_exporter": "python",
   "pygments_lexer": "ipython3",
   "version": "3.7.4"
  },
  "widgets": {
   "state": {
    "042bada4e434454aaa908b25461e3531": {
     "views": [
      {
       "cell_index": 6
      }
     ]
    },
    "70d5bfdaf81b4f57ba5f3ab63745e01f": {
     "views": [
      {
       "cell_index": 6
      }
     ]
    },
    "ae0d245cc8874fb6951e921b363d8c61": {
     "views": [
      {
       "cell_index": 6
      }
     ]
    },
    "cb210eb6fe2d4689bd59da4880bb4db2": {
     "views": [
      {
       "cell_index": 4
      }
     ]
    }
   },
   "version": "1.2.0"
  }
 },
 "nbformat": 4,
 "nbformat_minor": 2
}
