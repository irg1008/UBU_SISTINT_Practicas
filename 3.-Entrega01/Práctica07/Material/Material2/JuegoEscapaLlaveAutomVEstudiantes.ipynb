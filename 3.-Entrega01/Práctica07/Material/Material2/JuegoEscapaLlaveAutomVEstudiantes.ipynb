{
 "cells": [
  {
   "cell_type": "markdown",
   "metadata": {},
   "source": [
    "# *Escapa, con la llave* (Modo Automático)\n",
    "\n",
    "---\n",
    "**Lee este *Notebook* con atención**\n",
    "\n",
    "En este *Notebook*, se va a cargar código de *Notebooks* anteriores, por lo que las funciones de los *Notebooks* anteriores deberían haber sido realizadas y **probadas**, antes de empezar con éste.\n",
    "\n",
    "Dado que este *Notebook* carga código de *Notebooks* anteriores, cada vez que se cambie o corrija uno de los *Notebooks* anteriores, **es necesario** recargar este *Notebook* al completo.\n",
    "\n",
    "Este *Notebook* constituye la segunda parte de la práctica.\n",
    "\n",
    "### ¿Qué se va a hacer?\n",
    "\n",
    "Se va a usar el algoritmo A\\* para resolver el juego de *Escapa, con la llave*.\n",
    "\n",
    "### ¿Cómo se va a hacer?\n",
    "\n",
    "- Se va a utilizar la implementación del A\\* realizada en el *Notebook* \"FuncionesBusqueda\". Si es necesario, habrá que corregir la implementación del A\\* anteror, para que funcione. \n",
    "\n",
    "- Se van a implementar funciones para:\n",
    "    - obtener cuándo un estado es *meta*.\n",
    "    - obtener cuál es el valor heurístico de un determinado estado.\n",
    "    - obtener los sucesores de un nodo. Para obtener los sucesores, se va a utilizar la función **move** realizada anteriormente. \n",
    "    \n",
    "A continuación se puede ver cómo, usando la clase **DynamicCodeLoader**, se puede cargar el código de los *Notebooks* anteriores. Este ejemplo sería solamente para poder hacer pruebas, dado que la interfaz gráfica lo integra ya todo.\n",
    "\n",
    "Todo el código del *Notebook* de la primera parte de la práctica se guarda en el módulo *model* y todo el código del *Notebook* de 'FuncionesBusqueda' se guarda en el módulo *search*.\n",
    "\n",
    "---"
   ]
  },
  {
   "cell_type": "code",
   "execution_count": 1,
   "metadata": {},
   "outputs": [],
   "source": [
    "# Cargar Celda\n",
    "from DynamicCodeLoader import cargaCodigoDinamico\n",
    "\n",
    "# atento a los nombres que tengan tus notebook en tu PC\n",
    "model = cargaCodigoDinamico('JEscapaManualConBooleanoLlave.ipynb',\"Model\")\n",
    "search = cargaCodigoDinamico('FuncionesBusquedaACompletarEstudiantes.ipynb',\"Search\")"
   ]
  },
  {
   "cell_type": "markdown",
   "metadata": {},
   "source": [
    "### Ejemplo 1: Crear un estado y un nivel y manipularlo\n",
    "\n",
    "Se crea un estado y un nivel usando la clase **Loader**, el método **carga_nivel**"
   ]
  },
  {
   "cell_type": "code",
   "execution_count": 2,
   "metadata": {},
   "outputs": [],
   "source": [
    "# ejemplo de como se carga un nivel\n",
    "import os\n",
    "from LoaderEscapaConBooleanoLlaveVPedro import Loader\n",
    "    \n",
    "l = Loader()\n",
    "l.get_all_levels()\n",
    "# os.sep es el separador de ficheros (\"/\" en linux \"\\\" en windows)\n",
    "level_txt = open(\".\"+os.sep+\"levels\"+os.sep+\"level_medio_VpedroJEscapa.txt\",'r',encoding=\"utf-8\").read()\n",
    "\n",
    "level, state = l.load_level(level_txt)"
   ]
  },
  {
   "cell_type": "code",
   "execution_count": 3,
   "metadata": {},
   "outputs": [
    {
     "name": "stdout",
     "output_type": "stream",
     "text": [
      "#######\n",
      "#!  #*#\n",
      "#x + -#\n",
      "#x   @#\n",
      "#x¡   #\n",
      "#######\n"
     ]
    }
   ],
   "source": [
    "# Imprimimos el nivel para asegurarnos que todo es correcto.\n",
    "print(level_txt)"
   ]
  },
  {
   "cell_type": "code",
   "execution_count": 4,
   "metadata": {},
   "outputs": [
    {
     "data": {
      "text/plain": [
       "[(0, 0, 0, 0, 0, 0, 0),\n",
       " (0, 0, 1, 1, 0, 1, 0),\n",
       " (0, 1, 1, 1, 1, 1, 0),\n",
       " (0, 1, 1, 1, 1, 1, 0),\n",
       " (0, 1, 1, 1, 1, 1, 0),\n",
       " (0, 0, 0, 0, 0, 0, 0)]"
      ]
     },
     "execution_count": 4,
     "metadata": {},
     "output_type": "execute_result"
    }
   ],
   "source": [
    "# Obtenemos la repreentación numérica del Tablero\n",
    "level.get_tablero()"
   ]
  },
  {
   "cell_type": "markdown",
   "metadata": {},
   "source": [
    "A continuación el estado se manipula usando el método **move** que se definió en la primera parte de la práctica."
   ]
  },
  {
   "cell_type": "code",
   "execution_count": 5,
   "metadata": {},
   "outputs": [
    {
     "name": "stdout",
     "output_type": "stream",
     "text": [
      "[3, 5]{(2, 3)}{(2, 5)}{(3, 1), (4, 1), (2, 1)}{(4, 2)}0\n",
      "False\n",
      "[3, 4]{(2, 3)}{(2, 5)}{(3, 1), (4, 1), (2, 1)}{(4, 2)}0\n"
     ]
    }
   ],
   "source": [
    "# Ejemplos de Model\n",
    "print(state)\n",
    "print(model.is_goal(state))\n",
    "\n",
    "new_state = model.move(level,state,[0,-1])\n",
    "print(new_state)"
   ]
  },
  {
   "cell_type": "markdown",
   "metadata": {},
   "source": [
    "Se puede si se quiere visualizar el estado original y el estado manipulado de forma gráfica."
   ]
  },
  {
   "cell_type": "code",
   "execution_count": 6,
   "metadata": {},
   "outputs": [
    {
     "data": {
      "application/vnd.jupyter.widget-view+json": {
       "model_id": "7615e6be35c14a13857edf7a8016d899",
       "version_major": 2,
       "version_minor": 0
      },
      "text/plain": [
       "HTML(value='<style> img.game {width: 50px !important; height: 50px !important;}</style><table><tr><td><img cla…"
      ]
     },
     "metadata": {},
     "output_type": "display_data"
    }
   ],
   "source": [
    "# ejemplo de como se visualiza un nivel\n",
    "from UIJEscapaVPedro import gui\n",
    "from ipywidgets import HTML\n",
    "ui = gui()\n",
    "htmlStr = ui.get_html(level, state)\n",
    "HTML(value = htmlStr)"
   ]
  },
  {
   "cell_type": "markdown",
   "metadata": {},
   "source": [
    "### Ejemplo 2: Usar el algoritmo A\\* para hacer pathfinding\n",
    "\n",
    "En el módulo *search* tenemos una implementación de A\\* y funciones y variables para hacer *pathfinding* (El problema de ir de la coordenada A a la coordenada B en un espacio de estados de coordenadas sin cajas, agua ni nada).\n",
    "\n",
    "En el ejemplo de abajo, se crea un tablero, un estado inicial y un estado final.\n",
    "\n",
    "La función *creaNodoInicialPF* crea un nodo para el problema del PathFinding y además inicializa los valores de las variables globales search.estadoFinalPF y search.tablero, que se usan dentro de las funciones de heurística y sucesores.\n",
    "\n",
    "Una vez creado el nodo, se invoca a la función *search.AStar* pasandole dicho nodo y las funciones de meta, heurística y sucesores."
   ]
  },
  {
   "cell_type": "code",
   "execution_count": 7,
   "metadata": {},
   "outputs": [
    {
     "data": {
      "text/plain": [
       "[(3, 5), (2, 5), (2, 4), (2, 3), (2, 2), (1, 2)]"
      ]
     },
     "execution_count": 7,
     "metadata": {},
     "output_type": "execute_result"
    }
   ],
   "source": [
    "tablero = [[0,0,0,0,0,0,0],\n",
    "          [0,0,1,1,0,1,0],\n",
    "          [0,1,1,1,1,1,0],\n",
    "          [0,1,1,1,1,1,0],\n",
    "          [0,1,1,1,1,1,0],\n",
    "          [0,0,0,0,0,0,0]]\n",
    "\n",
    "\n",
    "estadoInicialPF = (3,5) #y,x\n",
    "estadoFinalPF = (1,2)\n",
    "\n",
    "\n",
    "def creaNodoInicialPF(ei,ef, tab, hPF):\n",
    "    \"\"\" Crea un nodo\n",
    "    Devuelve un nodo\n",
    "    Parámetros:\n",
    "    Estado inicial\n",
    "    Estado final, necesario para calcular la heurística\n",
    "    Tablero: necesario en la función de sucesores\n",
    "    Heurística, necesaria para calcular la F.\n",
    "    \"\"\"    \n",
    "    search.estadoFinalPF = ef \n",
    "    search.tablero = tab\n",
    "    \n",
    "    return search.Nodo(ei,None,0,hPF(ei))\n",
    "    \n",
    "\n",
    "nodoInicialPF = creaNodoInicialPF(estadoInicialPF,\n",
    "                                  estadoFinalPF, \n",
    "                                  tablero, \n",
    "                                  search.heuristicaPF)\n",
    "\n",
    "solucion = search.AStar(nodoInicialPF,\n",
    "                        search.sucesoresPF, \n",
    "                        search.es_metaPF, \n",
    "                        search.heuristicaPF)\n",
    "solucion"
   ]
  },
  {
   "cell_type": "markdown",
   "metadata": {},
   "source": [
    "---\n",
    "\n",
    "## Que se necesita para resolver el juego de *Escapa, con la llave*, usando A\\*\n",
    "\n",
    "Se necesita:\n",
    "- Crear un nodo (proporcionado por el profesor)\n",
    "- Saber cuando un estado es meta (proporcionado por el profesor)\n",
    "- Función heurística (**Implementado por el alumno**)\n",
    "- Función de sucesores (**Implementado por el alumno**)\n",
    "\n",
    "---\n"
   ]
  },
  {
   "cell_type": "markdown",
   "metadata": {},
   "source": [
    "#### Crear un nodo\n",
    "\n",
    "La función **nodo_inicial_JEscapa** crea un nodo inicial se Kwirk con el estado y el nivel especificado. Usa la función fH para calcular el valor heurístico.\n",
    "\n",
    "Además inicializa:\n",
    "- nivel_global. Una variable global que puede ser usada por las funciones de meta, de hurística y de sucesores\n",
    "- num_evaluados. Una variable que lleva la cuenta del número de nodos evaluados. Y saber posteriormente que implementación de heurística es mejor."
   ]
  },
  {
   "cell_type": "code",
   "execution_count": 8,
   "metadata": {},
   "outputs": [],
   "source": [
    "# Cargar Celda\n",
    "num_evaluados = 0\n",
    "coste_total = 0\n",
    "\n",
    "\n",
    "def nodo_inicial_JEscapa(nivel,estado,fH):\n",
    "    \"\"\" Crea un nodo del juego de \"Escapa con la llave\"\n",
    "    Devuelve un nodo\n",
    "    Parámetros:\n",
    "    nivel que contiene el tablero y los destinos\n",
    "    estado inicial que contiene el jugador y las cajas\n",
    "    fH heurística usada para calcular la F.\n",
    "    \"\"\" \n",
    "    \n",
    "    nodoInicial = search.Nodo(estado,\n",
    "                              None,\n",
    "                              0,\n",
    "                              fH(estado))\n",
    "    global nivel_global \n",
    "    global num_evaluados\n",
    "    nivel_global= nivel\n",
    "    num_evaluados = 0 # reinicio el número de evaluados\n",
    "    \n",
    "    return nodoInicial"
   ]
  },
  {
   "cell_type": "markdown",
   "metadata": {},
   "source": [
    "#### Saber cuando es meta\n",
    "\n",
    "La función *meta_JEscapa* toma un nodo y va a devolver *True*, si dicho nodo contiene un estado *meta* (todas las cajas están sobre los destinos, reutilizando *es_meta*, de la primera parte).\n",
    "\n",
    "Además, si es *meta*, recupera el valor de **G** (el coste), para saber el coste de la solución.\n"
   ]
  },
  {
   "cell_type": "code",
   "execution_count": 9,
   "metadata": {},
   "outputs": [],
   "source": [
    "# Cargar Celda\n",
    "\n",
    "\n",
    "# goal\n",
    "def meta_JEscapa(nodo):\n",
    "    \"\"\" Consulta si un nodo contiene un estado meta\n",
    "    Devuelve True si es meta\n",
    "    Parámetros:\n",
    "    nodo a evaluar\n",
    "    \"\"\" \n",
    "    \n",
    "    global nivel_global\n",
    "    global coste_total\n",
    "    \n",
    "    \n",
    "    # COMPLETA AQUÍ\n",
    "        \n",
    "\n",
    "    return es_meta"
   ]
  },
  {
   "cell_type": "markdown",
   "metadata": {},
   "source": [
    "### Cálculo del *valor heurístico*\n",
    "\n",
    "**(Lo han de implementar los alumnos)**\n",
    "\n",
    "Esta función tiene que devolver un valor númerico que estime los movimientos que *faltan*, para llegar a la meta.\n",
    "\n",
    "Ejemplos:\n",
    "- $f_0$: Devuelve siempre 0. Es *minorante*, así es que encontraría el camino más corto.\n",
    "- $f_1$: Devuelve la suma de distancias de *Manhattan*, entre la meta y los jugadores. Es *minorante*.\n",
    "- $f_2$ y $f_3$: Inventadas por el alumno, para que tengan en cuenta el agua y las cajas.\n",
    "\n",
    "$f_0 < f_1$ \n",
    "\n",
    "Cuanto mayor sea el valor heurístico, menos nodos se explorarán, y encontrará el camino mínimo, siempre que sea *minorante*.\n"
   ]
  },
  {
   "cell_type": "code",
   "execution_count": 10,
   "metadata": {},
   "outputs": [],
   "source": [
    "# Cargar Celda\n",
    "def heuristica_JEscapa(estado):\n",
    "    \"\"\" Evalua el coste estimado desde un estado hasta la meta\n",
    "    Devuelve un número positivo mayor que 0\n",
    "    Parámetros:\n",
    "    Estado a evaluar\n",
    "    \"\"\" \n",
    "    \n",
    "    global nivel_global\n",
    "    # cada vez que se invoca la heurística, se incrementa en 1 el número de nodos evaluados\n",
    "    \n",
    "    \n",
    "    \n",
    "    # COMPLETA AQUÍ\n",
    "    \n",
    "    \n",
    "    \n",
    "    return 0"
   ]
  },
  {
   "cell_type": "markdown",
   "metadata": {},
   "source": [
    "### Crear sucesores\n",
    "\n",
    "Esta función debería crear nodos *sucesores*, siguiendo una de estas dos estrategías:\n",
    "\n",
    "*Opción sencilla*:\n",
    "- Habría un máximo de 4 sucesores, el resultado de ejecutar los movimientos arriba, abajo, derecha o izquierda. Si alguno de los movimientos no se puede ejecutar, habría menos de 3 sucesores.\n",
    "\n",
    "*Opción avanzada*: \n",
    "- Consideraríamos los siguientes tipos de sucesores:\n",
    "    - Sucesores colocarse: Lleva el jugador hasta la meta, o a una posición adyacente a una caja.\n",
    "    - Sucesores empujar: Empuja una caja.\n",
    "    \n",
    "Si se puede ir a la meta, se va a la meta. Si no, es que hay una caja o agua bloqueando el camino, así que habrá que ir junto a una caja, para así, empujarla. Los desplazamientos hasta la meta o hasta las coordenadas adyacentes a una caja se harán con la opción *pathfinding*.\n",
    "\n",
    "Con esta idea, no se exploran estados intermedios en los que no existe ni la posibilidad de empujar una caja."
   ]
  },
  {
   "cell_type": "code",
   "execution_count": 11,
   "metadata": {},
   "outputs": [],
   "source": [
    "# Cargar Celda\n",
    "\n",
    "def sucesores_JEscapa(nodo,hSoc):\n",
    "    global nivel_global\n",
    "    estado = nodo.getEstado()\n",
    "    g = nodo.getG()\n",
    "    hijos = []\n",
    "    movs = [[1,0],[-1,0],[0,1],[0,-1]]\n",
    "        \n",
    "    for mov in movs:\n",
    "        hijo = model.move(nivel_global,estado,mov)\n",
    "        \n",
    "        if hijo != estado:\n",
    "            nuevaG = g+1\n",
    "            h=hSoc(hijo)\n",
    "            hijos.append(search.Nodo(hijo,nodo,nuevaG,nuevaG+h)) \n",
    "    \n",
    "    return hijos"
   ]
  },
  {
   "cell_type": "code",
   "execution_count": 12,
   "metadata": {},
   "outputs": [],
   "source": [
    "# Cargar Celda\n",
    "\n",
    "# Crea tantas celdas como necesites, si son funciones necesarias\n",
    "# para el juego deberán empezar por Cargar Celda\n"
   ]
  },
  {
   "cell_type": "markdown",
   "metadata": {},
   "source": [
    "# Probando las funciones\n",
    "\n",
    "La manera de probar las funciones es igual que en la primera parte de la práctica.\n",
    "\n",
    "Se carga un nivel donde tengamos la partida que queremos probar."
   ]
  },
  {
   "cell_type": "code",
   "execution_count": 13,
   "metadata": {},
   "outputs": [],
   "source": [
    "# Si tienes problemas empieza cargando los niveles más fáciles el 0, el 1\n",
    "# Aumenta la dificultad a medida que arregles los fallos.\n",
    "\n",
    "level_txt = open(\".\"+os.sep+\"levels\"+os.sep+\"level_PruebaJEscapaTrivial.txt\",'r',encoding=\"utf-8\").read()\n",
    "level1, state1 = l.load_level(level_txt)\n"
   ]
  },
  {
   "cell_type": "code",
   "execution_count": 14,
   "metadata": {},
   "outputs": [
    {
     "name": "stdout",
     "output_type": "stream",
     "text": [
      "#######\n",
      "#!* ###\n",
      "#x + -#\n",
      "#x @  #\n",
      "#x¡   #\n",
      "#######\n"
     ]
    }
   ],
   "source": [
    "# Imprimimos el nivel para asegurarnos que todo es correcto.\n",
    "print(level_txt)"
   ]
  },
  {
   "cell_type": "code",
   "execution_count": 15,
   "metadata": {},
   "outputs": [
    {
     "data": {
      "text/plain": [
       "[(0, 0, 0, 0, 0, 0, 0),\n",
       " (0, 0, 1, 1, 0, 0, 0),\n",
       " (0, 1, 1, 1, 1, 1, 0),\n",
       " (0, 1, 1, 1, 1, 1, 0),\n",
       " (0, 1, 1, 1, 1, 1, 0),\n",
       " (0, 0, 0, 0, 0, 0, 0)]"
      ]
     },
     "execution_count": 15,
     "metadata": {},
     "output_type": "execute_result"
    }
   ],
   "source": [
    "level1.get_tablero()"
   ]
  },
  {
   "cell_type": "code",
   "execution_count": 16,
   "metadata": {},
   "outputs": [
    {
     "data": {
      "application/vnd.jupyter.widget-view+json": {
       "model_id": "2cdd7d7823574421b5be711d795c1d54",
       "version_major": 2,
       "version_minor": 0
      },
      "text/plain": [
       "HTML(value='<style> img.game {width: 50px !important; height: 50px !important;}</style><table><tr><td><img cla…"
      ]
     },
     "metadata": {},
     "output_type": "display_data"
    }
   ],
   "source": [
    "# ejemplo de como se visualiza un nivel\n",
    "from UIJEscapaVPedro import gui\n",
    "from ipywidgets import HTML\n",
    "ui = gui()\n",
    "htmlStr = ui.get_html(level1, state1)\n",
    "HTML(value = htmlStr)"
   ]
  },
  {
   "cell_type": "code",
   "execution_count": 17,
   "metadata": {},
   "outputs": [
    {
     "name": "stdout",
     "output_type": "stream",
     "text": [
      "[3, 3]{(2, 3)}{(2, 5)}{(3, 1), (4, 1), (2, 1)}{(4, 2)}0\n",
      "False\n",
      "[4, 3]{(2, 3)}{(2, 5)}{(3, 1), (4, 1), (2, 1)}{(4, 2)}0\n"
     ]
    }
   ],
   "source": [
    "# Ejemplos de Model\n",
    "print(state1)\n",
    "print(model.is_goal(state1))\n",
    "\n",
    "new_state1 = model.move(level1,state1,[1,0])\n",
    "print(new_state1)"
   ]
  },
  {
   "cell_type": "code",
   "execution_count": 18,
   "metadata": {},
   "outputs": [
    {
     "data": {
      "application/vnd.jupyter.widget-view+json": {
       "model_id": "7a72f5332aa94267a21d45713cdf4de7",
       "version_major": 2,
       "version_minor": 0
      },
      "text/plain": [
       "HTML(value='<style> img.game {width: 50px !important; height: 50px !important;}</style><table><tr><td><img cla…"
      ]
     },
     "metadata": {},
     "output_type": "display_data"
    }
   ],
   "source": [
    "from UIJEscapaVPedro import gui\n",
    "from ipywidgets import HTML\n",
    "ui = gui()\n",
    "\n",
    "htmlStr = ui.get_html(level1, new_state1)\n",
    "HTML(value = htmlStr)"
   ]
  },
  {
   "cell_type": "markdown",
   "metadata": {},
   "source": [
    "---\n",
    "Se usa el estado y el nivel para para crear un Nodo. **Siempre hay que crear un nodo inicial**. Las funciones de *heurística* y *sucesores* funcionan sobre nodos.\n",
    "\n",
    "La función de *crear nodo* sería una de las funciones proporcionadas por el profesor.\n",
    "\n",
    "---"
   ]
  },
  {
   "cell_type": "code",
   "execution_count": 19,
   "metadata": {},
   "outputs": [
    {
     "data": {
      "text/plain": [
       "Nodo [3, 3]{(2, 3)}{(2, 5)}{(3, 1), (4, 1), (2, 1)}{(4, 2)}0(0)"
      ]
     },
     "execution_count": 19,
     "metadata": {},
     "output_type": "execute_result"
    }
   ],
   "source": [
    "nodoInicial = nodo_inicial_JEscapa(level1,state1,heuristica_JEscapa)    \n",
    "nodoInicial"
   ]
  },
  {
   "cell_type": "markdown",
   "metadata": {},
   "source": [
    "Después de crear el nodo inicial se pueden probar las funciones.\n"
   ]
  },
  {
   "cell_type": "code",
   "execution_count": 20,
   "metadata": {},
   "outputs": [
    {
     "data": {
      "text/plain": [
       "[Nodo [4, 3]{(2, 3)}{(2, 5)}{(3, 1), (4, 1), (2, 1)}{(4, 2)}0(1),\n",
       " Nodo [2, 3]{(1, 3)}{(2, 5)}{(3, 1), (4, 1), (2, 1)}{(4, 2)}0(1),\n",
       " Nodo [3, 4]{(2, 3)}{(2, 5)}{(3, 1), (4, 1), (2, 1)}{(4, 2)}0(1),\n",
       " Nodo [3, 2]{(2, 3)}{(2, 5)}{(3, 1), (4, 1), (2, 1)}{(4, 2)}0(1)]"
      ]
     },
     "execution_count": 20,
     "metadata": {},
     "output_type": "execute_result"
    }
   ],
   "source": [
    "sucesores = sucesores_JEscapa(nodoInicial,heuristica_JEscapa)\n",
    "sucesores"
   ]
  },
  {
   "cell_type": "markdown",
   "metadata": {},
   "source": [
    "Podemos probar el A\\* en su conjunto de la siguiente forma:"
   ]
  },
  {
   "cell_type": "code",
   "execution_count": 21,
   "metadata": {},
   "outputs": [
    {
     "name": "stdout",
     "output_type": "stream",
     "text": [
      "Solución \n",
      "[3, 3]{(2, 3)}{(2, 5)}{(3, 1), (4, 1), (2, 1)}{(4, 2)}0\n",
      "[4, 3]{(2, 3)}{(2, 5)}{(3, 1), (4, 1), (2, 1)}{(4, 2)}0\n",
      "[4, 2]{(2, 3)}{(2, 5)}{(3, 1), (4, 1), (2, 1)}set()1\n",
      "[3, 2]{(2, 3)}{(2, 5)}{(3, 1), (4, 1), (2, 1)}set()1\n",
      "[2, 2]{(2, 3)}{(2, 5)}{(3, 1), (4, 1), (2, 1)}set()1\n",
      "None{(2, 3)}{(2, 5)}{(3, 1), (4, 1), (2, 1)}set()1\n",
      "Nodos evaluados  119\n",
      "Coste de la solución  5\n"
     ]
    }
   ],
   "source": [
    "solucion = search.AStar(nodoInicial,\n",
    "                        sucesores_JEscapa, \n",
    "                        meta_JEscapa, \n",
    "                        heuristica_JEscapa)\n",
    "print(\"Solución \")\n",
    "for estado in solucion:\n",
    "    print(estado)\n",
    "print(\"Nodos evaluados \",num_evaluados)\n",
    "print(\"Coste de la solución \",coste_total)"
   ]
  },
  {
   "cell_type": "markdown",
   "metadata": {},
   "source": [
    "Podriamos visualizar la solución de manera gráfica así:"
   ]
  },
  {
   "cell_type": "code",
   "execution_count": 22,
   "metadata": {},
   "outputs": [
    {
     "data": {
      "application/vnd.jupyter.widget-view+json": {
       "model_id": "603a5221be6645dea63e4a1b47c80abc",
       "version_major": 2,
       "version_minor": 0
      },
      "text/plain": [
       "VBox(children=(VBox(children=(HTML(value='<style> img.game {width: 50px !important; height: 50px !important;}<…"
      ]
     },
     "metadata": {},
     "output_type": "display_data"
    }
   ],
   "source": [
    "# mejor en chrome\n",
    "from ipywidgets import VBox, Label\n",
    "\n",
    "htmls = []\n",
    "for est in solucion:\n",
    "    htmlStr = ui.get_html(level1, est) # estoy cargando el mapa1\n",
    "    htmls.append(HTML(value = htmlStr))\n",
    "    \n",
    "\n",
    "\n",
    "from ipywidgets import Layout, Button, VBox\n",
    "\n",
    "box_layout = Layout(overflow_x='scroll',\n",
    "                    width='310px',\n",
    "                    height='',\n",
    "                    flex_direction='row',\n",
    "                    display='flex')\n",
    "carousel = VBox(children=htmls, layout=box_layout)\n",
    "VBox([carousel])"
   ]
  },
  {
   "cell_type": "markdown",
   "metadata": {},
   "source": [
    "Una vez hayas implementado y probado las funciones, trata de ejecutar el juego.\n",
    "\n",
    "El Mediador que es la clase que sirve de enganche entre las clases de interfaz y la funcionalidad, leerá las celdas que empiezan por \"# Cargar Celda\", cargará esas funciones dinámicamente y las usará para mover y comprobar si la partida finaliza."
   ]
  },
  {
   "cell_type": "code",
   "execution_count": 23,
   "metadata": {},
   "outputs": [
    {
     "data": {
      "application/vnd.jupyter.widget-view+json": {
       "model_id": "abbc6d48fb104836944b85d749a877b7",
       "version_major": 2,
       "version_minor": 0
      },
      "text/plain": [
       "VBox(children=(Dropdown(description='Elija nivel:', options=('level_PruebaJEscapa.txt', 'level_PruebaJEscapaTr…"
      ]
     },
     "metadata": {},
     "output_type": "display_data"
    }
   ],
   "source": [
    "# Utiliza el nivel \"level_medio_VPedroJEscapa.txt\", para encontrar la solución. \n",
    "\n",
    "from IPython.display import display\n",
    "from MediadorVPedroConBooleanoLlave import Mediator\n",
    "from UIJEscapaVPedro import gui\n",
    "\n",
    "import warnings\n",
    "warnings.filterwarnings(\"ignore\")\n",
    "ui = gui(manual = False)\n",
    "\n",
    "med = Mediator.get_instance(modelPath = \"JEscapaManualConBooleanoLlave.ipynb\",\n",
    "                           aStarPath = 'FuncionesBusquedaACompletarEstudiantes.ipynb',\n",
    "                           nodesPath = \"JuegoEscapaLlaveAutomVEstudiantes.ipynb\")\n",
    "\n",
    "med.register_ui(ui)\n",
    "\n",
    "\n",
    "# Cuando llamo a la función se crean\n",
    "display(ui.get_ui_elements())"
   ]
  },
  {
   "cell_type": "code",
   "execution_count": null,
   "metadata": {},
   "outputs": [],
   "source": []
  }
 ],
 "metadata": {
  "kernelspec": {
   "display_name": "Python 3",
   "language": "python",
   "name": "python3"
  },
  "language_info": {
   "codemirror_mode": {
    "name": "ipython",
    "version": 3
   },
   "file_extension": ".py",
   "mimetype": "text/x-python",
   "name": "python",
   "nbconvert_exporter": "python",
   "pygments_lexer": "ipython3",
   "version": "3.7.4"
  },
  "widgets": {
   "state": {
    "042bada4e434454aaa908b25461e3531": {
     "views": [
      {
       "cell_index": 6
      }
     ]
    },
    "70d5bfdaf81b4f57ba5f3ab63745e01f": {
     "views": [
      {
       "cell_index": 6
      }
     ]
    },
    "ae0d245cc8874fb6951e921b363d8c61": {
     "views": [
      {
       "cell_index": 6
      }
     ]
    },
    "cb210eb6fe2d4689bd59da4880bb4db2": {
     "views": [
      {
       "cell_index": 4
      }
     ]
    }
   },
   "version": "1.2.0"
  }
 },
 "nbformat": 4,
 "nbformat_minor": 2
}
