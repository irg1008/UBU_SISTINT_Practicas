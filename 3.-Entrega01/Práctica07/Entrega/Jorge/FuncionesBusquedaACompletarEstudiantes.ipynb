{
 "cells": [
  {
   "cell_type": "code",
   "execution_count": 1,
   "metadata": {},
   "outputs": [],
   "source": [
    "# Cargar Celda\n",
    "from typing import List, Callable, Tuple, Any\n",
    "%matplotlib inline \n",
    "#para poder mostrar figuras integradas en el notebook\n",
    "# figuras como las de los grafos"
   ]
  },
  {
   "cell_type": "code",
   "execution_count": 2,
   "metadata": {
    "pycharm": {
     "name": "#%%\n"
    }
   },
   "outputs": [],
   "source": [
    "# Cargar Celda\n",
    "\n",
    "class Node:\n",
    "    def __init__(self, id: Any, parent: \"Node\", g: int, f: int):\n",
    "        self.id = id\n",
    "        self.parent = parent\n",
    "        self.g = g\n",
    "        self.f = f\n",
    "\n",
    "    def get_parent(self) -> 'Node':\n",
    "        \"\"\"Nodo desde el que se alcanza al nodo actual.\n",
    "\n",
    "        Returns:\n",
    "            Nodo: nodo padre\n",
    "        \"\"\"\n",
    "        return self.parent\n",
    "\n",
    "    def get_id(self) -> Any:\n",
    "        \"\"\"El valor del nodo actual\n",
    "\n",
    "        Returns:\n",
    "            str: Una letra\n",
    "        \"\"\"\n",
    "        return self.id\n",
    "\n",
    "\n",
    "    def get_g(self) -> int:\n",
    "        \"\"\"G es el coste desde el nodo inicial hasta el Nodo Actual\n",
    "\n",
    "        Returns:\n",
    "            int: [description]\n",
    "        \"\"\"\n",
    "        return self.g\n",
    "\n",
    "\n",
    "    def get_f(self) -> int:\n",
    "        \"\"\" F es el coste total del caminio desde el nodo inicial hasta al nodo final.\n",
    "        F = G + H\n",
    "        donde H es la heurística (en este NB es la diferencia entre g y f)\n",
    "\n",
    "        Returns:\n",
    "            int: La nota de ARPA, un valor comprendido entre 0 y 4\n",
    "        \"\"\"\n",
    "        return self.f\n",
    "\n",
    "\n",
    "    def get_path(self) -> List[\"Node\"]:\n",
    "\n",
    "        current_node = self\n",
    "        path: List[Node] = []\n",
    "\n",
    "        while current_node:\n",
    "            path.append(current_node)\n",
    "            current_node = current_node.get_parent()\n",
    "\n",
    "        path.reverse()\n",
    "        return path\n",
    "\n",
    "    def print_parent(self):\n",
    "        parent = self.get_parent()\n",
    "        if parent:\n",
    "            return f\"p:{self.get_parent().get_id()}\"\n",
    "        return \"p:\\\\\"\n",
    "    def __repr__(self) -> str:\n",
    "         return f\"{self.id} f:{self.f} g:{self.g} p:{self.print_parent()}|\"\n",
    "         #return f\"{self.id} f:{self.f}\"\n",
    "         #return f\"{self.get_id()}\"\n",
    "    def __str__(self) -> str:\n",
    "        return self.__repr__()\n",
    "\n",
    "    def __lt__(self, other):\n",
    "        return self.f<other.f\n",
    "\n",
    "    def __eq__(self, other: \"Node\") -> bool:\n",
    "\t    return self.id.__eq__(other.get_id())\n"
   ]
  },
  {
   "cell_type": "code",
   "execution_count": 3,
   "metadata": {
    "pycharm": {
     "name": "#%%\n"
    }
   },
   "outputs": [],
   "source": [
    "# Cargar Celda\n",
    "from queue import PriorityQueue\n",
    "\n",
    "class Open(PriorityQueue):\n",
    "    \"\"\"\n",
    "    Priority Queue of Nodes, it stores Tuples.\n",
    "    Tuple[priority: int, node: Node]\n",
    "    \"\"\"\n",
    "    def pop(self) -> Node:\n",
    "        return self.get()[1]\n",
    "\n",
    "    def put_node(self, node : Node) -> None:\n",
    "        self.put((node.get_f(), node))\n",
    "\n",
    "    def extend(self, nodes: List[Node]) -> None:\n",
    "        for node in nodes:\n",
    "            self.put_node(node)\n",
    "\n",
    "    def get_node(self, node_id: str) -> Node:\n",
    "        for node in self.queue:\n",
    "            if node[1].get_id() == node_id:  return node[1]\n",
    "\n",
    "    def update(self, old: Node, new: Node):\n",
    "        self.queue.remove((old.get_f(), old))\n",
    "        self.put_node(new)\n",
    "\n",
    "    def get_all_nodes(self) -> List[Node]:\n",
    "        return list(map(lambda x: x[1], self.queue))\n",
    "\n",
    "    def get_all_ids(self) -> List[str]:\n",
    "        return list(map(lambda x: x[1].get_id(), self.queue))\n",
    "\n",
    "    def contains_id(self, node: Node) -> bool:\n",
    "        return node.get_id() in self.get_all_ids()\n",
    "\n",
    "    def __str__(self):\n",
    "        return self.get_all_nodes().__str__()"
   ]
  },
  {
   "cell_type": "markdown",
   "metadata": {},
   "source": [
    "# Implementación de A*\n",
    "\n",
    "En este notebook se realizará la implementación del algoritmo A\\* que funcionará primeramente sobre un grafo y posteriormente sobre un mapa 2D (un tablero).\n",
    "La implementación de A\\* trabajará con nodos, así que será trivial adaptar el algoritmo para que realice búsquedas en otro tipo de problemas.\n",
    "Para realizar dicha adaptación solo será necesario implementar nuevas funciones de sucesores, meta y heurístico. \n",
    "De hecho, la práctica utilizará el código de este notebook, razón por la que existen ciertas celdas que comienzan por # Cargar Celda\n",
    "\n",
    "\n",
    "```Python \n",
    "\n",
    "def AStar(inicial, sucesoresF, metaF, heuristicoF):\n",
    "    '''\n",
    "    Algoritmo A*. \n",
    "    Recibe:\n",
    "    inicial: Nodo inicial\n",
    "    sucesoresF: Función que toma un nodo y devuelve una lista de nodos sucesores (dependerá de cada problema).\n",
    "    metaF: Función que toma un estado y devuelve True si es un estado meta (dependerá de cada problema)\n",
    "    heuristicoF: Función que toma un estado y devuelve un valor númerico con la estimación del coste restante para llegar a una meta (dependerá de cada problema)\n",
    "    \n",
    "    Return: solución [estado1, estado2,..., estadoN] o [] si no hay solución\n",
    "    '''\n",
    "    \n",
    "    '''\n",
    "    creo abiertos y cerrados.\n",
    "    abiertos se inicializa con el nodo inicial.\n",
    "    cerrados estará vacía\n",
    "    \n",
    "    mientras abiertos no esté vacía:\n",
    "        recupero de abiertos el nodo con menor f (nodoActual).\n",
    "        guardo nodoActual en cerrados.\n",
    "        compruebo si es meta:\n",
    "            si lo es devuelve el camino\n",
    "        obtengo los sucesores, la función genera sucesores recibe a la que calcula la h\n",
    "        para suc en sucesores:\n",
    "            si no está en abiertos ni en cerrados \n",
    "                lo meto en abiertos\n",
    "            está en abiertos pero suc tiene menor f\n",
    "                lo actualizo en abiertos\n",
    "            esta en cerrados pero suc tiene menor f\n",
    "                lo elimino de cerrados y lo meto en abiertos\n",
    "    devuelvo [], no había solución\n",
    "    '''\n",
    "        \n",
    "```"
   ]
  },
  {
   "cell_type": "code",
   "execution_count": 4,
   "metadata": {
    "pycharm": {
     "name": "#%%\n"
    }
   },
   "outputs": [],
   "source": [
    "# Cargar Celda\n",
    "debugData = []\n",
    "def AStar(start_node: Node,\n",
    "          get_descendants : Callable[[Node, Callable[[Node], int]], List[Node]],\n",
    "          is_meta: Callable[[Node], bool],\n",
    "          get_heuristic: Callable[[Any], int]\n",
    "          ) -> List[Node]:\n",
    "\n",
    "    open_queue = Open()\n",
    "    open_queue.put_node(start_node)\n",
    "    close_queue: List[Node] = []\n",
    "    while not open_queue.empty():\n",
    "        debug = []\n",
    "        debug.append(open_queue.__str__())\n",
    "        node: Node = open_queue.pop()\n",
    "        debug.append(node)\n",
    "        close_queue.append(node)\n",
    "\n",
    "\n",
    "        if is_meta(node): return node.get_path()\n",
    "\n",
    "        descendants = get_descendants(node, get_heuristic)\n",
    "        debug.append(descendants.__str__())\n",
    "        debug.append(close_queue.__str__())\n",
    "        debugData.append(debug)\n",
    "        for descendant in descendants:\n",
    "\n",
    "            if not open_queue.contains_id(descendant) and not descendant in close_queue:\n",
    "                open_queue.put_node(descendant)\n",
    "            elif open_queue.contains_id(descendant):\n",
    "                old_node = open_queue.get_node(descendant.get_id())\n",
    "                if old_node.get_f() > descendant.get_f():\n",
    "                    open_queue.update(old_node, descendant)\n",
    "            else:\n",
    "                for old_node in close_queue:\n",
    "                    if (old_node.get_id() == descendant.get_id()\n",
    "                        and old_node.get_f() > descendant.get_f()):\n",
    "                        close_queue.remove(old_node)\n",
    "                        open_queue.put_node(descendant)\n",
    "    return []\n"
   ]
  },
  {
   "cell_type": "markdown",
   "metadata": {},
   "source": [
    "# El grafo de búsqueda\n",
    "\n",
    "Para probar el algoritmo de A\\* en un problema sencillo y con solución y traza conocida se va a crear un grafo como el de los apuntes de teoría usando la librería networkx. \n",
    "\n",
    "Básicamente el grafo se crea con nx.Graph(), con nx.DiGraph() le estoy diciendo que es dirigido.\n",
    "\n",
    "Se crean nodos con add_node y se crean arcos con add_edge"
   ]
  },
  {
   "cell_type": "code",
   "execution_count": 5,
   "metadata": {},
   "outputs": [
    {
     "name": "stdout",
     "output_type": "stream",
     "text": [
      "los hijos del nodo 1 son:\n",
      "[2, 3]\n"
     ]
    },
    {
     "data": {
      "text/plain": "<Figure size 432x288 with 1 Axes>",
      "image/png": "[encoded data removed]"
     },
     "metadata": {},
     "output_type": "display_data"
    }
   ],
   "source": [
    "# ejemplo de grafo básico\n",
    "\n",
    "import networkx as nx\n",
    "\n",
    "# Creo el grafo\n",
    "Gprueba = nx.DiGraph()\n",
    "\n",
    "Gprueba.add_node(1)    \n",
    "Gprueba.add_node(2)    \n",
    "Gprueba.add_node(3)    \n",
    "\n",
    "Gprueba.add_edge(1,2)\n",
    "Gprueba.add_edge(1,3)\n",
    "Gprueba.add_edge(2,4)\n",
    "\n",
    "# consultar los hijos del nodo 1\n",
    "# el grafo G funciona como un diccionario\n",
    "print(\"los hijos del nodo 1 son:\")\n",
    "print(list(Gprueba[1].keys()))\n",
    "\n",
    "\n",
    "nx.draw(Gprueba)"
   ]
  },
  {
   "cell_type": "markdown",
   "metadata": {},
   "source": [
    "Sabiendo estos conceptos básicos de creación de grafos, se va a pasar a crear un grafo como el de los apuntes de teoría."
   ]
  },
  {
   "cell_type": "code",
   "execution_count": 6,
   "metadata": {},
   "outputs": [
    {
     "name": "stdout",
     "output_type": "stream",
     "text": [
      "Grafo de las diapositivas de A*\n"
     ]
    },
    {
     "data": {
      "text/plain": "<Figure size 432x288 with 1 Axes>",
      "image/png": "[encoded data removed]"
     },
     "metadata": {},
     "output_type": "display_data"
    }
   ],
   "source": [
    "# Creo el grafo\n",
    "Grafo = nx.DiGraph()\n",
    "\n",
    "# este diccionario almacena los hijos que tiene cada padre\n",
    "hijos = {'S': 'CDE','C': 'BD','B': 'A','D': 'AFE','A': 'G','F': 'G'}\n",
    "\n",
    "# este diccionario almacena los costes de cada camino\n",
    "costes={('S', 'C'):10, ('S', 'D'): 20, ('S', 'E'): 20, ('C', 'B'): 18,\n",
    "        ('C', 'D'): 8, ('B', 'A'): 1, ('D', 'A'): 12, ('D', 'F'): 20,\n",
    "        ('D', 'E'): 10, ('A', 'G'): 30, ('F', 'G'): 35}\n",
    "\n",
    "# este diccionario almacena los valores heurísticos de cada estado.\n",
    "heuristico = {'S': 40, 'C': 20, 'B': 8, 'D': 9, 'A': 5, 'F': 22, 'E': 40, 'G': 0}\n",
    "\n",
    "# este diccionario almacena las posiciones de cada nodo, solo es estética\n",
    "posiciones = {'S':(20,100),'C':(10,70),\n",
    "              'B':(10,50),'D':(20,50),\n",
    "              'A':(10,20),'F':(20,20),\n",
    "              'E':(30,20),'G':(15,10)}\n",
    "\n",
    "# crea el grafo, añade nodos y arcos\n",
    "node_labels={}\n",
    "for nodo in heuristico:\n",
    "    Grafo.add_node(nodo)\n",
    "    node_labels[nodo]=nodo+\" \"+str(heuristico[nodo])\n",
    "    if nodo in hijos:\n",
    "        for hijo in hijos[nodo]:\n",
    "            Grafo.add_edge(nodo,hijo) \n",
    "\n",
    "#dibuja el grafo\n",
    "nx.draw(Grafo,pos = posiciones)\n",
    "#dibuja las etiquetas de los nodos y los arcos\n",
    "node_label_pos = {k:[v[0]+1,v[1]+8] for k,v in posiciones.items()}\n",
    "node_label_handles = nx.draw_networkx_labels(Grafo,pos = node_label_pos,labels = node_labels)\n",
    "nx.draw_networkx_edge_labels(Grafo, pos = posiciones, edge_labels=costes)\n",
    "print(\"Grafo de las diapositivas de A*\")"
   ]
  },
  {
   "cell_type": "markdown",
   "metadata": {},
   "source": [
    "# Funciones de sucesores, meta y heurística sobre el grafo\n",
    "\n",
    "A continuación se pueden ver como serían las funciones de sucesores, meta y heurística para el problema de la búsqueda en el grafo.\n",
    "\n",
    "- Para crear un nodo inicial se le pasa al constuctor de Nodo el estado inicial, su nodo padre que en el caso inicial sería None, el valor de G que es 0 y el valor de F que sería G+H, en el caso inicial como G es 0, solo haría falta H.\n",
    "\n",
    "- sucesoresGrafo. Se obtienen los sucesores, como el grafo 'Grafo' es un diccionario solamente tenemos que consultar las claves disponibles. Se actualiza la G usando el coste necesario para llegar al hijo que se saca del diccionario de costes. Se calcula la H invocando a la función heuristicaF.\n",
    "\n",
    "- metaGrafo. Solamente compara que el estado sea o no sea 'G' que es el valor del estado meta.\n",
    "- heuristicaGrafo. Consulta en el diccionario de valores heurísticos."
   ]
  },
  {
   "cell_type": "code",
   "execution_count": 7,
   "metadata": {
    "scrolled": true
   },
   "outputs": [
    {
     "name": "stdout",
     "output_type": "stream",
     "text": [
      "40\n",
      "False\n",
      "[C f:30 g:10 p:p:S|, D f:29 g:20 p:p:S|, E f:60 g:20 p:p:S|]\n"
     ]
    }
   ],
   "source": [
    "nodoInicial = Node('S',None,0,heuristico['S'])\n",
    "\n",
    "def sucesoresGrafo(nodo: Node, heuristicaF):\n",
    "    estado = nodo.get_f()\n",
    "    g = nodo.get_g()\n",
    "    hijos = []\n",
    "\n",
    "    for hijo in Grafo.succ[nodo.get_id()]:\n",
    "        nuevaG = g+costes[(nodo.get_id(),hijo)]\n",
    "        h=heuristicaF(hijo)\n",
    "        hijos.append(Node(hijo,nodo,nuevaG,nuevaG+h))\n",
    "    return hijos\n",
    "\n",
    "def metaGrafo(nodo: Node):\n",
    "    estado = nodo.get_id()\n",
    "    return estado=='G' \n",
    "\n",
    "def heuristicaGrafo(estado):\n",
    "    return heuristico[estado]                \n",
    "    \n",
    "print(heuristicaGrafo('S'))\n",
    "print(metaGrafo(nodoInicial))\n",
    "print(sucesoresGrafo(nodoInicial,heuristicaGrafo))\n",
    "    \n"
   ]
  },
  {
   "cell_type": "code",
   "execution_count": 8,
   "metadata": {},
   "outputs": [
    {
     "name": "stdout",
     "output_type": "stream",
     "text": [
      "[S f:40 g:0 p:p:\\|, C f:30 g:10 p:p:S|, B f:36 g:28 p:p:C|, A f:34 g:29 p:p:B|, G f:59 g:59 p:p:A|]\n"
     ]
    }
   ],
   "source": [
    "print(AStar(nodoInicial,sucesoresGrafo, metaGrafo, heuristicaGrafo))\n",
    "\n",
    "\n"
   ]
  },
  {
   "cell_type": "markdown",
   "metadata": {},
   "source": [
    "# Ejemplo de path finding\n",
    "\n",
    "En mismo código de A\\* lo vamos a usar para resolver un problema de *path finding* (movernos del punto A al punto B en una matriz 2D)"
   ]
  },
  {
   "cell_type": "markdown",
   "metadata": {},
   "source": [
    "### Explicación de la representación del mapa y los estados\n",
    "\n",
    "\n",
    "El mapa va a ser una lista en 2D con 0s en las casillas libres y 1s en los obstaculos\n",
    "\n",
    "Un estado van a ser coordenadas (y,x)\n",
    "Una tupla (y,x)."
   ]
  },
  {
   "cell_type": "code",
   "execution_count": 9,
   "metadata": {},
   "outputs": [],
   "source": [
    "# Cargar Celda\n",
    "tablero = [\n",
    "    [1, 1, 1, 1, 1, 1, 1, 1, 1, 1],\n",
    "    [1, 0, 1, 0, 1, 0, 0, 0, 0, 1],\n",
    "    [1, 0, 1, 0, 1, 0, 0, 0, 0, 1],\n",
    "    [1, 0, 1, 0, 1, 1, 1, 1, 0, 1],\n",
    "    [1, 0, 1, 0, 0, 0, 0, 1, 0, 1],\n",
    "    [1, 0, 1, 0, 0, 0, 0, 1, 0, 1],\n",
    "    [1, 0, 0, 0, 0, 0, 0, 1, 0, 1],\n",
    "    [1, 0, 1, 0, 0, 0, 0, 0, 0, 1],\n",
    "    [1, 0, 1, 0, 0, 0, 0, 0, 0, 1],\n",
    "    [1, 1, 1, 1, 1, 1, 1, 1, 1, 1],\n",
    "]\n",
    "\n",
    "estadoInicialPF = (1,1) #y,x\n",
    "estadoFinalPF = (2,5)"
   ]
  },
  {
   "cell_type": "code",
   "execution_count": 10,
   "metadata": {},
   "outputs": [],
   "source": [
    "# posibles movimientos \n",
    "posiblesMovs = [[1,0],[-1,0],[0,1],[0,-1]]"
   ]
  },
  {
   "cell_type": "markdown",
   "metadata": {
    "collapsed": true
   },
   "source": [
    "```Python\n",
    "'''\n",
    "Ejercicio 1\n",
    "\n",
    "Hacer una función es_meta\n",
    "\n",
    "'''"
   ]
  },
  {
   "cell_type": "code",
   "execution_count": 11,
   "outputs": [],
   "source": [
    "# Cargar Celda\n",
    "def es_meta(casilla: Tuple[int,int]) -> bool:\n",
    "    return casilla == estadoFinalPF"
   ],
   "metadata": {
    "collapsed": false,
    "pycharm": {
     "name": "#%%\n"
    }
   }
  },
  {
   "cell_type": "markdown",
   "metadata": {},
   "source": [
    "```\n",
    "'''\n",
    "Ejercicio 2\n",
    "\n",
    "Hacer una función es_valido\n",
    "Primero comprueba que la coordenada está dentro de los \n",
    "límites del tablero y luego que en el tablero haya un 0\n",
    "en dichas coordenadas\n",
    "'''\n",
    "def es_valida(estado):\n",
    "    global tablero\n",
    "    return False\n",
    "```"
   ]
  },
  {
   "cell_type": "code",
   "execution_count": 12,
   "outputs": [],
   "source": [
    "# Cargar Celda\n",
    "def es_valida(casilla: Tuple[int,int]) -> bool:\n",
    "\n",
    "    if casilla is None:\n",
    "        return True\n",
    "\n",
    "    if not (( 0 <= casilla[0] < len(tablero))\n",
    "           or 0 <= casilla[1] < len(tablero[0])):\n",
    "        return False\n",
    "\n",
    "    if tablero[casilla[0]][casilla[1]] == 1:\n",
    "        return False\n",
    "\n",
    "    return True"
   ],
   "metadata": {
    "collapsed": false,
    "pycharm": {
     "name": "#%%\n"
    }
   }
  },
  {
   "cell_type": "markdown",
   "metadata": {},
   "source": [
    "Distancia de Manhattan:"
   ]
  },
  {
   "cell_type": "code",
   "execution_count": 13,
   "outputs": [],
   "source": [
    "# Cargar Celda\n",
    "def heuristicaPF(estado: Tuple[int,int]) -> int:\n",
    "    global estadoFinalPF\n",
    "\n",
    "    return abs(estadoFinalPF[0] - estado[0]) + abs(estadoFinalPF[1] - estadoFinalPF[1])"
   ],
   "metadata": {
    "collapsed": false,
    "pycharm": {
     "name": "#%%\n"
    }
   }
  },
  {
   "cell_type": "markdown",
   "metadata": {},
   "source": [
    "```Python\n",
    "''' ejercicio 4\n",
    "\n",
    "como sería una función que dado un estado devuelva \n",
    "todos los estados sucesores validos.\n",
    "\n",
    "\n",
    "Pistas:\n",
    "1-Con un for se recorren los posibles movimientos\n",
    "    1.1 Se hace la suma del movimiento con el estado\n",
    "    1.2 se comprueba si es válido y si lo es se introduce en hijos\n",
    "2-para introducir elemenos en la lista de hijos se usa append\n",
    "3- El coste del padre al hijo es 1, la heurística es la distancia de manhatan, que se pasa como argumento\n",
    "'''\n",
    "\n",
    "def sucesores(nodo,heuristicaF):\n",
    "    hijos = []\n",
    "    \n",
    "    # completa aqui\n",
    "    \n",
    "    return hijos\n",
    "```"
   ]
  },
  {
   "cell_type": "code",
   "execution_count": 14,
   "metadata": {},
   "outputs": [],
   "source": [
    "# Cargar Celda\n",
    "\n",
    "# implementa las funciones anteriores\n",
    "posiblesMovs = [[1,0],[-1,0],[0,1],[0,-1]]\n",
    "\n",
    "def sumaCoords(coord: Tuple[int,int], mov: Tuple[int,int]) -> Tuple[int,int]:\n",
    "    return coord[0] + mov[0] , coord[1] + mov[1]\n",
    "\n",
    "def es_metaPF(nodo: Node) -> bool:\n",
    "    return es_meta(nodo.get_id())\n",
    "\n",
    "debugData = []\n",
    "\n",
    "def sucesoresPF(nodo: Node, heuristicaF: Callable[[Any],int]) -> List[Node]:\n",
    "    estado: Tuple[int,int] = nodo.get_id()\n",
    "\n",
    "    nodos_contig: List[Node] = []\n",
    "    for mov in posiblesMovs:\n",
    "        next_estado = sumaCoords(estado, mov)\n",
    "        if (nodo.get_parent() is None\n",
    "                or next_estado != nodo.get_parent().get_id()\n",
    "                and es_valida(next_estado)):\n",
    "\n",
    "            nodos_contig.append(\n",
    "                Node(next_estado,\n",
    "                    nodo,\n",
    "                    nodo.get_g() + 1,\n",
    "                    nodo.get_g() + 1 + heuristicaF(next_estado))\n",
    "                )\n",
    "    return nodos_contig\n",
    "    \n"
   ]
  },
  {
   "cell_type": "code",
   "execution_count": 15,
   "metadata": {},
   "outputs": [],
   "source": [
    "# Cargar Celda\n",
    "def creaNodoInicialPF(ei,ef, tab, hPF) -> Node:\n",
    "    global estadoFinalPF\n",
    "    global tablero\n",
    "    \n",
    "    estadoFinalPF = ef \n",
    "    tablero = tab\n",
    "    return Node(ei,None,0,hPF(ei))\n",
    "\n",
    "    # FD: Jorge Ruiz"
   ]
  },
  {
   "cell_type": "code",
   "execution_count": 16,
   "outputs": [],
   "source": [
    "# Cargar Celda\n",
    "\n",
    "def dibujar(recorrido: List[Tuple[int,int]], tablero):\n",
    "\n",
    "    recorrido_ids = list(map(lambda x: x.get_id(), recorrido))\n",
    "    dibujo = \"\"\n",
    "    for y, fila in enumerate(tablero):\n",
    "        dibujo_fila = \"\"\n",
    "\n",
    "        for x, elemento in enumerate(fila):\n",
    "\n",
    "            if (y,x) in recorrido_ids:\n",
    "                dibujo_fila += \"[]\"\n",
    "            elif elemento == 1:\n",
    "                dibujo_fila += \"██\"\n",
    "            else:\n",
    "                dibujo_fila += \"  \"\n",
    "        dibujo += f\"{dibujo_fila}\\n\"\n",
    "\n",
    "    return dibujo"
   ],
   "metadata": {
    "collapsed": false,
    "pycharm": {
     "name": "#%%\n"
    }
   }
  },
  {
   "cell_type": "code",
   "execution_count": 17,
   "outputs": [],
   "source": [
    "# Cargar Celda\n",
    "nodoInicialPF = creaNodoInicialPF(estadoInicialPF,estadoFinalPF, tablero, heuristicaPF)\n",
    "\n",
    "recorrido = AStar(nodoInicialPF,sucesoresPF, es_metaPF, heuristicaPF)\n",
    "\n",
    "#print(dibujar(recorrido, tablero, visitados))\n",
    "\n"
   ],
   "metadata": {
    "collapsed": false,
    "pycharm": {
     "name": "#%%\n"
    }
   }
  }
 ],
 "metadata": {
  "anaconda-cloud": {},
  "kernelspec": {
   "display_name": "Python 3",
   "language": "python",
   "name": "python3"
  },
  "language_info": {
   "codemirror_mode": {
    "name": "ipython",
    "version": 3
   },
   "file_extension": ".py",
   "mimetype": "text/x-python",
   "name": "python",
   "nbconvert_exporter": "python",
   "pygments_lexer": "ipython3",
   "version": "3.8.5"
  }
 },
 "nbformat": 4,
 "nbformat_minor": 1
}