{
 "cells": [
  {
   "source": [
    "# ESCAPA CON LA LLAVE - MANUAL\n",
    "---\n",
    "---"
   ],
   "cell_type": "markdown",
   "metadata": {}
  },
  {
   "source": [
    "## Descripción de las clases\n",
    "---\n",
    "\n",
    "La representación del estado y de los niveles visto en el notebook de funciones básicas se ha organizado en clases.\n",
    "\n",
    "La clase **State**: \n",
    "- tiene un constructor que recibe el jugador, la(s) piedra(s) y la(s) casilla(s) de agua. \n",
    "- tiene un método **get_rocks** que devuelve las piedras\n",
    "- tiene un método **get_water** que devuelve las coordenadas con agua\n",
    "\n",
    "- tiene un método **\\_\\_str\\_\\_** que permite obtener la representación en modo texto del objeto y un método **\\_\\_repr\\_\\_** equivalente, para usarlo dentro de colecciones.\n",
    "\n",
    "- Tiene también un método que permite determinar si dos estados son iguales y también otro para calcular su *hash*.\n",
    "\n",
    "La clase **Level**:\n",
    "- tiene un constructor que recibe el tablero y los destinos\n",
    "- tiene un método **get_board** que devuelve el tablero, y las paredes.\n",
    "- tiene un método **get_target** que devuelve el destino al que se debe dirigir el jugador\n",
    "- tiene un método **\\_\\_str\\_\\_** que permite obtener la representación en modo texto del objeto, así como un método **\\_\\_repr\\_\\_** equivalente\n",
    "\n",
    "**Loader**, **UI**, **Mediator**"
   ],
   "cell_type": "markdown",
   "metadata": {}
  },
  {
   "source": [
    "## Uso de tipados personalizados\n",
    "---\n",
    "* ```StaticObject = Tuple[int, int]```\n",
    "* ```StateObject = Set[StaticObject]```\n",
    "* ```StatePlayer = List[int]```\n",
    "* ```LevelBoard = Tuple[Tuple[int]]```\n"
   ],
   "cell_type": "markdown",
   "metadata": {}
  },
  {
   "cell_type": "code",
   "execution_count": 1,
   "metadata": {},
   "outputs": [],
   "source": [
    "# Cargar Celda\n",
    "\n",
    "# Tipado en Python.\n",
    "from JuegoEscapa import StateObject, LevelBoard, StaticObject, StatePlayer, Level, State"
   ]
  },
  {
   "source": [
    "## Ejemplos\n",
    "---"
   ],
   "cell_type": "markdown",
   "metadata": {}
  },
  {
   "cell_type": "code",
   "execution_count": 2,
   "metadata": {},
   "outputs": [],
   "source": [
    "# Ejemplo de carga de nivel.\n",
    "\n",
    "from Loader import Loader\n",
    "\n",
    "loader = Loader()\n",
    "files = loader.get_all_levels()\n",
    "txt_level = loader.get_txt_level(files[3])\n",
    "\n",
    "level, state = loader.load_level(txt_level)"
   ]
  },
  {
   "cell_type": "code",
   "execution_count": 3,
   "metadata": {},
   "outputs": [
    {
     "output_type": "execute_result",
     "data": {
      "text/plain": [
       "((1, 1, 0, 0, 0, 0, 0, 0, 0, 0, 1),\n",
       " (1, 0, 0, 1, 0, 1, 0, 1, 1, 1, 1),\n",
       " (0, 0, 1, 1, 1, 1, 1, 1, 1, 1, 0),\n",
       " (0, 1, 1, 1, 0, 1, 1, 1, 1, 1, 0),\n",
       " (0, 1, 1, 1, 0, 1, 1, 1, 1, 0, 0),\n",
       " (0, 0, 0, 0, 0, 0, 0, 0, 0, 0, 0))"
      ]
     },
     "metadata": {},
     "execution_count": 3
    }
   ],
   "source": [
    "# Obtener el tablero del nivel.\n",
    "\n",
    "level.get_board()"
   ]
  },
  {
   "cell_type": "code",
   "execution_count": 4,
   "metadata": {},
   "outputs": [
    {
     "output_type": "display_data",
     "data": {
      "text/plain": "HTML(value='<style> img.game {width: 50px !important; height: 50px !important;}</style><table><tr><td><img cla…",
      "application/vnd.jupyter.widget-view+json": {
       "version_major": 2,
       "version_minor": 0,
       "model_id": "a79859fbf76646b29db73e94cf0c7e53"
      }
     },
     "metadata": {}
    }
   ],
   "source": [
    "# Ejemplo de visualización de un nivel.\n",
    "\n",
    "from ipywidgets import HTML\n",
    "from Gui import Gui\n",
    "\n",
    "global state\n",
    "ui = Gui()\n",
    "\n",
    "html_str = ui.get_html(level, state)\n",
    "HTML(value = html_str)"
   ]
  },
  {
   "source": [
    "## Funciones\n",
    "---\n",
    "- move(level, state, mov): Recibe un nivel, un estado y un movimiento. **Devuelve un nuevo estado** resultante de aplicar el movimiento.\n",
    "\n",
    "- is_goal(state): Recibe un estado. Devuelve True si el jugador es None.\n",
    "\n",
    "**NOTA - IMPORTANTE**: No debes borrar **# Cargar Celda** en cada una de las celdas en que aparezca."
   ],
   "cell_type": "markdown",
   "metadata": {}
  },
  {
   "source": [
    "### > Funciones de validación"
   ],
   "cell_type": "markdown",
   "metadata": {}
  },
  {
   "cell_type": "code",
   "execution_count": 5,
   "metadata": {},
   "outputs": [],
   "source": [
    "# Cargar Celda\n",
    "\n",
    "def is_valid(board: LevelBoard,\n",
    "             coord: StaticObject) -> bool:\n",
    "    \"\"\"\n",
    "    Devuelve si las coordenadas son válidas en el tablero pasado.\n",
    "\n",
    "    Args:\n",
    "        board (LevelBoard): Tablero en el que comprobar la coordenada.\n",
    "        coord (StaticObject): Coordenada a comprobar validez.\n",
    "\n",
    "    Returns:\n",
    "        bool: Devuelve si la coordenada está en el tablero.\n",
    "    \"\"\"\n",
    "    try:\n",
    "        x, y = coord\n",
    "        return board[x][y] == 1\n",
    "    except IndexError:\n",
    "        return False\n",
    "\n",
    "\n",
    "def is_rocks_free(board: LevelBoard,\n",
    "                  rocks: StateObject,\n",
    "                  coord: StaticObject):\n",
    "    \"\"\"\n",
    "    Comprueba si la posición tiene rocas.\n",
    "\n",
    "    Args:\n",
    "        board (LevelBoard): Tablero en el que buscar.\n",
    "        rocks (StateObject): Rocas.\n",
    "        coord (StaticObject): Coordenadas en las que comprobar si la piedra puede moverse.\n",
    "\n",
    "    Returns:\n",
    "        bool: Devuelve si la posición tiene rocas.\n",
    "    \"\"\"\n",
    "    return (is_valid(board, coord)\n",
    "            and not tuple(coord) in rocks)\n",
    "\n",
    "\n",
    "def is_cross_free(board: LevelBoard,\n",
    "                  crosses: StateObject,\n",
    "                  coord: StaticObject):\n",
    "    \"\"\"\n",
    "    Comprueba si la posición tiene cruces.\n",
    "\n",
    "    Args:\n",
    "        board (LevelBoard): Tablero en el que buscar.\n",
    "        crosses (StateObject): Cruces.\n",
    "        coord (StaticObject): Coordenadas en las que comprobar si la piedra puede moverse.\n",
    "\n",
    "    Returns:\n",
    "        bool: Devuelve si la posición tiene cruces.\n",
    "    \"\"\"\n",
    "    return (is_valid(board, coord) and not tuple(coord) in crosses)\n",
    "\n",
    "\n",
    "def is_player_free(board: LevelBoard,\n",
    "                   rocks: StateObject,\n",
    "                   water: StateObject,\n",
    "                   crosses: StateObject,\n",
    "                   coord: StaticObject):\n",
    "    \"\"\" Comprueba si la coordenada pasada puede ser pisada por el jugador.\n",
    "\n",
    "    Args:\n",
    "        board (LevelBoard): Tablero en el que buscar.\n",
    "        rocks (StateObject): Rocas.\n",
    "        water (StateObject): Agua.\n",
    "        crosses (StateObject): Cruces.\n",
    "        coord (StaticObject): Coordenadas en las que comprobar si la piedra puede moverse.\n",
    "\n",
    "    Returns:\n",
    "        bool: Devuelve si el jugador puede ir a esa coordenada.\n",
    "    \"\"\"\n",
    "    return (is_rocks_free(board, rocks, coord) and is_cross_free(board, crosses, coord) and not tuple(coord) in water)\n"
   ]
  },
  {
   "source": [
    "### > Funciones de movimiento"
   ],
   "cell_type": "markdown",
   "metadata": {}
  },
  {
   "cell_type": "code",
   "execution_count": 6,
   "metadata": {},
   "outputs": [],
   "source": [
    "# Cargar Celda\n",
    "\n",
    "def remove_crosses_from(crosses: StateObject,\n",
    "                        enemies: StateObject,\n",
    "                        coord: StaticObject):\n",
    "    \"\"\"\n",
    "    Elimina las cruces de los enemigos dadas unas coordenadas.\n",
    "    Los enemigos solo se colocan en vertical en ambos sentidos.\n",
    "\n",
    "    Args:\n",
    "        crosses (StateObject): Cruces.\n",
    "        enemies (StateObject): Enemigos.\n",
    "        coord (StaticObject): Coordenadas.\n",
    "\n",
    "    Returns:\n",
    "        StateObject: Nuevas cruces.\n",
    "    \"\"\"\n",
    "    new_crosses = set(crosses)\n",
    "    coord_x = coord[0]\n",
    "    enemy = None\n",
    "    for enem in enemies:\n",
    "        if enem[1] == coord[1]:\n",
    "            enemy = enem\n",
    "\n",
    "    enemy_is_facing_down = enemy[0] < coord_x\n",
    "\n",
    "    for cross in crosses:\n",
    "        cross_x, cross_y = cross\n",
    "        remove_crosses = ((enemy_is_facing_down and cross_x >= coord_x)\n",
    "                    or\n",
    "                    (not enemy_is_facing_down and cross_x <= coord_x))\n",
    "        if cross_y == enemy[1] and remove_crosses:\n",
    "            new_crosses.remove(cross)\n",
    "\n",
    "    return new_crosses"
   ]
  },
  {
   "cell_type": "code",
   "execution_count": 7,
   "metadata": {},
   "outputs": [],
   "source": [
    "# Cargar Celda\n",
    "\n",
    "import numpy as np\n",
    "\n",
    "def move_player(board: LevelBoard,\n",
    "                player: StatePlayer,\n",
    "                rocks: StateObject,\n",
    "                water: StateObject,\n",
    "                crosses: StatePlayer,\n",
    "                key: StaticObject,\n",
    "                target: StaticObject,\n",
    "                mov: StatePlayer,\n",
    "                player_has_key: bool) -> State:\n",
    "    \"\"\"\n",
    "    Mueve el jugador.\n",
    "    Arriba = (1, 0)\n",
    "    Abajo = (-1, 0)\n",
    "    Derecha = (0, 1)\n",
    "    Izquierda = (0, -1)\n",
    "\n",
    "\n",
    "    Args:\n",
    "        board (LevelBoard): Tablero.\n",
    "        player (StatePlayer): Jugador.\n",
    "        rocks (StateObject): Rocas.\n",
    "        water (StateObject): Agua.\n",
    "        crosses (StatePlayer): Cruces.\n",
    "        key (StaticObject): Llave.\n",
    "        target (StaticObject): Objetivo.\n",
    "        mov (StatePlayer): Movimiento.\n",
    "        player_has_key (bool): Valor que indica si el jugador tiene la llave.\n",
    "\n",
    "    Returns:\n",
    "        State: Nuevo estado tras mover al jugador.\n",
    "    \"\"\"\n",
    "    next_coord = tuple(np.add(player, mov))\n",
    "    new_key = tuple(key)\n",
    "    new_player = list(player)\n",
    "    new_player_has_key = bool(player_has_key)\n",
    "\n",
    "    if is_player_free(board, rocks, water, crosses, next_coord):\n",
    "        if next_coord == target:\n",
    "            # If players wins => Remove player.\n",
    "            if player_has_key:\n",
    "                new_player = None\n",
    "        else:\n",
    "            new_player = list(next_coord)\n",
    "            # If players picks the key => Remove key.\n",
    "            if next_coord == key:\n",
    "                new_key = ()\n",
    "                new_player_has_key = True\n",
    "\n",
    "    return State(new_player, rocks, water, crosses, new_key, new_player_has_key)\n",
    "\n",
    "\n",
    "def move_rocks(board: LevelBoard,\n",
    "               player: StatePlayer,\n",
    "               enemies: StatePlayer,\n",
    "               rocks: StateObject,\n",
    "               water: StateObject,\n",
    "               crosses: StatePlayer,\n",
    "               key: StaticObject,\n",
    "               target: StaticObject,\n",
    "               mov: StatePlayer,\n",
    "               player_has_key: bool) -> State:\n",
    "    \"\"\"\n",
    "    Mueve las rocas.\n",
    "\n",
    "\n",
    "    Args:\n",
    "        board (LevelBoard): Tablero.\n",
    "        player (StatePlayer): Jugador.\n",
    "        enemies (StateObject): Enemigos.\n",
    "        rocks (StateObject): Rocas.\n",
    "        water (StateObject): Agua.\n",
    "        crosses (StatePlayer): Cruces.\n",
    "        key (StaticObject): Llave.\n",
    "        target (StaticObject): Objetivo.\n",
    "        mov (StatePlayer): Movimiento.\n",
    "        player_has_key (bool): Valor que indica si el jugador tiene la llave.\n",
    "\n",
    "    Returns:\n",
    "        State: Nuevo estado tras mover la roca.\n",
    "    \"\"\"\n",
    "    next_coord = tuple(np.add(player, mov))\n",
    "    next_rock_space = tuple(np.add(next_coord, mov))\n",
    "\n",
    "    new_rocks = set(rocks)\n",
    "    new_water = set(water)\n",
    "    new_crosses = set(crosses)\n",
    "\n",
    "    def rock_on_cross() -> bool:\n",
    "        x, y = next_coord\n",
    "        coord_in_crosses = (x - 1, y) in crosses or (x + 1, y) in crosses\n",
    "        coord_in_enemy = (x - 1, y) in enemies or (x + 1, y) in enemies\n",
    "        return (coord_in_crosses or coord_in_enemy) and tuple(mov) not in ((1, 0), (-1, 0))\n",
    "\n",
    "    if (next_coord in rocks\n",
    "            and is_rocks_free(board, rocks, next_rock_space)\n",
    "        and next_rock_space != target\n",
    "            and not rock_on_cross()):\n",
    "\n",
    "        new_rocks.remove(next_coord)\n",
    "        # We check if water in new rock position.\n",
    "        if next_rock_space in water:\n",
    "            new_water.remove(next_rock_space)\n",
    "        else:\n",
    "            if next_rock_space in crosses:\n",
    "                new_crosses = remove_crosses_from(\n",
    "                    crosses, enemies, next_rock_space)\n",
    "            new_rocks.add(next_rock_space)\n",
    "\n",
    "    return State(player, new_rocks, new_water, new_crosses, key, player_has_key)\n",
    "\n",
    "\n",
    "def move(level: Level,\n",
    "         state: State,\n",
    "         mov: StatePlayer) -> State:\n",
    "    \"\"\"\n",
    "    Mueve el jugador en el movimiento indicado y compruba si se está empujando alguna piedra.\n",
    "\n",
    "    Args:\n",
    "        level (Level): Nivel con los enemigos, el mapa y la meta.\n",
    "        state (State): El estado de la partida.\n",
    "        mov (StatePlayer): El movimiento a realizar.\n",
    "\n",
    "    Returns:\n",
    "        State: Retorna el estado tras mover al jugador y las piedras necesarias.\n",
    "    \"\"\"\n",
    "    pos_movements = ((1, 0), (-1, 0), (0, 1), (0, -1))\n",
    "\n",
    "    board = level.get_board()\n",
    "    target = level.get_target()\n",
    "    enemies = level.get_enemies()\n",
    "\n",
    "    player = state.get_player()\n",
    "    rocks = state.get_rocks()\n",
    "    water = state.get_water()\n",
    "    crosses = state.get_crosses()\n",
    "    key = state.get_key()\n",
    "    player_has_key = state.get_player_has_key()\n",
    "\n",
    "    if tuple(mov) in pos_movements and player:\n",
    "        s1 = move_rocks(\n",
    "            board, player, enemies, rocks, water, crosses, key, target, mov, player_has_key)\n",
    "        s2 = move_player(\n",
    "            board, player, s1.get_rocks(), s1.get_water(), s1.get_crosses(), key, target, mov, player_has_key)\n",
    "        return s2\n",
    "\n",
    "    return state\n"
   ]
  },
  {
   "source": [
    "### > Función de finalización"
   ],
   "cell_type": "markdown",
   "metadata": {}
  },
  {
   "cell_type": "code",
   "execution_count": 8,
   "metadata": {},
   "outputs": [],
   "source": [
    "# Cargar Celda\n",
    "\n",
    "def is_goal(state: State):\n",
    "    \"\"\"\n",
    "    Devuelve si el estado es un estado final.\n",
    "\n",
    "    Args:\n",
    "        state (State): Estado a comprobar si es el último.\n",
    "\n",
    "    Returns:\n",
    "        bool: Devuelve partida terminada si el jugador no está.\n",
    "    \"\"\"\n",
    "    player = state.get_player()\n",
    "    return not player"
   ]
  },
  {
   "source": [
    "## Salida\n",
    "---"
   ],
   "cell_type": "markdown",
   "metadata": {}
  },
  {
   "cell_type": "code",
   "execution_count": 9,
   "metadata": {},
   "outputs": [
    {
     "output_type": "stream",
     "name": "stdout",
     "text": [
      "<module 'Model'>\n"
     ]
    },
    {
     "output_type": "display_data",
     "data": {
      "text/plain": "VBox(children=(Dropdown(description='Choose Level:', options=('level_easy.txt', 'level_hard.txt', 'level_hard_…",
      "application/vnd.jupyter.widget-view+json": {
       "version_major": 2,
       "version_minor": 0,
       "model_id": "36569cacdbcb479387f92684806e65ff"
      }
     },
     "metadata": {}
    }
   ],
   "source": [
    "from IPython.display import display\n",
    "from MediadorVPedro import Mediator\n",
    "from Gui import Gui\n",
    "\n",
    "import warnings\n",
    "warnings.filterwarnings(\"ignore\")\n",
    "ui = Gui(manual = True)\n",
    "\n",
    "med = Mediator.get_instance(modelPath = \"JuegoEscapaManual.ipynb\")   \n",
    "med.register_ui(ui)\n",
    "\n",
    "\n",
    "display(ui.get_ui_elements())"
   ]
  }
 ],
 "metadata": {
  "kernelspec": {
   "name": "python3",
   "display_name": "Python 3"
  },
  "language_info": {
   "codemirror_mode": {
    "name": "ipython",
    "version": 3
   },
   "file_extension": ".py",
   "mimetype": "text/x-python",
   "name": "python",
   "nbconvert_exporter": "python",
   "pygments_lexer": "ipython3",
   "version": "3.8.6-final"
  }
 },
 "nbformat": 4,
 "nbformat_minor": 2
}