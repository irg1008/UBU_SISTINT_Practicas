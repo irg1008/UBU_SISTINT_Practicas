{
 "cells": [
  {
   "cell_type": "code",
   "execution_count": 20,
   "metadata": {},
   "outputs": [],
   "source": [
    "from Loader import Loader\n",
    "\n",
    "loader = Loader()\n",
    "files = loader.get_all_levels()\n",
    "txt_level = loader.get_txt_level(files[3])\n",
    "\n",
    "level, state = loader.load_level(txt_level)"
   ]
  },
  {
   "cell_type": "code",
   "execution_count": 21,
   "metadata": {},
   "outputs": [
    {
     "output_type": "execute_result",
     "data": {
      "text/plain": [
       "((0, 0, 0, 0, 0, 0, 0, 0, 0),\n",
       " (0, 1, 1, 0, 1, 1, 0, 1, 0),\n",
       " (0, 1, 1, 1, 1, 1, 1, 1, 0),\n",
       " (0, 1, 1, 1, 1, 1, 1, 1, 0),\n",
       " (0, 1, 1, 1, 1, 1, 1, 1, 0),\n",
       " (0, 1, 1, 1, 1, 1, 1, 1, 0),\n",
       " (0, 1, 1, 1, 1, 1, 1, 1, 0),\n",
       " (0, 1, 1, 1, 1, 1, 1, 1, 0),\n",
       " (0, 0, 0, 0, 0, 0, 0, 0, 0))"
      ]
     },
     "metadata": {},
     "execution_count": 21
    }
   ],
   "source": [
    "level.get_board()"
   ]
  },
  {
   "cell_type": "code",
   "execution_count": 22,
   "metadata": {},
   "outputs": [],
   "source": [
    "# Cargar Celda\n",
    "\n",
    "def is_valid(board, coord):\n",
    "    try:\n",
    "        x, y = coord\n",
    "        return board[x][y] == 1\n",
    "    except IndexError:\n",
    "        return False\n",
    "\n",
    "def is_rocks_free(board, player, rocks, coord):\n",
    "    return (is_valid(board, coord)\n",
    "            and not tuple(coord) in rocks)\n",
    "\n",
    "def is_cross_free(board, player, crosses, coord):\n",
    "    return (is_valid(board, coord) and not tuple(coord) in crosses)\n",
    "\n",
    "def is_player_free(board, player, rocks, water, crosses, coord):\n",
    "    return (is_rocks_free(board, player, rocks, coord) and is_cross_free(board, player, crosses, coord) and not tuple(coord) in water)"
   ]
  },
  {
   "cell_type": "code",
   "execution_count": 23,
   "metadata": {},
   "outputs": [],
   "source": [
    "# Cargar Celda\n",
    "\n",
    "# Crosses only valid vertically\n",
    "def remove_crosses_from(crosses, enemies, coord):\n",
    "    print(\"removing crosses\")\n",
    "    new_crosses = set(crosses)\n",
    "\n",
    "    enemy_x = 0\n",
    "    coord_x, coord_y = coord\n",
    "\n",
    "    for enemy in enemies:\n",
    "        if enemy[1] == coord_y:\n",
    "            enemy_x = enemy[0]\n",
    "\n",
    "    enemy_facing_down = enemy_x < coord_x\n",
    "\n",
    "    for cross_x, cross_y in crosses:\n",
    "        if cross_y == coord_y:\n",
    "            if (enemy_facing_down and cross_x > x) or (not enemy_facing_down and cross_x > x):\n",
    "                new_crosses.remove(cross)\n",
    "\n",
    "    return new_crosses"
   ]
  },
  {
   "cell_type": "code",
   "execution_count": 24,
   "metadata": {},
   "outputs": [],
   "source": [
    "# Cargar Celda\n",
    "\n",
    "import numpy as np\n",
    "from JuegoEscapa import State\n",
    "\n",
    "def move_player(board, player, enemy, rocks, water, crosses, keys, target, mov, player_has_key):\n",
    "    next_coord = tuple(np.add(player, mov))\n",
    "    new_keys = set(keys)\n",
    "    new_player = list(player)\n",
    "\n",
    "    if is_player_free(board, player, rocks, water, crosses, next_coord):\n",
    "        if next_coord == target:\n",
    "            # If players wins => Remove player.\n",
    "            if player_has_key:\n",
    "                new_player = None\n",
    "        else:                \n",
    "            new_player = list(next_coord)\n",
    "            # If players picks the key => Remove key.\n",
    "            if next_coord in keys:\n",
    "                new_keys.remove(next_coord)\n",
    "                player_has_key = True\n",
    "\n",
    "    return State(new_player, rocks, water, crosses, new_keys, player_has_key)\n",
    "\n",
    "\n",
    "def move_rocks(enemy, board, player, rocks, water, crosses, keys, target, mov, player_has_key):\n",
    "    next_coord = tuple(np.add(player, mov))\n",
    "    next_rock_space = tuple(np.add(next_coord, mov))\n",
    "\n",
    "    new_rocks = set(rocks)\n",
    "    new_water = set(water)\n",
    "    new_crosses = set(crosses)\n",
    "\n",
    "    if (next_coord in rocks\n",
    "            and is_rocks_free(board, player, rocks, next_rock_space) and next_rock_space != target):\n",
    "        new_rocks.remove(next_coord)\n",
    "        # We check if water in new rock position.\n",
    "        if next_rock_space in water:\n",
    "            new_water.remove(next_rock_space)\n",
    "        elif next_rock_space in crosses:\n",
    "            new_crosses = remove_crosses_from(crosses, enemy, next_rock_space)\n",
    "            new_rocks.add(next_rock_space)\n",
    "\n",
    "    return State(player, new_rocks, new_water, new_crosses, keys, player_has_key)\n",
    "\n",
    "def move(level, state, mov):\n",
    "    pos_movements = ((1, 0), (-1, 0), (0, 1), (0, -1))\n",
    "\n",
    "    board = level.get_board()\n",
    "    target = level.get_target()\n",
    "    enemy = level.get_enemy()\n",
    "\n",
    "    player = state.get_player()\n",
    "    rocks = state.get_rocks()\n",
    "    water = state.get_water()\n",
    "    crosses = state.get_crosses()\n",
    "    keys = state.get_keys()\n",
    "    player_has_key = state.get_player_has_key()\n",
    "\n",
    "    if tuple(mov) in pos_movements and player:\n",
    "        s1 = move_rocks(\n",
    "            enemy, board, player, rocks, water, crosses, keys, target, mov, player_has_key)\n",
    "        s2 = move_player(\n",
    "            board, player, enemy, s1.get_rocks(), s1.get_water(), s1.get_crosses(), keys, target, mov, player_has_key)\n",
    "        return s2\n",
    "\n",
    "    return state"
   ]
  },
  {
   "cell_type": "code",
   "execution_count": 25,
   "metadata": {},
   "outputs": [],
   "source": [
    "# Cargar Celda\n",
    "\n",
    "def is_goal(state):\n",
    "    player = state.get_player()\n",
    "    return not player"
   ]
  },
  {
   "cell_type": "code",
   "execution_count": 26,
   "metadata": {},
   "outputs": [
    {
     "output_type": "display_data",
     "data": {
      "text/plain": "HTML(value='<style> img.game {width: 50px !important; height: 50px !important;}</style><table><tr><td><img cla…",
      "application/vnd.jupyter.widget-view+json": {
       "version_major": 2,
       "version_minor": 0,
       "model_id": "1cd66ad35ec54823b8e4c8e778ee9736"
      }
     },
     "metadata": {}
    }
   ],
   "source": [
    "from ipywidgets import HTML\n",
    "from Gui import Gui\n",
    "\n",
    "ui = Gui()\n",
    "s1 = state\n",
    "\n",
    "html_str = ui.get_html(level, state)\n",
    "HTML(value = html_str)"
   ]
  },
  {
   "cell_type": "code",
   "execution_count": 27,
   "metadata": {},
   "outputs": [
    {
     "output_type": "display_data",
     "data": {
      "text/plain": "VBox(children=(Dropdown(description='Choose Level:', options=('level_PruebaJEscapa.txt', 'level_PruebaJEscapaT…",
      "application/vnd.jupyter.widget-view+json": {
       "version_major": 2,
       "version_minor": 0,
       "model_id": "e19e024a02634436bfc2fc051c25d4e6"
      }
     },
     "metadata": {}
    }
   ],
   "source": [
    "from IPython.display import display\n",
    "from MediadorVPedro import Mediator\n",
    "from Gui import Gui\n",
    "\n",
    "import warnings\n",
    "warnings.filterwarnings(\"ignore\")\n",
    "ui = Gui(manual = True)\n",
    "\n",
    "med = Mediator.get_instance(modelPath = \"JuegoEscapaManual.ipynb\")   \n",
    "med.register_ui(ui)\n",
    "\n",
    "\n",
    "# Cuando llamo a la función se crean\n",
    "display(ui.get_ui_elements())"
   ]
  },
  {
   "cell_type": "markdown",
   "metadata": {},
   "source": [
    "### Varios enemigos y que las cuces no se quiten."
   ]
  }
 ],
 "metadata": {
  "kernelspec": {
   "name": "python3",
   "display_name": "Python 3.8.6 64-bit",
   "metadata": {
    "interpreter": {
     "hash": "d5eb7a8f509e7ccbf47035c59f1ff1c37d44186d90acd8dc6b44b2ecc8ca6e3f"
    }
   }
  },
  "language_info": {
   "codemirror_mode": {
    "name": "ipython",
    "version": 3
   },
   "file_extension": ".py",
   "mimetype": "text/x-python",
   "name": "python",
   "nbconvert_exporter": "python",
   "pygments_lexer": "ipython3",
   "version": "3.8.6-final"
  }
 },
 "nbformat": 4,
 "nbformat_minor": 2
}