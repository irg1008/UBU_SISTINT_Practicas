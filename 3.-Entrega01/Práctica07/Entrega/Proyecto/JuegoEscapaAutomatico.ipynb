{
 "cells": [
  {
   "cell_type": "code",
   "execution_count": 4,
   "metadata": {},
   "outputs": [],
   "source": [
    "# Cargar Celda\n",
    "from DynamicCodeLoader import loadDynamicCode\n",
    "\n",
    "model = loadDynamicCode(\"JuegoEscapaManual.ipynb\", \"Model\")\n",
    "search = loadDynamicCode(\"Busqueda.ipynb\", \"Search\")"
   ]
  },
  {
   "cell_type": "code",
   "execution_count": 5,
   "metadata": {},
   "outputs": [],
   "source": [
    "from Loader import Loader\n",
    "\n",
    "loader = Loader()\n",
    "files = loader.get_all_levels()\n",
    "txt_level = loader.get_txt_level(files[0])\n",
    "\n",
    "level, state = loader.load_level(txt_level)"
   ]
  },
  {
   "cell_type": "code",
   "execution_count": 6,
   "metadata": {},
   "outputs": [
    {
     "output_type": "execute_result",
     "data": {
      "text/plain": [
       "['#######', '#x* ###', '#x + -#', '#x   @#', '#!¡   #', '#######']"
      ]
     },
     "metadata": {},
     "execution_count": 6
    }
   ],
   "source": [
    "txt_level"
   ]
  },
  {
   "cell_type": "code",
   "execution_count": 7,
   "metadata": {},
   "outputs": [
    {
     "output_type": "stream",
     "name": "stdout",
     "text": [
      "\n-> Player: [3, 5]\n-> Rocks: {(2, 3)}\n-> Water: {(2, 5)}\n-> Crosses: {(3, 1), (1, 1), (2, 1)}\n-> Keys: {(4, 2)}\n-> Player Has Key: False\n\nIs goal: False\n\n-> Player: [3, 4]\n-> Rocks: {(2, 3)}\n-> Water: {(2, 5)}\n-> Crosses: {(3, 1), (1, 1), (2, 1)}\n-> Keys: {(4, 2)}\n-> Player Has Key: False\n"
     ]
    }
   ],
   "source": [
    "print(state)\n",
    "\n",
    "print(f\"\\nIs goal: {model.is_goal(state)}\")\n",
    "\n",
    "new_state = model.move(level, state, [0, -1])\n",
    "print(new_state)"
   ]
  },
  {
   "cell_type": "code",
   "execution_count": 8,
   "metadata": {},
   "outputs": [
    {
     "output_type": "display_data",
     "data": {
      "text/plain": "HTML(value='<style> img.game {width: 50px !important; height: 50px !important;}</style><table><tr><td><img cla…",
      "application/vnd.jupyter.widget-view+json": {
       "version_major": 2,
       "version_minor": 0,
       "model_id": "fc5c9330c7d741cb837b77c1b5115740"
      }
     },
     "metadata": {}
    }
   ],
   "source": [
    "from Gui import Gui\n",
    "from ipywidgets import HTML\n",
    "ui = Gui()\n",
    "\n",
    "htmlstr = ui.get_html(level, state)\n",
    "HTML(value=htmlstr)"
   ]
  },
  {
   "cell_type": "code",
   "execution_count": 9,
   "metadata": {},
   "outputs": [
    {
     "output_type": "stream",
     "name": "stdout",
     "text": [
      "[(1, 1), (2, 1), (3, 1), (4, 1), (5, 1), (6, 1), (6, 2), (6, 3), (6, 4), (6, 5), (7, 5), (7, 6), (7, 7), (7, 8), (6, 8), (5, 8), (4, 8), (3, 8), (2, 8), (2, 7), (2, 6), (2, 5)]\n"
     ]
    }
   ],
   "source": [
    "board = [[1, 1, 1, 1, 1, 1, 1, 1, 1, 1],\n",
    "         [1, 0, 1, 0, 1, 0, 0, 0, 0, 1],\n",
    "         [1, 0, 1, 0, 1, 0, 0, 0, 0, 1],\n",
    "         [1, 0, 1, 0, 1, 1, 1, 1, 0, 1],\n",
    "         [1, 0, 1, 0, 0, 0, 0, 1, 0, 1],\n",
    "         [1, 0, 1, 0, 0, 0, 0, 1, 0, 1],\n",
    "         [1, 0, 0, 0, 0, 0, 0, 1, 0, 1],\n",
    "         [1, 0, 1, 0, 0, 0, 0, 0, 0, 1],\n",
    "         [1, 0, 1, 0, 0, 0, 0, 0, 0, 1],\n",
    "         [1, 1, 1, 1, 1, 1, 1, 1, 1, 1]]\n",
    "\n",
    "initialStatePF = (1, 1)\n",
    "finalStatePF = (2, 5)\n",
    "\n",
    "\n",
    "initialNodePF = search.createInitialNodePF(initialStatePF, finalStatePF, board, search.heuristicPF)\n",
    "\n",
    "sol = search.AStar(initialNodePF, search.successorsPF, search.isGoal, search.heuristicPF)\n",
    "\n",
    "print(sol)"
   ]
  },
  {
   "cell_type": "code",
   "execution_count": 10,
   "metadata": {},
   "outputs": [],
   "source": [
    "# Cargar Celda\n",
    "\n",
    "iterations = 0\n",
    "total_cost = 0\n",
    "global_level = None\n",
    "\n",
    "def initial_node_JE(level, state, fH):\n",
    "    global global_level\n",
    "    global iterations\n",
    "\n",
    "    global_level = level\n",
    "    iterations = 0\n",
    "\n",
    "    initialNode = search.Node(state, None, 0, fH(state))\n",
    "\n",
    "    return initialNode"
   ]
  },
  {
   "cell_type": "code",
   "execution_count": 11,
   "metadata": {},
   "outputs": [],
   "source": [
    "# Cargar Celda\n",
    "\n",
    "def goal_JE(node):\n",
    "    global total_cost\n",
    "\n",
    "    state = node.getState()\n",
    "\n",
    "    total_cost = node.getG()\n",
    "\n",
    "    return model.is_goal(state)"
   ]
  },
  {
   "cell_type": "code",
   "execution_count": 12,
   "metadata": {},
   "outputs": [],
   "source": [
    "# Cargar Celda\n",
    "\n",
    "def heuristic_JE(state):\n",
    "    global global_level\n",
    "    global iterations\n",
    "    iterations += 1\n",
    "\n",
    "    player = state.get_player()\n",
    "    if not player:\n",
    "        return 0\n",
    "\n",
    "    # Manhattan\n",
    "    xPlayer, yPlayer = player\n",
    "    xTarget, yTarget = global_level.get_target()\n",
    "    cost = abs(xPlayer - xTarget) + abs(yPlayer - yTarget)\n",
    "\n",
    "    if not state.get_player_has_key():\n",
    "        cost += 1000\n",
    "\n",
    "    return cost\n"
   ]
  },
  {
   "cell_type": "code",
   "execution_count": 13,
   "metadata": {},
   "outputs": [],
   "source": [
    "# Cargar Celda\n",
    "\n",
    "def successors_JE(node, hSuc):\n",
    "    global global_level\n",
    "    movs = ((1, 0), (-1, 0), (0, 1), (0, -1))\n",
    "    childs = []\n",
    "\n",
    "    state = node.getState()\n",
    "    g = node.getG()\n",
    "    \n",
    "    for mov in movs:\n",
    "        child = model.move(global_level, state, mov)\n",
    "        if child != state:\n",
    "            h = hSuc(child)\n",
    "            new_g = g + 1\n",
    "            new_f = new_g + h\n",
    "            childs.append(search.Node(child, node, new_g, new_f))\n",
    "\n",
    "    return childs"
   ]
  },
  {
   "cell_type": "code",
   "execution_count": 14,
   "metadata": {},
   "outputs": [
    {
     "output_type": "execute_result",
     "data": {
      "text/plain": [
       "Estado Nodo: \n",
       "-> Player: [3, 5]\n",
       "-> Rocks: {(2, 3)}\n",
       "-> Water: {(2, 5)}\n",
       "-> Crosses: {(3, 1), (1, 1), (2, 1)}\n",
       "-> Keys: {(4, 2)}\n",
       "-> Player Has Key: False \n",
       "F Nodo: 1005"
      ]
     },
     "metadata": {},
     "execution_count": 14
    }
   ],
   "source": [
    "initialNode = initial_node_JE(level, state, heuristic_JE)\n",
    "\n",
    "initialNode"
   ]
  },
  {
   "cell_type": "code",
   "execution_count": 15,
   "metadata": {},
   "outputs": [
    {
     "output_type": "execute_result",
     "data": {
      "text/plain": [
       "[Estado Nodo: \n",
       " -> Player: [4, 5]\n",
       " -> Rocks: {(2, 3)}\n",
       " -> Water: {(2, 5)}\n",
       " -> Crosses: {(3, 1), (1, 1), (2, 1)}\n",
       " -> Keys: {(4, 2)}\n",
       " -> Player Has Key: False \n",
       " F Nodo: 1007,\n",
       " Estado Nodo: \n",
       " -> Player: [3, 4]\n",
       " -> Rocks: {(2, 3)}\n",
       " -> Water: {(2, 5)}\n",
       " -> Crosses: {(3, 1), (1, 1), (2, 1)}\n",
       " -> Keys: {(4, 2)}\n",
       " -> Player Has Key: False \n",
       " F Nodo: 1005]"
      ]
     },
     "metadata": {},
     "execution_count": 15
    }
   ],
   "source": [
    "successors = successors_JE(initialNode, heuristic_JE)\n",
    "\n",
    "successors"
   ]
  },
  {
   "cell_type": "code",
   "execution_count": 16,
   "metadata": {
    "tags": []
   },
   "outputs": [
    {
     "output_type": "stream",
     "name": "stdout",
     "text": [
      "Solución: \n\n-> Player: [3, 5]\n-> Rocks: {(2, 3)}\n-> Water: {(2, 5)}\n-> Crosses: {(3, 1), (1, 1), (2, 1)}\n-> Keys: {(4, 2)}\n-> Player Has Key: False\n\n-> Player: [3, 4]\n-> Rocks: {(2, 3)}\n-> Water: {(2, 5)}\n-> Crosses: {(3, 1), (1, 1), (2, 1)}\n-> Keys: {(4, 2)}\n-> Player Has Key: False\n\n-> Player: [3, 3]\n-> Rocks: {(2, 3)}\n-> Water: {(2, 5)}\n-> Crosses: {(3, 1), (1, 1), (2, 1)}\n-> Keys: {(4, 2)}\n-> Player Has Key: False\n\n-> Player: [3, 2]\n-> Rocks: {(2, 3)}\n-> Water: {(2, 5)}\n-> Crosses: {(3, 1), (1, 1), (2, 1)}\n-> Keys: {(4, 2)}\n-> Player Has Key: False\n\n-> Player: [4, 2]\n-> Rocks: {(2, 3)}\n-> Water: {(2, 5)}\n-> Crosses: {(3, 1), (1, 1), (2, 1)}\n-> Keys: set()\n-> Player Has Key: True\n\n-> Player: [3, 2]\n-> Rocks: {(2, 3)}\n-> Water: {(2, 5)}\n-> Crosses: {(3, 1), (1, 1), (2, 1)}\n-> Keys: set()\n-> Player Has Key: True\n\n-> Player: [2, 2]\n-> Rocks: {(2, 3)}\n-> Water: {(2, 5)}\n-> Crosses: {(3, 1), (1, 1), (2, 1)}\n-> Keys: set()\n-> Player Has Key: True\n\n-> Player: None\n-> Rocks: {(2, 3)}\n-> Water: {(2, 5)}\n-> Crosses: {(3, 1), (1, 1), (2, 1)}\n-> Keys: set()\n-> Player Has Key: True\n\nNodos evaluados: 30\nCoste de la solución: 7\n"
     ]
    }
   ],
   "source": [
    "sol = search.AStar(initialNode, successors_JE, goal_JE, heuristic_JE)\n",
    "\n",
    "print(\"Solución: \")\n",
    "for state in sol:\n",
    "    print(state)\n",
    "print(f\"\\nNodos evaluados: {iterations}\")\n",
    "print(f\"Coste de la solución: {total_cost}\")"
   ]
  },
  {
   "cell_type": "code",
   "execution_count": 17,
   "metadata": {},
   "outputs": [
    {
     "output_type": "stream",
     "name": "stdout",
     "text": [
      "\n-> Player: [3, 5]\n-> Rocks: {(2, 3)}\n-> Water: {(2, 5)}\n-> Crosses: {(3, 1), (1, 1), (2, 1)}\n-> Keys: {(4, 2)}\n-> Player Has Key: False\n\n-> Player: [3, 4]\n-> Rocks: {(2, 3)}\n-> Water: {(2, 5)}\n-> Crosses: {(3, 1), (1, 1), (2, 1)}\n-> Keys: {(4, 2)}\n-> Player Has Key: False\n\n-> Player: [3, 3]\n-> Rocks: {(2, 3)}\n-> Water: {(2, 5)}\n-> Crosses: {(3, 1), (1, 1), (2, 1)}\n-> Keys: {(4, 2)}\n-> Player Has Key: False\n\n-> Player: [3, 2]\n-> Rocks: {(2, 3)}\n-> Water: {(2, 5)}\n-> Crosses: {(3, 1), (1, 1), (2, 1)}\n-> Keys: {(4, 2)}\n-> Player Has Key: False\n\n-> Player: [4, 2]\n-> Rocks: {(2, 3)}\n-> Water: {(2, 5)}\n-> Crosses: {(3, 1), (1, 1), (2, 1)}\n-> Keys: set()\n-> Player Has Key: True\n\n-> Player: [3, 2]\n-> Rocks: {(2, 3)}\n-> Water: {(2, 5)}\n-> Crosses: {(3, 1), (1, 1), (2, 1)}\n-> Keys: set()\n-> Player Has Key: True\n\n-> Player: [2, 2]\n-> Rocks: {(2, 3)}\n-> Water: {(2, 5)}\n-> Crosses: {(3, 1), (1, 1), (2, 1)}\n-> Keys: set()\n-> Player Has Key: True\n\n-> Player: None\n-> Rocks: {(2, 3)}\n-> Water: {(2, 5)}\n-> Crosses: {(3, 1), (1, 1), (2, 1)}\n-> Keys: set()\n-> Player Has Key: True\n"
     ]
    },
    {
     "output_type": "display_data",
     "data": {
      "text/plain": "VBox(children=(VBox(children=(HTML(value='<style> img.game {width: 50px !important; height: 50px !important;}<…",
      "application/vnd.jupyter.widget-view+json": {
       "version_major": 2,
       "version_minor": 0,
       "model_id": "d559db49629e4710a15e9938914399da"
      }
     },
     "metadata": {}
    }
   ],
   "source": [
    "from ipywidgets import VBox, Label, Layout, Button\n",
    "\n",
    "html = []\n",
    "for st in sol:\n",
    "    print(st)\n",
    "    htmlstr = ui.get_html(level, st)\n",
    "    html.append(HTML(value=htmlstr))\n",
    "\n",
    "box_layout = Layout(height=\"400px\",\n",
    "                    flex_direction=\"column\",\n",
    "                    display=\"flex\",\n",
    "                    overflow_y=\"scroll\")\n",
    "carousel = VBox(children=html, layout=box_layout)\n",
    "VBox([carousel])"
   ]
  },
  {
   "cell_type": "code",
   "execution_count": 18,
   "metadata": {},
   "outputs": [
    {
     "output_type": "stream",
     "name": "stdout",
     "text": [
      "<module 'Model'>\n"
     ]
    },
    {
     "output_type": "display_data",
     "data": {
      "text/plain": "VBox(children=(Dropdown(description='Choose Level:', options=('level_PruebaJEscapa.txt', 'level_PruebaJEscapaT…",
      "application/vnd.jupyter.widget-view+json": {
       "version_major": 2,
       "version_minor": 0,
       "model_id": "7dac5a43c7794e6abfeec477ae5e19a3"
      }
     },
     "metadata": {}
    }
   ],
   "source": [
    "from IPython.display import display\n",
    "from MediadorVPedro import Mediator\n",
    "from Gui import Gui\n",
    "\n",
    "import warnings\n",
    "warnings.filterwarnings(\"ignore\")\n",
    "ui = Gui(manual = False)\n",
    "\n",
    "med = Mediator.get_instance(modelPath = \"JuegoEscapaManual.ipynb\", aStarPath=\"Busqueda.ipynb\", nodesPath=\"JuegoEscapaAutomatico.ipynb\")   \n",
    "med.register_ui(ui)\n",
    "\n",
    "\n",
    "# Cuando llamo a la función se crean\n",
    "display(ui.get_ui_elements())"
   ]
  },
  {
   "source": [
    "# AÑADIR ANIMACIÓN AL RESOLVER Y MEJORAR OTROS ASPECTOS Y DOCUMENTAR ATOPE! MEJORAR OPTIMIZACIÓN\n"
   ],
   "cell_type": "code",
   "metadata": {},
   "execution_count": 19,
   "outputs": []
  }
 ],
 "metadata": {
  "kernelspec": {
   "display_name": "Python 3",
   "language": "python",
   "name": "python3"
  },
  "language_info": {
   "codemirror_mode": {
    "name": "ipython",
    "version": 3
   },
   "file_extension": ".py",
   "mimetype": "text/x-python",
   "name": "python",
   "nbconvert_exporter": "python",
   "pygments_lexer": "ipython3",
   "version": "3.8.6-final"
  }
 },
 "nbformat": 4,
 "nbformat_minor": 2
}