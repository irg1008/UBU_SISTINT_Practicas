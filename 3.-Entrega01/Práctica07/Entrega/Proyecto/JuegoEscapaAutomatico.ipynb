{
 "cells": [
  {
   "cell_type": "markdown",
   "metadata": {},
   "source": [
    "# ESCAPA CON LA LLAVE - AUTOMÁTICO\n",
    "---\n",
    "---"
   ]
  },
  {
   "cell_type": "markdown",
   "metadata": {},
   "source": [
    "## Introducción\n",
    "---\n",
    "\n",
    "### ¿Qué se va a hacer?\n",
    "\n",
    "Se va a usar el algoritmo A\\* para resolver el juego de *Escapa, con la llave*.\n",
    "\n",
    "### ¿Cómo se va a hacer?\n",
    "\n",
    "- Se va a utilizar la implementación del A\\* realizada en el *Notebook* \"Búsqueda\".\n",
    "\n",
    "- Se van a implementar funciones para:\n",
    "    - Obtener cuándo un estado es *meta*.\n",
    "    - Obtener cuál es el valor heurístico de un determinado estado.\n",
    "    - Obtener los sucesores de un nodo. Para obtener los sucesores, se va a utilizar la función **move** realizada anteriormente. \n",
    "    \n",
    "A continuación se puede ver cómo, usando la clase **DynamicCodeLoader**, se puede cargar el código de los *Notebooks* anteriores. Este ejemplo sería solamente para poder hacer pruebas, dado que la interfaz gráfica lo integra ya todo.\n",
    "\n",
    "Todo el código del *Notebook* de la primera parte de la práctica se guarda en el módulo *model* y todo el código del *Notebook* de 'FuncionesBusqueda' se guarda en el módulo *search*."
   ]
  },
  {
   "cell_type": "markdown",
   "metadata": {},
   "source": [
    "## Bibliotecas globales y uso tipados personalizados\n",
    "---"
   ]
  },
  {
   "cell_type": "markdown",
   "metadata": {},
   "source": [
    "### > Tipados personalizados\n",
    "* ```StaticObject = Tuple[int, int]```\n",
    "* ```StateObject = Set[StaticObject]```\n",
    "* ```StatePlayer = List[int]```\n",
    "* ```LevelBoard = Tuple[Tuple[int]]```\n",
    "\n",
    "### > Bibliotecas globales\n",
    "* **time**: Usado para cronometrar el tiempo empleado en la resolución del algoritmo A*"
   ]
  },
  {
   "cell_type": "code",
   "execution_count": 1,
   "metadata": {},
   "outputs": [],
   "source": [
    "# Cargar Celda\n",
    "\n",
    "# Importado para usar cronómetro\n",
    "from time import time\n",
    "\n",
    "# Tipado en Python.\n",
    "from JuegoEscapa import StateObject, LevelBoard, StaticObject, StatePlayer, Level, State\n",
    "from typing import Callable, List"
   ]
  },
  {
   "cell_type": "markdown",
   "metadata": {},
   "source": [
    "## Carga dinámica\n",
    "---"
   ]
  },
  {
   "cell_type": "code",
   "execution_count": 2,
   "metadata": {},
   "outputs": [],
   "source": [
    "# Cargar Celda\n",
    "\n",
    "from DynamicCodeLoader import loadDynamicCode\n",
    "\n",
    "model = loadDynamicCode(\"JuegoEscapaManual.ipynb\", \"Model\") # Cargamos la implementación manual.\n",
    "search = loadDynamicCode(\"Busqueda.ipynb\", \"Search\") # Cargamos el notebook con las funciones de búsqueda."
   ]
  },
  {
   "cell_type": "markdown",
   "metadata": {},
   "source": [
    "## Ejemplos\n",
    "---"
   ]
  },
  {
   "cell_type": "code",
   "execution_count": 3,
   "metadata": {},
   "outputs": [],
   "source": [
    "# Ejemplo de carga de nivel.\n",
    "\n",
    "from Loader import Loader\n",
    "\n",
    "loader = Loader()\n",
    "files = loader.get_all_levels()\n",
    "txt_level = loader.get_txt_level(files[0])\n",
    "\n",
    "level, state = loader.load_level(txt_level)"
   ]
  },
  {
   "cell_type": "code",
   "execution_count": 4,
   "metadata": {},
   "outputs": [
    {
     "data": {
      "text/plain": [
       "((0, 0, 0, 0, 0, 0, 0),\n",
       " (0, 0, 1, 1, 0, 1, 0),\n",
       " (0, 1, 1, 1, 1, 1, 0),\n",
       " (0, 1, 1, 1, 1, 1, 0),\n",
       " (0, 1, 1, 1, 1, 1, 0),\n",
       " (0, 0, 0, 0, 0, 0, 0))"
      ]
     },
     "execution_count": 4,
     "metadata": {},
     "output_type": "execute_result"
    }
   ],
   "source": [
    "# Obtener el tablero del nivel.\n",
    "\n",
    "level.get_board()"
   ]
  },
  {
   "cell_type": "code",
   "execution_count": 5,
   "metadata": {},
   "outputs": [
    {
     "name": "stdout",
     "output_type": "stream",
     "text": [
      "\n",
      "   * Player: [3, 5]\n",
      "   * Rocks: {(2, 3)}\n",
      "   * Water: {(2, 5)}\n",
      "   * Crosses: {(3, 1), (4, 1), (2, 1)}\n",
      "   * Key: (4, 2)\n",
      "   * Player Has Key: False\n",
      "\n",
      "Is goal: False\n",
      "\n",
      "   * Player: [3, 4]\n",
      "   * Rocks: {(2, 3)}\n",
      "   * Water: {(2, 5)}\n",
      "   * Crosses: {(3, 1), (4, 1), (2, 1)}\n",
      "   * Key: (4, 2)\n",
      "   * Player Has Key: False\n"
     ]
    }
   ],
   "source": [
    "# Ejemplo de cambio de estado usando la función de movimiento del manual.\n",
    "\n",
    "print(state)\n",
    "print(f\"\\nIs goal: {model.is_goal(state)}\")\n",
    "new_state = model.move(level, state, [0, -1])\n",
    "print(new_state)"
   ]
  },
  {
   "cell_type": "code",
   "execution_count": 6,
   "metadata": {},
   "outputs": [
    {
     "data": {
      "application/vnd.jupyter.widget-view+json": {
       "model_id": "15231b39d9874bb3988b28984d0e59ad",
       "version_major": 2,
       "version_minor": 0
      },
      "text/plain": [
       "HTML(value='<style> img.game {width: 50px !important; height: 50px !important;}</style><table><tr><td><img cla…"
      ]
     },
     "metadata": {},
     "output_type": "display_data"
    }
   ],
   "source": [
    "# Ejemplo de visualización de un nivel.\n",
    "\n",
    "from Gui import Gui\n",
    "from ipywidgets import HTML\n",
    "ui = Gui()\n",
    "\n",
    "htmlstr = ui.get_html(level, state)\n",
    "HTML(value=htmlstr)"
   ]
  },
  {
   "cell_type": "markdown",
   "metadata": {},
   "source": [
    "## Caso de uso: PathFinding\n",
    "---\n",
    "\n",
    "* Tablero:\n",
    "    * 0 = Navegable\n",
    "    * 1 = No Navegable"
   ]
  },
  {
   "cell_type": "code",
   "execution_count": 7,
   "metadata": {},
   "outputs": [
    {
     "name": "stdout",
     "output_type": "stream",
     "text": [
      "Solution: \n",
      "\n",
      "████████████████████\n",
      "██[]██  ██[][][][]██\n",
      "██[]██  ██      []██\n",
      "██[]██  ████████[]██\n",
      "██[]██        ██[]██\n",
      "██[]██        ██[]██\n",
      "██[][][][][]  ██[]██\n",
      "██  ██    [][][][]██\n",
      "██  ██            ██\n",
      "████████████████████\n",
      "\n",
      "Step 0: (1, 1)\n",
      "Step 1: (2, 1)\n",
      "Step 2: (3, 1)\n",
      "Step 3: (4, 1)\n",
      "Step 4: (5, 1)\n",
      "Step 5: (6, 1)\n",
      "Step 6: (6, 2)\n",
      "Step 7: (6, 3)\n",
      "Step 8: (6, 4)\n",
      "Step 9: (6, 5)\n",
      "Step 10: (7, 5)\n",
      "Step 11: (7, 6)\n",
      "Step 12: (7, 7)\n",
      "Step 13: (7, 8)\n",
      "Step 14: (6, 8)\n",
      "Step 15: (5, 8)\n",
      "Step 16: (4, 8)\n",
      "Step 17: (3, 8)\n",
      "Step 18: (2, 8)\n",
      "Step 19: (1, 8)\n",
      "Step 20: (1, 7)\n",
      "Step 21: (1, 6)\n",
      "Step 22: (1, 5)\n"
     ]
    }
   ],
   "source": [
    "# Creación de un tablero: 0 = Navegable | 1 = No Navegable\n",
    "board = [[1, 1, 1, 1, 1, 1, 1, 1, 1, 1],\n",
    "         [1, 0, 1, 0, 1, 0, 0, 0, 0, 1],\n",
    "         [1, 0, 1, 0, 1, 0, 0, 0, 0, 1],\n",
    "         [1, 0, 1, 0, 1, 1, 1, 1, 0, 1],\n",
    "         [1, 0, 1, 0, 0, 0, 0, 1, 0, 1],\n",
    "         [1, 0, 1, 0, 0, 0, 0, 1, 0, 1],\n",
    "         [1, 0, 0, 0, 0, 0, 0, 1, 0, 1],\n",
    "         [1, 0, 1, 0, 0, 0, 0, 0, 0, 1],\n",
    "         [1, 0, 1, 0, 0, 0, 0, 0, 0, 1],\n",
    "         [1, 1, 1, 1, 1, 1, 1, 1, 1, 1]]\n",
    "\n",
    "initialStatePF = (1, 1) # Inicio. y, x.\n",
    "finalStatePF = (1, 5) # Destino.\n",
    "\n",
    "\n",
    "initialNodePF = search.createInitialNodePF(initialStatePF, finalStatePF, board, search.heuristicPF)\n",
    "\n",
    "sol = search.AStar(initialNodePF, search.successorsPF, search.isGoal, search.heuristicPF)\n",
    "\n",
    "print(\"Solution: \\n\")\n",
    "search.draw(sol, board)\n",
    "for i, s in enumerate(sol):\n",
    "    print(f\"Step {i}: {s}\")"
   ]
  },
  {
   "cell_type": "markdown",
   "metadata": {},
   "source": [
    "## Juego Escapa\n",
    "---\n",
    "\n",
    "## Que se necesita para resolver el juego de *Escapa, con la llave*, usando A\\*\n",
    "\n",
    "Se necesita:\n",
    "- Crear un nodo (proporcionado por el profesor)\n",
    "- Saber cuando un estado es meta (proporcionado por el profesor)\n",
    "- Función heurística (**Implementado por el alumno**)\n",
    "- Función de sucesores (**Implementado por el alumno**)"
   ]
  },
  {
   "cell_type": "markdown",
   "metadata": {},
   "source": [
    "### > ANTES DE EMPEZAR: TIPO DE IMPLEMENTACIÓN DE HEURÍSITCA:\n",
    "\n",
    "#### Tipo 1 - Menor coste => Mayor nodos evaluados => Mayor tiempo.\n",
    "* Bueno: En espacios de estado pequeños pués encuentra la solución de mínimo coste en poco tiempo.\n",
    "* Muy malo: En espacios de estados grandes pués el número de nodos es muy grande y por lo tanto el tiempo empleado también.\n",
    "* Recomendado: Mejor en espacio de estados pequeño.\n",
    "        \n",
    "#### Tipo 2 - Coste medio => Número de nodos evaluados medio => Tiempo medio.\n",
    "* Es una solución aceptable: En espacios tanto pequeños como grandes, pues se balancea entre coste y tiempo empleado.\n",
    "* Recomendado:  Bueno en todo tipo de espacio de estados.\n",
    "\n",
    "#### Tipo 3 (Híbrida según coste a llave y puerta) - Mayor coste => Menor Nodos => Menor tiempo.\n",
    "* Malo: En espacios pequeños pués evalua pocos nodos y puede dar un coste mayor que el necesario.\n",
    "* Bueno: En espacios grandes para conseguir una solución, aunque no sea la de coste mínimo.\n",
    "* Recomendado: Mejor en espacio de estados grande."
   ]
  },
  {
   "cell_type": "markdown",
   "metadata": {},
   "source": [
    "### > ANÁLISIS DE LOS TIPOS DE HEURÍSITCA CON MAPAS\n",
    "\n",
    "Si nos fijamos en la relación de nodos explorados __(mayor es mejor)__ y coste de la solución en los distintos tipos *(VER ANTERIOR CELDA)*, siendo:\n",
    "* Tipo 1 -> Menor Coste\n",
    "* Tipo 2 -> Balanceado\n",
    "* Tipo 3 -> Menor Tiempo\n",
    "\n",
    "Y en los distintos mapas (cada uno con su espacio de estados). Observamos las siguientes gráficas:"
   ]
  },
  {
   "cell_type": "markdown",
   "metadata": {},
   "source": [
    "#### > Mapa Fácil - Bajo Espacio de Estados\n",
    "\n",
    "<p style=\"width: 800px;\">En mapas con espacio de estados pequeño observamos como la relación entre nodos y el coste es muy parecida. Eso nos indica que es mejor optar por la opción con el menor coste posible para asegurarnos.</p>\n",
    "<br/>\n",
    "<div style=\"text-align: center\">\n",
    "<img style=\"width: 400px; margin: 0 20px;\" src=\"./doc/mapa-bajo.jpg\" alt=\"mapa_bajo\">\n",
    "<br/>\n",
    "<img style=\"width: 400px; margin: 0 20px;\" src=\"./doc/coste-nodos-bajo.jpg\" alt=\"espacio_bajo\">\n",
    "</div>\n",
    "<br/><br/>\n",
    "\n",
    "|Tipo|Coste|Nodos Explorados|Tiempo Empleado|\n",
    "|:---|:---:|:---:|---:|\n",
    "|Menor Coste|7|24|0,002s|\n",
    "|Balanceado|7|28|0,002s|\n",
    "|Menor Tiempo|7|22|0,002s|"
   ]
  },
  {
   "cell_type": "markdown",
   "metadata": {},
   "source": [
    "#### > Mapa Medio - Medio Espacio de Estados\n",
    "<p style=\"width: 800px;\">En mapas con espacio de estado mayor, pero no mucho, el balanceado destaca sobre los demás, pero muy muy poco, tanto que de nuevo merece la pena ir a por el de menor coste por si el balanceado no explora todos los nodos.</p>\n",
    "<br/>\n",
    "<div style=\"text-align: center\">\n",
    "<img style=\"width: 400px; margin: 0 20px;\" src=\"./doc/mapa-medio.jpg\" alt=\"mapa_medio\">\n",
    "<br/>\n",
    "<img style=\"width: 400px; margin: 0 20px;\" src=\"./doc/coste-nodos-medio.jpg\" alt=\"espacio_medio\">\n",
    "<br/><br/>\n",
    "</div>\n",
    "\n",
    "|Tipo|Coste|Nodos Explorados|Tiempo Empleado|\n",
    "|:---|:---:|:---:|---:|\n",
    "|Menor Coste|42|1361|0,0077s|\n",
    "|Balanceado|42|1229|0,0073s|\n",
    "|Menor Tiempo|42|1362|0,0077s|"
   ]
  },
  {
   "cell_type": "markdown",
   "metadata": {},
   "source": [
    "#### > Mapa Difícil - Alto Espacio de Estados\n",
    "<p style=\"width: 800px;\">La gran diferencia está cuando entramos a espacios de estados mayores. A medida que vamos aumentando el de menor coste y en menor medida el balanceado, tienen que explorar muchos nodos para encontrar el coste menor. En este sentido la relación de nodos explorados y coste de la solución le da la ventaja a la heurística de menor tiempo.</p>\n",
    "<br/>\n",
    "<div style=\"text-align: center\">\n",
    "<img style=\"width: 400px; margin: 0 20px;\" src=\"./doc/mapa-alto.jpg\" alt=\"mapa_alto\">\n",
    "<br/>\n",
    "<img style=\"width: 400px; margin: 0 20px;\" src=\"./doc/coste-nodos-alto.jpg\" alt=\"espacio_alto\">\n",
    "</div>\n",
    "<br/><br/>\n",
    "\n",
    "|Tipo|Coste|Nodos Explorados|Tiempo Empleado|\n",
    "|:---|:---:|:---:|---:|\n",
    "|Menor Coste|38|48570|42,3s|\n",
    "|Balanceado|40|18616|7,5s|\n",
    "|Menor Tiempo|52|6046|1s|"
   ]
  },
  {
   "cell_type": "markdown",
   "metadata": {},
   "source": [
    "<p style=\"width: 600px;\">La mejor opción es elegir la manera que mejor se adecuee al problema. Si nuestro problema requiere que se llegue a una solución sin que el menor coste importe mucho, entonces la búsqueda por menor coste es nuestra opción. Por otro lado si lo primordial es tener el menor coste, nos va a tocar explorar más nodos, y por lo tanto, que el tiempo de solución aumente de forma exponencial.\n",
    "Por otro lado tenemos la solución balanceada que nos dará un coste pequeño, que, aun no siendo el menor, será aceptable en un tiempo de solución también aceptable.</p>\n",
    "\n",
    "\n",
    "\n",
    "#### Nota: Todos los tiempos han sido tomados en la misma máquina:\n",
    "* CPU: Ryzen 9 3900x 12 Núcleos"
   ]
  },
  {
   "cell_type": "markdown",
   "metadata": {},
   "source": [
    "### > Variables globales\n"
   ]
  },
  {
   "cell_type": "code",
   "execution_count": 8,
   "metadata": {},
   "outputs": [],
   "source": [
    "# Cargar Celda\n",
    "\n",
    "iterations = 0 # Número de iteraciones o nodos visitados.\n",
    "total_cost = 0 # Coste total de la solución.\n",
    "elapsed_time = 0 # Tiempo transcurrido para calcular A*.\n",
    "global_level = None # Nivel global.\n",
    "heuristic_type = 3 # Tipo de implementación de heurísitca. 1-3. [Ver Arriba los tipos]"
   ]
  },
  {
   "cell_type": "markdown",
   "metadata": {},
   "source": [
    "### > Funciones"
   ]
  },
  {
   "cell_type": "markdown",
   "metadata": {},
   "source": [
    "* #### Crear un nodo\n",
    "\n",
    "La función **initial_node_JE** crea un nodo inicial de Kwirk con el estado y el nivel especificado. Usa la función fH para calcular el valor heurístico.\n",
    "\n",
    "Además inicializa:\n",
    "- global_level: Una variable global que puede ser usada por las funciones de meta, de hurística y de sucesores\n",
    "- Iterations: Una variable que lleva la cuenta del número de nodos evaluados. Y saber posteriormente que implementación de heurística es mejor."
   ]
  },
  {
   "cell_type": "code",
   "execution_count": 9,
   "metadata": {},
   "outputs": [],
   "source": [
    "# Cargar Celda\n",
    "\n",
    "def initial_node_JE(level: Level,\n",
    "                    state: State,\n",
    "                    fH: Callable[[State], int]) -> search.Node:\n",
    "    \"\"\"\n",
    "    Crea el nodo inicial dado un nivel, un estado y una función de heurística.\n",
    "\n",
    "    Args:\n",
    "        level (Level): Nivel a cargar.\n",
    "        state (State): Estado inicial.\n",
    "        fH (Callable[[State], int]): Función heurística.\n",
    "\n",
    "    Returns:\n",
    "        search.Node: Retorna el nodo incial.\n",
    "    \"\"\"\n",
    "    global global_level\n",
    "    global iterations\n",
    "    global elapsed_time\n",
    "\n",
    "    global_level = level\n",
    "    iterations = 0\n",
    "    elapsed_time = time()\n",
    "\n",
    "    initialNode = search.Node(state, None, 0, fH(state))\n",
    "\n",
    "    return initialNode"
   ]
  },
  {
   "cell_type": "markdown",
   "metadata": {},
   "source": [
    "* #### Saber cuando es meta\n",
    "\n",
    "La función *goal_JE* toma un nodo y va a devolver *True*, si dicho nodo contiene un estado *meta* (todas las cajas están sobre los destinos, reutilizando *is_goal*, de la primera parte).\n",
    "\n",
    "Además, si es *meta*, recupera el valor de **G** (el coste), para saber el coste de la solución."
   ]
  },
  {
   "cell_type": "code",
   "execution_count": 10,
   "metadata": {},
   "outputs": [],
   "source": [
    "# Cargar Celda\n",
    "\n",
    "def goal_JE(node: search.Node) -> bool:\n",
    "    \"\"\"\n",
    "    Devuelve si el nodo corresponde con el final del juego.\n",
    "    Se extrae el estado y se calcula el coste final, así como se cierra el cronómetro.\n",
    "\n",
    "    Args:\n",
    "        node (search.Node): Nodo a comprobar.\n",
    "\n",
    "    Returns:\n",
    "        bool: Si el estado del nodo pasado corresponde con el estado final.\n",
    "    \"\"\"\n",
    "    global total_cost\n",
    "    global elapsed_time\n",
    "\n",
    "    state = node.getState()\n",
    "\n",
    "    is_goal = model.is_goal(state)\n",
    "    if is_goal:\n",
    "        total_cost = node.getG()\n",
    "        elapsed_time = time() - elapsed_time\n",
    "        elapsed_time = round(elapsed_time, 4)\n",
    "\n",
    "    return is_goal"
   ]
  },
  {
   "cell_type": "markdown",
   "metadata": {},
   "source": [
    "* #### Cálculo del *valor heurístico*\n",
    "\n",
    "**(Lo han de implementar los alumnos)**\n",
    "\n",
    "Esta función tiene que devolver un valor númerico que estime los movimientos que *faltan*, para llegar a la meta.\n",
    "\n",
    "Ejemplos:\n",
    "- $f_0$: Devuelve siempre 0. Es *minorante*, así es que encontraría el camino más corto.\n",
    "- $f_1$: Devuelve la suma de distancias de *Manhattan*, entre la meta y los jugadores. Es *minorante*.\n",
    "- $f_2$ y $f_3$: Inventadas por el alumno, para que tengan en cuenta el agua y las cajas.\n",
    "\n",
    "$f_0 < f_1$ \n",
    "\n",
    "Cuanto mayor sea el valor heurístico, menos nodos se explorarán, y encontrará el camino mínimo, siempre que sea *minorante*."
   ]
  },
  {
   "cell_type": "code",
   "execution_count": 11,
   "metadata": {},
   "outputs": [],
   "source": [
    "# Cargar Celda\n",
    "\n",
    "def manhattan(a: StaticObject, b: StaticObject) -> int:\n",
    "    \"\"\"\n",
    "    Devuelve la distancia manhattan entre dos coordenadas:\n",
    "    \n",
    "    A ----|\n",
    "     \\    |\n",
    "      \\   |\n",
    "       \\  | Manhattan <--\n",
    "        \\ |\n",
    "Eúclidea \\|\n",
    "          B\n",
    "            \n",
    "    Args:\n",
    "        a (StaticObject): Coordenada A.\n",
    "        b (StaticObject): Coordenada B.\n",
    "\n",
    "    Returns:\n",
    "        int: Distancia Manhattan entre dos coordenadas.\n",
    "    \"\"\"\n",
    "    return abs(a[0] - b[0]) + abs(a[1] - b[1])\n",
    "\n",
    "def heuristic_JE(state: State) -> int:\n",
    "    \"\"\"\n",
    "    Devuelve el valor de la heurística para el nodo pasado.\n",
    "    Tiene tres implementaciones, explicadas más arriba, pero resumiendo:\n",
    "    \n",
    "    * Implementaciónes:\n",
    "        1) Menor Coste\n",
    "        2) Balanceado\n",
    "        3) Menor tiempo\n",
    "        \n",
    "    Aumenta las iteraciones (número de nodos explorados)\n",
    "\n",
    "    Args:\n",
    "        state (State): Estado del que debemos sacar la heurística.\n",
    "\n",
    "    Returns:\n",
    "        int: Heurística o coste.\n",
    "    \"\"\"\n",
    "    global global_level\n",
    "    global iterations\n",
    "    global implementation\n",
    "    global heuristic_type\n",
    "\n",
    "    iterations += 1\n",
    "\n",
    "    player = state.get_player()\n",
    "    if not player:\n",
    "        return 0\n",
    "\n",
    "    # Manhattan básico a distancia jugador-puerta.\n",
    "    target = global_level.get_target()\n",
    "    cost_target = manhattan(player, target)\n",
    "    cost = cost_target\n",
    "\n",
    "    # Cambio de coste según posesión llave.\n",
    "    if not state.get_player_has_key():\n",
    "        implementation = heuristic_type\n",
    "        key = state.get_key()\n",
    "        cost_key = manhattan(player, key)\n",
    "\n",
    "        if implementation == 3:\n",
    "            if cost_key < cost_target:\n",
    "                implementation = 1\n",
    "            else:\n",
    "                implementation = 2\n",
    "        if implementation == 1:\n",
    "            cost += cost_key\n",
    "        elif implementation == 2:\n",
    "            cost += 1000\n",
    "\n",
    "    return cost\n"
   ]
  },
  {
   "cell_type": "markdown",
   "metadata": {},
   "source": [
    "* #### Crear sucesores\n",
    "\n",
    "Esta función debería crear nodos *sucesores*, siguiendo una de estas dos estrategías:\n",
    "\n",
    "*Opción sencilla*:\n",
    "- Habría un máximo de 4 sucesores, el resultado de ejecutar los movimientos arriba, abajo, derecha o izquierda. Si alguno de los movimientos no se puede ejecutar, habría menos de 3 sucesores.\n",
    "\n",
    "*Opción avanzada*: \n",
    "- Consideraríamos los siguientes tipos de sucesores:\n",
    "    - Sucesores colocarse: Lleva el jugador hasta la meta, o a una posición adyacente a una caja.\n",
    "    - Sucesores empujar: Empuja una caja.\n",
    "    \n",
    "Si se puede ir a la meta, se va a la meta. Si no, es que hay una caja o agua bloqueando el camino, así que habrá que ir junto a una caja, para así, empujarla. Los desplazamientos hasta la meta o hasta las coordenadas adyacentes a una caja se harán con la opción *pathfinding*.\n",
    "\n",
    "Con esta idea, no se exploran estados intermedios en los que no existe ni la posibilidad de empujar una caja."
   ]
  },
  {
   "cell_type": "code",
   "execution_count": 12,
   "metadata": {},
   "outputs": [],
   "source": [
    "# Cargar Celda\n",
    "\n",
    "def successors_JE(node: search.Node, hSuc: Callable[[State], int]) -> List[search.Node]:\n",
    "    \"\"\"\n",
    "    Devuelve los sucesores del nodo dado usando la heurística pasada.\n",
    "\n",
    "    Args:\n",
    "        node (search.Node): Nodo a buscar sucesores.\n",
    "        hSuc (Callable[[State], int]): Función heurística.\n",
    "\n",
    "    Returns:\n",
    "        List[search.Node]: Lista de nodos sucesores.\n",
    "    \"\"\"\n",
    "    global global_level\n",
    "    movs = ((1, 0), (-1, 0), (0, 1), (0, -1))\n",
    "    childs = []\n",
    "\n",
    "    state = node.getState()\n",
    "    g = node.getG()\n",
    "    \n",
    "    for mov in movs:\n",
    "        child = model.move(global_level, state, mov)\n",
    "        if child != state:\n",
    "            h = hSuc(child)\n",
    "            new_g = g + 1\n",
    "            new_f = new_g + h\n",
    "            childs.append(search.Node(child, node, new_g, new_f))\n",
    "\n",
    "    return childs"
   ]
  },
  {
   "cell_type": "markdown",
   "metadata": {},
   "source": [
    "## Probando las funciones\n",
    "---"
   ]
  },
  {
   "cell_type": "markdown",
   "metadata": {},
   "source": [
    "> Se usa el estado y el nivel para para crear un Nodo. **Siempre hay que crear un nodo inicial**. Las funciones de *heurística* y *sucesores* funcionan sobre nodos.\n",
    "> La función de *crear nodo* sería una de las funciones proporcionadas por el profesor."
   ]
  },
  {
   "cell_type": "code",
   "execution_count": 13,
   "metadata": {},
   "outputs": [
    {
     "name": "stdout",
     "output_type": "stream",
     "text": [
      "Nodo inicial: \n",
      "Node State: \n",
      "   * Player: [3, 5]\n",
      "   * Rocks: {(2, 3)}\n",
      "   * Water: {(2, 5)}\n",
      "   * Crosses: {(3, 1), (4, 1), (2, 1)}\n",
      "   * Key: (4, 2)\n",
      "   * Player Has Key: False \n",
      "Node F: 1002\n",
      "\n"
     ]
    }
   ],
   "source": [
    "# Creamos el nodo inicial.\n",
    "initialNode = initial_node_JE(level, state, heuristic_JE)\n",
    "\n",
    "print(f\"Nodo inicial: \\n{initialNode}\")"
   ]
  },
  {
   "cell_type": "markdown",
   "metadata": {},
   "source": [
    "> Después de crear el nodo inicial se pueden probar las funciones."
   ]
  },
  {
   "cell_type": "code",
   "execution_count": 14,
   "metadata": {},
   "outputs": [
    {
     "name": "stdout",
     "output_type": "stream",
     "text": [
      "Successor 1: Node State: \n",
      "   * Player: [4, 5]\n",
      "   * Rocks: {(2, 3)}\n",
      "   * Water: {(2, 5)}\n",
      "   * Crosses: {(3, 1), (4, 1), (2, 1)}\n",
      "   * Key: (4, 2)\n",
      "   * Player Has Key: False \n",
      "Node F: 1004\n",
      "\n",
      "Successor 2: Node State: \n",
      "   * Player: [3, 4]\n",
      "   * Rocks: {(2, 3)}\n",
      "   * Water: {(2, 5)}\n",
      "   * Crosses: {(3, 1), (4, 1), (2, 1)}\n",
      "   * Key: (4, 2)\n",
      "   * Player Has Key: False \n",
      "Node F: 1004\n",
      "\n"
     ]
    }
   ],
   "source": [
    "# Obtenemos los sucesores del nodo inicial\n",
    "successors = successors_JE(initialNode, heuristic_JE)\n",
    "\n",
    "for i, suc in enumerate(successors):\n",
    "    print(f\"Successor {i + 1}: {suc}\")"
   ]
  },
  {
   "cell_type": "markdown",
   "metadata": {},
   "source": [
    "> Podemos probar el A\\* en su conjunto de la siguiente forma:"
   ]
  },
  {
   "cell_type": "code",
   "execution_count": 15,
   "metadata": {
    "tags": []
   },
   "outputs": [
    {
     "name": "stdout",
     "output_type": "stream",
     "text": [
      "Solución: \n",
      "\n",
      "State: 1: \n",
      "   * Player: [3, 5]\n",
      "   * Rocks: {(2, 3)}\n",
      "   * Water: {(2, 5)}\n",
      "   * Crosses: {(3, 1), (4, 1), (2, 1)}\n",
      "   * Key: (4, 2)\n",
      "   * Player Has Key: False\n",
      "\n",
      "State: 2: \n",
      "   * Player: [4, 5]\n",
      "   * Rocks: {(2, 3)}\n",
      "   * Water: {(2, 5)}\n",
      "   * Crosses: {(3, 1), (4, 1), (2, 1)}\n",
      "   * Key: (4, 2)\n",
      "   * Player Has Key: False\n",
      "\n",
      "State: 3: \n",
      "   * Player: [4, 4]\n",
      "   * Rocks: {(2, 3)}\n",
      "   * Water: {(2, 5)}\n",
      "   * Crosses: {(3, 1), (4, 1), (2, 1)}\n",
      "   * Key: (4, 2)\n",
      "   * Player Has Key: False\n",
      "\n",
      "State: 4: \n",
      "   * Player: [4, 3]\n",
      "   * Rocks: {(2, 3)}\n",
      "   * Water: {(2, 5)}\n",
      "   * Crosses: {(3, 1), (4, 1), (2, 1)}\n",
      "   * Key: (4, 2)\n",
      "   * Player Has Key: False\n",
      "\n",
      "State: 5: \n",
      "   * Player: [4, 2]\n",
      "   * Rocks: {(2, 3)}\n",
      "   * Water: {(2, 5)}\n",
      "   * Crosses: {(3, 1), (4, 1), (2, 1)}\n",
      "   * Key: ()\n",
      "   * Player Has Key: True\n",
      "\n",
      "State: 6: \n",
      "   * Player: [3, 2]\n",
      "   * Rocks: {(2, 3)}\n",
      "   * Water: {(2, 5)}\n",
      "   * Crosses: {(3, 1), (4, 1), (2, 1)}\n",
      "   * Key: ()\n",
      "   * Player Has Key: True\n",
      "\n",
      "State: 7: \n",
      "   * Player: [2, 2]\n",
      "   * Rocks: {(2, 3)}\n",
      "   * Water: {(2, 5)}\n",
      "   * Crosses: {(3, 1), (4, 1), (2, 1)}\n",
      "   * Key: ()\n",
      "   * Player Has Key: True\n",
      "\n",
      "State: 8: \n",
      "   * Player: [2, 3]\n",
      "   * Rocks: {(2, 4)}\n",
      "   * Water: {(2, 5)}\n",
      "   * Crosses: {(3, 1), (4, 1), (2, 1)}\n",
      "   * Key: ()\n",
      "   * Player Has Key: True\n",
      "\n",
      "State: 9: \n",
      "   * Player: [2, 4]\n",
      "   * Rocks: set()\n",
      "   * Water: set()\n",
      "   * Crosses: {(3, 1), (4, 1), (2, 1)}\n",
      "   * Key: ()\n",
      "   * Player Has Key: True\n",
      "\n",
      "State: 10: \n",
      "   * Player: [2, 5]\n",
      "   * Rocks: set()\n",
      "   * Water: set()\n",
      "   * Crosses: {(3, 1), (4, 1), (2, 1)}\n",
      "   * Key: ()\n",
      "   * Player Has Key: True\n",
      "\n",
      "State: 11: \n",
      "   * Player: None\n",
      "   * Rocks: set()\n",
      "   * Water: set()\n",
      "   * Crosses: {(3, 1), (4, 1), (2, 1)}\n",
      "   * Key: ()\n",
      "   * Player Has Key: True\n",
      "\n",
      "\n",
      "Nodos evaluados: 66\n",
      "Coste de la solución: 10\n",
      "Tiempo empleado: 0.034 segundos\n"
     ]
    }
   ],
   "source": [
    "sol = search.AStar(initialNode, successors_JE, goal_JE, heuristic_JE)\n",
    "\n",
    "print(\"Solución: \\n\")\n",
    "for i, state in enumerate(sol):\n",
    "    print(f\"State: {i + 1}: {state}\\n\")\n",
    "print(f\"\\nNodos evaluados: {iterations}\")\n",
    "print(f\"Coste de la solución: {total_cost}\")\n",
    "print(f\"Tiempo empleado: {elapsed_time} segundos\")"
   ]
  },
  {
   "cell_type": "markdown",
   "metadata": {},
   "source": [
    "> Podemos visualizar la misma solución en una lista en html"
   ]
  },
  {
   "cell_type": "code",
   "execution_count": 16,
   "metadata": {},
   "outputs": [
    {
     "data": {
      "application/vnd.jupyter.widget-view+json": {
       "model_id": "2c257ae7bfca4d8091d210ffa009338c",
       "version_major": 2,
       "version_minor": 0
      },
      "text/plain": [
       "VBox(children=(VBox(children=(HTML(value='<br/>State 1: <style> img.game {width: 50px !important; height: 50px…"
      ]
     },
     "metadata": {},
     "output_type": "display_data"
    }
   ],
   "source": [
    "# Visualización de la solución en formato lista HTML.\n",
    "\n",
    "from ipywidgets import VBox, Label, Layout, Button\n",
    "\n",
    "html = []\n",
    "for i, st in enumerate(sol):\n",
    "    htmlstr = f\"<br/>State {i + 1}: \"\n",
    "    htmlstr += ui.get_html(level, st)\n",
    "    html.append(HTML(value=htmlstr))\n",
    "\n",
    "box_layout = Layout(height=\"400px\",\n",
    "                    flex_direction=\"column\",\n",
    "                    display=\"flex\",\n",
    "                    overflow_y=\"scroll\")\n",
    "carousel = VBox(children=html, layout=box_layout)\n",
    "VBox([carousel])"
   ]
  },
  {
   "cell_type": "markdown",
   "metadata": {},
   "source": [
    "## Salida\n",
    "---"
   ]
  },
  {
   "cell_type": "code",
   "execution_count": 17,
   "metadata": {},
   "outputs": [
    {
     "name": "stdout",
     "output_type": "stream",
     "text": [
      "<module 'Model'>\n"
     ]
    },
    {
     "data": {
      "application/vnd.jupyter.widget-view+json": {
       "model_id": "cfb0cb7737b342cd94f1808d08897198",
       "version_major": 2,
       "version_minor": 0
      },
      "text/plain": [
       "VBox(children=(Dropdown(description='Choose Level:', options=('level_easy.txt', 'level_hard.txt', 'level_hard_…"
      ]
     },
     "metadata": {},
     "output_type": "display_data"
    }
   ],
   "source": [
    "from IPython.display import display\n",
    "from MediadorVPedro import Mediator\n",
    "from Gui import Gui\n",
    "\n",
    "import warnings\n",
    "warnings.filterwarnings(\"ignore\")\n",
    "ui = Gui(manual = False)\n",
    "\n",
    "med = Mediator.get_instance(modelPath = \"JuegoEscapaManual.ipynb\", aStarPath=\"Busqueda.ipynb\", nodesPath=\"JuegoEscapaAutomatico.ipynb\")   \n",
    "med.register_ui(ui)\n",
    "\n",
    "\n",
    "display(ui.get_ui_elements())"
   ]
  },
  {
   "cell_type": "code",
   "execution_count": null,
   "metadata": {},
   "outputs": [],
   "source": []
  },
  {
   "cell_type": "markdown",
   "metadata": {},
   "source": [
    "## A MEJORAR:\n",
    "---\n",
    "\n",
    "* ### (Feature): Botón para cambio de implementación de heurística en la UI\n",
    "* ### (Bug?): Comprobar si el mapa tiene solución y notificar en caso contrario.\n",
    "* ### (Improvement - Little Difference): Mejorar la heurística para tener en cuenta piedra, agua...\n",
    "\n"
   ]
  }
 ],
 "metadata": {
  "kernelspec": {
   "display_name": "Python 3",
   "language": "python",
   "name": "python3"
  },
  "language_info": {
   "codemirror_mode": {
    "name": "ipython",
    "version": 3
   },
   "file_extension": ".py",
   "mimetype": "text/x-python",
   "name": "python",
   "nbconvert_exporter": "python",
   "pygments_lexer": "ipython3",
   "version": "3.8.6"
  }
 },
 "nbformat": 4,
 "nbformat_minor": 2
}
