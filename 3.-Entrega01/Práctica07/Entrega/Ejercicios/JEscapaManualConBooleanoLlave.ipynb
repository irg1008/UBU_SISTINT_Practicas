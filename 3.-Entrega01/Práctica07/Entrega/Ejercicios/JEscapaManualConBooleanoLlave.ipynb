{
 "cells": [
  {
   "cell_type": "markdown",
   "metadata": {},
   "source": [
    "# *Escapa, con la llave*. \n",
    "## Organización del código, en *clases*.\n",
    "\n",
    "\n",
    "\n",
    "**Este es el primer *Notebook* asociado a la primera práctica obligatoria**.\n",
    "\n",
    "\n",
    "***TENED EN CUENTA** que habrá un segundo Notebook en el que se consigue que juegue solo usando A**\n",
    "\n",
    "----------------------------------------\n",
    "\n",
    "En esta primera parte de la práctica se va a estructurar el código de las funciones básicas (*Notebook* anterior) en clases, para así poder dejar el código listo para su adaptación al modo automático, usando *A\\** (cosa que se hará en las siguientes sesiones).\n",
    "\n",
    "------------------\n",
    "\n"
   ]
  },
  {
   "cell_type": "markdown",
   "metadata": {},
   "source": [
    "Para este *Notebook*, el profesor proporciona un conjunto de clases que el alumno no tiene que modificar, pero puede hacerlo si lo desea.\n",
    "\n",
    "El profesor proporciona:\n",
    "1. Este *Notebook*, con las explicaciones y el ***main*** \n",
    "2. La *clase* **ui**, la cual implementará los controles (botones, desplegables, y la representación visual del juego)\n",
    "3. La *clase* **Mediator** que pone en contacto los componentes gráficos entre sí, y utiliza los métodos de la clase **State**, **Level**, **Model**, y la clase **Loader**\n",
    "4. **State**: Funciones para la construcción y consulta de estados (jugadores, cajas ...) <--> Modulo **JEscapa** (**JEscapa.py**).\n",
    "5. **Level**: Funciones para la construcción y consulta de niveles (tablero, destinos) <--> Modulo **JEscapa** (**JEscapa.py**)."
   ]
  },
  {
   "cell_type": "markdown",
   "metadata": {},
   "source": [
    "## Descripción de las clases\n",
    "\n",
    "La representación del estado y de los niveles visto en el notebook de funciones básicas se ha organizado en clases.\n",
    "\n",
    "La clase **State**: \n",
    "- tiene un constructor que recibe el jugador, la(s) piedra(s) y la(s) casilla(s) de agua. \n",
    "- tiene un método **get_piedras** que devuelve las piedras\n",
    "- tiene un método **get_agua** que devuelve las coordenadas con agua\n",
    "\n",
    "- tiene un método **\\_\\_str\\_\\_** que permite obtener la representación en modo texto del objeto y un método **\\_\\_repr\\_\\_** equivalente, para usarlo dentro de colecciones.\n",
    "\n",
    "- Tiene también un método que permite determinar si dos estados son iguales y también otro para calcular su *hash*.\n",
    "\n",
    "La clase **Level**:\n",
    "- tiene un constructor que recibe el tablero y los destinos\n",
    "- tiene un método **get_tablero** que devuelve el tablero, y las paredes.\n",
    "- tiene un método **get_destino** que devuelve el destino al que se debe dirigir el jugador\n",
    "- tiene un método **\\_\\_str\\_\\_** que permite obtener la representación en modo texto del objeto, así como un método **\\_\\_repr\\_\\_** equivalente\n",
    "\n",
    "**Loader**, **UI**, **Mediator**"
   ]
  },
  {
   "cell_type": "code",
   "execution_count": 20,
   "metadata": {},
   "outputs": [],
   "source": [
    "# Ejemplo de cómo se carga un nivel\n",
    "import os\n",
    "from LoaderEscapaConBooleanoLlaveVPedro import Loader\n",
    "    \n",
    "l = Loader()\n",
    "l.get_all_levels()\n",
    "# os.sep es el separador de ficheros (\"/\" en linux \"\\\" en windows)\n",
    "level_txt = open(\".\"+os.sep+\"levels\"+os.sep+\"level_medio_VpedroJEscapa.txt\",'r',encoding=\"utf-8\").read()\n",
    "\n",
    "level, state = l.load_level(level_txt)\n"
   ]
  },
  {
   "cell_type": "code",
   "execution_count": 21,
   "metadata": {},
   "outputs": [
    {
     "output_type": "stream",
     "name": "stdout",
     "text": [
      "#######\n#!  #*#\n#x + -#\n#x   @#\n#x¡   #\n#######\n"
     ]
    }
   ],
   "source": [
    "# Imprimimos el nivel para asegurarnos que todo es correcto.\n",
    "print(level_txt)"
   ]
  },
  {
   "cell_type": "code",
   "execution_count": 22,
   "metadata": {},
   "outputs": [
    {
     "output_type": "execute_result",
     "data": {
      "text/plain": [
       "[(0, 0, 0, 0, 0, 0, 0),\n",
       " (0, 0, 1, 1, 0, 1, 0),\n",
       " (0, 1, 1, 1, 1, 1, 0),\n",
       " (0, 1, 1, 1, 1, 1, 0),\n",
       " (0, 1, 1, 1, 1, 1, 0),\n",
       " (0, 0, 0, 0, 0, 0, 0)]"
      ]
     },
     "metadata": {},
     "execution_count": 22
    }
   ],
   "source": [
    "# Obtenemos la repreentación numérica del Tablero\n",
    "level.get_tablero()"
   ]
  },
  {
   "cell_type": "code",
   "execution_count": 23,
   "metadata": {},
   "outputs": [
    {
     "output_type": "display_data",
     "data": {
      "text/plain": "HTML(value='<style> img.game {width: 50px !important; height: 50px !important;}</style><table><tr><td><img cla…",
      "application/vnd.jupyter.widget-view+json": {
       "version_major": 2,
       "version_minor": 0,
       "model_id": "fdc99e1547c74169a2fea0906f4eddc7"
      }
     },
     "metadata": {}
    }
   ],
   "source": [
    "# Ejemplo de visualización de un nivel\n",
    "from UIJEscapaVPedro import gui\n",
    "from ipywidgets import HTML\n",
    "ui = gui()\n",
    "htmlStr = ui.get_html(level, state)\n",
    "HTML(value = htmlStr)"
   ]
  },
  {
   "cell_type": "markdown",
   "metadata": {},
   "source": [
    "El alumno debe completar la implementación de los métodos de este notebook:\n",
    "\n",
    "\n",
    "## Funciones a implementar por el alumno.\n",
    "\n",
    "Nota: En el notebook anterior se usaban variables globales. En este notebook los valores están encapsulados en objetos. Pero la funcionalidad es la misma.\n",
    "\n",
    "- move(level,state,mov): Recibe un nivel, un estado y un movimiento. **Devuelve un nuevo estado** resultante de aplicar el movimiento. Esta función puede reutilizar las funciones del *Notebook* anterior.\n",
    "\n",
    "- is_goal(state): Recibe un estado. Devuelve True si los dos jugadores son None (los dos jugadores han llegado a la meta y es un estado final)\n",
    "\n",
    "**NOTA - IMPORTANTE**: No debes borrar **# Cargar Celda** en cada una de las celdas en que aparezca."
   ]
  },
  {
   "cell_type": "code",
   "execution_count": 24,
   "metadata": {},
   "outputs": [],
   "source": [
    "# Cargar Celda\n",
    "# No tocar esta primera linea\n",
    "\n",
    "# Completa las funciones de esta celda y pruebalas en celdas posteriores\n",
    "from EscapaConBooleanoLlave import Level, State\n",
    "\n",
    "        \n",
    "def is_valid(tablero,coord):\n",
    "    \"\"\" Comprueba si una celda es váida y si es posible poner una piedra en esas coordenadas\n",
    "    \n",
    "    \n",
    "    Parámetros\n",
    "    ----------\n",
    "    coord -- coordenadas de la casilla a analizar\n",
    "    \n",
    "    Devolución\n",
    "    --------\n",
    "    Devuelve True si la casilla es válida y no existe piedra ni cualquier jugador any player\n",
    "    \"\"\"  \n",
    "    y,x = coord\n",
    "    alto,ancho = len(tablero),len(tablero[0])\n",
    "    return y>=0 and y< alto and x>=0 and x< ancho and tablero[coord[0]][coord[1]] ==1\n",
    "\n",
    "\n",
    "def is_piedra_free(tablero, player, piedra, coord):\n",
    "    \"\"\" Comprueba si una casilla es válida y si es posible poner el jugador en esas coordenadas\n",
    "    \n",
    "    \n",
    "    Parámetros\n",
    "    ----------\n",
    "    coord -- coordenadas de la casilla a analizar\n",
    "    \n",
    "    Devolución\n",
    "    --------\n",
    "    Devuelve True si la casilla es válida y no existe piedra o agua.\n",
    "    \"\"\"   \n",
    "    \n",
    "    return is_valid(tablero, coord) and not tuple(coord) in piedra\n",
    "\n",
    "\n",
    "def is_aspa_free(tablero, player, aspa, coord):\n",
    "    return is_valid(tablero, coord) and not tuple(coord) in aspa\n",
    "\n",
    "\n",
    "def is_player_free(tablero, player, piedra, agua, aspa, coord):    \n",
    "    return is_piedra_free(tablero, player, piedra, coord) and is_aspa_free(tablero, player, aspa, coord) and not tuple(coord) in agua"
   ]
  },
  {
   "cell_type": "code",
   "execution_count": 25,
   "metadata": {},
   "outputs": [],
   "source": [
    "# Cargar Celda\n",
    "def move_player(tablero, player, enemigo, piedra, agua, aspa, llave, destino, mov, booleanollave):\n",
    "    \n",
    "    \n",
    "    jugador_actual = player\n",
    "    nueva_llave = set(llave)\n",
    "    \n",
    "    nuevoJ = list(map(lambda x,y: x+y,jugador_actual,mov))\n",
    "               \n",
    "    \n",
    "    if is_player_free(tablero, player, piedra, agua, aspa, nuevoJ):\n",
    "        if tuple(nuevoJ) == destino and booleanollave==1:\n",
    "            nuevoJ = None \n",
    "            return State(nuevoJ, piedra, agua, aspa, nueva_llave,booleanollave)\n",
    "        elif tuple(nuevoJ) in llave:\n",
    "            nueva_llave.remove(tuple(nuevoJ))\n",
    "            \n",
    "            booleanollave=1\n",
    "            \n",
    "            return State(nuevoJ, piedra, agua, aspa, nueva_llave,booleanollave)        \n",
    "        \n",
    "        return State(nuevoJ, piedra, agua, aspa, llave,booleanollave)     \n",
    "    \n",
    "    return State(player,piedra,agua,aspa,llave,booleanollave)"
   ]
  },
  {
   "cell_type": "code",
   "execution_count": 26,
   "metadata": {},
   "outputs": [],
   "source": [
    "# Cargar Celda\n",
    "def move_piedra(tablero, player, piedra, agua, aspa, llave, mov, booleanollave):\n",
    "    \n",
    "    jugador_actual = player    \n",
    "        \n",
    "    nueva_piedra = set(piedra)\n",
    "    nueva_agua = set(agua)\n",
    "    nueva_llave = set(llave)\n",
    "    nueva_aspa = set(aspa)\n",
    "        \n",
    "    nuevaCoord = list(map(lambda x,y: x+y,jugador_actual,mov))\n",
    "    nuevaCoord2 = list(map(lambda x,y: x+y,nuevaCoord,mov))\n",
    "    \n",
    "    \n",
    "    if tuple(nuevaCoord) in piedra and is_piedra_free(tablero, player, piedra, nuevaCoord2):\n",
    "        nueva_piedra.remove(tuple(nuevaCoord))\n",
    "        \n",
    "        if tuple(nuevaCoord2) in agua:\n",
    "            nueva_agua.remove(tuple(nuevaCoord2))\n",
    "        \n",
    "        \n",
    "        elif tuple(nuevaCoord2) in aspa:\n",
    "            nueva_aspa.remove(tuple(nuevaCoord2))\n",
    "            nueva_piedra.add(tuple(nuevaCoord2))\n",
    "            \n",
    "            \n",
    "            y,x = nuevaCoord2\n",
    "            alto,ancho = len(tablero),len(tablero[0])\n",
    "                        \n",
    "            \n",
    "            for i in range(y+1,alto-1,1):\n",
    "                            \n",
    "                nuevaCoord3 = i,x\n",
    "                nueva_aspa.remove(tuple(nuevaCoord3))\n",
    "                                \n",
    "                \n",
    "        else:\n",
    "            nueva_piedra.add(tuple(nuevaCoord2))               \n",
    "    \n",
    "    \n",
    "    return State(player,nueva_piedra,nueva_agua,nueva_aspa,llave,booleanollave)"
   ]
  },
  {
   "cell_type": "code",
   "execution_count": 27,
   "metadata": {},
   "outputs": [],
   "source": [
    "# Cargar Celda\n",
    "def move(level,state,mov):\n",
    "    \"\"\" Mueve al jugador: [1,0] (Arriba), [-1,0] (Abajo), [0,1] (Derecha), [0,-1] (Izquierda)\n",
    "    \n",
    "    Parámetros\n",
    "    ----------\n",
    "    level -- Un \"nivel\"\n",
    "    State -- Un \"estado\"\n",
    "    mov -- Dirección del movimiento\n",
    "    \n",
    "    Devolución\n",
    "    --------\n",
    "    Devuelve un nuevo estado, o el mismo, si el movimiento indicado no es posible.\n",
    "    \"\"\"\n",
    "        \n",
    "    piedra = state.get_piedra()\n",
    "    agua = state.get_agua()\n",
    "    aspa=state.get_aspa()\n",
    "    llave = state.get_llave()\n",
    "    booleanollave = state.get_booleanollave()\n",
    "    \n",
    "    player = state.get_player()\n",
    "    \n",
    "        \n",
    "    tablero = level.get_tablero()\n",
    "    destino = level.get_destino()\n",
    "    \n",
    "    enemigo = level.get_enemigo()\n",
    "        \n",
    "    e1= move_piedra(tablero,player,piedra,agua,aspa,llave,mov,booleanollave)\n",
    "    e2 = move_player(tablero,player,enemigo,e1.get_piedra(),e1.get_agua(),e1.get_aspa(),llave,destino,mov,booleanollave)    \n",
    "    \n",
    "    return e2"
   ]
  },
  {
   "cell_type": "code",
   "execution_count": 28,
   "metadata": {},
   "outputs": [],
   "source": [
    "# Cargar Celda\n",
    "def is_goal(state):\n",
    "    \"\"\" Determinación de si \"es el objetivo\" \n",
    "    \n",
    "    Parámetros\n",
    "    ----------\n",
    "    state -- Un \"estado\"\n",
    "    \n",
    "    Devolución\n",
    "    --------\n",
    "    Devuelve \"True\" si el \"estado\" es un \"objetivo\"\n",
    "    \"\"\"\n",
    "    player = state.get_player()\n",
    "    booleanollave=state.get_booleanollave()      \n",
    "    \n",
    "    return player is None and booleanollave==1"
   ]
  },
  {
   "cell_type": "code",
   "execution_count": null,
   "metadata": {},
   "outputs": [],
   "source": []
  },
  {
   "cell_type": "code",
   "execution_count": 29,
   "metadata": {},
   "outputs": [
    {
     "output_type": "display_data",
     "data": {
      "text/plain": "HTML(value='<style> img.game {width: 50px !important; height: 50px !important;}</style><table><tr><td><img cla…",
      "application/vnd.jupyter.widget-view+json": {
       "version_major": 2,
       "version_minor": 0,
       "model_id": "21385c83343e4c20aab3a917db0353b9"
      }
     },
     "metadata": {}
    }
   ],
   "source": [
    "HTML(value = htmlStr)"
   ]
  },
  {
   "cell_type": "code",
   "execution_count": 30,
   "metadata": {},
   "outputs": [
    {
     "output_type": "stream",
     "name": "stdout",
     "text": [
      "[3, 5]{(2, 3)}{(2, 5)}{(3, 1), (4, 1), (2, 1)}{(4, 2)}0\n"
     ]
    }
   ],
   "source": [
    "s1 = state\n",
    "print(s1)"
   ]
  },
  {
   "cell_type": "code",
   "execution_count": 31,
   "metadata": {},
   "outputs": [
    {
     "output_type": "display_data",
     "data": {
      "text/plain": "HTML(value='<style> img.game {width: 50px !important; height: 50px !important;}</style><table><tr><td><img cla…",
      "application/vnd.jupyter.widget-view+json": {
       "version_major": 2,
       "version_minor": 0,
       "model_id": "be6528a2f24f49039d83049fa570670a"
      }
     },
     "metadata": {}
    }
   ],
   "source": [
    "from UIJEscapaVPedro import gui\n",
    "from ipywidgets import HTML\n",
    "ui = gui()\n",
    "\n",
    "s2 = move(level,s1,[0,-1])\n",
    "\n",
    "htmlStr = ui.get_html(level, s2)\n",
    "HTML(value = htmlStr)"
   ]
  },
  {
   "cell_type": "code",
   "execution_count": 32,
   "metadata": {},
   "outputs": [
    {
     "output_type": "display_data",
     "data": {
      "text/plain": "HTML(value='<style> img.game {width: 50px !important; height: 50px !important;}</style><table><tr><td><img cla…",
      "application/vnd.jupyter.widget-view+json": {
       "version_major": 2,
       "version_minor": 0,
       "model_id": "fc8c9f0a39f74c04adfe9498ce567418"
      }
     },
     "metadata": {}
    }
   ],
   "source": [
    "# En las celdas que aparecen a continuación, vamos a aplicar una serie de movimientos \"manuales\" individuales para asegurarnos\n",
    "# que todo es correcto.\n",
    "\n",
    "s3 = move(level,s2,[-1,0])\n",
    "\n",
    "htmlStr = ui.get_html(level, s3)\n",
    "HTML(value = htmlStr)"
   ]
  },
  {
   "cell_type": "code",
   "execution_count": 33,
   "metadata": {},
   "outputs": [
    {
     "output_type": "display_data",
     "data": {
      "text/plain": "HTML(value='<style> img.game {width: 50px !important; height: 50px !important;}</style><table><tr><td><img cla…",
      "application/vnd.jupyter.widget-view+json": {
       "version_major": 2,
       "version_minor": 0,
       "model_id": "226083f0e07647cc8b4fdac259e6069f"
      }
     },
     "metadata": {}
    }
   ],
   "source": [
    "s4 = move(level,s3,[0,-1])\n",
    "\n",
    "htmlStr = ui.get_html(level, s4)\n",
    "HTML(value = htmlStr)"
   ]
  },
  {
   "cell_type": "code",
   "execution_count": 34,
   "metadata": {},
   "outputs": [
    {
     "output_type": "display_data",
     "data": {
      "text/plain": "HTML(value='<style> img.game {width: 50px !important; height: 50px !important;}</style><table><tr><td><img cla…",
      "application/vnd.jupyter.widget-view+json": {
       "version_major": 2,
       "version_minor": 0,
       "model_id": "6f4fbec8fa83451098f38e9fdf82257a"
      }
     },
     "metadata": {}
    }
   ],
   "source": [
    "s5 = move(level,s4,[0,-1])\n",
    "\n",
    "htmlStr = ui.get_html(level, s5)\n",
    "HTML(value = htmlStr)"
   ]
  },
  {
   "cell_type": "code",
   "execution_count": 35,
   "metadata": {},
   "outputs": [
    {
     "output_type": "display_data",
     "data": {
      "text/plain": "HTML(value='<style> img.game {width: 50px !important; height: 50px !important;}</style><table><tr><td><img cla…",
      "application/vnd.jupyter.widget-view+json": {
       "version_major": 2,
       "version_minor": 0,
       "model_id": "9cc580b455804ed98f6cc2f02bb9e7c5"
      }
     },
     "metadata": {}
    }
   ],
   "source": [
    "s6 = move(level,s5,[-1,0])\n",
    "\n",
    "htmlStr = ui.get_html(level, s6)\n",
    "HTML(value = htmlStr)"
   ]
  },
  {
   "cell_type": "code",
   "execution_count": 36,
   "metadata": {},
   "outputs": [
    {
     "output_type": "display_data",
     "data": {
      "text/plain": "HTML(value='<style> img.game {width: 50px !important; height: 50px !important;}</style><table><tr><td><img cla…",
      "application/vnd.jupyter.widget-view+json": {
       "version_major": 2,
       "version_minor": 0,
       "model_id": "58bb3f7be8f44e6f807b2967f064b84d"
      }
     },
     "metadata": {}
    }
   ],
   "source": [
    "s7 = move(level,s6,[-1,0])\n",
    "\n",
    "htmlStr = ui.get_html(level, s7)\n",
    "HTML(value = htmlStr)"
   ]
  },
  {
   "cell_type": "markdown",
   "metadata": {},
   "source": [
    "Una vez hayas implementado y probado las funciones, trata de ejecutar el juego.\n",
    "\n",
    "El **Mediador** es la clase que sirve de enganche entre las clases de interfaz y la funcionalidad. Leerá las celdas que empiezan por \"# Cargar Celda\", cargará esas funciones dinámicamente, y las usará para mover y comprobar si la partida finaliza.\n",
    "\n",
    "\n",
    "# Atención\n",
    "Es código de abajo carga el *Notebook* actual, por lo que si queremos que el funcionamiento se actualize debemos guardar el *Notebook* y recargar todo el proyecto."
   ]
  },
  {
   "cell_type": "code",
   "execution_count": 37,
   "metadata": {},
   "outputs": [
    {
     "output_type": "error",
     "ename": "ModuleNotFoundError",
     "evalue": "No module named 'MediadorVPedro'",
     "traceback": [
      "\u001b[1;31m---------------------------------------------------------------------------\u001b[0m",
      "\u001b[1;31mModuleNotFoundError\u001b[0m                       Traceback (most recent call last)",
      "\u001b[1;32m<ipython-input-37-d7f401d3cc03>\u001b[0m in \u001b[0;36m<module>\u001b[1;34m\u001b[0m\n\u001b[0;32m      1\u001b[0m \u001b[1;32mfrom\u001b[0m \u001b[0mIPython\u001b[0m\u001b[1;33m.\u001b[0m\u001b[0mdisplay\u001b[0m \u001b[1;32mimport\u001b[0m \u001b[0mdisplay\u001b[0m\u001b[1;33m\u001b[0m\u001b[1;33m\u001b[0m\u001b[0m\n\u001b[1;32m----> 2\u001b[1;33m \u001b[1;32mfrom\u001b[0m \u001b[0mMediadorVPedro\u001b[0m \u001b[1;32mimport\u001b[0m \u001b[0mMediator\u001b[0m\u001b[1;33m\u001b[0m\u001b[1;33m\u001b[0m\u001b[0m\n\u001b[0m\u001b[0;32m      3\u001b[0m \u001b[1;32mfrom\u001b[0m \u001b[0mUIJEscapaVPedro\u001b[0m \u001b[1;32mimport\u001b[0m \u001b[0mgui\u001b[0m\u001b[1;33m\u001b[0m\u001b[1;33m\u001b[0m\u001b[0m\n\u001b[0;32m      4\u001b[0m \u001b[1;33m\u001b[0m\u001b[0m\n\u001b[0;32m      5\u001b[0m \u001b[1;32mimport\u001b[0m \u001b[0mwarnings\u001b[0m\u001b[1;33m\u001b[0m\u001b[1;33m\u001b[0m\u001b[0m\n",
      "\u001b[1;31mModuleNotFoundError\u001b[0m: No module named 'MediadorVPedro'"
     ]
    }
   ],
   "source": [
    "from IPython.display import display\n",
    "from MediadorVPedroConBooleanoLlave import Mediator\n",
    "from UIJEscapaVPedro import gui\n",
    "\n",
    "import warnings\n",
    "warnings.filterwarnings(\"ignore\")\n",
    "ui = gui(manual = True)\n",
    "\n",
    "med = Mediator.get_instance(modelPath = \"JEscapaManualConBooleanoLlave.ipynb\")   \n",
    "med.register_ui(ui)\n",
    "\n",
    "\n",
    "# Cuando llamo a la función se crean\n",
    "display(ui.get_ui_elements())\n",
    "\n",
    "\n"
   ]
  },
  {
   "cell_type": "code",
   "execution_count": null,
   "metadata": {},
   "outputs": [],
   "source": []
  }
 ],
 "metadata": {
  "kernelspec": {
   "display_name": "Python 3",
   "language": "python",
   "name": "python3"
  },
  "language_info": {
   "codemirror_mode": {
    "name": "ipython",
    "version": 3
   },
   "file_extension": ".py",
   "mimetype": "text/x-python",
   "name": "python",
   "nbconvert_exporter": "python",
   "pygments_lexer": "ipython3",
   "version": "3.8.6-final"
  },
  "widgets": {
   "state": {
    "042bada4e434454aaa908b25461e3531": {
     "views": [
      {
       "cell_index": 6
      }
     ]
    },
    "70d5bfdaf81b4f57ba5f3ab63745e01f": {
     "views": [
      {
       "cell_index": 6
      }
     ]
    },
    "ae0d245cc8874fb6951e921b363d8c61": {
     "views": [
      {
       "cell_index": 6
      }
     ]
    },
    "cb210eb6fe2d4689bd59da4880bb4db2": {
     "views": [
      {
       "cell_index": 4
      }
     ]
    }
   },
   "version": "1.2.0"
  }
 },
 "nbformat": 4,
 "nbformat_minor": 2
}