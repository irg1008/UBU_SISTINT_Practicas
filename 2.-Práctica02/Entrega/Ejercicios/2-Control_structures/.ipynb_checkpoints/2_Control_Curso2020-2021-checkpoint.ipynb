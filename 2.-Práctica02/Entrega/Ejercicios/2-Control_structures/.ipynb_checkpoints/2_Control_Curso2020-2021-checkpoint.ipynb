{
 "cells": [
  {
   "cell_type": "markdown",
   "metadata": {},
   "source": [
    "<img style=\"float:left\" width=\"70%\" src=\"pics/escudo_COLOR_1L_DCHA.png\">\n",
    "<img style=\"float:right\" width=\"15%\" src=\"pics/PythonLogo.svg\">\n",
    "<br style=\"clear:both;\">\n",
    "# Introduccion a la programacion en Python\n",
    "\n",
    "<h2 style=\"display: inline-block; padding: 4mm; padding-left: 2em; background-color: navy; line-height: 1.3em; color: white; border-radius: 10px;\">Estructuras de control, funciones y módulos</h2>\n",
    "\n",
    "## Docentes\n",
    "\n",
    " - César Ignacio García Osorio\n",
    " - Juan José Rodríguez Diez\n",
    " - José Francisco Diez Pastor\n",
    " - Álvar Arnaiz González\n",
    " - Pedro Latorre Carmona"
   ]
  },
  {
   "cell_type": "markdown",
   "metadata": {},
   "source": [
    "## Tabla de contenidos del notebook <a id=\"index\"></a>\n",
    "\n",
    "1. [Estructuras de control](#control)\n",
    "2. [Funciones](#functions)\n",
    "3. [Programación Funcional](#fp)\n",
    "4. [Módulos](#modules)\n",
    "5. [Ejercicios y retos](#exercises)\n",
    "\n",
    "\n",
    "## Bibliografía\n",
    "\n",
    "- [More Control Flow Tools](https://docs.python.org/3/tutorial/controlflow.html)"
   ]
  },
  {
   "cell_type": "markdown",
   "metadata": {},
   "source": [
    "# Estructuras de control <a id=\"control\"></a><a href=\"#index\"><i class=\"fa fa-list-alt\" aria-hidden=\"true\"></i></a>\n",
    "\n",
    "## Condicionales \n",
    "\n",
    "La estructura de control más conocida es el <kbd>if</kbd>. \n",
    "\n",
    "```Python\n",
    "if primera condicion:\n",
    "    primer cuerpo\n",
    "elif segunda condicion:\n",
    "    segundo cuerpo\n",
    "elif tercera condicion:\n",
    "    tercer cuerpo\n",
    "else:\n",
    "    cuarto cuerpo\n",
    "```\n",
    "\n",
    "- El inicio del cuerpo son los «<kbd>:</kbd>»\n",
    "- La indentación determina la extensión del cuerpo\n",
    "- Puede haber 0 o más partes <kbd>elif</kbd>, la parte <kbd>else</kbd> es opcional.\n",
    "\n",
    "<span class=\"label label-info\"><i class=\"fa fa-info-circle\" aria-hidden=\"true\"></i> Nota</span>  El número 0 se evalua a <kbd>False</kbd> en una condición, el resto de números, en una condición, se evaluan a <kbd>True</kbd>. Una secuencia vacía se evalua a <kbd>False</kbd>, el resto de secuencias se evaluan a <kbd>True</kbd>"
   ]
  },
  {
   "cell_type": "code",
   "execution_count": null,
   "metadata": {},
   "outputs": [],
   "source": [
    "x = int(input(\"Introduce un número: \"))\n",
    "if x < 0:\n",
    "    print(\"Número negativo\")\n",
    "elif x > 0:\n",
    "    print(\"Número positivo\")\n",
    "else:\n",
    "    print(\"Cero\")"
   ]
  },
  {
   "cell_type": "code",
   "execution_count": null,
   "metadata": {},
   "outputs": [],
   "source": [
    "if 0:\n",
    "    print(\"El 0 se evalua a False (No imprime nada)\")\n",
    "if 1:\n",
    "    print(\"El resto de número se evaluan a True (Imprime)\")\n",
    "if \"\":\n",
    "    print(\"Secuencias vacías se evaluan a False (No imprime)\")\n",
    "if [1,2]:\n",
    "    print(\"El resto de secuencias se evaluan a True (Imprime)\")   "
   ]
  },
  {
   "cell_type": "markdown",
   "metadata": {},
   "source": [
    "En Python no tenemos la secuencia <kbd>switch</kbd>, que si existe en otros lenguajes.\n",
    "\n",
    "```cpp  \n",
    "switch (hijos) {\n",
    "    case 0: \n",
    "        printf(\"Sin hijos\");          \n",
    "        break;\n",
    "    case 1:  \n",
    "        printf(\"Un hijo\"); \n",
    "        break;\n",
    "    case 2: \n",
    "        printf(\"Dos hijos\");\n",
    "        break;\n",
    "    default: \n",
    "        printf(\"Familia numerosa\");\n",
    "}\n",
    "```\n",
    "\n",
    "Con el  <kbd>if</kbd> … <kbd>elif</kbd> … <kbd>elif</kbd>, podriamos hacer exactamente lo mismo que con un switch."
   ]
  },
  {
   "cell_type": "markdown",
   "metadata": {},
   "source": [
    "## Bucles \n",
    "\n",
    "### El while\n",
    "\n",
    "Bucle general basado en la comprobación repetida de una condición booleana.\n",
    "\n",
    "```Python\n",
    "\n",
    "while condicion:\n",
    "    cuerpo\n",
    "```"
   ]
  },
  {
   "cell_type": "code",
   "execution_count": null,
   "metadata": {
    "scrolled": true
   },
   "outputs": [],
   "source": [
    "# Recordemos que el 0 se evalua a False\n",
    "n = 10\n",
    "while n:\n",
    "    print(n)\n",
    "    n -= 1"
   ]
  },
  {
   "cell_type": "markdown",
   "metadata": {},
   "source": [
    "### El for\n",
    "\n",
    "El <kbd>for</kbd> en Python difiere un poco de como se usa esta sentencia en lenguajes como C.\n",
    "\n",
    "En C y otros lenguajes se permite definir el inicio, el final y el incremento/decremento.\n",
    "\n",
    "En Python se itera sobre los valores de una secuencia (lista, tupla, set)\n",
    "\n",
    "```Python\n",
    "for elemento in iterable:\n",
    "    cuerpo\n",
    "```"
   ]
  },
  {
   "cell_type": "code",
   "execution_count": null,
   "metadata": {},
   "outputs": [],
   "source": [
    "# Ejemplo, iterar sobre una lista\n",
    "lista = [1, 3, 7, 8]\n",
    "for i in lista:\n",
    "    print(i)"
   ]
  },
  {
   "cell_type": "code",
   "execution_count": null,
   "metadata": {},
   "outputs": [],
   "source": [
    "# Ejemplo, iterar sobre las claves de un diccionario\n",
    "names_age = {\"Susana\": 33, \"Pedro\": 25, \"Juan\": 32, \"Jose\": 22, 'María': 28}\n",
    "for name, age in names_age.items():\n",
    "    print(\"The age of\", name, \"is\", age)"
   ]
  },
  {
   "cell_type": "markdown",
   "metadata": {},
   "source": [
    "Si se quiere iterar sobre una secuencia de números, se puede usar <kbd>range</kbd> para generar secuencias de enteros personalizadas.\n",
    "\n",
    "Se puede llamar con 1, 2 ó 3 parámetros, dependiendo de lo que se desee:\n",
    "1. Se especifica el final. \n",
    "```Python\n",
    "range(10) # de 0 hasta 9\n",
    "```\n",
    "2. Se especifica el inicio y el final.\n",
    "```Python\n",
    "range(5, 10) # de 5 hasta 9\n",
    "```\n",
    "3. Se especifica el inicio, el final y el incremento (el incremento podría ser negativo).\n",
    "```Python\n",
    "range(5, 10, 2) # de 5 hasta 9 contando de 2 en 2\n",
    "```\n",
    "\n",
    "<span class=\"label label-info\"><i class=\"fa fa-info-circle\" aria-hidden=\"true\"></i> Info</span>  La sentencia <kbd>enumerate</kbd> puede ser muy útil y cómoda para algunas ocasiones."
   ]
  },
  {
   "cell_type": "code",
   "execution_count": null,
   "metadata": {},
   "outputs": [],
   "source": [
    "for i in range(25, 5, -2):\n",
    "    print(i)"
   ]
  },
  {
   "cell_type": "code",
   "execution_count": null,
   "metadata": {},
   "outputs": [],
   "source": [
    "# Ejemplo, iterar sobre una lista, pero manteniendo el índice como en C/Java\n",
    "alumnos = [\"Pedro\", \"Juan\", \"Jose\"]\n",
    "for i in range(len(alumnos)):\n",
    "    print(i, alumnos[i])"
   ]
  },
  {
   "cell_type": "code",
   "execution_count": null,
   "metadata": {},
   "outputs": [],
   "source": [
    "# Lo mismo pero utilizando enumerate\n",
    "alumnos = [\"Pedro\", \"Juan\", \"Jose\"]\n",
    "for i, alumno in enumerate(alumnos):\n",
    "    print(i, alumno)"
   ]
  },
  {
   "cell_type": "markdown",
   "metadata": {},
   "source": [
    "#### Modificar la secuencia sobre la que se está iterando.\n",
    "\n",
    "Aunque no sea una buena idea porque nos puede condudir a errores, es posible modificar la propia lista sobre la que estamos iterando."
   ]
  },
  {
   "cell_type": "code",
   "execution_count": null,
   "metadata": {},
   "outputs": [],
   "source": [
    "numeros = [10, 20, 150, 140, 30]\n",
    "# Los dos puntos ':' de dentro de los corchetes son para hacer el slice o rebanada\n",
    "for n in numeros[:]:  # Itera sobre un slice copia de la lista.\n",
    "    if n < 100:\n",
    "         numeros.remove(n)\n",
    "numeros"
   ]
  },
  {
   "cell_type": "markdown",
   "metadata": {},
   "source": [
    "<span class=\"label label-warning\"><i class=\"fa fa-warning\" aria-hidden=\"true\"></i> Nota</span> Prueba a cambiar <kbd>numeros[:]</kbd> por <kbd>numeros</kbd>, cambia el resutlado ¿verdad? Por ello no se recomienda modificar una lista sobre la que se está iterando."
   ]
  },
  {
   "cell_type": "markdown",
   "metadata": {},
   "source": [
    "#### Iterar sobre varias secuencias a la vez\n",
    "\n",
    "La función <kbd>zip</kbd> devuelve un iterador de tuplas, donde la tuple $i$-esima, cotienen los elementos $i$-esimos de cada una de las secuencias pasadas como argumentos al zip."
   ]
  },
  {
   "cell_type": "code",
   "execution_count": null,
   "metadata": {},
   "outputs": [],
   "source": [
    "lista1 = [1, 2, 3]\n",
    "lista2 = [10, 20, 30]\n",
    "\n",
    "for i, j in zip(lista1, lista2):\n",
    "    print(i, j)"
   ]
  },
  {
   "cell_type": "markdown",
   "metadata": {},
   "source": [
    "<span class=\"label label-info\"><i class=\"fa fa-info-circle\" aria-hidden=\"true\"></i> Pregunta</span> ¿Qué crees que ocurre si una de las dos listas tiene mayor longitud que la otra?"
   ]
  },
  {
   "cell_type": "markdown",
   "metadata": {},
   "source": [
    "### break, continue, pass\n",
    "\n",
    "El <kbd>break</kbd> y <kbd>continue</kbd> son sentencias tomadas de C, se pueden usar dentro de cualquier bucle: tanto <kbd>for</kbd> como <kbd>while</kbd>.\n",
    "\n",
    "El <kbd>break</kbd> permite abandonar el bucle antes de haber iterado sobre todos los elementos."
   ]
  },
  {
   "cell_type": "code",
   "execution_count": null,
   "metadata": {},
   "outputs": [],
   "source": [
    "for n in range(2, 10):\n",
    "    for x in range(2, n):\n",
    "        # Se comprueba que x sea un factor de n\n",
    "        if n % x == 0:\n",
    "            # si lo es, ya sabemos que no es primo\n",
    "            # se deja de buscar, abandonamos con break\n",
    "            print(n, 'es igual a', x, '*', n//x) # el comando // es el suelo(n/x), \n",
    "                                                 # por lo tanto es igual que int(n/x)\n",
    "            break\n",
    "    else:\n",
    "        # el bucle finaliza sin encontrar un factor\n",
    "        print(n, 'es un número primo')"
   ]
  },
  {
   "cell_type": "markdown",
   "metadata": {},
   "source": [
    "La sentencia <kbd>continue</kbd> también tiene un funcionamiento equivalente a su versión en C. El <kbd>continue</kbd> finaliza la interación actual y continua en la siguiente.\n",
    "\n",
    "Su caso de uso típico es como una precondición antes de hacer algún procesamiento."
   ]
  },
  {
   "cell_type": "code",
   "execution_count": null,
   "metadata": {},
   "outputs": [],
   "source": [
    "alumnos_notas = [(\"Pepe\", 10),(\"Sonia\", 6),(\"Lara\", 4),(\"Manuel\",12)]\n",
    "\n",
    "for alumno,nota in alumnos_notas:\n",
    "    if nota > 10 or nota < 0:\n",
    "        continue\n",
    "    print(alumno, \"sacó un \", nota)\n",
    "    # aquí podría haber procesamientos adicionales"
   ]
  },
  {
   "cell_type": "markdown",
   "metadata": {},
   "source": [
    "El <kbd>pass</kbd> no hace nada. Simplemente permite que la sintaxis de un bucle vacío sea correcta. También se utiliza en programación orientada a objetos."
   ]
  },
  {
   "cell_type": "code",
   "execution_count": null,
   "metadata": {},
   "outputs": [],
   "source": [
    "for i in range(100):\n",
    "    pass # si lo quitamos falla, ¡pruébalo!"
   ]
  },
  {
   "cell_type": "markdown",
   "metadata": {},
   "source": [
    "# Funciones <a id=\"functions\"></a><a href=\"#index\"><i class=\"fa fa-list-alt\" aria-hidden=\"true\"></i></a>\n",
    "\n",
    "- Se definen funciones con la palabra reservada <kbd>def</kbd>.\n",
    "- Ni los parámetros de entrada, ni el resultado tiene tipos.\n",
    "- El cuerpo está indentado.\n",
    "- Si no se devuelve nada explicitamente, la función retornará <kbd>None</kbd>. \n",
    "\n",
    "```Python\n",
    "def funcion(argumento1, argumento2):\n",
    "    # comentario\n",
    "    # cuerpo\n",
    "    return 0 #(opcional)\n",
    "```"
   ]
  },
  {
   "cell_type": "code",
   "execution_count": null,
   "metadata": {},
   "outputs": [],
   "source": [
    "# ejemplo de una función comentada correctamente\n",
    "def cuenta(datos, objetivo ):\n",
    "    '''\n",
    "    Cuenta las veces que aparece un valor objetivo\n",
    "    \n",
    "    Parámetros\n",
    "    ----------\n",
    "    datos : lista\n",
    "        lista de datos donde buscar.\n",
    "    objetivo : cualquier tipo de dato\n",
    "       objeto que se busca\n",
    "    Returns\n",
    "    -------\n",
    "    int : número de veces que se encontró el objetivo en la lista\n",
    "    '''\n",
    "    n =0\n",
    "    for item in datos:\n",
    "        if item == objetivo:\n",
    "            n += 1\n",
    "    return n"
   ]
  },
  {
   "cell_type": "code",
   "execution_count": null,
   "metadata": {},
   "outputs": [],
   "source": [
    "cuenta([1, 2, 3, 4, 4, 1, 2], 4) # Cuenta las veces que sale el número 4."
   ]
  },
  {
   "cell_type": "code",
   "execution_count": null,
   "metadata": {},
   "outputs": [],
   "source": [
    "help(cuenta)"
   ]
  },
  {
   "cell_type": "markdown",
   "metadata": {},
   "source": [
    "Los argumentos de entrada y de salida no tienen tipos, por lo tanto no hay comprobación de tipos en compilación. Esto provoca que los errores, en caso de haberlos, serán detectados en ejecución.\n",
    "\n",
    "Es responsabilidad del programador asegurarse de que aplica operaciones a tipos de datos que soporten dichas operaciones.\n",
    "\n",
    "<span class=\"label label-info\"><i class=\"fa fa-info-circle\" aria-hidden=\"true\"></i> Nota</span> Aunque se ha añadido un nuevo estandar que permite añadir <q>pistas</q> al entorno de desarrollo para que en tiempo de compilación nos avise si hay un problema con los tipos \n",
    "https://docs.python.org/3/library/typing.html.\n"
   ]
  },
  {
   "cell_type": "code",
   "execution_count": null,
   "metadata": {},
   "outputs": [],
   "source": [
    "# Función que calcula a + b\n",
    "def aplica_add(a, b):\n",
    "    return a + b"
   ]
  },
  {
   "cell_type": "code",
   "execution_count": null,
   "metadata": {},
   "outputs": [],
   "source": [
    "aplica_add(5.1, 1.3333)"
   ]
  },
  {
   "cell_type": "code",
   "execution_count": null,
   "metadata": {},
   "outputs": [],
   "source": [
    "aplica_add(\"Hola \",\"Mundo\")"
   ]
  },
  {
   "cell_type": "code",
   "execution_count": null,
   "metadata": {},
   "outputs": [],
   "source": [
    "aplica_add([1, 2, 3, 4], [5, 6])"
   ]
  },
  {
   "cell_type": "code",
   "execution_count": null,
   "metadata": {},
   "outputs": [],
   "source": [
    "# Esto fallará porque la suma entre int y str no está definida.\n",
    "#aplica_add(\"hola\",7)"
   ]
  },
  {
   "cell_type": "code",
   "execution_count": null,
   "metadata": {},
   "outputs": [],
   "source": [
    "# funcion que saluda y no devuelve nada\n",
    "def saludo():\n",
    "    print(\"Hola\")"
   ]
  },
  {
   "cell_type": "code",
   "execution_count": null,
   "metadata": {},
   "outputs": [],
   "source": [
    "valor = saludo()"
   ]
  },
  {
   "cell_type": "code",
   "execution_count": null,
   "metadata": {},
   "outputs": [],
   "source": [
    "print(valor) # Valor es None"
   ]
  },
  {
   "cell_type": "markdown",
   "metadata": {},
   "source": [
    "<span class=\"label label-danger\"><i class=\"fa fa-bomb\" aria-hidden=\"true\"></i> ¡Cuidado!</span>\n",
    "Los parámetros de las funciones, si son de un tipo mutable, se pueden modificar en el cuerpo de la función. (Recuerda paso por referencia de otros lenguajes como C)."
   ]
  },
  {
   "cell_type": "code",
   "execution_count": null,
   "metadata": {},
   "outputs": [],
   "source": [
    "l1 = [1, 2, 3, 4]\n",
    "def modifica_lista_mas10(lista):\n",
    "    for j in range(len(lista)):\n",
    "        lista[j] += 10 \n",
    "        \n",
    "modifica_lista_mas10(l1)\n",
    "print(l1)"
   ]
  },
  {
   "cell_type": "markdown",
   "metadata": {},
   "source": [
    "## Alcance de las variables\n",
    "\n",
    "El alcance de una variable hace referencia a cual es la porción de código donde la variable *vive* y puede ser usada o referenciada.\n",
    "El alcance puede ser:\n",
    "- **global**: Todo el código, o todo el notebook (desde donde se declaró la variable hacia abajo).\n",
    "- **local**: Alcance al bloque donde se define la variable.\n",
    "\n",
    "Los identificadores creados dentro del cuerpo tienen ámbito local.\n",
    "- Se puede forzar que usen el ambito global con <kbd>global</kbd>."
   ]
  },
  {
   "cell_type": "code",
   "execution_count": null,
   "metadata": {},
   "outputs": [],
   "source": [
    "'''\n",
    "La variable global y la local se llaman 'a' intencionadamente\n",
    "para ver como se puede forzar que en un caso sea una nueva a \n",
    "y en el otro la a global.\n",
    "''' \n",
    "\n",
    "a = 10\n",
    "\n",
    "def sin_global():\n",
    "    a = 5 # esta 'a' es una variable local, distinta de la de arriba\n",
    "    print(\"Dentro de la función \", a)\n",
    "    \n",
    "def con_global():\n",
    "    global a # ahora sí es la misma\n",
    "    a = 5\n",
    "    print(\"Dentro de la función \", a)\n",
    "    \n",
    "sin_global()\n",
    "print(\"Fuera de la función \", a)\n",
    "con_global()\n",
    "print(\"Fuera de la función \", a) # ha cambiado la variable global"
   ]
  },
  {
   "cell_type": "markdown",
   "metadata": {},
   "source": [
    "## Funciones con parámetros por defecto\n",
    "\n",
    "Las funciones pueden tener valores por defecto para sus parámetros.\n",
    "\n",
    "```Python\n",
    "def f (a, b=15, c=27):\n",
    "...\n",
    "```\n",
    "Si un parámetro tiene un valor por defecto, todos los parámetros definidos a continuación también tienen que tenerlo."
   ]
  },
  {
   "cell_type": "code",
   "execution_count": null,
   "metadata": {},
   "outputs": [],
   "source": [
    "def potencia(base, exponente=2):\n",
    "    return base ** exponente"
   ]
  },
  {
   "cell_type": "code",
   "execution_count": null,
   "metadata": {},
   "outputs": [],
   "source": [
    "print(potencia(5))    # por defecto exponente = 2\n",
    "print(potencia(5, 2)) # así que esto es equivalente\n",
    "\n",
    "print(potencia(5, 3))"
   ]
  },
  {
   "cell_type": "code",
   "execution_count": null,
   "metadata": {},
   "outputs": [],
   "source": [
    "def foo(obligatorio, opciona1 = \"op1\", opcional2 = \"op2\"):\n",
    "    print(obligatorio, opciona1, opcional2)\n",
    "\n",
    "foo(\"obligatorio\")"
   ]
  },
  {
   "cell_type": "markdown",
   "metadata": {},
   "source": [
    "<span class=\"label label-info\"><i class=\"fa fa-info-circle\" aria-hidden=\"true\"></i> Pregunta</span> ¿Qué crees que ocurriría si codificásemos lo siguiente?\n",
    "\n",
    "```Python\n",
    "def foo2(obligatorio, opciona1 = \"op1\", obligatorio2):\n",
    "    print(obligatorio, opciona1, opcional2)\n",
    "    \n",
    "foo2(\"obligatorio1\",opciona1 = \"op1\", \"obligatorio2\")\n",
    "```\n",
    "Devolvería el siguiente error.\n",
    "<pre>\n",
    "SyntaxError: non-default argument follows default argument\n",
    "</pre>\n"
   ]
  },
  {
   "cell_type": "markdown",
   "metadata": {},
   "source": [
    "## Retorno de valores\n",
    "\n",
    "En Python, a diferencia de otros lenguajes, se pueden devolver múltiples valores. Tan sólo hay que separarlos por comas."
   ]
  },
  {
   "cell_type": "code",
   "execution_count": null,
   "metadata": {},
   "outputs": [],
   "source": [
    "def multiple_return():\n",
    "    a = 10\n",
    "    b = 5\n",
    "    c = 2\n",
    "    # aqui puede haber tantas operaciones como se quiera\n",
    "    return a, b, c"
   ]
  },
  {
   "cell_type": "code",
   "execution_count": null,
   "metadata": {},
   "outputs": [],
   "source": [
    "multiple_return()"
   ]
  },
  {
   "cell_type": "markdown",
   "metadata": {},
   "source": [
    "<span class=\"label label-info\"><i class=\"fa fa-info-circle\" aria-hidden=\"true\"></i> Nota</span> En realidad lo que devuelve la función es una tupla con todos los valores que se pusieron en el <kbd>return</kbd>."
   ]
  },
  {
   "cell_type": "markdown",
   "metadata": {},
   "source": [
    "# Programación Funcional <a id=\"fp\"></a><a href=\"#index\"><i class=\"fa fa-list-alt\" aria-hidden=\"true\"></i></a>\n",
    "\n",
    "La programación funcional es un paradigma de programación declarativo, para más información sobre su filosofía se puede ir a la [Wikipedia](https://es.wikipedia.org/wiki/Programaci%C3%B3n_funcional).\n",
    "En este curso tan sólo vamos a explicar un par de conceptos básicos y muy potentes sobre programación funcional: <kbd>Map</kbd> y <kbd>Filter</kbd>.\n",
    "\n",
    "## Map\n",
    "\n",
    "<kbd>map()</kbd> es una función que:\n",
    "- toma 2 o más argumentos.\n",
    "- el primer argumento es una función.\n",
    "- los siguientes son sequencias.\n",
    "- devuelve el resultado de aplicar la función a los elementos $n$-esimos de las secuencias.\n",
    "\n",
    "La función usada puede ser con o sin nombre (Normal o lambda), pero si es una función que no se va a usar en ningún otro sitio, lo más común es que sea lambda.\n",
    "\n",
    "<span class=\"label label-info\"><i class=\"fa fa-info-circle\" aria-hidden=\"true\"></i> Nota</span> Se denomina función lambda a aquella función que no tiene nombre, por lo que no puede ser utilizada más que donde es definida. En Python las funciones lambda se definen mediante la palabra reservada <kbd>lambda</kbd>."
   ]
  },
  {
   "cell_type": "code",
   "execution_count": null,
   "metadata": {},
   "outputs": [],
   "source": [
    "# 1º argumento: función que suma 1 a lo que le llegue\n",
    "# 2º argumento: secuencia 1,2,3,4\n",
    "# resultado: suma 1 a cada uno de los elementos de esa secuencia\n",
    "\n",
    "list(map(lambda x: x + 1, [1, 2, 3, 4]))"
   ]
  },
  {
   "cell_type": "code",
   "execution_count": null,
   "metadata": {},
   "outputs": [],
   "source": [
    "# 1º argumento función que suma 2 elementos\n",
    "# 2º y 3º argumentos secuencias de números\n",
    "# resultado: suma los elementos en las posiciones 1, 2, ..., entre si\n",
    "\n",
    "list(map(lambda x, y: x + y,[1, 2, 3, 4],[10, 20, 30, 40]))"
   ]
  },
  {
   "cell_type": "markdown",
   "metadata": {},
   "source": [
    "## Filter\n",
    "\n",
    "Filtra los elementos de una secuencia. Devuelve aquellos para los que la función empleada devuelva <kbd>True</kbd>.\n",
    "\n",
    "Recibe:\n",
    "- Una función en el primer argumento.\n",
    "- Una secuencia en el segundo argumento.\n",
    "\n",
    "Devuelve:\n",
    "- Aquellos elementos de la secuencia para los que la función devuelva <kbd>True</kbd>.\n"
   ]
  },
  {
   "cell_type": "code",
   "execution_count": null,
   "metadata": {},
   "outputs": [],
   "source": [
    "# x % 2 es cero para los pares. 0 se evalua a False\n",
    "# luego me quedo con los impares\n",
    "\n",
    "list(filter(lambda x: x % 2, [1, 2, 3, 4, 5, 6, 7, 8]))"
   ]
  },
  {
   "cell_type": "markdown",
   "metadata": {},
   "source": [
    "<span class=\"label label-info\"><i class=\"fa fa-info-circle\" aria-hidden=\"true\"></i> Pregunta</span> ¿Cómo se podría modificar la celda previa para que devolviese los números pares?."
   ]
  },
  {
   "cell_type": "markdown",
   "metadata": {},
   "source": [
    "## Paso de funciones a otras funciones\n",
    "\n",
    "En Python al igual que en otros lenguajes funcionales como Lisp, las funciones son entidades de primer nivel.\n",
    "\n",
    "Esto significa que pueden aparecer en partes del código donde otras entidades de primer nivel.\n",
    "\n",
    "Es decir, podemos asignar una función a una variable o podemos podemos pasar una función como parámetro de otra."
   ]
  },
  {
   "cell_type": "code",
   "execution_count": null,
   "metadata": {},
   "outputs": [],
   "source": [
    "def aplica(funcion, valor):\n",
    "    '''\n",
    "    Aplica una función a un valor.\n",
    "    \n",
    "    Parámetros\n",
    "    ----------\n",
    "    funcion : función\n",
    "        función a aplicar\n",
    "    valor : objeto\n",
    "       objeto sobre el que aplicar la función\n",
    "    Returns\n",
    "    -------\n",
    "    el resultado de aplicar funcion a valor\n",
    "    '''\n",
    "    return funcion(valor)\n",
    "\n",
    "print(aplica(lambda x: x * x, 5))\n",
    "print(aplica(lambda x: x - 1, 5))"
   ]
  },
  {
   "cell_type": "code",
   "execution_count": null,
   "metadata": {},
   "outputs": [],
   "source": [
    "help (aplica)"
   ]
  },
  {
   "cell_type": "markdown",
   "metadata": {},
   "source": [
    "# Módulos <a id=\"modules\"></a><a href=\"#index\"><i class=\"fa fa-list-alt\" aria-hidden=\"true\"></i></a>\n",
    "\n",
    "- Hay multitud de funciones (<kbd>print</kbd>) y clases (<kbd>list</kbd>) definidas en el espacio de nombres de usuario.\n",
    "- Pero otras funciones no están en el espacio de nombre de usuario y hay que añadirlas. Se pueden añadir bibliotecas adicionales haciendo uso de la sentencia <kbd>import</kbd>\n",
    "- Los módulos están estructurados en paquetes. Ej <kbd>sound.effects.surround.py</kbd> significa que el módulo <kbd>surround</kbd> está dentro del paquete <kbd>sound</kbd> en el subpaquete <kbd>effects</kbd>."
   ]
  },
  {
   "cell_type": "markdown",
   "metadata": {},
   "source": [
    "- Importar elementos concretos con <kbd>from</kbd>. Queda accesible sin usar el nombre completo.\n",
    "\n",
    "```Python\n",
    "from math import pi, sqrt\n",
    "print(pi)\n",
    "\n",
    "```\n",
    "- Importar todo el modulo. <span class=\"label label-warning\"><i class=\"fa fa-bomb\" aria-hidden=\"true\"></i> ¡Cuidado!</span> No recomendable porque algunos nombres podrían estar ya en uso. \n",
    "\n",
    "```Python\n",
    "from math import *   \n",
    "```\n",
    "- Importar el modulo solo con <kbd>import</kbd>, se debe usar el nombre completo.\n",
    "\n",
    "```Python\n",
    "import math \n",
    "print(math.pi)\n",
    "```\n",
    "(Nota: si importas con <kbd>from</kbd>, ya vas a tener el nombre accesible, aunque luego lo borres e importes solo con <kbd>import</kbd>)\n",
    "\n",
    "---\n",
    "\n",
    "Se puede crear un módulo simplemente creando un fichero con extensión <kbd>.py</kbd>\n",
    "- Las definiciones de dicho fichero se pueden importar desde cualquier otro modulo del mismo directorio. O desde el modulo <kbd>main</kbd>.\n",
    "El modulo <kbd>main</kbd> es el conjunto de variables y funciones que se pueden acceder desde el interprete."
   ]
  },
  {
   "cell_type": "markdown",
   "metadata": {},
   "source": [
    "- A parte de definiciones de variables y definiciones de funciones, un módulo puede tener más código. Ese código solo se ejecuta una vez, al importarlo.\n",
    "\n",
    "- Tambien se puede ejecutar un modulo como un programa. \n",
    "\n",
    "```Python\n",
    "if __name__ == \"__main__\":\n",
    "    import sys\n",
    "    fib(int(sys.argv[1]))\n",
    "```\n",
    "Si el módulo en el que está este fragmento se ejecuta desde el intérprete, entonces se invocan las expresiones que estén dentro de ese <kbd>if</kbd>."
   ]
  },
  {
   "cell_type": "code",
   "execution_count": null,
   "metadata": {},
   "outputs": [],
   "source": [
    "# Para que esto funcione debe haber un fichero fibo.py en el mismo directorio\n",
    "from fibo import fib\n",
    "fib(500)"
   ]
  },
  {
   "cell_type": "markdown",
   "metadata": {},
   "source": [
    "## Módulos interesantes\n",
    "\n",
    "En Python existen infinidad de módulos interesantes, muchos de ellos necesitarían un curso propio e incluso más extenso que este solo para cada uno de ellos.\n",
    "\n",
    "En la última sesión hemos preparado diversos notebooks con mini-tutoriales de los módulos que creemos más pueden interesaros."
   ]
  },
  {
   "cell_type": "markdown",
   "metadata": {},
   "source": [
    "<h1 class=\"jumbo\">Ejercicios y retos   <a id=\"exercises\"></a><a href=\"#index\"><i class=\"fa fa-list-alt\" aria-hidden=\"true\"></i></a></h1>"
   ]
  },
  {
   "cell_type": "markdown",
   "metadata": {},
   "source": [
    "## Ejercicio 1\n",
    "\n",
    "Crear una función que calcule el número de [Fibonacci](https://en.wikipedia.org/wiki/Fibonacci_number) de la posición que se le pase.\n",
    "\n",
    "La sucesión de Fibonacci se calcula sumando los dos elementos previos, ej:\n",
    "- ```Fib(1) = 1```\n",
    "- ```Fib(2) = 1```\n",
    "- ```Fib(3) = 2```\n",
    "- ```Fib(4) = 3```\n",
    "- ```Fib(5) = 5```\n",
    "- ```Fib(6) = 8```\n",
    "- ```Fib(7) = 13```"
   ]
  },
  {
   "cell_type": "code",
   "execution_count": null,
   "metadata": {},
   "outputs": [],
   "source": [
    "def fib(n):\n",
    "    if n == 0:\n",
    "        return 0\n",
    "    \n",
    "    if n == 1:\n",
    "        return 1\n",
    "    \n",
    "    return fib(n-1) + fib(n-2)\n",
    "\n",
    "for i in range(10):\n",
    "    print(f\"Fibonacci for value {i} is {fib(i)}\")"
   ]
  },
  {
   "cell_type": "markdown",
   "metadata": {},
   "source": [
    "## Ejercicio 2\n",
    "\n",
    "Obtener el [h-index](https://en.wikipedia.org/wiki/H-index) de los investigadores de la Universidad de Burgos.\n",
    "\n",
    "Se ha obtenido de Google Académico la información de las publicaciones (y sus citas) de los investigadores de la UBU. Estos datos se encuentran almacenados en un diccionario cuya clave es el nombre y apellidos del investigador; por cada uno hay una lista de tuplas y cada tupla contiene:\n",
    "- Número de citas del artículo.\n",
    "- Nombre del artículo.\n",
    "- Año de publicación.\n",
    "\n",
    "Los artículos de cada investigador se encuentran ordenados en orden decreciente (por número de citas).\n",
    "\n",
    "Crear una función que calcule el h-index de un autor dado el nombre/apellidos y el diccionario de datos bibliográficos. Posteriormente llamar a esta función tantas veces como autores haya (recordar <kbd>set</kbd>) y mostrarlos.\n",
    "\n",
    "<span class=\"label label-info\"><i class=\"fa fa-info-circle\" aria-hidden=\"true\"></i> Info</span> La apertura del fichero y la carga del diccionario se suministra a continuación."
   ]
  },
  {
   "cell_type": "code",
   "execution_count": 38,
   "metadata": {},
   "outputs": [
    {
     "name": "stdout",
     "output_type": "stream",
     "text": [
      "\"Isabel Blanco-Montenegro\" h-index is \"12\"\n",
      "\"Esther Sanz de la Cal\" h-index is \"1\"\n",
      "\"Pedro Sánchez Ortega\" h-index is \"1\"\n",
      "\"David H Estalayo\" h-index is \"5\"\n",
      "\"Álvaro Herrero\" h-index is \"13\"\n",
      "\"Javier Garcia-Tojal\" h-index is \"19\"\n",
      "\"Rubén Aragón Posadas\" h-index is \"1\"\n",
      "\"ALICIA IZQUIERDO YUSTA\" h-index is \"10\"\n",
      "\"Fernando Escobedo Cardeñoso\" h-index is \"6\"\n",
      "\"Juan Manuel Manso\" h-index is \"13\"\n",
      "\"María R. Pedrosa\" h-index is \"10\"\n",
      "\"Sonia Rodríguez Cano\" h-index is \"1\"\n",
      "\"Radu Bogdan Toma\" h-index is \"2\"\n",
      "\"Noelia Velasco\" h-index is \"0\"\n",
      "\"Jesús Enrique Sierra Garcia\" h-index is \"1\"\n",
      "\"Hermógenes Perdiguero-Villarreal\" h-index is \"5\"\n",
      "\"Jose María Chomón Serna\" h-index is \"2\"\n",
      "\"Montserrat Santamaría-Vázquez\" h-index is \"2\"\n",
      "\"Patricia Marín Cepeda\" h-index is \"4\"\n",
      "\"Paula RODRÍGUEZ-TORRICO\" h-index is \"2\"\n",
      "\"María Isabel Menéndez Menéndez\" h-index is \"7\"\n",
      "\"Carlos Hugo Soria Cáceres\" h-index is \"2\"\n",
      "\"Begoña Medina Gómez\" h-index is \"3\"\n",
      "\"Jordi Rovira\" h-index is \"30\"\n",
      "\"M. Concepción Pilar-Izquierdo\" h-index is \"6\"\n",
      "\"Maria Fernandez-Hawrylak\" h-index is \"8\"\n",
      "\"Manuel Perez-Mateos\" h-index is \"22\"\n",
      "\"Ángel Rodríguez Sáiz\" h-index is \"1\"\n",
      "\"Fernando Aguilar\" h-index is \"9\"\n",
      "\"M. Isabel Landaluce\" h-index is \"7\"\n",
      "\"Sagrario Beltrán\" h-index is \"31\"\n",
      "\"Iván Gutiérrez Sagredo\" h-index is \"2\"\n",
      "\"María Asunción Muñoz\" h-index is \"13\"\n",
      "\"Rebeca García-González\" h-index is \"9\"\n",
      "\"José Luis Cuesta Gómez\" h-index is \"4\"\n",
      "\"Cristina Alonso-Tristán\" h-index is \"12\"\n",
      "\"Antonio Portela Lopa\" h-index is \"3\"\n",
      "\"Patricia Otero Felipe\" h-index is \"5\"\n",
      "\"Susana Menéndez Amado\" h-index is \"0\"\n",
      "\"Cintia Virumbrales\" h-index is \"1\"\n",
      "\"Maria del Pilar Alonso Abad\" h-index is \"2\"\n",
      "\"Gonzalo Andrés López\" h-index is \"8\"\n",
      "\"Rafael Aguado Bernal\" h-index is \"15\"\n",
      "\"Rosa Fernandez Perez\" h-index is \"0\"\n",
      "\"Fernando Martín Rodríguez\" h-index is \"1\"\n",
      "\"Rodrigo Miguel Barrio\" h-index is \"0\"\n",
      "\"Luis Rafael Perera-Aldama\" h-index is \"3\"\n",
      "\"Angel Ballesteros\" h-index is \"28\"\n",
      "\"Ana Herrero\" h-index is \"20\"\n",
      "\"Daisy Romero\" h-index is \"1\"\n",
      "\"Monica Gallego\" h-index is \"0\"\n",
      "\"Jana Prodanova\" h-index is \"4\"\n",
      "\"Esther de Quevedo Puente\" h-index is \"13\"\n",
      "\"Susana Jorge Villar\" h-index is \"27\"\n",
      "\"Santiago A. Bello Paredes\" h-index is \"2\"\n",
      "\"Cristina Pérez-Arnaiz\" h-index is \"2\"\n",
      "\"Teresa Rodríguez Cachón\" h-index is \"0\"\n",
      "\"Asuncion Retortillo Atienza\" h-index is \"2\"\n",
      "\"M José Tapia\" h-index is \"25\"\n",
      "\"Alejandro Martínez\" h-index is \"1\"\n",
      "\"Ignacio Fernández de Mata\" h-index is \"7\"\n",
      "\"Carlos Melgosa\" h-index is \"4\"\n",
      "\"Evan A.N. Marks\" h-index is \"6\"\n",
      "\"VANESA DELGADO BENITO\" h-index is \"7\"\n",
      "\"Fátima Gil Gascón\" h-index is \"3\"\n",
      "\"Juan José Raya Plaza\" h-index is \"1\"\n",
      "\"Ramiro Cea Moure\" h-index is \"5\"\n",
      "\"David Rodríguez-Lázaro\" h-index is \"31\"\n",
      "\"Fernando Lezcano Barbero\" h-index is \"7\"\n",
      "\"Pilar Muñiz\" h-index is \"22\"\n",
      "\"Javier Castrillo Alaguero\" h-index is \"0\"\n",
      "\"María Sagrario Sánchez\" h-index is \"17\"\n",
      "\"Luis Antonio Sarabia Peinador\" h-index is \"32\"\n",
      "\"Alba Alonso-Rebollo\" h-index is \"1\"\n",
      "\"Verónica Calderón\" h-index is \"12\"\n",
      "\"Celia Reguera\" h-index is \"7\"\n",
      "\"José M García\" h-index is \"22\"\n",
      "\"Nicolas Garcia-Torea\" h-index is \"2\"\n",
      "\"Pablo Calvín\" h-index is \"4\"\n",
      "\"Mercedes Luque-Vílchez\" h-index is \"2\"\n",
      "\"Clara Sanz Hernando\" h-index is \"2\"\n",
      "\"Mar Jimeno-Bulnes\" h-index is \"10\"\n",
      "\"Raúl Urbina Fonturbel\" h-index is \"4\"\n",
      "\"Aida Gutiérrez García\" h-index is \"6\"\n",
      "\"Fouad Rechmani\" h-index is \"0\"\n",
      "\"Susana González Mateo\" h-index is \"1\"\n",
      "\"Santiago Aparicio Martínez\" h-index is \"30\"\n",
      "\"Mar Cavia\" h-index is \"10\"\n",
      "\"Carmelo Muñoz Ruiperez\" h-index is \"0\"\n",
      "\"Ruben Rubio-Presa\" h-index is \"1\"\n",
      "\"Basilio Ramos Barbero\" h-index is \"6\"\n",
      "\"Roberto Quesada\" h-index is \"21\"\n",
      "\"Jesus Maudes\" h-index is \"9\"\n",
      "\"Adelaida Sagarra Gamazo\" h-index is \"3\"\n",
      "\"Eduardo Montero\" h-index is \"14\"\n",
      "\"David Checa\" h-index is \"1\"\n",
      "\"Alberto González del Barrio\" h-index is \"0\"\n",
      "\"Santiago Porras\" h-index is \"3\"\n",
      "\"jose antonio baron\" h-index is \"0\"\n",
      "\"Natalia Muñoz-Rujas\" h-index is \"0\"\n",
      "\"Daniel Ballorca-Juez\" h-index is \"0\"\n",
      "\"Rodrigo Melgosa\" h-index is \"5\"\n",
      "\"Margarita Sánchez Simón\" h-index is \"5\"\n",
      "\"Vanesa Ausín\" h-index is \"7\"\n",
      "\"Gloria Pérez de Albéniz\" h-index is \"2\"\n",
      "\"Fernando Lara Ortega\" h-index is \"16\"\n",
      "\"Raul Marticorena\" h-index is \"7\"\n",
      "\"Francisco J. Herranz\" h-index is \"28\"\n",
      "\"J.J. Villalaín\" h-index is \"18\"\n",
      "\"Rosa Mª Santamaría Conde\" h-index is \"5\"\n",
      "\"José Manuel Galán\" h-index is \"15\"\n",
      "\"Fernando Pérez del Río\" h-index is \"5\"\n",
      "\"Alvaro Colina\" h-index is \"19\"\n",
      "\"José Calaf Chica\" h-index is \"1\"\n",
      "\"Jose M. Cámara Nebreda\" h-index is \"3\"\n",
      "\"Mónica Vaquero\" h-index is \"6\"\n",
      "\"Wilco M.H. Verbeeten\" h-index is \"9\"\n",
      "\"Mario Del Líbano\" h-index is \"11\"\n",
      "\"Jose Luis Garrido\" h-index is \"0\"\n",
      "\"Lourdes García Sánchez\" h-index is \"2\"\n",
      "\"Jesus Alonso-Abad\" h-index is \"2\"\n",
      "\"Raquel Casado Munoz\" h-index is \"5\"\n",
      "\"Maria Dolores Rivero Perez\" h-index is \"13\"\n",
      "\"Andres Bustillo\" h-index is \"14\"\n",
      "\"PEDRO MIGUEL BRAVO DIEZ\" h-index is \"9\"\n",
      "\"Amparo Bernal\" h-index is \"1\"\n",
      "\"M.C. Ortiz Fernández\" h-index is \"34\"\n",
      "\"Pedro Naranjo\" h-index is \"5\"\n",
      "\"Sara Raquel Alonso-Torre\" h-index is \"14\"\n",
      "\"José Antonio Rodríguez-Marcos\" h-index is \"13\"\n",
      "\"Ana Cristina Andrés Domínguez\" h-index is \"3\"\n",
      "\"Javier Garabito López\" h-index is \"2\"\n",
      "\"Lourdes Sáiz Bárcena\" h-index is \"6\"\n",
      "\"Matteo Lari\" h-index is \"1\"\n",
      "\"Silvia Sanllorente\" h-index is \"12\"\n",
      "\"Eneko Iriarte\" h-index is \"14\"\n",
      "\"Ana María Diez Maté\" h-index is \"11\"\n",
      "\"Alba Ester Illera\" h-index is \"1\"\n",
      "\"Natividad Ortega Santamaría\" h-index is \"21\"\n",
      "\"Óscar Jesús González Alcántara\" h-index is \"7\"\n",
      "\"Susana García-Herrero\" h-index is \"8\"\n",
      "\"BEATRIZ IZQUIERDO\" h-index is \"3\"\n",
      "\"Carlos Polanco\" h-index is \"3\"\n",
      "\"Nadia Huitzilin Jiménez Torres\" h-index is \"10\"\n",
      "\"Carlos Larrinaga\" h-index is \"29\"\n",
      "\"Macarena Diéguez Morán\" h-index is \"0\"\n",
      "\"Jesús Ángel Meneses Villagrá\" h-index is \"6\"\n",
      "\"Virginia Ahedo\" h-index is \"1\"\n",
      "\"Esther Baños\" h-index is \"1\"\n",
      "\"Luis R. Izquierdo\" h-index is \"18\"\n",
      "\"Raquel de Román\" h-index is \"3\"\n",
      "\"MIGUEL ANGEL SALAS GARCIA\" h-index is \"1\"\n",
      "\"Mar Chicharro Merayo\" h-index is \"9\"\n",
      "\"Íñigo de la Fuente\" h-index is \"0\"\n",
      "\"Álvar Arnaiz-González\" h-index is \"5\"\n",
      "\"Javier Centeno Martín\" h-index is \"2\"\n",
      "\"Ernesto José Rodríguez Mata\" h-index is \"2\"\n",
      "\"Saul Vallejos Calzada\" h-index is \"1\"\n",
      "\"Cristina Ruiz López\" h-index is \"1\"\n",
      "\"María Diez Ojeda\" h-index is \"1\"\n",
      "\"Juan J. Rodríguez\" h-index is \"23\"\n",
      "\"Carlota Martinez\" h-index is \"0\"\n",
      "\"Sandra M. Osés\" h-index is \"8\"\n",
      "\"González-Fernández M.J.\" h-index is \"4\"\n",
      "\"Alejandra Hernando Garijo\" h-index is \"4\"\n",
      "\"David González Peña\" h-index is \"3\"\n",
      "\"Maria Amor Barros-del Rio\" h-index is \"3\"\n",
      "\"Luis E Delgado del Rincón\" h-index is \"6\"\n",
      "\"Daniel Herrero\" h-index is \"3\"\n",
      "\"David Hortiguela Alcalá\" h-index is \"10\"\n",
      "\"Mª Begoña Gomez Rivero\" h-index is \"0\"\n",
      "\"Cesar Garcia-Osorio\" h-index is \"14\"\n",
      "\"MIGUEL ANGEL MARISCAL\" h-index is \"8\"\n",
      "\"Nicolas A. Cordero\" h-index is \"11\"\n",
      "\"Sonia Ramos-Gómez\" h-index is \"3\"\n",
      "\"José Ignacio Santos Martín\" h-index is \"9\"\n",
      "\"Mónica Gorostiza González\" h-index is \"0\"\n",
      "\"Ángel Aragón Torre\" h-index is \"6\"\n",
      "\"J.V. Perales-Rondon\" h-index is \"8\"\n",
      "\"Juan José Laviós\" h-index is \"2\"\n",
      "\"Silvia Ubillos Landa\" h-index is \"14\"\n",
      "\"Jairo Ortiz-Revilla\" h-index is \"1\"\n",
      "\"Carlos Junco\" h-index is \"0\"\n",
      "\"M. Elena Romero\" h-index is \"8\"\n",
      "\"Miguel Angel Queiruga Dios\" h-index is \"0\"\n",
      "\"Ignacio Moreno Velasco\" h-index is \"1\"\n",
      "\"José García-Calvo\" h-index is \"6\"\n",
      "\"Silvia Albillos\" h-index is \"13\"\n",
      "\"Rayco González\" h-index is \"3\"\n",
      "\"Claudia Feberero García\" h-index is \"1\"\n"
     ]
    }
   ],
   "source": [
    "import pickle\n",
    "\n",
    "with open('data/dict_ubu_authors_data.pkl', 'rb') as f:\n",
    "    ubu_authors_data = pickle.load(f)\n",
    "        \n",
    "    def h_index(author): \n",
    "    \n",
    "        citations = []\n",
    "    \n",
    "        for publication in ubu_authors_data.get(author):\n",
    "            citations.append(publication[0])\n",
    "        \n",
    "        citations.sort() \n",
    "\n",
    "        for i, cited in enumerate(citations): \n",
    "            result = len(citations) - i \n",
    "            if result <= cited: \n",
    "                return result \n",
    "\n",
    "        return 0\n",
    "        \n",
    "    for author in ubu_authors_data:\n",
    "        print(f\"\\\"{author}\\\" h-index is \\\"{h_index(author)}\\\"\")"
   ]
  },
  {
   "cell_type": "markdown",
   "metadata": {},
   "source": [
    "## Ejercicio 3\n",
    "\n",
    "El objetivo es construir un 3 en raya.\n",
    "\n",
    "Los dos jugadores van introduciendo la posición en la que quieren colocar la siguiente ficha, tras cada colocación se comprueba si ha habido un ganador o si ha finalizado empate.\n",
    "\n",
    "Deben completarse las funciones de tal modo que el programa sea totalmente funcional.\n",
    "\n",
    "### 3a: uno contra uno"
   ]
  },
  {
   "cell_type": "code",
   "execution_count": null,
   "metadata": {},
   "outputs": [],
   "source": [
    "from IPython.display import clear_output\n",
    "\n",
    "def print_board(pl1, pl2):\n",
    "    '''\n",
    "    Imprime el tablero del 3 en raya\n",
    "    \n",
    "    Parámetros\n",
    "    ----------\n",
    "    pl1 : lista\n",
    "        lista con las posiciones del jugador 1\n",
    "    pl2 : lista\n",
    "        lista con las posiciones del jugador 2\n",
    "    \n",
    "    Returns\n",
    "    -------\n",
    "    None\n",
    "    '''\n",
    "    pos = 0\n",
    "    for i in range(3):\n",
    "        print('+---+---+---+\\n|', end='')\n",
    "        for j in range(3):\n",
    "            pos += 1\n",
    "            if pos in pl1:\n",
    "                print(' X ', end='')\n",
    "            elif pos in pl2:\n",
    "                print(' O ', end='')\n",
    "            else:\n",
    "                print(' {0} '.format(pos), end='')\n",
    "            print('|', end='')\n",
    "        print()\n",
    "    print('+---+---+---+')\n",
    "    \n",
    "def ask_player(pos_pl1, pos_pl2, player):\n",
    "    '''\n",
    "    Solicita al usuario la posición. pista: input()\n",
    "    Deberá comprobar que en dicha posición no hay ninguna otra\n",
    "    ficha y uqe es válida.\n",
    "    \n",
    "    Parámetros\n",
    "    ----------\n",
    "    pos_pl1 : lista\n",
    "        lista con las posiciones del jugador 1\n",
    "    pos_pl2 : lista\n",
    "        lista con las posiciones del jugador 2\n",
    "    player : int\n",
    "        jugador actual: 1 ó 2\n",
    "    \n",
    "    Returns\n",
    "    -------\n",
    "    int : posición que ha introducido el usuario\n",
    "    '''\n",
    "  \n",
    "    def getPos():          \n",
    "        try:\n",
    "            pos = int(input(f\"\\n- Jugador {player}, introduce posición: \"))\n",
    "        \n",
    "            if pos < 1 or pos > 9:\n",
    "                raise Exception(\"Introduce un número entre 1 y 9\")\n",
    "                \n",
    "            if pos in pos_pl1: \n",
    "                raise Exception(\"Posición ocupada por Jugador 1\")\n",
    "                \n",
    "            if pos in pos_pl2: \n",
    "                raise Exception(\"Posición ocupada por Jugador 2\")\n",
    "                \n",
    "            return pos\n",
    "            \n",
    "        except ValueError:\n",
    "            print(\"\\t---> Error: el valor introducido no es un número\")\n",
    "            getPos()\n",
    "            \n",
    "        except Exception as error:\n",
    "            print(f\"\\t---> Error: {error}\")\n",
    "            getPos()\n",
    "            \n",
    "    pos = getPos()\n",
    "    return pos\n",
    "            \n",
    "def has_won(pos_pl):\n",
    "    '''\n",
    "    Comprueba si un jugador ha ganado. Un jugador ha ganado si\n",
    "    ha completado tener tres fichas en raya.\n",
    "    \n",
    "    Parámetros\n",
    "    ----------\n",
    "    pos_pl : lista\n",
    "        lista con las posiciones del jugador\n",
    "    \n",
    "    Returns\n",
    "    -------\n",
    "    bool : True si ha ganado, False en caso contrario\n",
    "    '''\n",
    "    \n",
    "    win_positions = [[1, 2, 3], [4, 5, 6], [7, 8, 9], [1, 4, 7], [2, 5, 8], [3, 6, 9], [1, 5, 9], [3, 5, 7]]\n",
    "    \n",
    "    for i in win_positions:\n",
    "        if set(i).issubset(set(pos_pl)):\n",
    "            return True\n",
    "        \n",
    "    return False\n",
    "\n",
    "    \n",
    "    \n",
    "# Programa principal que ejecuta el juego\n",
    "pl1 = []\n",
    "pl2 = []\n",
    "p1 = True;\n",
    "print('Jugador 1: X\\nJugador 2: O')\n",
    "\n",
    "while (True):\n",
    "    # Pedir la posición\n",
    "    if p1:\n",
    "        p = ask_player(pl1, pl2, 1)\n",
    "        pl1.append(p)\n",
    "    else:\n",
    "        p = ask_player(pl1, pl2, 2)\n",
    "        pl2.append(p)\n",
    "        \n",
    "    # Limpiar la pantalla\n",
    "    clear_output()\n",
    "    # Cambiar de jugador\n",
    "    p1 = not p1\n",
    "    # Imprimir el tablero\n",
    "    print_board(pl1, pl2)\n",
    "    \n",
    "    # Comprobar si ha finalizado el juego\n",
    "    if has_won(pl1):\n",
    "        print(\"¡El jugador 1 ha ganado!\")\n",
    "        break\n",
    "    elif has_won(pl2):\n",
    "        print(\"¡El jugador 2 ha ganado!\")\n",
    "        break\n",
    "    elif len(pl1) + len(pl2) == 9:\n",
    "        print(\"Fin del juego: empate\")\n",
    "        break"
   ]
  },
  {
   "cell_type": "markdown",
   "metadata": {},
   "source": [
    "### 3b: jugando contra el ordenador\n",
    "\n",
    "Modificar el juego del tres en raya para que podamos jugar contra el ordenador. \n",
    "\n",
    "Observación: el ordenador jugará siempre primero colocando en el centro, el resto de sus fichas las colocará de forma aleatoria."
   ]
  },
  {
   "cell_type": "code",
   "execution_count": 4,
   "metadata": {},
   "outputs": [
    {
     "name": "stdout",
     "output_type": "stream",
     "text": [
      "+---+---+---+\n",
      "| O | X | X |\n",
      "+---+---+---+\n",
      "| O | X | X |\n",
      "+---+---+---+\n",
      "| O | O | 9 |\n",
      "+---+---+---+\n",
      "¡La AI ha ganado!\n"
     ]
    }
   ],
   "source": [
    "# Copiar todo el código de nuevo y modificar las funciones necesarias\n",
    "\n",
    "from IPython.display import clear_output\n",
    "from random import randrange\n",
    "\n",
    "def print_board(pl1, pl2):\n",
    "    '''\n",
    "    Imprime el tablero del 3 en raya\n",
    "    \n",
    "    Parámetros\n",
    "    ----------\n",
    "    pl1 : lista\n",
    "        lista con las posiciones del jugador 1\n",
    "    pl2 : lista\n",
    "        lista con las posiciones del jugador 2\n",
    "    \n",
    "    Returns\n",
    "    -------\n",
    "    None\n",
    "    '''\n",
    "    pos = 0\n",
    "    for i in range(3):\n",
    "        print('+---+---+---+\\n|', end='')\n",
    "        for j in range(3):\n",
    "            pos += 1\n",
    "            if pos in pl1:\n",
    "                print(' X ', end='')\n",
    "            elif pos in pl2:\n",
    "                print(' O ', end='')\n",
    "            else:\n",
    "                print(' {0} '.format(pos), end='')\n",
    "            print('|', end='')\n",
    "        print()\n",
    "    print('+---+---+---+')\n",
    "    \n",
    "def ask_player(pos_pl1, pos_pl2, player):\n",
    "    '''\n",
    "    Solicita al usuario la posición. pista: input()\n",
    "    Deberá comprobar que en dicha posición no hay ninguna otra\n",
    "    ficha y uqe es válida.\n",
    "    \n",
    "    Parámetros\n",
    "    ----------\n",
    "    pos_pl1 : lista\n",
    "        lista con las posiciones del jugador 1\n",
    "    pos_pl2 : lista\n",
    "        lista con las posiciones del jugador 2\n",
    "    player : int\n",
    "        jugador actual: 1 ó 2\n",
    "    \n",
    "    Returns\n",
    "    -------\n",
    "    int : posición que ha introducido el usuario\n",
    "    '''\n",
    "    \n",
    "    def _get_ai_pos():  \n",
    "        # If center available, return center.\n",
    "        pos = 5\n",
    "        \n",
    "        while pos in pos_pl1 or pos in pos_pl2:\n",
    "            pos = randrange(1, 9)\n",
    "        \n",
    "        return pos\n",
    "\n",
    "    def _get_pos():          \n",
    "        try:\n",
    "            pos = int(input(f\"\\n- Jugador {player}, introduce posición: \"))\n",
    "        \n",
    "            if pos < 1 or pos > 9:\n",
    "                raise Exception(\"Introduce un número entre 1 y 9\")\n",
    "                \n",
    "            if pos in pos_pl1: \n",
    "                raise Exception(\"Posición ocupada por Jugador 1\")\n",
    "                \n",
    "            if pos in pos_pl2: \n",
    "                raise Exception(\"Posición ocupada por Jugador 2\")\n",
    "                \n",
    "            return pos\n",
    "            \n",
    "        except ValueError:\n",
    "            print(\"\\t---> Error: el valor introducido no es un número\")\n",
    "            _get_pos()\n",
    "            \n",
    "        except Exception as error:\n",
    "            print(f\"\\t---> Error: {error}\")\n",
    "            _get_pos()\n",
    "            \n",
    "    if player == 1:\n",
    "        pos = _get_pos()\n",
    "    else:\n",
    "        pos = _get_ai_pos()\n",
    "    \n",
    "    return pos\n",
    "            \n",
    "def has_won(pos_pl):\n",
    "    '''\n",
    "    Comprueba si un jugador ha ganado. Un jugador ha ganado si\n",
    "    ha completado tener tres fichas en raya.\n",
    "    \n",
    "    Parámetros\n",
    "    ----------\n",
    "    pos_pl : lista\n",
    "        lista con las posiciones del jugador\n",
    "    \n",
    "    Returns\n",
    "    -------\n",
    "    bool : True si ha ganado, False en caso contrario\n",
    "    '''\n",
    "    \n",
    "    win_positions = [[1, 2, 3], [4, 5, 6], [7, 8, 9], [1, 4, 7], [2, 5, 8], [3, 6, 9], [1, 5, 9], [3, 5, 7]]\n",
    "    \n",
    "    for i in win_positions:\n",
    "        if set(i).issubset(set(pos_pl)):\n",
    "            return True\n",
    "        \n",
    "    return False\n",
    "\n",
    "    \n",
    "    \n",
    "# Programa principal que ejecuta el juego\n",
    "pl1 = []\n",
    "pl2 = []\n",
    "p1 = True;\n",
    "print('Jugador: X\\nAI: O')\n",
    "\n",
    "while (True):\n",
    "    # Pedir la posición\n",
    "    if p1:\n",
    "        p = ask_player(pl1, pl2, 1)\n",
    "        pl1.append(p)\n",
    "    else:\n",
    "        p = ask_player(pl1, pl2, 2)\n",
    "        pl2.append(p)\n",
    "        \n",
    "    # Limpiar la pantalla\n",
    "    clear_output()\n",
    "    # Cambiar de jugador\n",
    "    p1 = not p1\n",
    "    # Imprimir el tablero\n",
    "    print_board(pl1, pl2)\n",
    "    \n",
    "    # Comprobar si ha finalizado el juego\n",
    "    if has_won(pl1):\n",
    "        print(\"¡El jugador ha ganado!\")\n",
    "        break\n",
    "    elif has_won(pl2):\n",
    "        print(\"¡La AI ha ganado!\")\n",
    "        break\n",
    "    elif len(pl1) + len(pl2) == 9:\n",
    "        print(\"Fin del juego: empate\")\n",
    "        break"
   ]
  },
  {
   "cell_type": "markdown",
   "metadata": {},
   "source": [
    "## Ejercicio 4\n",
    "\n",
    "Programar el juego del ahorcado.\n",
    "\n",
    "El objetivo es crear un juego que seleccione una palabra de forma aleatoria (que al menos tenga 5 letras), y el usuario pueda elegir letras del alfabeto para comprobar si están o no presentes en la palabra.\n",
    "\n",
    "Para seleccionar una palabra aleatoria se puede utilizar: [<kbd>random.choice()</kbd>](https://docs.scipy.org/doc/numpy-1.14.0/reference/generated/numpy.random.choice.html)"
   ]
  },
  {
   "cell_type": "code",
   "execution_count": null,
   "metadata": {},
   "outputs": [],
   "source": [
    "from IPython.display import Image, display\n",
    "import random\n",
    "\n",
    "# Todas las palabras del castellano\n",
    "from data.es_dic import words\n",
    "\n",
    "def print_hangman (num):\n",
    "    '''\n",
    "    Muestra la horca en cada una de las 7 posibles posiciones.\n",
    "    \n",
    "    Parámetros\n",
    "    ----------\n",
    "    num : int\n",
    "        Posición: 0 es la inicial y la 6 es fin del juego.\n",
    "    \n",
    "    Returns\n",
    "    -------\n",
    "    None\n",
    "    '''\n",
    "    display(Image(filename='hangman/Hangman-{}.png'.format(num)))\n",
    "\n",
    "\n",
    "# ESCRIBA SU CÓDIGO AQUÍ\n"
   ]
  },
  {
   "cell_type": "markdown",
   "metadata": {},
   "source": [
    "## Ejercicio 5\n",
    "\n",
    "Tratamiento de ficheros de texto CSV (comma separated value).\n",
    "\n",
    "El objetivo es calcular una serie de valores calculados sobre cada columna. Se deja como punto de inicio la apertura del fichero y la carga de las líneas en <kbd>lines</kbd>.\n",
    "\n",
    "El programa deberá:\n",
    "- Crear un diccionario con 17 campos: name, hair, feathers,...\n",
    "- Volcar en el diccionario la información del fichero csv. Observar que en el diccionario la información aparecerá transpuesta, en comparación a como está la hoja de cálculo.\n",
    "- Buscar el animal con más: patas.\n",
    "- Buscar el animal que tenga huevos y sea mamífero.\n",
    "- Calcular, por cada tipo de animal: número medio de patas.\n",
    "- Cualquier otra idea que se te interese.\n",
    "\n",
    "En la sesión del próximo día se verá como utilizar DataFrames, que son mucho más potentes y versátiles para tratamiento de datos tabulares."
   ]
  },
  {
   "cell_type": "code",
   "execution_count": null,
   "metadata": {},
   "outputs": [],
   "source": [
    "import csv\n",
    "\n",
    "lines = []\n",
    "\n",
    "with open('data/zoo.csv', 'r') as csvfile:\n",
    "    file_reader = csv.reader(csvfile, delimiter=',')\n",
    "    \n",
    "    # Imprimir cada línea del lector\n",
    "    for line in file_reader:\n",
    "        lines.append(line)\n",
    "\n",
    "# ESCRIBA SU CÓDIGO AQUÍ\n"
   ]
  },
  {
   "cell_type": "markdown",
   "metadata": {},
   "source": [
    "## Ejercicio 6\n",
    "\n",
    "Crea una función que compruebe si una cadena de texto que se le pasa es palíndromo (se lee igual de izquierda a derecha que de derecha a izquierda)."
   ]
  },
  {
   "cell_type": "code",
   "execution_count": null,
   "metadata": {},
   "outputs": [],
   "source": [
    "# ESCRIBA SU CÓDIGO AQUÍ"
   ]
  },
  {
   "cell_type": "markdown",
   "metadata": {},
   "source": [
    "## Ejercicio 7\n",
    "\n",
    "Crea una función que cuente el número de ocurrencias de una palabra en una lista. La función recibirá una lista y una palabra y devolverá el número de ocurrencias.\n",
    "\n",
    "Utilizar dicha función para imprimir el número de repeticiones de cada elemento de la lista <kbd>words</kbd>."
   ]
  },
  {
   "cell_type": "code",
   "execution_count": null,
   "metadata": {},
   "outputs": [],
   "source": [
    "with open('data/script.txt', 'r') as f:\n",
    "    words = f.read().split()\n",
    "    \n",
    "# ESCRIBA SU CÓDIGO AQUÍ"
   ]
  },
  {
   "cell_type": "markdown",
   "metadata": {},
   "source": [
    "## Ejercicio 8\n",
    "\n",
    "Haz una función que pase de decimal a romano. La entrada es un número, la salida es una cadena de texto.\n",
    "\n",
    "Trata de usar la descomposición en funciones que minimice la cantidad de código duplicado y maximice la comprensión del código."
   ]
  },
  {
   "cell_type": "code",
   "execution_count": null,
   "metadata": {},
   "outputs": [],
   "source": [
    "# ESCRIBA SU CÓDIGO AQUÍ"
   ]
  },
  {
   "cell_type": "markdown",
   "metadata": {},
   "source": [
    "##  Ejercicio 9\n",
    "Encontrar las palabras en castellano que tienen todas las vocales."
   ]
  },
  {
   "cell_type": "code",
   "execution_count": null,
   "metadata": {},
   "outputs": [],
   "source": [
    "from data.es_dic import words\n",
    "\n",
    "# ESCRIBA SU CÓDIGO AQUÍ"
   ]
  },
  {
   "cell_type": "markdown",
   "metadata": {},
   "source": [
    "##  Ejercicio 10\n",
    "Encontrar todas las palabras con más vocales que consonantes. Por ejemplo: abaco, cefalea, zueco. Y que tenga al menos dos vocales más que consonantes. Por ejemplo: neuroanatomia, obituario, usuario."
   ]
  },
  {
   "cell_type": "code",
   "execution_count": null,
   "metadata": {},
   "outputs": [],
   "source": [
    "from data.es_dic import words\n",
    "\n",
    "# ESCRIBA SU CÓDIGO AQUÍ"
   ]
  },
  {
   "cell_type": "markdown",
   "metadata": {},
   "source": [
    "##  Ejercicio 11\n",
    "Obtener el conjunto de todas las subcadenas de una cadena. Por ejemplo, para la cadena <kbd>\"1234\"</kbd>, se podría obtener algo como:\n",
    "<pre>\n",
    "{'', '1', '12', '123', '1234', '2', '23', '234', '3', '34', '4'}\n",
    "</pre>"
   ]
  },
  {
   "cell_type": "code",
   "execution_count": null,
   "metadata": {},
   "outputs": [],
   "source": [
    "cadena = \"abcd\"\n",
    "\n",
    "# ESCRIBA SU CÓDIGO AQUÍ"
   ]
  },
  {
   "cell_type": "markdown",
   "metadata": {},
   "source": [
    "##  Ejercicio 12\n",
    "Razonamiento genealógico. Utilizar las relaciones conocidas entre padres e hijos, para calcular relaciones más complejas: abuelos-nietos, tios-sobrinos, ...\n",
    "\n",
    "En la siguiente figura se muestra toda la información almacenada (los arcos representan relaciones paterno/materno-filiares, el color indica el género, y los nodos en gris, indican el fallecimiento de la persona).\n",
    "\n",
    "<img src=\"pics/family.gv.svg\">\n",
    "\n",
    "En el ejemplo que se carga en la siguiente celda, se definen cuatro relaciones: <kbd>es</kbd>, <kbd>es_padre_de</kbd>, <kbd>esta</kbd>, <kbd>nacio_en</kbd>. La información se almacena como tuplas en las que el primer elemento está relacionado con el tercero a través de la relación nombrada en el segundo elemento. Los valores del segundo elemento son:\n",
    "- Relaciones binarias: <kbd>es_padre_de</kbd> (tanto padre como madre), <kbd>nacio_en</kbd>\n",
    "- Relaciones unarias: <kbd>es</kbd> (hombre o mujer), <kbd>esta</kbd> (muerto).\n",
    "\n",
    "Algunos problemas que podrían plantearse resolver con esta <q>base de datos</q> son:\n",
    "- Obtener el nombre de todos los abuelos\n",
    "- Obtener el nombre de todos los abuelos vivos\n",
    "- Año de nacimiento y persona más joven\n",
    "- El nombre más largo de un padre varón \n",
    "- Añadir nuevas tuplas con conocimiento sobre quién es abuelo de quién <kbd>(<i style=\"font-family: serif\">x</i>, 'es_abuelo_de', <i style=\"font-family: serif\">y</i>)</kbd>\n",
    "- Añadir nuevas tuplas con información sobre hermanas <kbd>(<i style=\"font-family: serif\">x</i>, 'es_hermana_de', <i style=\"font-family: serif\">y</i>)</kbd>\n",
    "- Añadir nuevos hechos sobre quién es primo de quién <kbd>(<i style=\"font-family: serif\">x</i>, 'es_primo_de', <i style=\"font-family: serif\">y</i>)</kbd>\n",
    "- Añadir nuevos hechos sobre quién es tia de quién <kbd>(<i style=\"font-family: serif\">x</i>, 'es_tia_de', <i style=\"font-family: serif\">y</i>)</kbd>\n",
    "\n",
    "<span class=\"label label-warning\"><i class=\"fa fa-warning\" aria-hidden=\"true\"></i> ¡Cuidado!</span> no es un ejercicio fácil."
   ]
  },
  {
   "cell_type": "code",
   "execution_count": null,
   "metadata": {},
   "outputs": [],
   "source": [
    "from data.family import facts\n",
    "\n",
    "# Relaciones en el árbol\n",
    "print(set([ r for a,r,e in facts]))\n",
    "\n",
    "# Algunos hechos\n",
    "print(facts[::int(len(facts)/7)])\n",
    "\n",
    "# ESCRIBA SU CÓDIGO AQUÍ"
   ]
  }
 ],
 "metadata": {
  "kernelspec": {
   "display_name": "Python 3",
   "language": "python",
   "name": "python3"
  },
  "language_info": {
   "codemirror_mode": {
    "name": "ipython",
    "version": 3
   },
   "file_extension": ".py",
   "mimetype": "text/x-python",
   "name": "python",
   "nbconvert_exporter": "python",
   "pygments_lexer": "ipython3",
   "version": "3.8.3"
  }
 },
 "nbformat": 4,
 "nbformat_minor": 2
}
