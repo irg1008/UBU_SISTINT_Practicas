{
 "cells": [
  {
   "cell_type": "markdown",
   "metadata": {
    "slideshow": {
     "slide_type": "slide"
    }
   },
   "source": [
    "![UBU](./pics/escudo_COLOR_1L_DCHA.png)\n",
    "\n",
    "# Introduccion a la programacion en Python\n",
    "\n",
    "\n",
    "## Comecocos\n",
    "\n"
   ]
  },
  {
   "cell_type": "markdown",
   "metadata": {
    "slideshow": {
     "slide_type": "slide"
    }
   },
   "source": [
    "El comecocos (en esta versión simplificada) se trata de un juego en el que un personaje (pacman) se desplaza por un tablero, en el que tenemos casillas libres y paredes o muros. En este tablero, en las casillas libres hay alimento, Cuando pacman se coloca en una casilla con alimento, el alimento desaparece y se incrementan los puntos.\n",
    "\n",
    "![Comecocos](comecocos.png)\n",
    "\n"
   ]
  },
  {
   "cell_type": "markdown",
   "metadata": {
    "slideshow": {
     "slide_type": "slide"
    }
   },
   "source": [
    "## Partes del juego\n",
    "\n",
    "- Tablero: Define las partes del suelo libres o que están ocupadas por un muro. El tablero es inmutable, no cambia nunca.\n",
    "- MrPacman: Define la posición del personaje en términos de coordenadas y,x (fila, columna), su posición si que cambia.\n",
    "- Comida: Algunas casillas tienen comida, cuando Mr Pacman pisa una de esas casillas desaparece la comida y aumentan los puntos. La comida por lo tanto solo puede ir desapareciendo.\n",
    "- Puntos: Un número que se va incrementando a medida que se come la comida del tablero.\n",
    "\n",
    "\n"
   ]
  },
  {
   "cell_type": "markdown",
   "metadata": {
    "slideshow": {
     "slide_type": "slide"
    }
   },
   "source": [
    "## Preguntas sobre representación de las partes del juego\n",
    "\n",
    "¿ Que tipo de dato sería cada parte del juego atendiendo a los datos anteriores?\n",
    "\n",
    "________\n",
    "_________\n",
    "_________\n",
    "________\n",
    "_________\n",
    "_________\n",
    "________\n",
    "_________\n",
    "_________\n",
    "_________\n",
    "_________\n",
    "_________"
   ]
  },
  {
   "cell_type": "markdown",
   "metadata": {
    "slideshow": {
     "slide_type": "subslide"
    }
   },
   "source": [
    "## Preguntas sobre representación de las partes del juego\n",
    "\n",
    "¿ Que tipo de dato sería cada parte del juego atendiendo a los datos anteriores?\n",
    "\n",
    "- El tablero no va a cambiar nunca, podría ser una lista de listas. Cada lista interna representando una fila. Y cada valor de la fila representaría con 0 que es una casilla libre o con un 1 que hay un muro.\n",
    "________\n",
    "_________\n",
    "_________\n",
    "________\n",
    "_________\n",
    "_________\n",
    "________\n",
    "_________\n",
    "_________\n",
    "_________\n",
    "_________\n",
    "_________\n"
   ]
  },
  {
   "cell_type": "markdown",
   "metadata": {
    "slideshow": {
     "slide_type": "subslide"
    }
   },
   "source": [
    "## Preguntas sobre representación de las partes del juego\n",
    "\n",
    "¿ Que tipo de dato sería cada parte del juego atendiendo a los datos anteriores?\n",
    "\n",
    "- MrPacman va a cambiar, queremos hacer operaciones de movimiento que lo desplacen hacía arriba, abajo, derecha e izquierda, lo mejor es que sea una lista de coordenadas.\n",
    "________\n",
    "_________\n",
    "_________\n",
    "________\n",
    "_________\n",
    "_________\n",
    "________\n",
    "_________\n",
    "_________\n",
    "_________\n",
    "_________\n",
    "_________\n"
   ]
  },
  {
   "cell_type": "markdown",
   "metadata": {
    "slideshow": {
     "slide_type": "subslide"
    }
   },
   "source": [
    "## Preguntas sobre representación de las partes del juego\n",
    "\n",
    "¿ Que tipo de dato sería cada parte del juego atendiendo a los datos anteriores?\n",
    "\n",
    "- Comida: Se quiere saber si una determinada coordenada está entre las que tiene comida y se quieren eliminar elementos cuando la comida se consuma. \n",
    "\n",
    "Comida será una lista de listas, cada lista interna una coordenada, que indica que en dicha coordenada hay comida.\n",
    "\n",
    "\n",
    "Usando una lista de coordenadas se puede hacer lo primero muy facilmente con el operador **in** y lo segundo con **remove**.\n",
    "\n",
    "________\n",
    "_________\n",
    "_________\n",
    "________\n",
    "_________\n",
    "_________\n",
    "________\n",
    "_________\n",
    "_________\n",
    "_________\n",
    "_________\n",
    "_________\n",
    "\n"
   ]
  },
  {
   "cell_type": "markdown",
   "metadata": {
    "slideshow": {
     "slide_type": "subslide"
    }
   },
   "source": [
    "## Preguntas sobre representación de las partes del juego\n",
    "\n",
    "¿ Que tipo de dato sería cada parte del juego atendiendo a los datos anteriores?\n",
    "\n",
    "- Los puntos son una variable numérica.\n",
    "\n",
    "________\n",
    "_________\n",
    "_________\n",
    "________\n",
    "_________\n",
    "_________\n",
    "________\n",
    "_________\n",
    "_________\n",
    "_________\n",
    "_________\n",
    "_________"
   ]
  },
  {
   "cell_type": "markdown",
   "metadata": {
    "slideshow": {
     "slide_type": "slide"
    }
   },
   "source": [
    "## Ejemplo de representación de una partida\n"
   ]
  },
  {
   "cell_type": "code",
   "execution_count": null,
   "metadata": {
    "collapsed": true,
    "slideshow": {
     "slide_type": "fragment"
    }
   },
   "outputs": [],
   "source": [
    "# Un tablero cualquiera, pacman arriba a la izquierda, 0 puntos\n",
    "tablero = [[1,1,1,1,1,1,1,1,1,1],\n",
    "           [1,0,0,0,0,0,0,0,0,1],\n",
    "           [1,0,1,0,1,1,0,1,0,1],\n",
    "           [1,0,1,0,1,1,0,1,0,1],\n",
    "           [1,0,1,0,1,1,0,1,0,1],\n",
    "           [1,0,0,0,1,1,0,0,0,1],\n",
    "           [1,1,1,0,1,1,0,1,0,1],\n",
    "           [1,1,1,0,0,0,0,1,1,1],\n",
    "           [1,1,1,1,1,1,0,0,0,1],\n",
    "           [1,1,1,1,1,1,1,1,0,1],\n",
    "           [1,1,1,1,1,1,1,1,1,1]]\n",
    "pacman = [1,1]\n",
    "puntos = 0\n",
    "\n"
   ]
  },
  {
   "cell_type": "code",
   "execution_count": null,
   "metadata": {},
   "outputs": [],
   "source": [
    "tablero[0] # me da la primera fila"
   ]
  },
  {
   "cell_type": "code",
   "execution_count": null,
   "metadata": {},
   "outputs": [],
   "source": [
    "tablero[0][1] # me da el valor de la primera fila, segunda columna"
   ]
  },
  {
   "cell_type": "markdown",
   "metadata": {
    "slideshow": {
     "slide_type": "slide"
    }
   },
   "source": [
    "## Ejercicio\n",
    "\n",
    "Usando la representación anterior.  ¿Como se definiría una función para saber si una celda está libre? \n",
    "\n",
    "Estará libre si hay un 0.\n",
    "\n",
    "Hay que consultar el valor de una lista, completando esta función (No avances hasta haberlo intentado). \n",
    "\n",
    "\n",
    "\n",
    "```Python\n",
    "def esta_libre(tablero, coordenada):\n",
    "    return False\n",
    "```\n",
    "\n",
    "________\n",
    "_________\n",
    "_________\n",
    "________\n",
    "_________\n",
    "_________\n",
    "________\n",
    "_________\n",
    "_________\n",
    "_________\n",
    "_________\n",
    "_________\n"
   ]
  },
  {
   "cell_type": "code",
   "execution_count": null,
   "metadata": {
    "collapsed": true,
    "slideshow": {
     "slide_type": "slide"
    }
   },
   "outputs": [],
   "source": [
    "# Posible solución\n",
    "def esta_libre(tablero, coordenada):\n",
    "    return tablero[coordenada[0]][coordenada[1]] ==0"
   ]
  },
  {
   "cell_type": "markdown",
   "metadata": {
    "slideshow": {
     "slide_type": "slide"
    }
   },
   "source": [
    "## Ejercicio\n",
    "\n",
    "Para saber donde hay que colocar la comida, primero tenemos que saber todas las celdas libres del tablero.\n",
    "Pistas: averiguar el tamaño de una lista, recorrer con un bucle dicha lista, utilizar la función anterior, añadir elementos a una lista)\n",
    "\n",
    "```Python\n",
    "def get_coordenadas_libres(tablero):\n",
    "        \n",
    "    libres = []\n",
    "    \n",
    "    ... \n",
    "    return libres\n",
    "```\n",
    "\n"
   ]
  },
  {
   "cell_type": "code",
   "execution_count": null,
   "metadata": {},
   "outputs": [],
   "source": [
    "# pista para sacar todas las posibles coordenadas del tablero\n",
    "alto = len(tablero)\n",
    "ancho = len(tablero[0])\n",
    "\n",
    "for i in range(alto):\n",
    "    for j in range(ancho):\n",
    "        print([i,j])"
   ]
  },
  {
   "cell_type": "code",
   "execution_count": null,
   "metadata": {
    "collapsed": true
   },
   "outputs": [],
   "source": [
    "# completa aquí\n",
    "def get_coordenadas_libres(tablero):\n",
    "        \n",
    "    libres = []\n",
    "    \n",
    "\n",
    "    return libres"
   ]
  },
  {
   "cell_type": "markdown",
   "metadata": {},
   "source": [
    "________\n",
    "_________\n",
    "_________\n",
    "________\n",
    "_________\n",
    "_________\n",
    "________\n",
    "_________\n",
    "_________\n",
    "_________\n",
    "_________\n",
    "_________\n"
   ]
  },
  {
   "cell_type": "code",
   "execution_count": null,
   "metadata": {
    "collapsed": true,
    "slideshow": {
     "slide_type": "slide"
    }
   },
   "outputs": [],
   "source": [
    "def get_coordenadas_libres(tablero):\n",
    "    alto = len(tablero)\n",
    "    ancho = len(tablero[0])\n",
    "    \n",
    "    libres = []\n",
    "    \n",
    "    for i in range(alto):\n",
    "        for j in range(ancho):\n",
    "            coord = [i,j]\n",
    "            if esta_libre(tablero,coord):\n",
    "                libres.append(coord)\n",
    "    return libres\n",
    "\n",
    "# guardo el resultado en la variable comida\n",
    "comida = get_coordenadas_libres(tablero)               "
   ]
  },
  {
   "cell_type": "markdown",
   "metadata": {
    "slideshow": {
     "slide_type": "slide"
    }
   },
   "source": [
    "## Ejercicio\n",
    "\n",
    "Mover pacman a una de sus cuatro coordenadas adyacentes es básicamente consiste en sumar a las coordenadas de pacman una lista pasada como argumento que puede valer [1,0] (mover a abajo), [-1,0] (mover a arriba), [0,1] (mover derecha) o [0,-1] (mover izquierda)\n",
    "\n",
    "Se puede usar un *map* o sumar las coordenadas una a una.\n",
    "\n",
    "```Python\n",
    "def mueve(pacman,mov):\n",
    "    return nuevaCoordenada\n",
    "```\n"
   ]
  },
  {
   "cell_type": "code",
   "execution_count": null,
   "metadata": {
    "collapsed": true
   },
   "outputs": [],
   "source": [
    "# completa aqui\n",
    "def mueve(pacman,mov):\n",
    "    return 0\n",
    "\n",
    "\n",
    "\n",
    "\n"
   ]
  },
  {
   "cell_type": "markdown",
   "metadata": {},
   "source": [
    "\n",
    "________\n",
    "_________\n",
    "_________\n",
    "________\n",
    "_________\n",
    "_________\n",
    "________\n",
    "_________\n",
    "_________\n",
    "_________\n",
    "_________\n",
    "_________\n"
   ]
  },
  {
   "cell_type": "code",
   "execution_count": null,
   "metadata": {
    "collapsed": true,
    "slideshow": {
     "slide_type": "slide"
    }
   },
   "outputs": [],
   "source": [
    "# versión con map\n",
    "def mueve(pacman,mov):\n",
    "    return list(map(lambda x,y: x+y, pacman,mov))\n",
    "\n",
    "# versión sin map\n",
    "def mueve(pacman,mov):\n",
    "    return [pacman[0]+mov[0], pacman[1]+mov[1]]\n",
    "\n"
   ]
  },
  {
   "cell_type": "markdown",
   "metadata": {
    "slideshow": {
     "slide_type": "slide"
    }
   },
   "source": [
    "## Ejercicio\n",
    "\n",
    "\n",
    "Saber si hay comida. Pista: hay que usar **in**\n",
    "\n",
    "```Python\n",
    "def hay_comida(pacman,comida):\n",
    "    return False\n",
    "```\n",
    "\n"
   ]
  },
  {
   "cell_type": "code",
   "execution_count": null,
   "metadata": {
    "collapsed": true
   },
   "outputs": [],
   "source": [
    "# completa aqui\n",
    "def hay_comida(pacman,comida):\n",
    "    return False\n",
    "\n",
    "\n"
   ]
  },
  {
   "cell_type": "markdown",
   "metadata": {},
   "source": [
    "________\n",
    "_________\n",
    "_________\n",
    "________\n",
    "_________\n",
    "_________\n",
    "________\n",
    "_________\n",
    "_________\n",
    "_________\n",
    "_________\n",
    "_________\n"
   ]
  },
  {
   "cell_type": "code",
   "execution_count": null,
   "metadata": {
    "collapsed": true,
    "slideshow": {
     "slide_type": "slide"
    }
   },
   "outputs": [],
   "source": [
    "\n",
    "def hay_comida(pacman,comida):\n",
    "    return pacman in comida"
   ]
  },
  {
   "cell_type": "markdown",
   "metadata": {
    "slideshow": {
     "slide_type": "slide"
    }
   },
   "source": [
    "## Ejercicio. Pintar tablero\n",
    "\n",
    "La función recibe el tablero, pacman, comida y puntos y dibuja una cadena de texto con la representación del juego.\n",
    "1. Averiguar el tamaño del tablero.\n",
    "2. Recorrer con un bucle todas las filas y columnas.\n",
    "3. Añadir a la cadena que se va a dibujar la representación de cada elemento del juego:\n",
    "    - El muro es #, la comida es . y pacman es *\n",
    "    - Se usa if/elif/else    \n",
    "    - Las cadenas se concatenan con +\n",
    "4. Puedes añadir al final la puntuación\n",
    "\n",
    "\n",
    "\n",
    "\n",
    "\n",
    "\n"
   ]
  },
  {
   "cell_type": "code",
   "execution_count": null,
   "metadata": {
    "slideshow": {
     "slide_type": "slide"
    }
   },
   "outputs": [],
   "source": [
    "def pinta_juego(tablero,pacman,comida,puntos):\n",
    "    alto = len(tablero)\n",
    "    ancho = len(tablero[0])\n",
    "    \n",
    "    rep = \"\"\n",
    "    \n",
    "    \n",
    "    # completa aqui\n",
    "                \n",
    "    print(rep)\n",
    "\n",
    "# completala para que dibuje un tablero, no avances hasta haberlo intentado.\n",
    "pinta_juego(tablero,pacman,comida,puntos)"
   ]
  },
  {
   "cell_type": "markdown",
   "metadata": {},
   "source": [
    "________\n",
    "_________\n",
    "_________\n",
    "________\n",
    "_________\n",
    "_________\n",
    "________\n",
    "_________\n",
    "_________\n",
    "_________\n",
    "_________\n",
    "_________\n"
   ]
  },
  {
   "cell_type": "code",
   "execution_count": null,
   "metadata": {
    "collapsed": true,
    "slideshow": {
     "slide_type": "slide"
    }
   },
   "outputs": [],
   "source": [
    "def pinta_juego(tablero,pacman,comida,puntos):\n",
    "    alto = len(tablero)\n",
    "    ancho = len(tablero[0])\n",
    "    \n",
    "    rep = \"\"\n",
    "    \n",
    "    for i in range(alto):\n",
    "        for j in range(ancho):\n",
    "            coord = (i,j)\n",
    "            if not esta_libre(tablero,coord):\n",
    "                rep+=\"#\"\n",
    "            elif tuple(pacman) == coord:\n",
    "                rep+=\"*\"\n",
    "            elif coord in comida:\n",
    "                rep+=\".\"\n",
    "            else:\n",
    "                rep+=\" \"\n",
    "        rep+=\"\\n\"\n",
    "    \n",
    "    rep+=\"Puntos:\"+str(puntos)\n",
    "                    \n",
    "    print(rep)\n",
    "\n"
   ]
  },
  {
   "cell_type": "code",
   "execution_count": null,
   "metadata": {
    "slideshow": {
     "slide_type": "slide"
    }
   },
   "outputs": [],
   "source": [
    "pinta_juego(tablero,pacman,comida,puntos)"
   ]
  },
  {
   "cell_type": "markdown",
   "metadata": {
    "slideshow": {
     "slide_type": "slide"
    }
   },
   "source": [
    "## Pinta tablero HTML\n",
    "\n",
    "El widget HTML es capaz de mostrar HTML.\n",
    "Una de las cosas que puede hacer es mostrar una tabla HTML con una imagen diferente por cada tipo de elemento. La siguiente función la proporciona el profesor"
   ]
  },
  {
   "cell_type": "code",
   "execution_count": null,
   "metadata": {
    "collapsed": true,
    "slideshow": {
     "slide_type": "slide"
    }
   },
   "outputs": [],
   "source": [
    "from IPython.display import display\n",
    "from ipywidgets import HTML\n",
    "\n",
    "def pinta_juegoHTML(tablero,pacman,comida,puntos):\n",
    "    alto, ancho = len(tablero), len(tablero[0])    \n",
    "    cadenaHTML = '<table> <tr>'    \n",
    "    caracter = '<td></td>'\n",
    "    blockImg = '<td><img src=\"./spritesPacman/block.jpg\" alt=\"\" border=0 height=50 width=50></img></td>'\n",
    "    huecoImg = '<td><img src=\"./spritesPacman/hueco.jpg\" alt=\"\" border=0 height=50 width=50></img></td>'\n",
    "    comidaImg = '<td><img src=\"./spritesPacman/comida.jpg\" alt=\"\" border=0 height=50 width=50></img></td>'     \n",
    "    pacmanImg = '<td><img src=\"./spritesPacman/pacman.jpg\" alt=\"\" border=0 height=50 width=50></img></td>'\n",
    "    saltoLinea = \"</tr>\"\n",
    "    \n",
    "    for i in range(alto):\n",
    "        for j in range(ancho):\n",
    "            coord = [i,j]\n",
    "            if not esta_libre(tablero,coord):\n",
    "                caracter = blockImg\n",
    "            elif pacman == coord:\n",
    "                caracter = pacmanImg\n",
    "            elif coord in comida:\n",
    "                caracter = comidaImg\n",
    "            else:\n",
    "                caracter = huecoImg\n",
    "                \n",
    "            cadenaHTML += caracter\n",
    "        cadenaHTML += saltoLinea        \n",
    "        \n",
    "    cadenaHTML += saltoLinea\n",
    "    cadenaHTML += \"Puntos:\"+str(puntos)        \n",
    "    return cadenaHTML"
   ]
  },
  {
   "cell_type": "code",
   "execution_count": null,
   "metadata": {
    "slideshow": {
     "slide_type": "slide"
    }
   },
   "outputs": [],
   "source": [
    "HTML(pinta_juegoHTML(tablero,pacman,comida,puntos))"
   ]
  },
  {
   "cell_type": "markdown",
   "metadata": {
    "slideshow": {
     "slide_type": "slide"
    }
   },
   "source": [
    "## Poniendo todo junto\n",
    "\n",
    "En jupyter notebook se pueden usar widgets para capturar la interacción del usuario y para mostrar resultados.\n",
    "\n",
    "El widget HTML nos sirve para representar el juego y los botones para capturar los movimientos.\n",
    "\n",
    "El la función asociada al evento del botón va a averiguar cual es el botón pulsado y en función de cual sea, va a hacer que el movimiento a realizar sea [-1,0], [1,0], [0,-1] o [0,1].\n",
    "\n",
    "Esta función se debería modificar para hacer el el pacman se mueva y coma la comida.\n",
    "\n",
    "\n"
   ]
  },
  {
   "cell_type": "code",
   "execution_count": null,
   "metadata": {
    "collapsed": true,
    "slideshow": {
     "slide_type": "slide"
    }
   },
   "outputs": [],
   "source": [
    "# Función a completar\n",
    "\n",
    "'''\n",
    "Esta será la función que se ejecutará al pulsar cada botón.\n",
    "En cada pulsación:\n",
    "- miro cual es el botón pulsado\n",
    "- aplico el movimiento\n",
    "\n",
    "'''\n",
    "def on_button_clicked(b):\n",
    "    desc=b.description\n",
    "    mov = [0,0]\n",
    "    if desc==\"^\":\n",
    "        mov=[-1,0]\n",
    "    elif desc==\"v\":\n",
    "        mov=[1,0]\n",
    "    elif desc==\">\":\n",
    "        mov=[0,1]\n",
    "    elif desc==\"<\":\n",
    "        mov=[0,-1]\n",
    "    \n",
    "    global pacman\n",
    "    global comida\n",
    "    global puntos\n",
    "    \n",
    "    ########## modifica aquí\n",
    "    # mueve pacman usando la función mueve\n",
    "    # si hay comida elimina, come e incrementa los puntos\n",
    "    # escribe en el hueco\n",
    "    \n",
    "    \n",
    "    \n",
    "    \n",
    "    \n",
    "    ########## modifica aquí   \n",
    "    visor.value = pinta_juegoHTML(tablero,pacman,comida,puntos)"
   ]
  },
  {
   "cell_type": "code",
   "execution_count": null,
   "metadata": {
    "slideshow": {
     "slide_type": "slide"
    }
   },
   "outputs": [],
   "source": [
    "'''\n",
    "Celda principal del juego\n",
    "\n",
    "'''\n",
    "\n",
    "from IPython.display import display\n",
    "from ipywidgets import HTML, Dropdown ,Button, HBox, VBox, Box\n",
    "\n",
    "\n",
    "# En cada partida se rellena el tablero de comida\n",
    "comida = get_coordenadas_libres(tablero)               \n",
    "\n",
    "\n",
    "# visor HTML donde se representará el juego\n",
    "visor=HTML()\n",
    "visor.value = pinta_juegoHTML(tablero,pacman,comida,puntos)\n",
    "\n",
    "# Botones para las direcciones\n",
    "up = Button(description=\"^\")\n",
    "down = Button(description=\"v\")\n",
    "right = Button(description=\">\")\n",
    "left = Button(description=\"<\")\n",
    "\n",
    "empty=Button(description=\" \")\n",
    "empty.margin=2\n",
    "\n",
    "# se añaden eventos a los botones\n",
    "up.on_click(on_button_clicked)\n",
    "down.on_click(on_button_clicked)\n",
    "right.on_click(on_button_clicked)\n",
    "left.on_click(on_button_clicked)\n",
    "\n",
    "# Estética: Se crea una caja vertical con dos cajas horizontales dentro\n",
    "# Tenemos 2 x 3 casillas para colocar los botones y los colocamos en forma de teclado\n",
    "control=VBox([HBox([empty,up,empty]),HBox([left,down,right])])\n",
    "\n",
    "# El juego es el visor y los controles\n",
    "ui=VBox(children=[visor, control])\n",
    "\n",
    "display(ui)"
   ]
  },
  {
   "cell_type": "markdown",
   "metadata": {
    "slideshow": {
     "slide_type": "slide"
    }
   },
   "source": [
    "Cuando se pulsa un botón se ejecuta una función, en este caso la función **on_button_clicked** que recibe como argumento el botón clickado. A partir de la descripción del botón se puede saber cual ha sido el botón pulsado y que tipo de movimiento debemos usar para actualizar la posición de pacman.\n",
    "\n",
    "Las variables pacman, comida y puntos, son variables globales, por lo que dentro de la función tengo que indicar que se va a acceder a dichas variables.\n",
    "\n",
    "## Ejercicio\n",
    "\n",
    "Completa la función **on_button_clicked**, que tienes arriba, para que el pacman se mueva por las casillas libres, coma la comida y se incrementen los puntos de manera correcta. Solamente se trata de usar las funciones definidas anteriormente\n",
    "\n",
    "________\n",
    "________\n",
    "________\n",
    "________\n",
    "________\n",
    "________\n",
    "________\n",
    "________\n",
    "________\n",
    "________\n",
    "________"
   ]
  },
  {
   "cell_type": "markdown",
   "metadata": {
    "slideshow": {
     "slide_type": "slide"
    }
   },
   "source": [
    "## Solución \n",
    "```Python\n",
    "    ########## coloca esto en su lugar\n",
    "    posibleMov  = mueve(pacman,mov)\n",
    "    if esta_libre(tablero,posibleMov):\n",
    "        pacman = posibleMov\n",
    "    if hay_comida(pacman,comida):\n",
    "        comida.remove(pacman)\n",
    "        puntos+=1\n",
    "```\n",
    "\n",
    "\n",
    "Después de modificar la función **on_button_clicked** vuelve a ejecutar la celda principal del juego"
   ]
  },
  {
   "cell_type": "code",
   "execution_count": null,
   "metadata": {
    "collapsed": true
   },
   "outputs": [],
   "source": []
  },
  {
   "cell_type": "code",
   "execution_count": null,
   "metadata": {
    "collapsed": true
   },
   "outputs": [],
   "source": []
  }
 ],
 "metadata": {
  "celltoolbar": "Slideshow",
  "kernelspec": {
   "display_name": "Python 3",
   "language": "python",
   "name": "python3"
  },
  "language_info": {
   "codemirror_mode": {
    "name": "ipython",
    "version": 3
   },
   "file_extension": ".py",
   "mimetype": "text/x-python",
   "name": "python",
   "nbconvert_exporter": "python",
   "pygments_lexer": "ipython3",
   "version": "3.6.4"
  }
 },
 "nbformat": 4,
 "nbformat_minor": 2
}
